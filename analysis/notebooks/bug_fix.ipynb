{
 "cells": [
  {
   "cell_type": "code",
   "execution_count": 2,
   "metadata": {},
   "outputs": [],
   "source": [
    "import pandas as pd\n",
    "import json"
   ]
  },
  {
   "cell_type": "code",
   "execution_count": 3,
   "metadata": {},
   "outputs": [],
   "source": [
    "with open(\"../data/data_main_2/survey_response.json\", \"r\") as file:\n",
    "    data = [json.loads(line) for line in file]"
   ]
  },
  {
   "cell_type": "code",
   "execution_count": 5,
   "metadata": {},
   "outputs": [
    {
     "name": "stdout",
     "output_type": "stream",
     "text": [
      "{'_id': {'$oid': '66c5a87a86c57a87db6f5a26'}, 'prolific_id': '65e6fb8c62b34b6ef5249890', 'study_id': '66c516b1d61c7b572205f713', 'task_id': 'main_task_1', 'responses': {'usefulness': {'Variation - Gain Framing with Anecdotal Information': 'NA', 'Variation - Loss Framing with Anecdotal Information': 'NA', 'Variation - Gain Framing with Statistics': 'NA', 'Variation - Loss Framing with Statistics': 'NA', 'Variation - Short-term Temporal Framing': 'NA', 'Variation - Long-term Temporal Framing': 'NA', '@ai to Generate New Texts': 'NA', 'Create Continuation': 'NA'}, 'ownership': {'I feel that I have contributed to the content': 'Strongly Agree', 'I would be willing to publicly share the content I wrote, including my name': 'Strongly Agree', 'I would fully claim ownership of the content I wrote': 'Strongly Agree'}, 'collaboration': {'Do you think the suggestions you received contributed to the fluency of the resultant text?': 'Strongly Agree', 'Did the suggestions help you come up with new ideas?': 'Strongly Agree', 'Do you feel that you would have written a better text if you wrote it alone?': 'Strongly Agree'}, 'aiCapabilities': {'Do you think the system was competent in writing?': 'Strongly Agree', 'Do you think the system was capable of writing creative texts?': 'Strongly Agree', 'Do you think the system was capable of writing persuasive texts?': 'Strongly Agree', 'Do you think the system understood what you were trying to write?': 'Strongly Agree'}, 'notApplicable': {'Variation - Gain Framing with Anecdotal Information': True, 'Variation - Loss Framing with Anecdotal Information': True, 'Variation - Gain Framing with Statistics': True, 'Variation - Loss Framing with Statistics': True, 'Variation - Short-term Temporal Framing': True, 'Variation - Long-term Temporal Framing': True, '@ai to Generate New Texts': True, 'Create Continuation': True}, 'resourcesUsed': '', 'additionalComments': 'sds'}, 'timestamp': {'$date': '2024-08-21T08:42:34.133Z'}}\n"
     ]
    }
   ],
   "source": [
    "for d in data:\n",
    "    if d['prolific_id'] == \"65e6fb8c62b34b6ef5249890\":\n",
    "        print(d)"
   ]
  },
  {
   "cell_type": "code",
   "execution_count": 6,
   "metadata": {},
   "outputs": [
    {
     "data": {
      "text/plain": [
       "{'5a4ff22bacc75b000179b0e9',\n",
       " '5c62de3f48fe4e000180e09d',\n",
       " '5d2e3cdf6835130001aa16f0',\n",
       " '5ea9a41b87b4150bf9634637',\n",
       " '5f22932ca6ff8f000918fdfb',\n",
       " '601958c0af6453017a0cbbd4',\n",
       " '6070f449711790a79d558f08',\n",
       " '60a0b744298c64d46b63e893',\n",
       " '60feb9289ecbaadf64ca01ed',\n",
       " '65e6fb8c62b34b6ef5249890',\n",
       " '6636a3622255b3fd09ce0998',\n",
       " '666a55efa1dfe5f75c655953',\n",
       " '66759b715db54424734117c5',\n",
       " '66c4960754871133dc3c6b2b'}"
      ]
     },
     "execution_count": 6,
     "metadata": {},
     "output_type": "execute_result"
    }
   ],
   "source": [
    "unique_prolific_ids = set([rec['prolific_id'] for rec in data])\n",
    "unique_prolific_ids"
   ]
  },
  {
   "cell_type": "code",
   "execution_count": 7,
   "metadata": {},
   "outputs": [
    {
     "data": {
      "text/plain": [
       "14"
      ]
     },
     "execution_count": 7,
     "metadata": {},
     "output_type": "execute_result"
    }
   ],
   "source": [
    "len(unique_prolific_ids)"
   ]
  }
 ],
 "metadata": {
  "kernelspec": {
   "display_name": "base",
   "language": "python",
   "name": "python3"
  },
  "language_info": {
   "codemirror_mode": {
    "name": "ipython",
    "version": 3
   },
   "file_extension": ".py",
   "mimetype": "text/x-python",
   "name": "python",
   "nbconvert_exporter": "python",
   "pygments_lexer": "ipython3",
   "version": "3.11.5"
  }
 },
 "nbformat": 4,
 "nbformat_minor": 2
}
