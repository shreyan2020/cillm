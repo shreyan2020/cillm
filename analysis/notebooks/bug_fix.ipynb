{
 "cells": [
  {
   "cell_type": "code",
   "execution_count": 8,
   "metadata": {},
   "outputs": [],
   "source": [
    "import pandas as pd\n",
    "import json"
   ]
  },
  {
   "cell_type": "code",
   "execution_count": 9,
   "metadata": {},
   "outputs": [],
   "source": [
    "with open(\"../data/data_main_3/survey_response.json\", \"r\") as file:\n",
    "    data = [json.loads(line) for line in file]"
   ]
  },
  {
   "cell_type": "code",
   "execution_count": 10,
   "metadata": {},
   "outputs": [
    {
     "name": "stdout",
     "output_type": "stream",
     "text": [
      "{'_id': {'$oid': '66c5a87a86c57a87db6f5a26'}, 'prolific_id': '65e6fb8c62b34b6ef5249890', 'study_id': '66c516b1d61c7b572205f713', 'task_id': 'main_task_1', 'responses': {'usefulness': {'Variation - Gain Framing with Anecdotal Information': 'NA', 'Variation - Loss Framing with Anecdotal Information': 'NA', 'Variation - Gain Framing with Statistics': 'NA', 'Variation - Loss Framing with Statistics': 'NA', 'Variation - Short-term Temporal Framing': 'NA', 'Variation - Long-term Temporal Framing': 'NA', '@ai to Generate New Texts': 'NA', 'Create Continuation': 'NA'}, 'ownership': {'I feel that I have contributed to the content': 'Strongly Agree', 'I would be willing to publicly share the content I wrote, including my name': 'Strongly Agree', 'I would fully claim ownership of the content I wrote': 'Strongly Agree'}, 'collaboration': {'Do you think the suggestions you received contributed to the fluency of the resultant text?': 'Strongly Agree', 'Did the suggestions help you come up with new ideas?': 'Strongly Agree', 'Do you feel that you would have written a better text if you wrote it alone?': 'Strongly Agree'}, 'aiCapabilities': {'Do you think the system was competent in writing?': 'Strongly Agree', 'Do you think the system was capable of writing creative texts?': 'Strongly Agree', 'Do you think the system was capable of writing persuasive texts?': 'Strongly Agree', 'Do you think the system understood what you were trying to write?': 'Strongly Agree'}, 'notApplicable': {'Variation - Gain Framing with Anecdotal Information': True, 'Variation - Loss Framing with Anecdotal Information': True, 'Variation - Gain Framing with Statistics': True, 'Variation - Loss Framing with Statistics': True, 'Variation - Short-term Temporal Framing': True, 'Variation - Long-term Temporal Framing': True, '@ai to Generate New Texts': True, 'Create Continuation': True}, 'resourcesUsed': '', 'additionalComments': 'sds'}, 'timestamp': {'$date': '2024-08-21T08:42:34.133Z'}}\n",
      "{'_id': {'$oid': '66c5ce41cc28d1a8aedf1741'}, 'prolific_id': '65e6fb8c62b34b6ef5249890', 'study_id': '66c516b1d61c7b572205f713', 'task_id': 'main_task_1', 'responses': {'usefulness': {'Variation - Gain Framing with Anecdotal Information': '78', 'Variation - Loss Framing with Anecdotal Information': '73', 'Variation - Gain Framing with Statistics': '50', 'Variation - Short-term Temporal Framing': '43', 'Variation - Loss Framing with Statistics': 'NA', 'Variation - Long-term Temporal Framing': 'NA', '@ai to Generate New Texts': 'NA', 'Create Continuation': 'NA'}, 'ownership': {'I feel that I have contributed to the content': 'Neutral', 'I would be willing to publicly share the content I wrote, including my name': 'Neutral', 'I would fully claim ownership of the content I wrote': 'Neutral'}, 'collaboration': {'Do you think the suggestions you received contributed to the fluency of the resultant text?': 'Neutral', 'Did the suggestions help you come up with new ideas?': 'Neutral', 'Do you feel that you would have written a better text if you wrote it alone?': 'Neutral'}, 'aiCapabilities': {'Do you think the system was competent in writing?': 'Neutral', 'Do you think the system was capable of writing persuasive texts?': 'Neutral', 'Do you think the system was capable of writing creative texts?': 'Neutral', 'Do you think the system understood what you were trying to write?': 'Neutral'}, 'notApplicable': {'Variation - Loss Framing with Statistics': True, 'Variation - Long-term Temporal Framing': True, '@ai to Generate New Texts': True, 'Create Continuation': True}, 'resourcesUsed': '', 'additionalComments': 'ddf'}, 'timestamp': {'$date': '2024-08-21T11:23:45.878Z'}}\n",
      "{'_id': {'$oid': '66c5e2982f44d7b54f76e527'}, 'prolific_id': '65e6fb8c62b34b6ef5249890', 'study_id': '66c516b1d61c7b572205f713', 'task_id': 'main_task_1', 'responses': {'usefulness': {'Variation - Positive Narrative Framing': 'NA', 'Variation - Cautionary Narrative Framing': 'NA', 'Variation - Positive Narrative Framing with Statistics': 'NA', 'Variation - Cautionary Narrative with Statistics': 'NA', 'Variation - Emphasis on Immediate Outcome': '83', 'Variation - Emphasis on Long-Term Outcome': '53', '@ai to Generate New Texts': '52', 'Create Continuation': '49'}, 'ownership': {'I feel that I have contributed to the content': 'Disagree', 'I would be willing to publicly share the content I wrote, including my name': 'Disagree', 'I would fully claim ownership of the content I wrote': 'Disagree'}, 'collaboration': {'Do you think the suggestions you received contributed to the fluency of the resultant text?': 'Disagree', 'Did the suggestions help you come up with new ideas?': 'Disagree', 'Do you feel that you would have written a better text if you wrote it alone?': 'Disagree'}, 'aiCapabilities': {'Do you think the system was competent in writing?': 'Disagree', 'Do you think the system was capable of writing creative texts?': 'Disagree', 'Do you think the system was capable of writing persuasive texts?': 'Disagree', 'Do you think the system understood what you were trying to write?': 'Disagree'}, 'notApplicable': {'Variation - Positive Narrative Framing': True, 'Variation - Cautionary Narrative Framing': True, 'Variation - Positive Narrative Framing with Statistics': True, 'Variation - Cautionary Narrative with Statistics': True}, 'resourcesUsed': '', 'additionalComments': '3'}, 'timestamp': {'$date': '2024-08-21T12:50:32.459Z'}}\n",
      "{'_id': {'$oid': '66c5ec8116431386bf5d1784'}, 'prolific_id': '65e6fb8c62b34b6ef5249890', 'study_id': '66c5e9afb11bf5c62a286fe8', 'task_id': 'main_task_1', 'responses': {'usefulness': {'Variation - Positive Narrative Framing': 'NA', 'Variation - Cautionary Narrative Framing': 'NA', 'Variation - Positive Narrative Framing with Statistics': 'NA', 'Variation - Cautionary Narrative with Statistics': 'NA', 'Variation - Emphasis on Immediate Outcome': 'NA', 'Variation - Emphasis on Long-Term Outcome': 'NA', '@ai to Generate New Texts': 'NA', 'Create Continuation': 'NA'}, 'ownership': {'I feel that I have contributed to the content': 'Strongly Agree', 'I would be willing to publicly share the content I wrote, including my name': 'Neutral', 'I would fully claim ownership of the content I wrote': 'Neutral'}, 'collaboration': {'Do you think the suggestions you received contributed to the fluency of the resultant text?': 'Neutral', 'Did the suggestions help you come up with new ideas?': 'Neutral', 'Do you feel that you would have written a better text if you wrote it alone?': 'Neutral'}, 'aiCapabilities': {'Do you think the system was competent in writing?': 'Neutral', 'Do you think the system was capable of writing creative texts?': 'Neutral', 'Do you think the system was capable of writing persuasive texts?': 'Neutral', 'Do you think the system understood what you were trying to write?': 'Neutral'}, 'notApplicable': {'Variation - Positive Narrative Framing': True, 'Variation - Cautionary Narrative Framing': True, 'Variation - Positive Narrative Framing with Statistics': True, 'Variation - Cautionary Narrative with Statistics': True, 'Variation - Emphasis on Immediate Outcome': True, 'Variation - Emphasis on Long-Term Outcome': True, '@ai to Generate New Texts': True, 'Create Continuation': True}, 'resourcesUsed': '', 'additionalComments': 'ssdsds'}, 'timestamp': {'$date': '2024-08-21T13:32:49.106Z'}}\n",
      "{'_id': {'$oid': '66c5ed60da7052c5d57c988e'}, 'prolific_id': '65e6fb8c62b34b6ef5249890', 'study_id': '66c5e9afb11bf5c62a286fe8', 'task_id': 'main_task_1', 'responses': {'usefulness': {'Variation - Positive Narrative Framing': 'NA', 'Variation - Cautionary Narrative Framing': 'NA', 'Variation - Positive Narrative Framing with Statistics': 'NA', 'Variation - Cautionary Narrative with Statistics': 'NA', 'Variation - Emphasis on Immediate Outcome': 'NA', 'Variation - Emphasis on Long-Term Outcome': 'NA', '@ai to Generate New Texts': 'NA', 'Create Continuation': 'NA'}, 'ownership': {'I feel that I have contributed to the content': 'Agree', 'I would be willing to publicly share the content I wrote, including my name': 'Agree', 'I would fully claim ownership of the content I wrote': 'Neutral'}, 'collaboration': {'Do you think the suggestions you received contributed to the fluency of the resultant text?': 'Neutral', 'Do you feel that you would have written a better text if you wrote it alone?': 'Neutral', 'Did the suggestions help you come up with new ideas?': 'Neutral'}, 'aiCapabilities': {'Do you think the system was competent in writing?': 'Neutral', 'Do you think the system was capable of writing creative texts?': 'Neutral', 'Do you think the system was capable of writing persuasive texts?': 'Neutral', 'Do you think the system understood what you were trying to write?': 'Neutral'}, 'notApplicable': {'Variation - Positive Narrative Framing': True, 'Variation - Cautionary Narrative Framing': True, 'Variation - Positive Narrative Framing with Statistics': True, 'Variation - Cautionary Narrative with Statistics': True, 'Variation - Emphasis on Immediate Outcome': True, 'Variation - Emphasis on Long-Term Outcome': True, '@ai to Generate New Texts': True, 'Create Continuation': True}, 'resourcesUsed': '', 'additionalComments': '3'}, 'timestamp': {'$date': '2024-08-21T13:36:32.582Z'}}\n",
      "{'_id': {'$oid': '66c5edf3758820879dc9969c'}, 'prolific_id': '65e6fb8c62b34b6ef5249890', 'study_id': '66c5e9afb11bf5c62a286fe8', 'task_id': 'main_task_2', 'responses': {'usefulness': {'Variation - Positive Narrative Framing': 'NA', 'Variation - Cautionary Narrative Framing': 'NA', 'Variation - Positive Narrative Framing with Statistics': 'NA', 'Variation - Cautionary Narrative with Statistics': 'NA', 'Variation - Emphasis on Immediate Outcome': 'NA', 'Variation - Emphasis on Long-Term Outcome': 'NA', '@ai to Generate New Texts': 'NA', 'Create Continuation': 'NA'}, 'ownership': {'I feel that I have contributed to the content': 'Neutral', 'I would be willing to publicly share the content I wrote, including my name': 'Neutral', 'I would fully claim ownership of the content I wrote': 'Neutral'}, 'collaboration': {'Do you think the suggestions you received contributed to the fluency of the resultant text?': 'Neutral', 'Did the suggestions help you come up with new ideas?': 'Neutral', 'Do you feel that you would have written a better text if you wrote it alone?': 'Neutral'}, 'aiCapabilities': {'Do you think the system was competent in writing?': 'Neutral', 'Do you think the system was capable of writing creative texts?': 'Neutral', 'Do you think the system was capable of writing persuasive texts?': 'Neutral', 'Do you think the system understood what you were trying to write?': 'Neutral'}, 'notApplicable': {'Variation - Positive Narrative Framing': True, 'Variation - Cautionary Narrative Framing': True, 'Variation - Positive Narrative Framing with Statistics': True, 'Variation - Cautionary Narrative with Statistics': True, 'Variation - Emphasis on Immediate Outcome': True, 'Variation - Emphasis on Long-Term Outcome': True, '@ai to Generate New Texts': True, 'Create Continuation': True}, 'resourcesUsed': '', 'additionalComments': 'fgf'}, 'timestamp': {'$date': '2024-08-21T13:38:59.04Z'}}\n",
      "{'_id': {'$oid': '66c5eff76e80f7c232799606'}, 'prolific_id': '65e6fb8c62b34b6ef5249890', 'study_id': '66c5e9afb11bf5c62a286fe8', 'task_id': 'main_task_1', 'responses': {'usefulness': {'Create Continuation': 'NA', '@ai to Generate New Texts': 'NA', 'Variation - Emphasis on Long-Term Outcome': 'NA', 'Variation - Emphasis on Immediate Outcome': 'NA', 'Variation - Cautionary Narrative with Statistics': 'NA', 'Variation - Positive Narrative Framing with Statistics': 'NA', 'Variation - Cautionary Narrative Framing': 'NA', 'Variation - Positive Narrative Framing': 'NA'}, 'ownership': {'I feel that I have contributed to the content': 'Neutral', 'I would be willing to publicly share the content I wrote, including my name': 'Neutral', 'I would fully claim ownership of the content I wrote': 'Neutral'}, 'collaboration': {'Did the suggestions help you come up with new ideas?': 'Neutral', 'Do you think the suggestions you received contributed to the fluency of the resultant text?': 'Neutral', 'Do you feel that you would have written a better text if you wrote it alone?': 'Neutral'}, 'aiCapabilities': {'Do you think the system was competent in writing?': 'Neutral', 'Do you think the system was capable of writing creative texts?': 'Neutral', 'Do you think the system was capable of writing persuasive texts?': 'Neutral', 'Do you think the system understood what you were trying to write?': 'Neutral'}, 'notApplicable': {'Create Continuation': True, '@ai to Generate New Texts': True, 'Variation - Emphasis on Long-Term Outcome': True, 'Variation - Emphasis on Immediate Outcome': True, 'Variation - Cautionary Narrative with Statistics': True, 'Variation - Positive Narrative Framing with Statistics': True, 'Variation - Cautionary Narrative Framing': True, 'Variation - Positive Narrative Framing': True}, 'resourcesUsed': '', 'additionalComments': ''}, 'timestamp': {'$date': '2024-08-21T13:47:35.811Z'}}\n"
     ]
    }
   ],
   "source": [
    "for d in data:\n",
    "    if d['prolific_id'] == \"65e6fb8c62b34b6ef5249890\":\n",
    "        print(d)"
   ]
  },
  {
   "cell_type": "code",
   "execution_count": 11,
   "metadata": {},
   "outputs": [
    {
     "data": {
      "text/plain": [
       "{'5a4ff22bacc75b000179b0e9',\n",
       " '5c068f1f9d0df40001e5688c',\n",
       " '5c62de3f48fe4e000180e09d',\n",
       " '5d2e3cdf6835130001aa16f0',\n",
       " '5ea9a41b87b4150bf9634637',\n",
       " '5f22932ca6ff8f000918fdfb',\n",
       " '601958c0af6453017a0cbbd4',\n",
       " '6070f449711790a79d558f08',\n",
       " '60a0b744298c64d46b63e893',\n",
       " '60c0c4333e49151d768bb35b',\n",
       " '60feb9289ecbaadf64ca01ed',\n",
       " '65df453255fc896350004926',\n",
       " '65e6fb8c62b34b6ef5249890',\n",
       " '6636a3622255b3fd09ce0998',\n",
       " '666a55efa1dfe5f75c655953',\n",
       " '66759b715db54424734117c5',\n",
       " '66c4960754871133dc3c6b2b'}"
      ]
     },
     "execution_count": 11,
     "metadata": {},
     "output_type": "execute_result"
    }
   ],
   "source": [
    "unique_prolific_ids = set([rec['prolific_id'] for rec in data])\n",
    "unique_prolific_ids"
   ]
  },
  {
   "cell_type": "code",
   "execution_count": 12,
   "metadata": {},
   "outputs": [
    {
     "data": {
      "text/plain": [
       "17"
      ]
     },
     "execution_count": 12,
     "metadata": {},
     "output_type": "execute_result"
    }
   ],
   "source": [
    "len(unique_prolific_ids)"
   ]
  }
 ],
 "metadata": {
  "kernelspec": {
   "display_name": "base",
   "language": "python",
   "name": "python3"
  },
  "language_info": {
   "codemirror_mode": {
    "name": "ipython",
    "version": 3
   },
   "file_extension": ".py",
   "mimetype": "text/x-python",
   "name": "python",
   "nbconvert_exporter": "python",
   "pygments_lexer": "ipython3",
   "version": "3.11.5"
  }
 },
 "nbformat": 4,
 "nbformat_minor": 2
}
