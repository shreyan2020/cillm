{
 "cells": [
  {
   "cell_type": "code",
   "execution_count": 2,
   "metadata": {},
   "outputs": [],
   "source": [
    "import pandas as pd\n",
    "import json"
   ]
  },
  {
   "cell_type": "code",
   "execution_count": 8,
   "metadata": {},
   "outputs": [],
   "source": [
    "with open(\"../data/stage1/data_main_3/survey_response.json\", \"r\") as file:\n",
    "    data = [json.loads(line) for line in file]"
   ]
  },
  {
   "cell_type": "code",
   "execution_count": 9,
   "metadata": {},
   "outputs": [
    {
     "name": "stdout",
     "output_type": "stream",
     "text": [
      "{'_id': {'$oid': '66c5a87a86c57a87db6f5a26'}, 'prolific_id': '65e6fb8c62b34b6ef5249890', 'study_id': '66c516b1d61c7b572205f713', 'task_id': 'main_task_1', 'responses': {'usefulness': {'Variation - Gain Framing with Anecdotal Information': 'NA', 'Variation - Loss Framing with Anecdotal Information': 'NA', 'Variation - Gain Framing with Statistics': 'NA', 'Variation - Loss Framing with Statistics': 'NA', 'Variation - Short-term Temporal Framing': 'NA', 'Variation - Long-term Temporal Framing': 'NA', '@ai to Generate New Texts': 'NA', 'Create Continuation': 'NA'}, 'ownership': {'I feel that I have contributed to the content': 'Strongly Agree', 'I would be willing to publicly share the content I wrote, including my name': 'Strongly Agree', 'I would fully claim ownership of the content I wrote': 'Strongly Agree'}, 'collaboration': {'Do you think the suggestions you received contributed to the fluency of the resultant text?': 'Strongly Agree', 'Did the suggestions help you come up with new ideas?': 'Strongly Agree', 'Do you feel that you would have written a better text if you wrote it alone?': 'Strongly Agree'}, 'aiCapabilities': {'Do you think the system was competent in writing?': 'Strongly Agree', 'Do you think the system was capable of writing creative texts?': 'Strongly Agree', 'Do you think the system was capable of writing persuasive texts?': 'Strongly Agree', 'Do you think the system understood what you were trying to write?': 'Strongly Agree'}, 'notApplicable': {'Variation - Gain Framing with Anecdotal Information': True, 'Variation - Loss Framing with Anecdotal Information': True, 'Variation - Gain Framing with Statistics': True, 'Variation - Loss Framing with Statistics': True, 'Variation - Short-term Temporal Framing': True, 'Variation - Long-term Temporal Framing': True, '@ai to Generate New Texts': True, 'Create Continuation': True}, 'resourcesUsed': '', 'additionalComments': 'sds'}, 'timestamp': {'$date': '2024-08-21T08:42:34.133Z'}}\n",
      "{'_id': {'$oid': '66c5ce41cc28d1a8aedf1741'}, 'prolific_id': '65e6fb8c62b34b6ef5249890', 'study_id': '66c516b1d61c7b572205f713', 'task_id': 'main_task_1', 'responses': {'usefulness': {'Variation - Gain Framing with Anecdotal Information': '78', 'Variation - Loss Framing with Anecdotal Information': '73', 'Variation - Gain Framing with Statistics': '50', 'Variation - Short-term Temporal Framing': '43', 'Variation - Loss Framing with Statistics': 'NA', 'Variation - Long-term Temporal Framing': 'NA', '@ai to Generate New Texts': 'NA', 'Create Continuation': 'NA'}, 'ownership': {'I feel that I have contributed to the content': 'Neutral', 'I would be willing to publicly share the content I wrote, including my name': 'Neutral', 'I would fully claim ownership of the content I wrote': 'Neutral'}, 'collaboration': {'Do you think the suggestions you received contributed to the fluency of the resultant text?': 'Neutral', 'Did the suggestions help you come up with new ideas?': 'Neutral', 'Do you feel that you would have written a better text if you wrote it alone?': 'Neutral'}, 'aiCapabilities': {'Do you think the system was competent in writing?': 'Neutral', 'Do you think the system was capable of writing persuasive texts?': 'Neutral', 'Do you think the system was capable of writing creative texts?': 'Neutral', 'Do you think the system understood what you were trying to write?': 'Neutral'}, 'notApplicable': {'Variation - Loss Framing with Statistics': True, 'Variation - Long-term Temporal Framing': True, '@ai to Generate New Texts': True, 'Create Continuation': True}, 'resourcesUsed': '', 'additionalComments': 'ddf'}, 'timestamp': {'$date': '2024-08-21T11:23:45.878Z'}}\n",
      "{'_id': {'$oid': '66c5e2982f44d7b54f76e527'}, 'prolific_id': '65e6fb8c62b34b6ef5249890', 'study_id': '66c516b1d61c7b572205f713', 'task_id': 'main_task_1', 'responses': {'usefulness': {'Variation - Positive Narrative Framing': 'NA', 'Variation - Cautionary Narrative Framing': 'NA', 'Variation - Positive Narrative Framing with Statistics': 'NA', 'Variation - Cautionary Narrative with Statistics': 'NA', 'Variation - Emphasis on Immediate Outcome': '83', 'Variation - Emphasis on Long-Term Outcome': '53', '@ai to Generate New Texts': '52', 'Create Continuation': '49'}, 'ownership': {'I feel that I have contributed to the content': 'Disagree', 'I would be willing to publicly share the content I wrote, including my name': 'Disagree', 'I would fully claim ownership of the content I wrote': 'Disagree'}, 'collaboration': {'Do you think the suggestions you received contributed to the fluency of the resultant text?': 'Disagree', 'Did the suggestions help you come up with new ideas?': 'Disagree', 'Do you feel that you would have written a better text if you wrote it alone?': 'Disagree'}, 'aiCapabilities': {'Do you think the system was competent in writing?': 'Disagree', 'Do you think the system was capable of writing creative texts?': 'Disagree', 'Do you think the system was capable of writing persuasive texts?': 'Disagree', 'Do you think the system understood what you were trying to write?': 'Disagree'}, 'notApplicable': {'Variation - Positive Narrative Framing': True, 'Variation - Cautionary Narrative Framing': True, 'Variation - Positive Narrative Framing with Statistics': True, 'Variation - Cautionary Narrative with Statistics': True}, 'resourcesUsed': '', 'additionalComments': '3'}, 'timestamp': {'$date': '2024-08-21T12:50:32.459Z'}}\n",
      "{'_id': {'$oid': '66c5ec8116431386bf5d1784'}, 'prolific_id': '65e6fb8c62b34b6ef5249890', 'study_id': '66c5e9afb11bf5c62a286fe8', 'task_id': 'main_task_1', 'responses': {'usefulness': {'Variation - Positive Narrative Framing': 'NA', 'Variation - Cautionary Narrative Framing': 'NA', 'Variation - Positive Narrative Framing with Statistics': 'NA', 'Variation - Cautionary Narrative with Statistics': 'NA', 'Variation - Emphasis on Immediate Outcome': 'NA', 'Variation - Emphasis on Long-Term Outcome': 'NA', '@ai to Generate New Texts': 'NA', 'Create Continuation': 'NA'}, 'ownership': {'I feel that I have contributed to the content': 'Strongly Agree', 'I would be willing to publicly share the content I wrote, including my name': 'Neutral', 'I would fully claim ownership of the content I wrote': 'Neutral'}, 'collaboration': {'Do you think the suggestions you received contributed to the fluency of the resultant text?': 'Neutral', 'Did the suggestions help you come up with new ideas?': 'Neutral', 'Do you feel that you would have written a better text if you wrote it alone?': 'Neutral'}, 'aiCapabilities': {'Do you think the system was competent in writing?': 'Neutral', 'Do you think the system was capable of writing creative texts?': 'Neutral', 'Do you think the system was capable of writing persuasive texts?': 'Neutral', 'Do you think the system understood what you were trying to write?': 'Neutral'}, 'notApplicable': {'Variation - Positive Narrative Framing': True, 'Variation - Cautionary Narrative Framing': True, 'Variation - Positive Narrative Framing with Statistics': True, 'Variation - Cautionary Narrative with Statistics': True, 'Variation - Emphasis on Immediate Outcome': True, 'Variation - Emphasis on Long-Term Outcome': True, '@ai to Generate New Texts': True, 'Create Continuation': True}, 'resourcesUsed': '', 'additionalComments': 'ssdsds'}, 'timestamp': {'$date': '2024-08-21T13:32:49.106Z'}}\n",
      "{'_id': {'$oid': '66c5ed60da7052c5d57c988e'}, 'prolific_id': '65e6fb8c62b34b6ef5249890', 'study_id': '66c5e9afb11bf5c62a286fe8', 'task_id': 'main_task_1', 'responses': {'usefulness': {'Variation - Positive Narrative Framing': 'NA', 'Variation - Cautionary Narrative Framing': 'NA', 'Variation - Positive Narrative Framing with Statistics': 'NA', 'Variation - Cautionary Narrative with Statistics': 'NA', 'Variation - Emphasis on Immediate Outcome': 'NA', 'Variation - Emphasis on Long-Term Outcome': 'NA', '@ai to Generate New Texts': 'NA', 'Create Continuation': 'NA'}, 'ownership': {'I feel that I have contributed to the content': 'Agree', 'I would be willing to publicly share the content I wrote, including my name': 'Agree', 'I would fully claim ownership of the content I wrote': 'Neutral'}, 'collaboration': {'Do you think the suggestions you received contributed to the fluency of the resultant text?': 'Neutral', 'Do you feel that you would have written a better text if you wrote it alone?': 'Neutral', 'Did the suggestions help you come up with new ideas?': 'Neutral'}, 'aiCapabilities': {'Do you think the system was competent in writing?': 'Neutral', 'Do you think the system was capable of writing creative texts?': 'Neutral', 'Do you think the system was capable of writing persuasive texts?': 'Neutral', 'Do you think the system understood what you were trying to write?': 'Neutral'}, 'notApplicable': {'Variation - Positive Narrative Framing': True, 'Variation - Cautionary Narrative Framing': True, 'Variation - Positive Narrative Framing with Statistics': True, 'Variation - Cautionary Narrative with Statistics': True, 'Variation - Emphasis on Immediate Outcome': True, 'Variation - Emphasis on Long-Term Outcome': True, '@ai to Generate New Texts': True, 'Create Continuation': True}, 'resourcesUsed': '', 'additionalComments': '3'}, 'timestamp': {'$date': '2024-08-21T13:36:32.582Z'}}\n",
      "{'_id': {'$oid': '66c5edf3758820879dc9969c'}, 'prolific_id': '65e6fb8c62b34b6ef5249890', 'study_id': '66c5e9afb11bf5c62a286fe8', 'task_id': 'main_task_2', 'responses': {'usefulness': {'Variation - Positive Narrative Framing': 'NA', 'Variation - Cautionary Narrative Framing': 'NA', 'Variation - Positive Narrative Framing with Statistics': 'NA', 'Variation - Cautionary Narrative with Statistics': 'NA', 'Variation - Emphasis on Immediate Outcome': 'NA', 'Variation - Emphasis on Long-Term Outcome': 'NA', '@ai to Generate New Texts': 'NA', 'Create Continuation': 'NA'}, 'ownership': {'I feel that I have contributed to the content': 'Neutral', 'I would be willing to publicly share the content I wrote, including my name': 'Neutral', 'I would fully claim ownership of the content I wrote': 'Neutral'}, 'collaboration': {'Do you think the suggestions you received contributed to the fluency of the resultant text?': 'Neutral', 'Did the suggestions help you come up with new ideas?': 'Neutral', 'Do you feel that you would have written a better text if you wrote it alone?': 'Neutral'}, 'aiCapabilities': {'Do you think the system was competent in writing?': 'Neutral', 'Do you think the system was capable of writing creative texts?': 'Neutral', 'Do you think the system was capable of writing persuasive texts?': 'Neutral', 'Do you think the system understood what you were trying to write?': 'Neutral'}, 'notApplicable': {'Variation - Positive Narrative Framing': True, 'Variation - Cautionary Narrative Framing': True, 'Variation - Positive Narrative Framing with Statistics': True, 'Variation - Cautionary Narrative with Statistics': True, 'Variation - Emphasis on Immediate Outcome': True, 'Variation - Emphasis on Long-Term Outcome': True, '@ai to Generate New Texts': True, 'Create Continuation': True}, 'resourcesUsed': '', 'additionalComments': 'fgf'}, 'timestamp': {'$date': '2024-08-21T13:38:59.04Z'}}\n",
      "{'_id': {'$oid': '66c5eff76e80f7c232799606'}, 'prolific_id': '65e6fb8c62b34b6ef5249890', 'study_id': '66c5e9afb11bf5c62a286fe8', 'task_id': 'main_task_1', 'responses': {'usefulness': {'Create Continuation': 'NA', '@ai to Generate New Texts': 'NA', 'Variation - Emphasis on Long-Term Outcome': 'NA', 'Variation - Emphasis on Immediate Outcome': 'NA', 'Variation - Cautionary Narrative with Statistics': 'NA', 'Variation - Positive Narrative Framing with Statistics': 'NA', 'Variation - Cautionary Narrative Framing': 'NA', 'Variation - Positive Narrative Framing': 'NA'}, 'ownership': {'I feel that I have contributed to the content': 'Neutral', 'I would be willing to publicly share the content I wrote, including my name': 'Neutral', 'I would fully claim ownership of the content I wrote': 'Neutral'}, 'collaboration': {'Did the suggestions help you come up with new ideas?': 'Neutral', 'Do you think the suggestions you received contributed to the fluency of the resultant text?': 'Neutral', 'Do you feel that you would have written a better text if you wrote it alone?': 'Neutral'}, 'aiCapabilities': {'Do you think the system was competent in writing?': 'Neutral', 'Do you think the system was capable of writing creative texts?': 'Neutral', 'Do you think the system was capable of writing persuasive texts?': 'Neutral', 'Do you think the system understood what you were trying to write?': 'Neutral'}, 'notApplicable': {'Create Continuation': True, '@ai to Generate New Texts': True, 'Variation - Emphasis on Long-Term Outcome': True, 'Variation - Emphasis on Immediate Outcome': True, 'Variation - Cautionary Narrative with Statistics': True, 'Variation - Positive Narrative Framing with Statistics': True, 'Variation - Cautionary Narrative Framing': True, 'Variation - Positive Narrative Framing': True}, 'resourcesUsed': '', 'additionalComments': ''}, 'timestamp': {'$date': '2024-08-21T13:47:35.811Z'}}\n"
     ]
    }
   ],
   "source": [
    "for d in data:\n",
    "    if d['prolific_id'] == \"65e6fb8c62b34b6ef5249890\":\n",
    "        print(d)"
   ]
  },
  {
   "cell_type": "code",
   "execution_count": 11,
   "metadata": {},
   "outputs": [
    {
     "data": {
      "text/plain": [
       "{'5a4ff22bacc75b000179b0e9',\n",
       " '5c068f1f9d0df40001e5688c',\n",
       " '5c62de3f48fe4e000180e09d',\n",
       " '5d2e3cdf6835130001aa16f0',\n",
       " '5ea9a41b87b4150bf9634637',\n",
       " '5f22932ca6ff8f000918fdfb',\n",
       " '601958c0af6453017a0cbbd4',\n",
       " '6070f449711790a79d558f08',\n",
       " '60a0b744298c64d46b63e893',\n",
       " '60c0c4333e49151d768bb35b',\n",
       " '60feb9289ecbaadf64ca01ed',\n",
       " '65df453255fc896350004926',\n",
       " '65e6fb8c62b34b6ef5249890',\n",
       " '6636a3622255b3fd09ce0998',\n",
       " '666a55efa1dfe5f75c655953',\n",
       " '66759b715db54424734117c5',\n",
       " '66c4960754871133dc3c6b2b'}"
      ]
     },
     "execution_count": 11,
     "metadata": {},
     "output_type": "execute_result"
    }
   ],
   "source": [
    "unique_prolific_ids = set([rec['prolific_id'] for rec in data])\n",
    "unique_prolific_ids"
   ]
  },
  {
   "cell_type": "code",
   "execution_count": 11,
   "metadata": {},
   "outputs": [],
   "source": [
    "with open(\"../data/stage1/data_main_3/activity_log.json\", \"r\") as file:\n",
    "    data = [json.loads(line) for line in file]"
   ]
  },
  {
   "cell_type": "code",
   "execution_count": 17,
   "metadata": {},
   "outputs": [
    {
     "name": "stdout",
     "output_type": "stream",
     "text": [
      "{'_id': {'$oid': '66c59e93212e4863bd029063'}, 'document_id': '66c59e0f212e4863bd029062', 'task_id': 'sandbox_task_1_eng_66c516b1d61c7b572205f713', 'prolific_id': '65e6fb8c62b34b6ef5249890', 'activity_log': {'buttonClicks': [{'action': 'CREATE CONTINUATION', 'timestamp': '2024-08-21T07:58:36.982Z'}, {'action': 'CREATE VARIATION', 'timestamp': '2024-08-21T07:58:47.740Z'}, {'action': 'recipe_Gain_Anecdotal', 'timestamp': '2024-08-21T07:58:48.707Z'}, {'action': 'recipe_Loss_Anecdotal', 'timestamp': '2024-08-21T07:58:49.293Z'}, {'action': 'recipe_Gain_Statistics', 'timestamp': '2024-08-21T07:58:53.067Z'}, {'action': 'recipe_Loss_Statistics', 'timestamp': '2024-08-21T08:00:10.753Z'}, {'action': 'recipe_ShortTerm', 'timestamp': '2024-08-21T08:00:13.610Z'}, {'action': 'recipe_LongTerm', 'timestamp': '2024-08-21T08:00:15.090Z'}], 'generatedContent': [{'feature': '@ai generation', 'prompt': 'hello\\ufeff', 'response': 'hello', 'timestamp': '2024-08-21T07:58:27.760Z'}, {'feature': 'continuation', 'prompt': 'hello', 'response': 'hello how are you', 'timestamp': '2024-08-21T07:58:37.271Z'}, {'feature': 'Positive Narrative Framing', 'prompt': 'Once AI generated the paragraph select the paragraph, right-click, and select <strong>Create variation</strong>.', 'response': 'I was amazed when I selected an AI-generated paragraph, right-clicked, and chose \"Create variation\" - it completely transformed my writing experience by providing me with fresh perspectives and ideas. This feature has been a game-changer for me, allowing me to create engaging content that resonates with readers.', 'timestamp': '2024-08-21T07:58:49.816Z'}, {'feature': 'Cautionary Narrative Framing', 'prompt': 'Once AI generated the paragraph select the paragraph, right-click, and select <strong>Create variation</strong>.', 'response': 'Once AI generated the paragraph but failed to proofread it properly, leading to a embarrassing mistake in front of my boss and colleagues, I had to spend an entire weekend redoing the work from scratch.', 'timestamp': '2024-08-21T07:58:50.565Z'}, {'feature': 'Positive Narrative Framing with Statistics', 'prompt': 'Once AI generated the paragraph but failed to proofread it properly, leading to a embarrassing mistake in front of my boss and colleagues, I had to spend an entire weekend redoing the work from scratch.', 'response': \"By leveraging AI-generated content, I was able to complete a paragraph 30% faster than usual, while also improving its quality by 25% through revisions over the weekend. This allowed me to not only redo the work efficiently but also deliver it on time, earning my team's appreciation and my boss's satisfaction.\", 'timestamp': '2024-08-21T07:58:54.144Z'}, {'feature': 'Cautionary Narrative with Statistics', 'prompt': \"By leveraging AI-generated content, I was able to complete a paragraph 30% faster than usual, while also improving its quality by 25% through revisions over the weekend. This allowed me to not only redo the work efficiently but also deliver it on time, earning my team's appreciation and my boss's satisfaction.\", 'response': 'By leveraging AI-generated content, I was able to complete a paragraph 30% faster than usual, but this also resulted in a 25% decrease in quality, leading to revisions that took up most of my weekend and ultimately caused me to miss the deadline, receiving criticism from both my team and boss. This experience highlighted the potential pitfalls of relying on AI-generated content, where speed often comes at the cost of accuracy and attention to detail.', 'timestamp': '2024-08-21T08:00:12.349Z'}, {'feature': 'Emphasis on Immediate Outcome', 'prompt': 'By leveraging AI-generated content, I was able to complete a paragraph 30% faster than usual, but this also resulted in a 25% decrease in quality, leading to revisions that took up most of my weekend and ultimately caused me to miss the deadline, receiving criticism from both my team and boss. This experience highlighted the potential pitfalls of relying on AI-generated content, where speed often comes at the cost of accuracy and attention to detail.', 'response': 'By leveraging AI-generated content, I was able to complete a paragraph 30% faster than usual, but this also resulted in a 25% decrease in quality. This near-miss on my deadline due to relying too heavily on AI-generated content highlighted the potential pitfalls of sacrificing accuracy and attention to detail for speed.', 'timestamp': '2024-08-21T08:00:14.792Z'}, {'feature': 'Emphasis on Long-Term Outcome', 'prompt': 'By leveraging AI-generated content, I was able to complete a paragraph 30% faster than usual, but this also resulted in a 25% decrease in quality. This near-miss on my deadline due to relying too heavily on AI-generated content highlighted the potential pitfalls of sacrificing accuracy and attention to detail for speed.', 'response': 'By leveraging AI-generated content, I was able to complete a paragraph 30% faster than usual, but this also resulted in a 25% decrease in quality, ultimately putting my reputation and future work at risk. This near-miss on my deadline due to relying too heavily on AI-generated content highlighted the potential long-term pitfalls of sacrificing accuracy and attention to detail for speed.', 'timestamp': '2024-08-21T08:00:16.425Z'}], 'keyLogs': [{'key': 'Enter', 'timestamp': '2024-08-21T07:58:12.306Z'}, {'key': 'Enter', 'timestamp': '2024-08-21T07:58:12.464Z'}, {'key': 'Shift', 'timestamp': '2024-08-21T07:58:12.650Z'}, {'key': '@', 'timestamp': '2024-08-21T07:58:12.803Z'}, {'key': 'a', 'timestamp': '2024-08-21T07:58:13.286Z'}, {'key': 'i', 'timestamp': '2024-08-21T07:58:13.391Z'}, {'key': ' ', 'timestamp': '2024-08-21T07:58:13.531Z'}, {'key': 'h', 'timestamp': '2024-08-21T07:58:13.694Z'}, {'key': 'e', 'timestamp': '2024-08-21T07:58:13.808Z'}, {'key': 'l', 'timestamp': '2024-08-21T07:58:13.924Z'}, {'key': 'l', 'timestamp': '2024-08-21T07:58:14.053Z'}, {'key': 'o', 'timestamp': '2024-08-21T07:58:14.195Z'}, {'key': 'Enter', 'timestamp': '2024-08-21T07:58:14.400Z'}], 'visibilityState': []}, 'time_spent_outside': 68209, 'timestamp': {'$date': '2024-08-21T08:00:19.513Z'}}\n"
     ]
    }
   ],
   "source": [
    "counter = 0\n",
    "for i, d in enumerate(data):\n",
    "    \n",
    "    if d['prolific_id'] == \"65e6fb8c62b34b6ef5249890\":\n",
    "        counter += 1\n",
    "        if counter == 2:\n",
    "            print(d)\n",
    "            break\n",
    "        "
   ]
  },
  {
   "cell_type": "code",
   "execution_count": 20,
   "metadata": {},
   "outputs": [
    {
     "data": {
      "text/plain": [
       "[{'feature': '@ai generation',\n",
       "  'prompt': 'hello\\ufeff',\n",
       "  'response': 'hello',\n",
       "  'timestamp': '2024-08-21T07:58:27.760Z'},\n",
       " {'feature': 'continuation',\n",
       "  'prompt': 'hello',\n",
       "  'response': 'hello how are you',\n",
       "  'timestamp': '2024-08-21T07:58:37.271Z'},\n",
       " {'feature': 'Positive Narrative Framing',\n",
       "  'prompt': 'Once AI generated the paragraph select the paragraph, right-click, and select <strong>Create variation</strong>.',\n",
       "  'response': 'I was amazed when I selected an AI-generated paragraph, right-clicked, and chose \"Create variation\" - it completely transformed my writing experience by providing me with fresh perspectives and ideas. This feature has been a game-changer for me, allowing me to create engaging content that resonates with readers.',\n",
       "  'timestamp': '2024-08-21T07:58:49.816Z'},\n",
       " {'feature': 'Cautionary Narrative Framing',\n",
       "  'prompt': 'Once AI generated the paragraph select the paragraph, right-click, and select <strong>Create variation</strong>.',\n",
       "  'response': 'Once AI generated the paragraph but failed to proofread it properly, leading to a embarrassing mistake in front of my boss and colleagues, I had to spend an entire weekend redoing the work from scratch.',\n",
       "  'timestamp': '2024-08-21T07:58:50.565Z'},\n",
       " {'feature': 'Positive Narrative Framing with Statistics',\n",
       "  'prompt': 'Once AI generated the paragraph but failed to proofread it properly, leading to a embarrassing mistake in front of my boss and colleagues, I had to spend an entire weekend redoing the work from scratch.',\n",
       "  'response': \"By leveraging AI-generated content, I was able to complete a paragraph 30% faster than usual, while also improving its quality by 25% through revisions over the weekend. This allowed me to not only redo the work efficiently but also deliver it on time, earning my team's appreciation and my boss's satisfaction.\",\n",
       "  'timestamp': '2024-08-21T07:58:54.144Z'},\n",
       " {'feature': 'Cautionary Narrative with Statistics',\n",
       "  'prompt': \"By leveraging AI-generated content, I was able to complete a paragraph 30% faster than usual, while also improving its quality by 25% through revisions over the weekend. This allowed me to not only redo the work efficiently but also deliver it on time, earning my team's appreciation and my boss's satisfaction.\",\n",
       "  'response': 'By leveraging AI-generated content, I was able to complete a paragraph 30% faster than usual, but this also resulted in a 25% decrease in quality, leading to revisions that took up most of my weekend and ultimately caused me to miss the deadline, receiving criticism from both my team and boss. This experience highlighted the potential pitfalls of relying on AI-generated content, where speed often comes at the cost of accuracy and attention to detail.',\n",
       "  'timestamp': '2024-08-21T08:00:12.349Z'},\n",
       " {'feature': 'Emphasis on Immediate Outcome',\n",
       "  'prompt': 'By leveraging AI-generated content, I was able to complete a paragraph 30% faster than usual, but this also resulted in a 25% decrease in quality, leading to revisions that took up most of my weekend and ultimately caused me to miss the deadline, receiving criticism from both my team and boss. This experience highlighted the potential pitfalls of relying on AI-generated content, where speed often comes at the cost of accuracy and attention to detail.',\n",
       "  'response': 'By leveraging AI-generated content, I was able to complete a paragraph 30% faster than usual, but this also resulted in a 25% decrease in quality. This near-miss on my deadline due to relying too heavily on AI-generated content highlighted the potential pitfalls of sacrificing accuracy and attention to detail for speed.',\n",
       "  'timestamp': '2024-08-21T08:00:14.792Z'},\n",
       " {'feature': 'Emphasis on Long-Term Outcome',\n",
       "  'prompt': 'By leveraging AI-generated content, I was able to complete a paragraph 30% faster than usual, but this also resulted in a 25% decrease in quality. This near-miss on my deadline due to relying too heavily on AI-generated content highlighted the potential pitfalls of sacrificing accuracy and attention to detail for speed.',\n",
       "  'response': 'By leveraging AI-generated content, I was able to complete a paragraph 30% faster than usual, but this also resulted in a 25% decrease in quality, ultimately putting my reputation and future work at risk. This near-miss on my deadline due to relying too heavily on AI-generated content highlighted the potential long-term pitfalls of sacrificing accuracy and attention to detail for speed.',\n",
       "  'timestamp': '2024-08-21T08:00:16.425Z'}]"
      ]
     },
     "execution_count": 20,
     "metadata": {},
     "output_type": "execute_result"
    }
   ],
   "source": [
    "d['activity_log']['generatedContent']"
   ]
  }
 ],
 "metadata": {
  "kernelspec": {
   "display_name": "base",
   "language": "python",
   "name": "python3"
  },
  "language_info": {
   "codemirror_mode": {
    "name": "ipython",
    "version": 3
   },
   "file_extension": ".py",
   "mimetype": "text/x-python",
   "name": "python",
   "nbconvert_exporter": "python",
   "pygments_lexer": "ipython3",
   "version": "3.11.5"
  }
 },
 "nbformat": 4,
 "nbformat_minor": 2
}
