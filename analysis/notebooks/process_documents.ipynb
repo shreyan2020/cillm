{
 "cells": [
  {
   "cell_type": "code",
   "execution_count": 17,
   "metadata": {},
   "outputs": [],
   "source": [
    "import os\n",
    "import json\n",
    "from bs4 import BeautifulSoup\n"
   ]
  },
  {
   "cell_type": "code",
   "execution_count": 8,
   "metadata": {},
   "outputs": [],
   "source": [
    "# Assuming the JSON file contains a list of documents\n",
    "file_path = '../data/document.json'\n",
    "output_directory = '../data/documents'"
   ]
  },
  {
   "cell_type": "code",
   "execution_count": 5,
   "metadata": {},
   "outputs": [],
   "source": [
    "os.makedirs(output_directory, exist_ok=True)\n"
   ]
  },
  {
   "cell_type": "code",
   "execution_count": 22,
   "metadata": {},
   "outputs": [],
   "source": [
    "with open(file_path, 'r') as file:\n",
    "    documents = file.read()\n",
    "    \n",
    "for doc in documents.splitlines():\n",
    "    data = json.loads(doc)\n",
    "    pid = data['prolific_id']\n",
    "    content = data['content']\n",
    "    with open(f'../data/documents/{pid}.html', 'w') as file:\n",
    "        file.write(content)"
   ]
  },
  {
   "cell_type": "code",
   "execution_count": 18,
   "metadata": {},
   "outputs": [],
   "source": [
    "tmp = json.loads(documents.splitlines()[0])['content']"
   ]
  },
  {
   "cell_type": "code",
   "execution_count": 21,
   "metadata": {},
   "outputs": [],
   "source": [
    "with open('../data/doc1.html', 'w') as file:\n",
    "        file.write(tmp)"
   ]
  },
  {
   "cell_type": "code",
   "execution_count": 19,
   "metadata": {},
   "outputs": [],
   "source": [
    "\n",
    "# Extracting the content\n",
    "html_content = tmp\n",
    "\n",
    "# Converting HTML content to plain text using BeautifulSoup\n",
    "soup = BeautifulSoup(html_content, \"html.parser\")\n",
    "plain_text = soup.get_text()\n",
    "\n",
    "# Creating a PDF document"
   ]
  },
  {
   "cell_type": "code",
   "execution_count": 20,
   "metadata": {},
   "outputs": [
    {
     "data": {
      "text/plain": [
       "'Feel free to play around with the features before you begin your new task.\\nHere are some steps you may want to go through:\\nBelow this type @ai followed by some text to ask AI to write a piece of text\\nOnce AI generated the paragraph select the paragraph, right-click, and select Create variation.\\nClick different modification one by one and observe how your original text is modified\\nFinally type an incomplete sentence and right-click, and select Create continuation. See how AI will complete your sentence\\nNote: Instructions can be found in the top left corner.\\nNota: Haga clic en \"Save and Continue\" una vez que haya explorado las funciones de la herramienta.'"
      ]
     },
     "execution_count": 20,
     "metadata": {},
     "output_type": "execute_result"
    }
   ],
   "source": [
    "plain_text"
   ]
  }
 ],
 "metadata": {
  "kernelspec": {
   "display_name": "base",
   "language": "python",
   "name": "python3"
  },
  "language_info": {
   "codemirror_mode": {
    "name": "ipython",
    "version": 3
   },
   "file_extension": ".py",
   "mimetype": "text/x-python",
   "name": "python",
   "nbconvert_exporter": "python",
   "pygments_lexer": "ipython3",
   "version": "3.11.5"
  }
 },
 "nbformat": 4,
 "nbformat_minor": 2
}
