{
 "cells": [
  {
   "cell_type": "code",
   "execution_count": 6,
   "metadata": {},
   "outputs": [],
   "source": [
    "import numpy as np\n",
    "import pandas as pd\n",
    "import ast"
   ]
  },
  {
   "cell_type": "code",
   "execution_count": 7,
   "metadata": {},
   "outputs": [
    {
     "data": {
      "text/html": [
       "<div>\n",
       "<style scoped>\n",
       "    .dataframe tbody tr th:only-of-type {\n",
       "        vertical-align: middle;\n",
       "    }\n",
       "\n",
       "    .dataframe tbody tr th {\n",
       "        vertical-align: top;\n",
       "    }\n",
       "\n",
       "    .dataframe thead th {\n",
       "        text-align: right;\n",
       "    }\n",
       "</style>\n",
       "<table border=\"1\" class=\"dataframe\">\n",
       "  <thead>\n",
       "    <tr style=\"text-align: right;\">\n",
       "      <th></th>\n",
       "      <th>_id</th>\n",
       "      <th>content</th>\n",
       "      <th>name</th>\n",
       "      <th>chunks</th>\n",
       "      <th>timestamp</th>\n",
       "      <th>task_id</th>\n",
       "      <th>prolific_id</th>\n",
       "      <th>study_id</th>\n",
       "      <th>plain_text</th>\n",
       "      <th>word_count</th>\n",
       "      <th>TASK_ID</th>\n",
       "    </tr>\n",
       "  </thead>\n",
       "  <tbody>\n",
       "    <tr>\n",
       "      <th>0</th>\n",
       "      <td>66c5a13c86c57a87db6f59d9</td>\n",
       "      <td>&lt;p class=\"llmparagraph id0\"&gt;&lt;span id=\"chunk_TD...</td>\n",
       "      <td>NaN</td>\n",
       "      <td>[{'frontend_id': 'chunk_JfRRo', 'versions': [{...</td>\n",
       "      <td>2024-08-21 08:11:40.473000+00:00</td>\n",
       "      <td>main_task_1</td>\n",
       "      <td>5a4ff22bacc75b000179b0e9</td>\n",
       "      <td>66c516b1d61c7b572205f713</td>\n",
       "      <td>Join hands with us in protecting our planet's ...</td>\n",
       "      <td>193</td>\n",
       "      <td>EN</td>\n",
       "    </tr>\n",
       "    <tr>\n",
       "      <th>1</th>\n",
       "      <td>66c5e4be2f44d7b54f76e52d</td>\n",
       "      <td>&lt;p&gt;&lt;span class=\"chunk factor_9b1tC\" style=\"bac...</td>\n",
       "      <td>NaN</td>\n",
       "      <td>[{'frontend_id': 'chunk_TG1Gd', 'versions': [{...</td>\n",
       "      <td>2024-08-21 12:59:42.981000+00:00</td>\n",
       "      <td>main_task_1</td>\n",
       "      <td>5c068f1f9d0df40001e5688c</td>\n",
       "      <td>66c516b1d61c7b572205f713</td>\n",
       "      <td>In a time of uncertainty for the future of our...</td>\n",
       "      <td>167</td>\n",
       "      <td>EN</td>\n",
       "    </tr>\n",
       "    <tr>\n",
       "      <th>2</th>\n",
       "      <td>66c5a21086c57a87db6f59e1</td>\n",
       "      <td>&lt;p class=\"llmparagraph id0\"&gt;&lt;span id=\"chunk_AK...</td>\n",
       "      <td>NaN</td>\n",
       "      <td>[{'frontend_id': 'chunk_AKbWr', 'versions': [{...</td>\n",
       "      <td>2024-08-21 08:15:12.263000+00:00</td>\n",
       "      <td>main_task_1</td>\n",
       "      <td>5c62de3f48fe4e000180e09d</td>\n",
       "      <td>66c516b1d61c7b572205f713</td>\n",
       "      <td>We are at a critical juncture where our inacti...</td>\n",
       "      <td>291</td>\n",
       "      <td>EN</td>\n",
       "    </tr>\n",
       "    <tr>\n",
       "      <th>3</th>\n",
       "      <td>66c88773e46942c099b32393</td>\n",
       "      <td>&lt;p class=\"llmparagraph id0\"&gt;&lt;span id=\"chunk_Hj...</td>\n",
       "      <td>NaN</td>\n",
       "      <td>[{'frontend_id': 'chunk_d3be5', 'versions': [{...</td>\n",
       "      <td>2024-08-23 12:58:27.681000+00:00</td>\n",
       "      <td>main_task_1</td>\n",
       "      <td>5d1f9776676cd1001580ae9c</td>\n",
       "      <td>66c516b1d61c7b572205f713</td>\n",
       "      <td>As you consider donating to the World Wildlife...</td>\n",
       "      <td>149</td>\n",
       "      <td>EN</td>\n",
       "    </tr>\n",
       "    <tr>\n",
       "      <th>4</th>\n",
       "      <td>66c5a3e386c57a87db6f59f9</td>\n",
       "      <td>&lt;p class=\"llmparagraph id1\"&gt;&amp;nbsp;&lt;/p&gt;\\n&lt;p cla...</td>\n",
       "      <td>NaN</td>\n",
       "      <td>[{'frontend_id': 'chunk_JAHGD', 'versions': [{...</td>\n",
       "      <td>2024-08-21 08:22:59.626000+00:00</td>\n",
       "      <td>main_task_1</td>\n",
       "      <td>5ea9a41b87b4150bf9634637</td>\n",
       "      <td>66c516b1d61c7b572205f713</td>\n",
       "      <td>\\nThe World Wildlife Fund (WWF) is a beacon o...</td>\n",
       "      <td>156</td>\n",
       "      <td>EN</td>\n",
       "    </tr>\n",
       "  </tbody>\n",
       "</table>\n",
       "</div>"
      ],
      "text/plain": [
       "                        _id  \\\n",
       "0  66c5a13c86c57a87db6f59d9   \n",
       "1  66c5e4be2f44d7b54f76e52d   \n",
       "2  66c5a21086c57a87db6f59e1   \n",
       "3  66c88773e46942c099b32393   \n",
       "4  66c5a3e386c57a87db6f59f9   \n",
       "\n",
       "                                             content name  \\\n",
       "0  <p class=\"llmparagraph id0\"><span id=\"chunk_TD...  NaN   \n",
       "1  <p><span class=\"chunk factor_9b1tC\" style=\"bac...  NaN   \n",
       "2  <p class=\"llmparagraph id0\"><span id=\"chunk_AK...  NaN   \n",
       "3  <p class=\"llmparagraph id0\"><span id=\"chunk_Hj...  NaN   \n",
       "4  <p class=\"llmparagraph id1\">&nbsp;</p>\\n<p cla...  NaN   \n",
       "\n",
       "                                              chunks  \\\n",
       "0  [{'frontend_id': 'chunk_JfRRo', 'versions': [{...   \n",
       "1  [{'frontend_id': 'chunk_TG1Gd', 'versions': [{...   \n",
       "2  [{'frontend_id': 'chunk_AKbWr', 'versions': [{...   \n",
       "3  [{'frontend_id': 'chunk_d3be5', 'versions': [{...   \n",
       "4  [{'frontend_id': 'chunk_JAHGD', 'versions': [{...   \n",
       "\n",
       "                          timestamp      task_id               prolific_id  \\\n",
       "0  2024-08-21 08:11:40.473000+00:00  main_task_1  5a4ff22bacc75b000179b0e9   \n",
       "1  2024-08-21 12:59:42.981000+00:00  main_task_1  5c068f1f9d0df40001e5688c   \n",
       "2  2024-08-21 08:15:12.263000+00:00  main_task_1  5c62de3f48fe4e000180e09d   \n",
       "3  2024-08-23 12:58:27.681000+00:00  main_task_1  5d1f9776676cd1001580ae9c   \n",
       "4  2024-08-21 08:22:59.626000+00:00  main_task_1  5ea9a41b87b4150bf9634637   \n",
       "\n",
       "                   study_id  \\\n",
       "0  66c516b1d61c7b572205f713   \n",
       "1  66c516b1d61c7b572205f713   \n",
       "2  66c516b1d61c7b572205f713   \n",
       "3  66c516b1d61c7b572205f713   \n",
       "4  66c516b1d61c7b572205f713   \n",
       "\n",
       "                                          plain_text  word_count TASK_ID  \n",
       "0  Join hands with us in protecting our planet's ...         193      EN  \n",
       "1  In a time of uncertainty for the future of our...         167      EN  \n",
       "2  We are at a critical juncture where our inacti...         291      EN  \n",
       "3  As you consider donating to the World Wildlife...         149      EN  \n",
       "4   \\nThe World Wildlife Fund (WWF) is a beacon o...         156      EN  "
      ]
     },
     "execution_count": 7,
     "metadata": {},
     "output_type": "execute_result"
    }
   ],
   "source": [
    "df = pd.read_csv('../data/buckets_combined/master_documents.csv')\n",
    "df.head()"
   ]
  },
  {
   "cell_type": "code",
   "execution_count": 22,
   "metadata": {},
   "outputs": [
    {
     "data": {
      "text/html": [
       "<div>\n",
       "<style scoped>\n",
       "    .dataframe tbody tr th:only-of-type {\n",
       "        vertical-align: middle;\n",
       "    }\n",
       "\n",
       "    .dataframe tbody tr th {\n",
       "        vertical-align: top;\n",
       "    }\n",
       "\n",
       "    .dataframe thead th {\n",
       "        text-align: right;\n",
       "    }\n",
       "</style>\n",
       "<table border=\"1\" class=\"dataframe\">\n",
       "  <thead>\n",
       "    <tr style=\"text-align: right;\">\n",
       "      <th></th>\n",
       "      <th>_id</th>\n",
       "      <th>TASK_ID</th>\n",
       "      <th>plain_text</th>\n",
       "    </tr>\n",
       "  </thead>\n",
       "  <tbody>\n",
       "    <tr>\n",
       "      <th>0</th>\n",
       "      <td>66c5a13c86c57a87db6f59d9</td>\n",
       "      <td>EN</td>\n",
       "      <td>Join hands with us in protecting our planet's ...</td>\n",
       "    </tr>\n",
       "    <tr>\n",
       "      <th>1</th>\n",
       "      <td>66c5e4be2f44d7b54f76e52d</td>\n",
       "      <td>EN</td>\n",
       "      <td>In a time of uncertainty for the future of our...</td>\n",
       "    </tr>\n",
       "    <tr>\n",
       "      <th>2</th>\n",
       "      <td>66c5a21086c57a87db6f59e1</td>\n",
       "      <td>EN</td>\n",
       "      <td>We are at a critical juncture where our inacti...</td>\n",
       "    </tr>\n",
       "    <tr>\n",
       "      <th>3</th>\n",
       "      <td>66c88773e46942c099b32393</td>\n",
       "      <td>EN</td>\n",
       "      <td>As you consider donating to the World Wildlife...</td>\n",
       "    </tr>\n",
       "    <tr>\n",
       "      <th>4</th>\n",
       "      <td>66c5a3e386c57a87db6f59f9</td>\n",
       "      <td>EN</td>\n",
       "      <td>\\nThe World Wildlife Fund (WWF) is a beacon o...</td>\n",
       "    </tr>\n",
       "    <tr>\n",
       "      <th>...</th>\n",
       "      <td>...</td>\n",
       "      <td>...</td>\n",
       "      <td>...</td>\n",
       "    </tr>\n",
       "    <tr>\n",
       "      <th>75</th>\n",
       "      <td>66c742626db9c208f260cbeb</td>\n",
       "      <td>ENG2</td>\n",
       "      <td>The mission of World Wildlife Fund (WWF) is to...</td>\n",
       "    </tr>\n",
       "    <tr>\n",
       "      <th>76</th>\n",
       "      <td>66c74f216db9c208f260cc0c</td>\n",
       "      <td>ESP1</td>\n",
       "      <td>Estimados amigos y ciudadanos, En estos moment...</td>\n",
       "    </tr>\n",
       "    <tr>\n",
       "      <th>77</th>\n",
       "      <td>66c750f16db9c208f260cc18</td>\n",
       "      <td>ENG2</td>\n",
       "      <td>By supporting our donation drive, you will not...</td>\n",
       "    </tr>\n",
       "    <tr>\n",
       "      <th>78</th>\n",
       "      <td>66c757f06db9c208f260cc32</td>\n",
       "      <td>ESP1</td>\n",
       "      <td>¡Únete a Nosotros para Proteger Nuestro Planet...</td>\n",
       "    </tr>\n",
       "    <tr>\n",
       "      <th>79</th>\n",
       "      <td>66c75a3c6db9c208f260cc38</td>\n",
       "      <td>ENG2</td>\n",
       "      <td>Stand with WWF to Protect Our Planet!\\nAt the ...</td>\n",
       "    </tr>\n",
       "  </tbody>\n",
       "</table>\n",
       "<p>80 rows × 3 columns</p>\n",
       "</div>"
      ],
      "text/plain": [
       "                         _id TASK_ID  \\\n",
       "0   66c5a13c86c57a87db6f59d9      EN   \n",
       "1   66c5e4be2f44d7b54f76e52d      EN   \n",
       "2   66c5a21086c57a87db6f59e1      EN   \n",
       "3   66c88773e46942c099b32393      EN   \n",
       "4   66c5a3e386c57a87db6f59f9      EN   \n",
       "..                       ...     ...   \n",
       "75  66c742626db9c208f260cbeb    ENG2   \n",
       "76  66c74f216db9c208f260cc0c    ESP1   \n",
       "77  66c750f16db9c208f260cc18    ENG2   \n",
       "78  66c757f06db9c208f260cc32    ESP1   \n",
       "79  66c75a3c6db9c208f260cc38    ENG2   \n",
       "\n",
       "                                           plain_text  \n",
       "0   Join hands with us in protecting our planet's ...  \n",
       "1   In a time of uncertainty for the future of our...  \n",
       "2   We are at a critical juncture where our inacti...  \n",
       "3   As you consider donating to the World Wildlife...  \n",
       "4    \\nThe World Wildlife Fund (WWF) is a beacon o...  \n",
       "..                                                ...  \n",
       "75  The mission of World Wildlife Fund (WWF) is to...  \n",
       "76  Estimados amigos y ciudadanos, En estos moment...  \n",
       "77  By supporting our donation drive, you will not...  \n",
       "78  ¡Únete a Nosotros para Proteger Nuestro Planet...  \n",
       "79  Stand with WWF to Protect Our Planet!\\nAt the ...  \n",
       "\n",
       "[80 rows x 3 columns]"
      ]
     },
     "execution_count": 22,
     "metadata": {},
     "output_type": "execute_result"
    }
   ],
   "source": [
    "master_document_list = df[['_id', 'TASK_ID', 'plain_text']]\n",
    "master_document_list"
   ]
  },
  {
   "cell_type": "code",
   "execution_count": 16,
   "metadata": {},
   "outputs": [],
   "source": [
    "llm_text = \"\"\"Join WWF's Movement to Save a Planet and Build a Better Future\n",
    "\n",
    "Are you passionate about preserving our planet and its incredible diversity of life? Do you believe that humans\n",
    "and nature can thrive together? The World Wildlife Fund (WWF) shares your vision.\n",
    "\n",
    "Our mission is clear: conserve nature and reduce the most pressing threats to biodiversity. We seek to save a\n",
    "planet, a world of life, where human needs are balanced with the well-being of other species. We strive for\n",
    "conservation that is humane in its broadest sense, promoting a reverence for nature and a deep respect for human\n",
    "potential.\n",
    "\n",
    "By supporting WWF, you'll be joining a global community dedicated to inspiring change and driving positive impact.\n",
    "We seek to be the voice for those creatures who have no voice, speaking up for their future and advocating for\n",
    "policies that safeguard our planet's precious resources.\n",
    "\n",
    "You can make a difference by:\n",
    "\n",
    "* Supporting conservation efforts in over 100 countries\n",
    "* Advocating for policies that protect biodiversity and ecosystem health\n",
    "* Engaging with millions of people worldwide on conservation issues\n",
    "\n",
    "Together, we can build a better future where humans and nature thrive together. Join WWF's movement today and\n",
    "let's work towards a world where life on Earth is valued and protected.\n",
    "\n",
    "Donate now and become part of our global community working towards a brighter future for all!\"\"\""
   ]
  },
  {
   "cell_type": "code",
   "execution_count": 23,
   "metadata": {},
   "outputs": [
    {
     "name": "stderr",
     "output_type": "stream",
     "text": [
      "C:\\Users\\shrey\\AppData\\Local\\Temp\\ipykernel_37788\\21932338.py:2: SettingWithCopyWarning: \n",
      "A value is trying to be set on a copy of a slice from a DataFrame\n",
      "\n",
      "See the caveats in the documentation: https://pandas.pydata.org/pandas-docs/stable/user_guide/indexing.html#returning-a-view-versus-a-copy\n",
      "  master_document_list.loc[len(master_document_list)] = llm_content\n"
     ]
    }
   ],
   "source": [
    "llm_content = {'_id': 'LLM', 'TASK_ID':'LLM_EN', 'plain_text':llm_text}\n",
    "master_document_list.loc[len(master_document_list)] = llm_content"
   ]
  },
  {
   "cell_type": "code",
   "execution_count": 18,
   "metadata": {},
   "outputs": [],
   "source": [
    "control_text = \"\"\"The mission of World Wildlife Fund is to conserve nature and reduce the most pressing threats to the diversity of life on Earth. Our vision is to build a future in which people live in harmony with nature.\n",
    "\n",
    "We seek to save a planet, a world of life. Reconciling the needs of human beings and the needs of others that share the Earth, we seek to practice conservation that is humane in the broadest sense. We seek to instill in people everywhere a discriminating, yet unabashed, reverence for nature and to balance that reverence with a profound belief in human possibilities. From the smallest community to the largest multinational organization, we seek to inspire others who can advance the cause of conservation.\n",
    "\n",
    "We seek to be the voice for those creatures who have no voice. We speak for their future. We seek to apply the wealth of our talents, knowledge, and passion to making the world wealthier in life, in spirit, and in living wonder of nature.\"\"\""
   ]
  },
  {
   "cell_type": "code",
   "execution_count": 24,
   "metadata": {},
   "outputs": [
    {
     "name": "stderr",
     "output_type": "stream",
     "text": [
      "C:\\Users\\shrey\\AppData\\Local\\Temp\\ipykernel_37788\\1767281576.py:2: SettingWithCopyWarning: \n",
      "A value is trying to be set on a copy of a slice from a DataFrame\n",
      "\n",
      "See the caveats in the documentation: https://pandas.pydata.org/pandas-docs/stable/user_guide/indexing.html#returning-a-view-versus-a-copy\n",
      "  master_document_list.loc[len(master_document_list)] = control_content\n"
     ]
    }
   ],
   "source": [
    "control_content = {'_id': 'CONTROL', 'TASK_ID':'CONTROL_EN', 'plain_text':control_text}\n",
    "master_document_list.loc[len(master_document_list)] = control_content"
   ]
  },
  {
   "cell_type": "code",
   "execution_count": 27,
   "metadata": {},
   "outputs": [
    {
     "data": {
      "text/plain": [
       "TASK_ID\n",
       "EN            16\n",
       "ENG1          16\n",
       "ESP2          16\n",
       "ESP1          16\n",
       "ENG2          16\n",
       "LLM_EN         1\n",
       "CONTROL_EN     1\n",
       "Name: count, dtype: int64"
      ]
     },
     "execution_count": 27,
     "metadata": {},
     "output_type": "execute_result"
    }
   ],
   "source": [
    "master_document_list['TASK_ID'].value_counts()"
   ]
  },
  {
   "cell_type": "code",
   "execution_count": 26,
   "metadata": {},
   "outputs": [
    {
     "data": {
      "text/plain": [
       "(82, 3)"
      ]
     },
     "execution_count": 26,
     "metadata": {},
     "output_type": "execute_result"
    }
   ],
   "source": [
    "master_document_list.shape"
   ]
  },
  {
   "cell_type": "code",
   "execution_count": null,
   "metadata": {},
   "outputs": [],
   "source": []
  }
 ],
 "metadata": {
  "kernelspec": {
   "display_name": "base",
   "language": "python",
   "name": "python3"
  },
  "language_info": {
   "codemirror_mode": {
    "name": "ipython",
    "version": 3
   },
   "file_extension": ".py",
   "mimetype": "text/x-python",
   "name": "python",
   "nbconvert_exporter": "python",
   "pygments_lexer": "ipython3",
   "version": "3.11.5"
  }
 },
 "nbformat": 4,
 "nbformat_minor": 2
}
