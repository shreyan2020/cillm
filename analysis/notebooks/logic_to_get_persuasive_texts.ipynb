{
 "cells": [
  {
   "cell_type": "code",
   "execution_count": 164,
   "metadata": {},
   "outputs": [
    {
     "name": "stdout",
     "output_type": "stream",
     "text": [
      "Collecting html2text\n",
      "  Downloading html2text-2024.2.26.tar.gz (56 kB)\n",
      "     ---------------------------------------- 0.0/56.5 kB ? eta -:--:--\n",
      "     --------------------------- ---------- 41.0/56.5 kB 653.6 kB/s eta 0:00:01\n",
      "     -------------------------------------- 56.5/56.5 kB 734.7 kB/s eta 0:00:00\n",
      "  Preparing metadata (setup.py): started\n",
      "  Preparing metadata (setup.py): finished with status 'done'\n",
      "Building wheels for collected packages: html2text\n",
      "  Building wheel for html2text (setup.py): started\n",
      "  Building wheel for html2text (setup.py): finished with status 'done'\n",
      "  Created wheel for html2text: filename=html2text-2024.2.26-py3-none-any.whl size=33131 sha256=f5365c71f48117ac973cf00e2500917a56f8a2dc5d7dc72777274b4b74a260c5\n",
      "  Stored in directory: c:\\users\\shrey\\appdata\\local\\pip\\cache\\wheels\\23\\58\\7c\\d9c8c4d924a1ac2b621add1b2c1d30b639629a33cfdfde6a45\n",
      "Successfully built html2text\n",
      "Installing collected packages: html2text\n",
      "Successfully installed html2text-2024.2.26\n"
     ]
    }
   ],
   "source": [
    "!pip install html2text"
   ]
  },
  {
   "cell_type": "code",
   "execution_count": 165,
   "metadata": {},
   "outputs": [],
   "source": [
    "import numpy as np\n",
    "import pandas as pd\n",
    "import ast\n",
    "from bs4 import BeautifulSoup\n",
    "import html2text"
   ]
  },
  {
   "cell_type": "code",
   "execution_count": 171,
   "metadata": {},
   "outputs": [
    {
     "data": {
      "text/html": [
       "<div>\n",
       "<style scoped>\n",
       "    .dataframe tbody tr th:only-of-type {\n",
       "        vertical-align: middle;\n",
       "    }\n",
       "\n",
       "    .dataframe tbody tr th {\n",
       "        vertical-align: top;\n",
       "    }\n",
       "\n",
       "    .dataframe thead th {\n",
       "        text-align: right;\n",
       "    }\n",
       "</style>\n",
       "<table border=\"1\" class=\"dataframe\">\n",
       "  <thead>\n",
       "    <tr style=\"text-align: right;\">\n",
       "      <th></th>\n",
       "      <th>_id</th>\n",
       "      <th>content</th>\n",
       "      <th>name</th>\n",
       "      <th>chunks</th>\n",
       "      <th>timestamp</th>\n",
       "      <th>task_id</th>\n",
       "      <th>prolific_id</th>\n",
       "      <th>study_id</th>\n",
       "      <th>plain_text</th>\n",
       "      <th>word_count</th>\n",
       "      <th>TASK_ID</th>\n",
       "    </tr>\n",
       "  </thead>\n",
       "  <tbody>\n",
       "    <tr>\n",
       "      <th>0</th>\n",
       "      <td>66c5a13c86c57a87db6f59d9</td>\n",
       "      <td>&lt;p class=\"llmparagraph id0\"&gt;&lt;span id=\"chunk_TD...</td>\n",
       "      <td>NaN</td>\n",
       "      <td>[{'frontend_id': 'chunk_JfRRo', 'versions': [{...</td>\n",
       "      <td>2024-08-21 08:11:40.473000+00:00</td>\n",
       "      <td>main_task_1</td>\n",
       "      <td>5a4ff22bacc75b000179b0e9</td>\n",
       "      <td>66c516b1d61c7b572205f713</td>\n",
       "      <td>Join hands with us in protecting our planet's ...</td>\n",
       "      <td>193</td>\n",
       "      <td>ENG</td>\n",
       "    </tr>\n",
       "    <tr>\n",
       "      <th>1</th>\n",
       "      <td>66c5e4be2f44d7b54f76e52d</td>\n",
       "      <td>&lt;p&gt;&lt;span class=\"chunk factor_9b1tC\" style=\"bac...</td>\n",
       "      <td>NaN</td>\n",
       "      <td>[{'frontend_id': 'chunk_TG1Gd', 'versions': [{...</td>\n",
       "      <td>2024-08-21 12:59:42.981000+00:00</td>\n",
       "      <td>main_task_1</td>\n",
       "      <td>5c068f1f9d0df40001e5688c</td>\n",
       "      <td>66c516b1d61c7b572205f713</td>\n",
       "      <td>In a time of uncertainty for the future of our...</td>\n",
       "      <td>167</td>\n",
       "      <td>ENG</td>\n",
       "    </tr>\n",
       "    <tr>\n",
       "      <th>2</th>\n",
       "      <td>66c5a21086c57a87db6f59e1</td>\n",
       "      <td>&lt;p class=\"llmparagraph id0\"&gt;&lt;span id=\"chunk_AK...</td>\n",
       "      <td>NaN</td>\n",
       "      <td>[{'frontend_id': 'chunk_AKbWr', 'versions': [{...</td>\n",
       "      <td>2024-08-21 08:15:12.263000+00:00</td>\n",
       "      <td>main_task_1</td>\n",
       "      <td>5c62de3f48fe4e000180e09d</td>\n",
       "      <td>66c516b1d61c7b572205f713</td>\n",
       "      <td>We are at a critical juncture where our inacti...</td>\n",
       "      <td>291</td>\n",
       "      <td>ENG</td>\n",
       "    </tr>\n",
       "    <tr>\n",
       "      <th>3</th>\n",
       "      <td>66c88773e46942c099b32393</td>\n",
       "      <td>&lt;p class=\"llmparagraph id0\"&gt;&lt;span id=\"chunk_Hj...</td>\n",
       "      <td>NaN</td>\n",
       "      <td>[{'frontend_id': 'chunk_d3be5', 'versions': [{...</td>\n",
       "      <td>2024-08-23 12:58:27.681000+00:00</td>\n",
       "      <td>main_task_1</td>\n",
       "      <td>5d1f9776676cd1001580ae9c</td>\n",
       "      <td>66c516b1d61c7b572205f713</td>\n",
       "      <td>As you consider donating to the World Wildlife...</td>\n",
       "      <td>149</td>\n",
       "      <td>ENG</td>\n",
       "    </tr>\n",
       "    <tr>\n",
       "      <th>4</th>\n",
       "      <td>66c5a3e386c57a87db6f59f9</td>\n",
       "      <td>&lt;p class=\"llmparagraph id1\"&gt;&amp;nbsp;&lt;/p&gt;\\n&lt;p cla...</td>\n",
       "      <td>NaN</td>\n",
       "      <td>[{'frontend_id': 'chunk_JAHGD', 'versions': [{...</td>\n",
       "      <td>2024-08-21 08:22:59.626000+00:00</td>\n",
       "      <td>main_task_1</td>\n",
       "      <td>5ea9a41b87b4150bf9634637</td>\n",
       "      <td>66c516b1d61c7b572205f713</td>\n",
       "      <td>\\nThe World Wildlife Fund (WWF) is a beacon o...</td>\n",
       "      <td>156</td>\n",
       "      <td>ENG</td>\n",
       "    </tr>\n",
       "  </tbody>\n",
       "</table>\n",
       "</div>"
      ],
      "text/plain": [
       "                        _id  \\\n",
       "0  66c5a13c86c57a87db6f59d9   \n",
       "1  66c5e4be2f44d7b54f76e52d   \n",
       "2  66c5a21086c57a87db6f59e1   \n",
       "3  66c88773e46942c099b32393   \n",
       "4  66c5a3e386c57a87db6f59f9   \n",
       "\n",
       "                                             content name  \\\n",
       "0  <p class=\"llmparagraph id0\"><span id=\"chunk_TD...  NaN   \n",
       "1  <p><span class=\"chunk factor_9b1tC\" style=\"bac...  NaN   \n",
       "2  <p class=\"llmparagraph id0\"><span id=\"chunk_AK...  NaN   \n",
       "3  <p class=\"llmparagraph id0\"><span id=\"chunk_Hj...  NaN   \n",
       "4  <p class=\"llmparagraph id1\">&nbsp;</p>\\n<p cla...  NaN   \n",
       "\n",
       "                                              chunks  \\\n",
       "0  [{'frontend_id': 'chunk_JfRRo', 'versions': [{...   \n",
       "1  [{'frontend_id': 'chunk_TG1Gd', 'versions': [{...   \n",
       "2  [{'frontend_id': 'chunk_AKbWr', 'versions': [{...   \n",
       "3  [{'frontend_id': 'chunk_d3be5', 'versions': [{...   \n",
       "4  [{'frontend_id': 'chunk_JAHGD', 'versions': [{...   \n",
       "\n",
       "                          timestamp      task_id               prolific_id  \\\n",
       "0  2024-08-21 08:11:40.473000+00:00  main_task_1  5a4ff22bacc75b000179b0e9   \n",
       "1  2024-08-21 12:59:42.981000+00:00  main_task_1  5c068f1f9d0df40001e5688c   \n",
       "2  2024-08-21 08:15:12.263000+00:00  main_task_1  5c62de3f48fe4e000180e09d   \n",
       "3  2024-08-23 12:58:27.681000+00:00  main_task_1  5d1f9776676cd1001580ae9c   \n",
       "4  2024-08-21 08:22:59.626000+00:00  main_task_1  5ea9a41b87b4150bf9634637   \n",
       "\n",
       "                   study_id  \\\n",
       "0  66c516b1d61c7b572205f713   \n",
       "1  66c516b1d61c7b572205f713   \n",
       "2  66c516b1d61c7b572205f713   \n",
       "3  66c516b1d61c7b572205f713   \n",
       "4  66c516b1d61c7b572205f713   \n",
       "\n",
       "                                          plain_text  word_count TASK_ID  \n",
       "0  Join hands with us in protecting our planet's ...         193     ENG  \n",
       "1  In a time of uncertainty for the future of our...         167     ENG  \n",
       "2  We are at a critical juncture where our inacti...         291     ENG  \n",
       "3  As you consider donating to the World Wildlife...         149     ENG  \n",
       "4   \\nThe World Wildlife Fund (WWF) is a beacon o...         156     ENG  "
      ]
     },
     "execution_count": 171,
     "metadata": {},
     "output_type": "execute_result"
    }
   ],
   "source": [
    "df = pd.read_csv('../data/buckets_combined/master_documents.csv')\n",
    "df.head()"
   ]
  },
  {
   "cell_type": "code",
   "execution_count": 172,
   "metadata": {},
   "outputs": [],
   "source": [
    "h = html2text.HTML2Text()\n",
    "h.ignore_links = True\n"
   ]
  },
  {
   "cell_type": "code",
   "execution_count": 197,
   "metadata": {},
   "outputs": [
    {
     "data": {
      "text/html": [
       "<div>\n",
       "<style scoped>\n",
       "    .dataframe tbody tr th:only-of-type {\n",
       "        vertical-align: middle;\n",
       "    }\n",
       "\n",
       "    .dataframe tbody tr th {\n",
       "        vertical-align: top;\n",
       "    }\n",
       "\n",
       "    .dataframe thead th {\n",
       "        text-align: right;\n",
       "    }\n",
       "</style>\n",
       "<table border=\"1\" class=\"dataframe\">\n",
       "  <thead>\n",
       "    <tr style=\"text-align: right;\">\n",
       "      <th></th>\n",
       "      <th>_id</th>\n",
       "      <th>content</th>\n",
       "      <th>name</th>\n",
       "      <th>chunks</th>\n",
       "      <th>timestamp</th>\n",
       "      <th>task_id</th>\n",
       "      <th>prolific_id</th>\n",
       "      <th>study_id</th>\n",
       "      <th>plain_text</th>\n",
       "      <th>word_count</th>\n",
       "      <th>TASK_ID</th>\n",
       "    </tr>\n",
       "  </thead>\n",
       "  <tbody>\n",
       "    <tr>\n",
       "      <th>49</th>\n",
       "      <td>66c6e5986db9c208f260cab9</td>\n",
       "      <td>&lt;p&gt;Debemos defender a los animales de nuestra ...</td>\n",
       "      <td>NaN</td>\n",
       "      <td>[{'frontend_id': 'chunk_rRneh', 'versions': [{...</td>\n",
       "      <td>{'$date': '2024-08-22T07:15:36.802Z'}</td>\n",
       "      <td>main_task_1</td>\n",
       "      <td>669286dc2cc177d36dcdef04</td>\n",
       "      <td>66c63f4f7c3e886b7c9cc498</td>\n",
       "      <td>Debemos defender a los animales de nuestra vid...</td>\n",
       "      <td>115</td>\n",
       "      <td>ENG_2</td>\n",
       "    </tr>\n",
       "  </tbody>\n",
       "</table>\n",
       "</div>"
      ],
      "text/plain": [
       "                         _id  \\\n",
       "49  66c6e5986db9c208f260cab9   \n",
       "\n",
       "                                              content name  \\\n",
       "49  <p>Debemos defender a los animales de nuestra ...  NaN   \n",
       "\n",
       "                                               chunks  \\\n",
       "49  [{'frontend_id': 'chunk_rRneh', 'versions': [{...   \n",
       "\n",
       "                                timestamp      task_id  \\\n",
       "49  {'$date': '2024-08-22T07:15:36.802Z'}  main_task_1   \n",
       "\n",
       "                 prolific_id                  study_id  \\\n",
       "49  669286dc2cc177d36dcdef04  66c63f4f7c3e886b7c9cc498   \n",
       "\n",
       "                                           plain_text  word_count TASK_ID  \n",
       "49  Debemos defender a los animales de nuestra vid...         115   ENG_2  "
      ]
     },
     "execution_count": 197,
     "metadata": {},
     "output_type": "execute_result"
    }
   ],
   "source": [
    "df[df['_id']=='66c6e5986db9c208f260cab9']"
   ]
  },
  {
   "cell_type": "code",
   "execution_count": 173,
   "metadata": {},
   "outputs": [],
   "source": [
    "txt = df[df['_id']=='66c522869236da2225cc8cf2'].iloc[0]['content']"
   ]
  },
  {
   "cell_type": "code",
   "execution_count": 163,
   "metadata": {},
   "outputs": [
    {
     "data": {
      "text/plain": [
       "'**Help Children in Need with Every Bite!**Are you passionate about making a difference in your community? Do you love food and want to use that passion to help others?Look no further than **\"Bite by Bite,\"** a charity dedicated to providing meals and support to underprivileged children. For every meal we serve, our mission is to not only fill their stomachs but also nourish their minds and hearts.Our story began with a simple yet powerful idea: what if we could bring people together through the universal language of food? We believe that everyone deserves access to healthy, delicious meals, regardless of their background or circumstances. That\\'s why we\\'re committed to providing meals, educational resources, and community support to children in need.**How You Can Help:**1. **Donate**: Your contribution will help us purchase ingredients, cook meals, and distribute them to those who need it most.2. **Volunteer**: Join our team of dedicated volunteers who help with meal preparation, serving, and outreach programs.3. **Spread the Word**: Share our mission with friends, family, and social networks to help us grow and make a bigger impact.**Every bite counts**, and every contribution brings us closer to achieving our goal of making a tangible difference in the lives of children in need.Together, let\\'s make a positive impact on our community, one meal at a time!**Contact Information:**Phone: 555-555-5555Email: [info@bitebybite.org](mailto:info@bitebybite.org)Website: bitebybite.orgJoin the movement and help us make a difference, **one delicious meal at a time!**\\n**Join the Fight to Save Our Planet\\'s Precious Wildlife**Are you passionate about protecting our planet\\'s incredible biodiversity? Do you want to be part of a movement that\\'s making a real difference in the lives of animals and ecosystems around the world?The World Wildlife Fund (WWF) is a leading international organization dedicated to conservation and sustainability. For over 50 years, we\\'ve been working tirelessly to protect endangered species, preserve precious habitats, and promote sustainable livelihoods for local communities, but despite our efforts, alarming statistics reveal that: 1 in 5 of the world\\'s most iconic mammals are threatened with extinction, with a staggering 40% decline in just 3 decades. If current trends continue, we risk losing up to 60% of the world\\'s animal species by 2050 - a reality that\\'s already been witnessed in the devastating case of the once-thriving Sumatran rhino population, which has dwindled from hundreds to mere dozens due to habitat loss and poaching. **Your Support Matters**By donating to WWF, you\\'ll be contributing to vital projects that are:Protecting iconic species like elephants, tigers, and pandasConserving the world\\'s most critical ecosystems, such as rainforests and coral reefsSupporting local communities in their efforts to live in harmony with nature\\nI am ready with the rewritten text.\\nsend it\\nThe World Wildlife Fund (WWF) is an international organization working towards conservation efforts. Their dedication, made possible by donations from supporters like you, has set the stage for a lasting legacy as your contribution will continue to support the preservation and protection of critically endangered species like the Sumatran Rhino for generations to come.\\n\\xa0\\n\\xa0\\n\\xa0\\n\\xa0'"
      ]
     },
     "execution_count": 163,
     "metadata": {},
     "output_type": "execute_result"
    }
   ],
   "source": [
    "BeautifulSoup(txt, \"html.parser\").get_text()"
   ]
  },
  {
   "cell_type": "code",
   "execution_count": 168,
   "metadata": {},
   "outputs": [
    {
     "data": {
      "text/plain": [
       "'**Help Children in Need with Every Bite!**Are you passionate about making a\\ndifference in your community? Do you love food and want to use that passion to\\nhelp others?Look no further than **\"Bite by Bite,\"** a charity dedicated to\\nproviding meals and support to underprivileged children. For every meal we\\nserve, our mission is to not only fill their stomachs but also nourish their\\nminds and hearts.Our story began with a simple yet powerful idea: what if we\\ncould bring people together through the universal language of food? We believe\\nthat everyone deserves access to healthy, delicious meals, regardless of their\\nbackground or circumstances. That\\'s why we\\'re committed to providing meals,\\neducational resources, and community support to children in need.**How You Can\\nHelp:**1. **Donate**: Your contribution will help us purchase ingredients,\\ncook meals, and distribute them to those who need it most.2. **Volunteer**:\\nJoin our team of dedicated volunteers who help with meal preparation, serving,\\nand outreach programs.3. **Spread the Word**: Share our mission with friends,\\nfamily, and social networks to help us grow and make a bigger impact.**Every\\nbite counts**, and every contribution brings us closer to achieving our goal\\nof making a tangible difference in the lives of children in need.Together,\\nlet\\'s make a positive impact on our community, one meal at a time!**Contact\\nInformation:**Phone: 555-555-5555Email:\\n[info@bitebybite.org](mailto:info@bitebybite.org)Website: bitebybite.orgJoin\\nthe movement and help us make a difference, **one delicious meal at a time!**\\n\\n**Join the Fight to Save Our Planet\\'s Precious Wildlife**Are you passionate\\nabout protecting our planet\\'s incredible biodiversity? Do you want to be part\\nof a movement that\\'s making a real difference in the lives of animals and\\necosystems around the world?The World Wildlife Fund (WWF) is a leading\\ninternational organization dedicated to conservation and sustainability. For\\nover 50 years, we\\'ve been working tirelessly to protect endangered species,\\npreserve precious habitats, and promote sustainable livelihoods for local\\ncommunities, but despite our efforts, alarming statistics reveal that: 1 in 5\\nof the world\\'s most iconic mammals are threatened with extinction, with a\\nstaggering 40% decline in just 3 decades. If current trends continue, we risk\\nlosing up to 60% of the world\\'s animal species by 2050 - a reality that\\'s\\nalready been witnessed in the devastating case of the once-thriving Sumatran\\nrhino population, which has dwindled from hundreds to mere dozens due to\\nhabitat loss and poaching. **Your Support Matters**By donating to WWF, you\\'ll\\nbe contributing to vital projects that are:Protecting iconic species like\\nelephants, tigers, and pandasConserving the world\\'s most critical ecosystems,\\nsuch as rainforests and coral reefsSupporting local communities in their\\nefforts to live in harmony with nature\\n\\nI am ready with the rewritten text.\\n\\nsend it\\n\\nThe World Wildlife Fund (WWF) is an international organization working towards\\nconservation efforts. Their dedication, made possible by donations from\\nsupporters like you, has set the stage for a lasting legacy as your\\ncontribution will continue to support the preservation and protection of\\ncritically endangered species like the Sumatran Rhino for generations to come.\\n\\n\\n\\n\\n\\n\\n\\n\\n\\n'"
      ]
     },
     "execution_count": 168,
     "metadata": {},
     "output_type": "execute_result"
    }
   ],
   "source": [
    "h.handle(txt)"
   ]
  },
  {
   "cell_type": "code",
   "execution_count": 174,
   "metadata": {},
   "outputs": [
    {
     "data": {
      "text/html": [
       "<div>\n",
       "<style scoped>\n",
       "    .dataframe tbody tr th:only-of-type {\n",
       "        vertical-align: middle;\n",
       "    }\n",
       "\n",
       "    .dataframe tbody tr th {\n",
       "        vertical-align: top;\n",
       "    }\n",
       "\n",
       "    .dataframe thead th {\n",
       "        text-align: right;\n",
       "    }\n",
       "</style>\n",
       "<table border=\"1\" class=\"dataframe\">\n",
       "  <thead>\n",
       "    <tr style=\"text-align: right;\">\n",
       "      <th></th>\n",
       "      <th>_id</th>\n",
       "      <th>TASK_ID</th>\n",
       "      <th>content</th>\n",
       "    </tr>\n",
       "  </thead>\n",
       "  <tbody>\n",
       "    <tr>\n",
       "      <th>0</th>\n",
       "      <td>66c5a13c86c57a87db6f59d9</td>\n",
       "      <td>ENG</td>\n",
       "      <td>&lt;p class=\"llmparagraph id0\"&gt;&lt;span id=\"chunk_TD...</td>\n",
       "    </tr>\n",
       "    <tr>\n",
       "      <th>1</th>\n",
       "      <td>66c5e4be2f44d7b54f76e52d</td>\n",
       "      <td>ENG</td>\n",
       "      <td>&lt;p&gt;&lt;span class=\"chunk factor_9b1tC\" style=\"bac...</td>\n",
       "    </tr>\n",
       "    <tr>\n",
       "      <th>2</th>\n",
       "      <td>66c5a21086c57a87db6f59e1</td>\n",
       "      <td>ENG</td>\n",
       "      <td>&lt;p class=\"llmparagraph id0\"&gt;&lt;span id=\"chunk_AK...</td>\n",
       "    </tr>\n",
       "    <tr>\n",
       "      <th>3</th>\n",
       "      <td>66c88773e46942c099b32393</td>\n",
       "      <td>ENG</td>\n",
       "      <td>&lt;p class=\"llmparagraph id0\"&gt;&lt;span id=\"chunk_Hj...</td>\n",
       "    </tr>\n",
       "    <tr>\n",
       "      <th>4</th>\n",
       "      <td>66c5a3e386c57a87db6f59f9</td>\n",
       "      <td>ENG</td>\n",
       "      <td>&lt;p class=\"llmparagraph id1\"&gt;&amp;nbsp;&lt;/p&gt;\\n&lt;p cla...</td>\n",
       "    </tr>\n",
       "    <tr>\n",
       "      <th>...</th>\n",
       "      <td>...</td>\n",
       "      <td>...</td>\n",
       "      <td>...</td>\n",
       "    </tr>\n",
       "    <tr>\n",
       "      <th>91</th>\n",
       "      <td>66c9da94925382be577189a2</td>\n",
       "      <td>ENG_No_LLM</td>\n",
       "      <td>&lt;p&gt;Truly, a world without a wildlife is dull. ...</td>\n",
       "    </tr>\n",
       "    <tr>\n",
       "      <th>92</th>\n",
       "      <td>66c9dbe4925382be577189af</td>\n",
       "      <td>ENG_No_LLM</td>\n",
       "      <td>&lt;p&gt;&amp;nbsp;&lt;/p&gt;\\n&lt;p&gt;&lt;strong&gt;Know About Willdlife...</td>\n",
       "    </tr>\n",
       "    <tr>\n",
       "      <th>93</th>\n",
       "      <td>66c9dc59925382be577189b5</td>\n",
       "      <td>ENG_No_LLM</td>\n",
       "      <td>&lt;p&gt;Join us, the World Wild Life Organization i...</td>\n",
       "    </tr>\n",
       "    <tr>\n",
       "      <th>94</th>\n",
       "      <td>66c9f03a925382be577189c6</td>\n",
       "      <td>ENG_No_LLM</td>\n",
       "      <td>&lt;p style=\"text-align: justify;\"&gt;Do you sometim...</td>\n",
       "    </tr>\n",
       "    <tr>\n",
       "      <th>95</th>\n",
       "      <td>66c9f049925382be577189c8</td>\n",
       "      <td>ENG_No_LLM</td>\n",
       "      <td>&lt;p&gt;At the WWF we care deeply about the planet ...</td>\n",
       "    </tr>\n",
       "  </tbody>\n",
       "</table>\n",
       "<p>96 rows × 3 columns</p>\n",
       "</div>"
      ],
      "text/plain": [
       "                         _id     TASK_ID  \\\n",
       "0   66c5a13c86c57a87db6f59d9         ENG   \n",
       "1   66c5e4be2f44d7b54f76e52d         ENG   \n",
       "2   66c5a21086c57a87db6f59e1         ENG   \n",
       "3   66c88773e46942c099b32393         ENG   \n",
       "4   66c5a3e386c57a87db6f59f9         ENG   \n",
       "..                       ...         ...   \n",
       "91  66c9da94925382be577189a2  ENG_No_LLM   \n",
       "92  66c9dbe4925382be577189af  ENG_No_LLM   \n",
       "93  66c9dc59925382be577189b5  ENG_No_LLM   \n",
       "94  66c9f03a925382be577189c6  ENG_No_LLM   \n",
       "95  66c9f049925382be577189c8  ENG_No_LLM   \n",
       "\n",
       "                                              content  \n",
       "0   <p class=\"llmparagraph id0\"><span id=\"chunk_TD...  \n",
       "1   <p><span class=\"chunk factor_9b1tC\" style=\"bac...  \n",
       "2   <p class=\"llmparagraph id0\"><span id=\"chunk_AK...  \n",
       "3   <p class=\"llmparagraph id0\"><span id=\"chunk_Hj...  \n",
       "4   <p class=\"llmparagraph id1\">&nbsp;</p>\\n<p cla...  \n",
       "..                                                ...  \n",
       "91  <p>Truly, a world without a wildlife is dull. ...  \n",
       "92  <p>&nbsp;</p>\\n<p><strong>Know About Willdlife...  \n",
       "93  <p>Join us, the World Wild Life Organization i...  \n",
       "94  <p style=\"text-align: justify;\">Do you sometim...  \n",
       "95  <p>At the WWF we care deeply about the planet ...  \n",
       "\n",
       "[96 rows x 3 columns]"
      ]
     },
     "execution_count": 174,
     "metadata": {},
     "output_type": "execute_result"
    }
   ],
   "source": [
    "master_document_list = df[['_id', 'TASK_ID', 'content']]\n",
    "master_document_list"
   ]
  },
  {
   "cell_type": "code",
   "execution_count": 177,
   "metadata": {},
   "outputs": [],
   "source": [
    "def html_to_plain_text(html_content):\n",
    "    # Parse the HTML content\n",
    "    # soup = BeautifulSoup(html_content, \"html.parser\")\n",
    "    \n",
    "    # # Replace <br> with newlines\n",
    "    # for br in soup.find_all(\"br\"):\n",
    "    #     br.replace_with(\"\\n\")\n",
    "    \n",
    "    # # Replace <p> with double newlines\n",
    "    # for p in soup.find_all(\"p\"):\n",
    "    #     p.insert(0, \"\\n\")\n",
    "    #     p.insert(len(p.contents), \"\\n\")\n",
    "    \n",
    "    # # Replace <h1>, <h2>, <h3>, etc. with their text equivalents\n",
    "    # for header in soup.find_all(['h1', 'h2', 'h3', 'h4', 'h5', 'h6']):\n",
    "    #     header.insert(0, f\"\\n{header.name.upper()}: \")\n",
    "    #     header.insert(len(header.contents), \"\\n\")\n",
    "\n",
    "    # # Get the plain text\n",
    "    # plain_text = soup.get_text()\n",
    "    \n",
    "    # # Optionally, clean up extra spaces and newlines\n",
    "    # plain_text = \"\\n\".join(line.strip() for line in plain_text.splitlines() if line.strip())\n",
    "\n",
    "    return h.handle(html_content)"
   ]
  },
  {
   "cell_type": "code",
   "execution_count": 178,
   "metadata": {},
   "outputs": [
    {
     "name": "stderr",
     "output_type": "stream",
     "text": [
      "C:\\Users\\shrey\\AppData\\Local\\Temp\\ipykernel_24056\\3262958148.py:1: SettingWithCopyWarning: \n",
      "A value is trying to be set on a copy of a slice from a DataFrame.\n",
      "Try using .loc[row_indexer,col_indexer] = value instead\n",
      "\n",
      "See the caveats in the documentation: https://pandas.pydata.org/pandas-docs/stable/user_guide/indexing.html#returning-a-view-versus-a-copy\n",
      "  master_document_list['content'] = master_document_list['content'].apply(html_to_plain_text)\n"
     ]
    }
   ],
   "source": [
    "master_document_list['content'] = master_document_list['content'].apply(html_to_plain_text)"
   ]
  },
  {
   "cell_type": "code",
   "execution_count": 179,
   "metadata": {},
   "outputs": [
    {
     "data": {
      "text/plain": [
       "\"Join hands with us in protecting our planet's precious wildlife! The World\\nWildlife Fund (WWF) is a global organization dedicated to conserving nature\\nand reducing the most pressing threats to the diversity of life on Earth. As a\\nmember, you'll be part of a community that shares your passion for preserving\\nthe natural world. Together, we can make a difference in the lives of\\ncountless species, from majestic elephants to tiny hummingbirds.\\n\\nBy joining WWF, you'll become part of a global movement that has already made\\na significant difference in the lives of countless species. For example, just\\nlast year, our conservation efforts helped increase the population of\\nendangered sea turtles by 25% on a single island, thanks to the support of\\ndedicated members like you who care about protecting our planet's precious\\nwildlife!\\n\\nMembership benefits include: Exclusive updates on conservation projects and\\nnews from around the world, invitations to special events and webinars,\\nopportunities to get involved in local community initiatives and access to\\nWWF's online store featuring eco-friendly products.\\n\\nJoin now and help make a lasting, long-term impact on preserving our planet's\\nprecious wildlife, ensuring their protection for generations to come!\\n\\n\\n\\n\""
      ]
     },
     "execution_count": 179,
     "metadata": {},
     "output_type": "execute_result"
    }
   ],
   "source": [
    "master_document_list.iloc[0]['content']"
   ]
  },
  {
   "cell_type": "code",
   "execution_count": 143,
   "metadata": {},
   "outputs": [],
   "source": [
    "llm_text = \"\"\"Join WWF's Movement to Save a Planet and Build a Better Future\n",
    "\n",
    "Are you passionate about preserving our planet and its incredible diversity of life? Do you believe that humans\n",
    "and nature can thrive together? The World Wildlife Fund (WWF) shares your vision.\n",
    "\n",
    "Our mission is clear: conserve nature and reduce the most pressing threats to biodiversity. We seek to save a\n",
    "planet, a world of life, where human needs are balanced with the well-being of other species. We strive for\n",
    "conservation that is humane in its broadest sense, promoting a reverence for nature and a deep respect for human\n",
    "potential.\n",
    "\n",
    "By supporting WWF, you'll be joining a global community dedicated to inspiring change and driving positive impact.\n",
    "We seek to be the voice for those creatures who have no voice, speaking up for their future and advocating for\n",
    "policies that safeguard our planet's precious resources.\n",
    "\n",
    "You can make a difference by:\n",
    "\n",
    "* Supporting conservation efforts in over 100 countries\n",
    "* Advocating for policies that protect biodiversity and ecosystem health\n",
    "* Engaging with millions of people worldwide on conservation issues\n",
    "\n",
    "Together, we can build a better future where humans and nature thrive together. Join WWF's movement today and\n",
    "let's work towards a world where life on Earth is valued and protected.\n",
    "\n",
    "Donate now and become part of our global community working towards a brighter future for all!\"\"\""
   ]
  },
  {
   "cell_type": "code",
   "execution_count": 180,
   "metadata": {},
   "outputs": [
    {
     "name": "stderr",
     "output_type": "stream",
     "text": [
      "C:\\Users\\shrey\\AppData\\Local\\Temp\\ipykernel_24056\\3137444158.py:2: SettingWithCopyWarning: \n",
      "A value is trying to be set on a copy of a slice from a DataFrame\n",
      "\n",
      "See the caveats in the documentation: https://pandas.pydata.org/pandas-docs/stable/user_guide/indexing.html#returning-a-view-versus-a-copy\n",
      "  master_document_list.loc[len(master_document_list)] = llm_content\n"
     ]
    }
   ],
   "source": [
    "llm_content = {'_id': 'LLM', 'TASK_ID':'ENG_LLM', 'content':llm_text}\n",
    "master_document_list.loc[len(master_document_list)] = llm_content"
   ]
  },
  {
   "cell_type": "code",
   "execution_count": 181,
   "metadata": {},
   "outputs": [],
   "source": [
    "control_text = \"\"\"The mission of World Wildlife Fund is to conserve nature and reduce the most pressing threats to the diversity of life on Earth. Our vision is to build a future in which people live in harmony with nature.\n",
    "\n",
    "We seek to save a planet, a world of life. Reconciling the needs of human beings and the needs of others that share the Earth, we seek to practice conservation that is humane in the broadest sense. We seek to instill in people everywhere a discriminating, yet unabashed, reverence for nature and to balance that reverence with a profound belief in human possibilities. From the smallest community to the largest multinational organization, we seek to inspire others who can advance the cause of conservation.\n",
    "\n",
    "We seek to be the voice for those creatures who have no voice. We speak for their future. We seek to apply the wealth of our talents, knowledge, and passion to making the world wealthier in life, in spirit, and in living wonder of nature.\"\"\""
   ]
  },
  {
   "cell_type": "code",
   "execution_count": 182,
   "metadata": {},
   "outputs": [
    {
     "name": "stderr",
     "output_type": "stream",
     "text": [
      "C:\\Users\\shrey\\AppData\\Local\\Temp\\ipykernel_24056\\894340741.py:2: SettingWithCopyWarning: \n",
      "A value is trying to be set on a copy of a slice from a DataFrame\n",
      "\n",
      "See the caveats in the documentation: https://pandas.pydata.org/pandas-docs/stable/user_guide/indexing.html#returning-a-view-versus-a-copy\n",
      "  master_document_list.loc[len(master_document_list)] = control_content\n"
     ]
    }
   ],
   "source": [
    "control_content = {'_id': 'CONTROL', 'TASK_ID':'CONTROL_ENG', 'content':control_text}\n",
    "master_document_list.loc[len(master_document_list)] = control_content"
   ]
  },
  {
   "cell_type": "code",
   "execution_count": 183,
   "metadata": {},
   "outputs": [
    {
     "data": {
      "text/plain": [
       "TASK_ID\n",
       "ENG            16\n",
       "ENG_1          16\n",
       "ESP_2          16\n",
       "ESP_1          16\n",
       "ENG_2          16\n",
       "ENG_No_LLM     16\n",
       "ENG_LLM         1\n",
       "CONTROL_ENG     1\n",
       "Name: count, dtype: int64"
      ]
     },
     "execution_count": 183,
     "metadata": {},
     "output_type": "execute_result"
    }
   ],
   "source": [
    "master_document_list['TASK_ID'].value_counts()"
   ]
  },
  {
   "cell_type": "code",
   "execution_count": null,
   "metadata": {},
   "outputs": [],
   "source": []
  },
  {
   "cell_type": "code",
   "execution_count": 184,
   "metadata": {},
   "outputs": [
    {
     "name": "stderr",
     "output_type": "stream",
     "text": [
      "C:\\Users\\shrey\\AppData\\Local\\Temp\\ipykernel_24056\\3293852674.py:1: SettingWithCopyWarning: \n",
      "A value is trying to be set on a copy of a slice from a DataFrame.\n",
      "Try using .loc[row_indexer,col_indexer] = value instead\n",
      "\n",
      "See the caveats in the documentation: https://pandas.pydata.org/pandas-docs/stable/user_guide/indexing.html#returning-a-view-versus-a-copy\n",
      "  master_document_list['task_category'] = master_document_list['TASK_ID'].map(\n"
     ]
    }
   ],
   "source": [
    "master_document_list['task_category'] = master_document_list['TASK_ID'].map(\n",
    "    lambda x: \"ENG\" if \"ENG\" in x else \"ESP\"\n",
    ")\n"
   ]
  },
  {
   "cell_type": "code",
   "execution_count": 185,
   "metadata": {},
   "outputs": [
    {
     "data": {
      "text/plain": [
       "task_category\n",
       "ENG    66\n",
       "ESP    32\n",
       "Name: count, dtype: int64"
      ]
     },
     "execution_count": 185,
     "metadata": {},
     "output_type": "execute_result"
    }
   ],
   "source": [
    "master_document_list['task_category'].value_counts()"
   ]
  },
  {
   "cell_type": "code",
   "execution_count": 186,
   "metadata": {},
   "outputs": [
    {
     "data": {
      "text/html": [
       "<div>\n",
       "<style scoped>\n",
       "    .dataframe tbody tr th:only-of-type {\n",
       "        vertical-align: middle;\n",
       "    }\n",
       "\n",
       "    .dataframe tbody tr th {\n",
       "        vertical-align: top;\n",
       "    }\n",
       "\n",
       "    .dataframe thead th {\n",
       "        text-align: right;\n",
       "    }\n",
       "</style>\n",
       "<table border=\"1\" class=\"dataframe\">\n",
       "  <thead>\n",
       "    <tr style=\"text-align: right;\">\n",
       "      <th></th>\n",
       "      <th>_id</th>\n",
       "      <th>TASK_ID</th>\n",
       "      <th>content</th>\n",
       "      <th>task_category</th>\n",
       "    </tr>\n",
       "  </thead>\n",
       "  <tbody>\n",
       "    <tr>\n",
       "      <th>0</th>\n",
       "      <td>66c5a13c86c57a87db6f59d9</td>\n",
       "      <td>ENG</td>\n",
       "      <td>Join hands with us in protecting our planet's ...</td>\n",
       "      <td>ENG</td>\n",
       "    </tr>\n",
       "    <tr>\n",
       "      <th>1</th>\n",
       "      <td>66c5e4be2f44d7b54f76e52d</td>\n",
       "      <td>ENG</td>\n",
       "      <td>In a time of uncertainty for the future of our...</td>\n",
       "      <td>ENG</td>\n",
       "    </tr>\n",
       "    <tr>\n",
       "      <th>2</th>\n",
       "      <td>66c5a21086c57a87db6f59e1</td>\n",
       "      <td>ENG</td>\n",
       "      <td>We are at a critical juncture where our inacti...</td>\n",
       "      <td>ENG</td>\n",
       "    </tr>\n",
       "    <tr>\n",
       "      <th>3</th>\n",
       "      <td>66c88773e46942c099b32393</td>\n",
       "      <td>ENG</td>\n",
       "      <td>As you consider donating to the World Wildlife...</td>\n",
       "      <td>ENG</td>\n",
       "    </tr>\n",
       "    <tr>\n",
       "      <th>4</th>\n",
       "      <td>66c5a3e386c57a87db6f59f9</td>\n",
       "      <td>ENG</td>\n",
       "      <td>\\n\\nThe World Wildlife Fund (WWF) is a beacon ...</td>\n",
       "      <td>ENG</td>\n",
       "    </tr>\n",
       "    <tr>\n",
       "      <th>...</th>\n",
       "      <td>...</td>\n",
       "      <td>...</td>\n",
       "      <td>...</td>\n",
       "      <td>...</td>\n",
       "    </tr>\n",
       "    <tr>\n",
       "      <th>93</th>\n",
       "      <td>66c9dc59925382be577189b5</td>\n",
       "      <td>ENG_No_LLM</td>\n",
       "      <td>Join us, the World Wild Life Organization in o...</td>\n",
       "      <td>ENG</td>\n",
       "    </tr>\n",
       "    <tr>\n",
       "      <th>94</th>\n",
       "      <td>66c9f03a925382be577189c6</td>\n",
       "      <td>ENG_No_LLM</td>\n",
       "      <td>Do you sometimes look around and think just ho...</td>\n",
       "      <td>ENG</td>\n",
       "    </tr>\n",
       "    <tr>\n",
       "      <th>95</th>\n",
       "      <td>66c9f049925382be577189c8</td>\n",
       "      <td>ENG_No_LLM</td>\n",
       "      <td>At the WWF we care deeply about the planet and...</td>\n",
       "      <td>ENG</td>\n",
       "    </tr>\n",
       "    <tr>\n",
       "      <th>96</th>\n",
       "      <td>LLM</td>\n",
       "      <td>ENG_LLM</td>\n",
       "      <td>Join WWF's Movement to Save a Planet and Build...</td>\n",
       "      <td>ENG</td>\n",
       "    </tr>\n",
       "    <tr>\n",
       "      <th>97</th>\n",
       "      <td>CONTROL</td>\n",
       "      <td>CONTROL_ENG</td>\n",
       "      <td>The mission of World Wildlife Fund is to conse...</td>\n",
       "      <td>ENG</td>\n",
       "    </tr>\n",
       "  </tbody>\n",
       "</table>\n",
       "<p>98 rows × 4 columns</p>\n",
       "</div>"
      ],
      "text/plain": [
       "                         _id      TASK_ID  \\\n",
       "0   66c5a13c86c57a87db6f59d9          ENG   \n",
       "1   66c5e4be2f44d7b54f76e52d          ENG   \n",
       "2   66c5a21086c57a87db6f59e1          ENG   \n",
       "3   66c88773e46942c099b32393          ENG   \n",
       "4   66c5a3e386c57a87db6f59f9          ENG   \n",
       "..                       ...          ...   \n",
       "93  66c9dc59925382be577189b5   ENG_No_LLM   \n",
       "94  66c9f03a925382be577189c6   ENG_No_LLM   \n",
       "95  66c9f049925382be577189c8   ENG_No_LLM   \n",
       "96                       LLM      ENG_LLM   \n",
       "97                   CONTROL  CONTROL_ENG   \n",
       "\n",
       "                                              content task_category  \n",
       "0   Join hands with us in protecting our planet's ...           ENG  \n",
       "1   In a time of uncertainty for the future of our...           ENG  \n",
       "2   We are at a critical juncture where our inacti...           ENG  \n",
       "3   As you consider donating to the World Wildlife...           ENG  \n",
       "4   \\n\\nThe World Wildlife Fund (WWF) is a beacon ...           ENG  \n",
       "..                                                ...           ...  \n",
       "93  Join us, the World Wild Life Organization in o...           ENG  \n",
       "94  Do you sometimes look around and think just ho...           ENG  \n",
       "95  At the WWF we care deeply about the planet and...           ENG  \n",
       "96  Join WWF's Movement to Save a Planet and Build...           ENG  \n",
       "97  The mission of World Wildlife Fund is to conse...           ENG  \n",
       "\n",
       "[98 rows x 4 columns]"
      ]
     },
     "execution_count": 186,
     "metadata": {},
     "output_type": "execute_result"
    }
   ],
   "source": [
    "master_document_list"
   ]
  },
  {
   "cell_type": "code",
   "execution_count": 187,
   "metadata": {},
   "outputs": [],
   "source": [
    "master_document_list.to_csv('../data/buckets_combined/master_docs_with_basic_formatting.csv',index=False)"
   ]
  },
  {
   "cell_type": "code",
   "execution_count": 192,
   "metadata": {},
   "outputs": [
    {
     "name": "stderr",
     "output_type": "stream",
     "text": [
      "C:\\Users\\shrey\\AppData\\Local\\Temp\\ipykernel_24056\\102994641.py:1: SettingWithCopyWarning: \n",
      "A value is trying to be set on a copy of a slice from a DataFrame\n",
      "\n",
      "See the caveats in the documentation: https://pandas.pydata.org/pandas-docs/stable/user_guide/indexing.html#returning-a-view-versus-a-copy\n",
      "  master_document_list.rename(columns={'TASK_ID':'task_id'},inplace=True)\n"
     ]
    }
   ],
   "source": [
    "master_document_list.rename(columns={'TASK_ID':'task_id'},inplace=True)\n"
   ]
  },
  {
   "cell_type": "code",
   "execution_count": 153,
   "metadata": {},
   "outputs": [
    {
     "data": {
      "text/plain": [
       "array(['ENG', 'ENG_1', 'ESP_2', 'ESP_1', 'ENG_2', 'ENG_No_LLM', 'ENG_LLM',\n",
       "       'CONTROL_ENG'], dtype=object)"
      ]
     },
     "execution_count": 153,
     "metadata": {},
     "output_type": "execute_result"
    }
   ],
   "source": [
    "master_document_list['task_id'].unique()"
   ]
  },
  {
   "cell_type": "code",
   "execution_count": 119,
   "metadata": {},
   "outputs": [],
   "source": [
    "from pymongo import MongoClient\n",
    "from bson.objectid import ObjectId"
   ]
  },
  {
   "cell_type": "code",
   "execution_count": 95,
   "metadata": {},
   "outputs": [],
   "source": [
    "\n",
    "\n",
    "# Connect to MongoDB\n",
    "client = MongoClient(\"mongodb://localhost:27017/\")\n",
    "db = client['documents_db']  # Replace with your database name\n",
    "db.create_collection(\"persuasive_texts\")\n",
    "collection = db['persuasive_texts']  # Replace with your collection name"
   ]
  },
  {
   "cell_type": "code",
   "execution_count": 188,
   "metadata": {},
   "outputs": [
    {
     "name": "stderr",
     "output_type": "stream",
     "text": [
      "C:\\Users\\shrey\\AppData\\Local\\Temp\\ipykernel_24056\\2853202589.py:2: SettingWithCopyWarning: \n",
      "A value is trying to be set on a copy of a slice from a DataFrame.\n",
      "Try using .loc[row_indexer,col_indexer] = value instead\n",
      "\n",
      "See the caveats in the documentation: https://pandas.pydata.org/pandas-docs/stable/user_guide/indexing.html#returning-a-view-versus-a-copy\n",
      "  master_document_list['view_count'] = 0\n"
     ]
    }
   ],
   "source": [
    "if 'view_count' not in master_document_list.columns:\n",
    "    master_document_list['view_count'] = 0\n"
   ]
  },
  {
   "cell_type": "code",
   "execution_count": 189,
   "metadata": {},
   "outputs": [
    {
     "data": {
      "text/html": [
       "<div>\n",
       "<style scoped>\n",
       "    .dataframe tbody tr th:only-of-type {\n",
       "        vertical-align: middle;\n",
       "    }\n",
       "\n",
       "    .dataframe tbody tr th {\n",
       "        vertical-align: top;\n",
       "    }\n",
       "\n",
       "    .dataframe thead th {\n",
       "        text-align: right;\n",
       "    }\n",
       "</style>\n",
       "<table border=\"1\" class=\"dataframe\">\n",
       "  <thead>\n",
       "    <tr style=\"text-align: right;\">\n",
       "      <th></th>\n",
       "      <th>_id</th>\n",
       "      <th>TASK_ID</th>\n",
       "      <th>content</th>\n",
       "      <th>task_category</th>\n",
       "      <th>view_count</th>\n",
       "    </tr>\n",
       "  </thead>\n",
       "  <tbody>\n",
       "    <tr>\n",
       "      <th>0</th>\n",
       "      <td>66c5a13c86c57a87db6f59d9</td>\n",
       "      <td>ENG</td>\n",
       "      <td>Join hands with us in protecting our planet's ...</td>\n",
       "      <td>ENG</td>\n",
       "      <td>0</td>\n",
       "    </tr>\n",
       "    <tr>\n",
       "      <th>1</th>\n",
       "      <td>66c5e4be2f44d7b54f76e52d</td>\n",
       "      <td>ENG</td>\n",
       "      <td>In a time of uncertainty for the future of our...</td>\n",
       "      <td>ENG</td>\n",
       "      <td>0</td>\n",
       "    </tr>\n",
       "    <tr>\n",
       "      <th>2</th>\n",
       "      <td>66c5a21086c57a87db6f59e1</td>\n",
       "      <td>ENG</td>\n",
       "      <td>We are at a critical juncture where our inacti...</td>\n",
       "      <td>ENG</td>\n",
       "      <td>0</td>\n",
       "    </tr>\n",
       "    <tr>\n",
       "      <th>3</th>\n",
       "      <td>66c88773e46942c099b32393</td>\n",
       "      <td>ENG</td>\n",
       "      <td>As you consider donating to the World Wildlife...</td>\n",
       "      <td>ENG</td>\n",
       "      <td>0</td>\n",
       "    </tr>\n",
       "    <tr>\n",
       "      <th>4</th>\n",
       "      <td>66c5a3e386c57a87db6f59f9</td>\n",
       "      <td>ENG</td>\n",
       "      <td>\\n\\nThe World Wildlife Fund (WWF) is a beacon ...</td>\n",
       "      <td>ENG</td>\n",
       "      <td>0</td>\n",
       "    </tr>\n",
       "    <tr>\n",
       "      <th>...</th>\n",
       "      <td>...</td>\n",
       "      <td>...</td>\n",
       "      <td>...</td>\n",
       "      <td>...</td>\n",
       "      <td>...</td>\n",
       "    </tr>\n",
       "    <tr>\n",
       "      <th>93</th>\n",
       "      <td>66c9dc59925382be577189b5</td>\n",
       "      <td>ENG_No_LLM</td>\n",
       "      <td>Join us, the World Wild Life Organization in o...</td>\n",
       "      <td>ENG</td>\n",
       "      <td>0</td>\n",
       "    </tr>\n",
       "    <tr>\n",
       "      <th>94</th>\n",
       "      <td>66c9f03a925382be577189c6</td>\n",
       "      <td>ENG_No_LLM</td>\n",
       "      <td>Do you sometimes look around and think just ho...</td>\n",
       "      <td>ENG</td>\n",
       "      <td>0</td>\n",
       "    </tr>\n",
       "    <tr>\n",
       "      <th>95</th>\n",
       "      <td>66c9f049925382be577189c8</td>\n",
       "      <td>ENG_No_LLM</td>\n",
       "      <td>At the WWF we care deeply about the planet and...</td>\n",
       "      <td>ENG</td>\n",
       "      <td>0</td>\n",
       "    </tr>\n",
       "    <tr>\n",
       "      <th>96</th>\n",
       "      <td>LLM</td>\n",
       "      <td>ENG_LLM</td>\n",
       "      <td>Join WWF's Movement to Save a Planet and Build...</td>\n",
       "      <td>ENG</td>\n",
       "      <td>0</td>\n",
       "    </tr>\n",
       "    <tr>\n",
       "      <th>97</th>\n",
       "      <td>CONTROL</td>\n",
       "      <td>CONTROL_ENG</td>\n",
       "      <td>The mission of World Wildlife Fund is to conse...</td>\n",
       "      <td>ENG</td>\n",
       "      <td>0</td>\n",
       "    </tr>\n",
       "  </tbody>\n",
       "</table>\n",
       "<p>98 rows × 5 columns</p>\n",
       "</div>"
      ],
      "text/plain": [
       "                         _id      TASK_ID  \\\n",
       "0   66c5a13c86c57a87db6f59d9          ENG   \n",
       "1   66c5e4be2f44d7b54f76e52d          ENG   \n",
       "2   66c5a21086c57a87db6f59e1          ENG   \n",
       "3   66c88773e46942c099b32393          ENG   \n",
       "4   66c5a3e386c57a87db6f59f9          ENG   \n",
       "..                       ...          ...   \n",
       "93  66c9dc59925382be577189b5   ENG_No_LLM   \n",
       "94  66c9f03a925382be577189c6   ENG_No_LLM   \n",
       "95  66c9f049925382be577189c8   ENG_No_LLM   \n",
       "96                       LLM      ENG_LLM   \n",
       "97                   CONTROL  CONTROL_ENG   \n",
       "\n",
       "                                              content task_category  \\\n",
       "0   Join hands with us in protecting our planet's ...           ENG   \n",
       "1   In a time of uncertainty for the future of our...           ENG   \n",
       "2   We are at a critical juncture where our inacti...           ENG   \n",
       "3   As you consider donating to the World Wildlife...           ENG   \n",
       "4   \\n\\nThe World Wildlife Fund (WWF) is a beacon ...           ENG   \n",
       "..                                                ...           ...   \n",
       "93  Join us, the World Wild Life Organization in o...           ENG   \n",
       "94  Do you sometimes look around and think just ho...           ENG   \n",
       "95  At the WWF we care deeply about the planet and...           ENG   \n",
       "96  Join WWF's Movement to Save a Planet and Build...           ENG   \n",
       "97  The mission of World Wildlife Fund is to conse...           ENG   \n",
       "\n",
       "    view_count  \n",
       "0            0  \n",
       "1            0  \n",
       "2            0  \n",
       "3            0  \n",
       "4            0  \n",
       "..         ...  \n",
       "93           0  \n",
       "94           0  \n",
       "95           0  \n",
       "96           0  \n",
       "97           0  \n",
       "\n",
       "[98 rows x 5 columns]"
      ]
     },
     "execution_count": 189,
     "metadata": {},
     "output_type": "execute_result"
    }
   ],
   "source": [
    "master_document_list"
   ]
  },
  {
   "cell_type": "code",
   "execution_count": 196,
   "metadata": {},
   "outputs": [
    {
     "data": {
      "text/plain": [
       "'Debemos defender a los animales de nuestra vida silvestre y ecosistema. Les\\nestamos fallando y necesitan nuestra ayuda. Con una pequeña donacion hoy,\\npuedes involucrarte y marcar la diferencia. ¿Que te detiene?  No se quede\\nquieto y observe como sucede. Esto va a cambiar tu vida y la de ellos.\\nComplicarse.\\n\\nLas poblaciones de vida silvestre estan cayendo en picado debido a la\\ndestruccion del habitat y la caza furtiva, y alrededor del 60% de las especies\\nde mamiferos se enfrentan a la extincion, segun el Fondo Mundial para la\\nNaturaleza (WWF). Al apoyar los esfuerzos de conservacion hoy, puede marcar\\nuna diferencia duradera en la proteccion de estos preciosos ecosistemas para\\nlas generaciones futuras.\\n\\n'"
      ]
     },
     "execution_count": 196,
     "metadata": {},
     "output_type": "execute_result"
    }
   ],
   "source": [
    "master_document_list[master_document_list['_id']=='66c6e5986db9c208f260cab9'].iloc[0]['content']"
   ]
  },
  {
   "cell_type": "code",
   "execution_count": 193,
   "metadata": {},
   "outputs": [
    {
     "data": {
      "text/plain": [
       "InsertManyResult(['66c5a13c86c57a87db6f59d9', '66c5e4be2f44d7b54f76e52d', '66c5a21086c57a87db6f59e1', '66c88773e46942c099b32393', '66c5a3e386c57a87db6f59f9', '66c5a85186c57a87db6f5a21', '66c5a42286c57a87db6f59fa', '66c522869236da2225cc8cf2', '66c5a9ab86c57a87db6f5a32', '66c5e76c2f44d7b54f76e534', '66c524a69236da2225cc8cfd', '66c88f79e46942c099b323a7', '66c5a45586c57a87db6f59fc', '66c88d0be46942c099b323a0', '66c88731e46942c099b32391', '66c5241b9236da2225cc8cfa', '66c6181507bfd712ba618584', '66c618f707bfd712ba61858f', '66c627b607bfd712ba6185cc', '66c62a7e07bfd712ba6185d5', '66c6302d07bfd712ba6185e3', '66c637d607bfd712ba6185e9', '66c78f7df837defabd5eb804', '66c7905af837defabd5eb80a', '66c7913df837defabd5eb80f', '66c797acf837defabd5eb81a', '66c7a655f837defabd5eb872', '66c7a884f837defabd5eb886', '66c7d114f837defabd5eb8b6', '66c7d52df837defabd5eb8bb', '66c7de66f837defabd5eb8c1', '66c7e14ef837defabd5eb8c7', '66c685cc6db9c208f260ca3a', '66c688dd6db9c208f260ca47', '66c6978c6db9c208f260ca68', '66c699b16db9c208f260ca73', '66c71e356db9c208f260cb5a', '66c720966db9c208f260cb6c', '66c7374d6db9c208f260cbc8', '66c739dd6db9c208f260cbd1', '66c74aea6db9c208f260cbfe', '66c7528c6db9c208f260cc22', '66c7a4bdf837defabd5eb863', '66c7a66bf837defabd5eb874', '66c7a8a6f837defabd5eb887', '66c7aa3ef837defabd5eb88b', '66c7ac99f837defabd5eb891', '66c7ade9f837defabd5eb898', '66c6e47c6db9c208f260cab2', '66c6e5986db9c208f260cab9', '66c6e7186db9c208f260cabe', '66c6eb326db9c208f260cacf', '66c6eb886db9c208f260cad2', '66c6ef3c6db9c208f260cadb', '66c6f0a46db9c208f260cade', '66c6f3126db9c208f260cae4', '66c730526db9c208f260cba4', '66c7333c6db9c208f260cbc1', '66c7c396f837defabd5eb8a7', '66c7c5a0f837defabd5eb8ac', '66c9520cb087a0712a44d233', '66c958a5b087a0712a44d238', '66ca0be346d5a80600137ecc', '66ca0dfb46d5a80600137ed3', '66c6f8696db9c208f260caf5', '66c6fb5d6db9c208f260caff', '66c6fd416db9c208f260cb05', '66c6fdc56db9c208f260cb08', '66c6fe226db9c208f260cb0c', '66c6ffc76db9c208f260cb13', '66c70f016db9c208f260cb22', '66c711cc6db9c208f260cb2a', '66c71a176db9c208f260cb42', '66c71e1a6db9c208f260cb58', '66c73ff86db9c208f260cbe4', '66c742626db9c208f260cbeb', '66c74f216db9c208f260cc0c', '66c750f16db9c208f260cc18', '66c757f06db9c208f260cc32', '66c75a3c6db9c208f260cc38', '66c9d64b925382be57718981', '66c9d652925382be57718982', '66c9d89a925382be57718988', '66c9d8c3925382be5771898a', '66c9d92a925382be5771898f', '66c9d947925382be57718990', '66c9d9aa925382be57718994', '66c9d9c1925382be57718995', '66c9d9d2925382be57718997', '66c9da27925382be5771899c', '66c9da2f925382be5771899d', '66c9da94925382be577189a2', '66c9dbe4925382be577189af', '66c9dc59925382be577189b5', '66c9f03a925382be577189c6', '66c9f049925382be577189c8', 'LLM', 'CONTROL'], acknowledged=True)"
      ]
     },
     "execution_count": 193,
     "metadata": {},
     "output_type": "execute_result"
    }
   ],
   "source": [
    "# Convert DataFrame to dictionary format\n",
    "data_dict = master_document_list.to_dict(\"records\")\n",
    "\n",
    "# Insert data into MongoDB collection\n",
    "collection.insert_many(data_dict)"
   ]
  },
  {
   "cell_type": "code",
   "execution_count": 89,
   "metadata": {},
   "outputs": [
    {
     "name": "stdout",
     "output_type": "stream",
     "text": [
      "{'_id': '66c5a13c86c57a87db6f59d9', 'task_id': 'ENG', 'plain_text': \"Join hands with us in protecting our planet's precious wildlife! The World Wildlife Fund (WWF) is a global organization dedicated to conserving nature and reducing the most pressing threats to the diversity of life on Earth. As a member, you'll be part of a community that shares your passion for preserving the natural world. Together, we can make a difference in the lives of countless species, from majestic elephants to tiny hummingbirds.\\nBy joining WWF, you'll become part of a global movement that has already made a significant difference in the lives of countless species. For example, just last year, our conservation efforts helped increase the population of endangered sea turtles by 25% on a single island, thanks to the support of dedicated members like you who care about protecting our planet's precious wildlife!\\nMembership benefits include: Exclusive updates on conservation projects and news from around the world, invitations to special events and webinars,\\xa0 opportunities to get involved in local community initiatives and access to WWF's online store featuring eco-friendly products.\\nJoin now and help make a lasting, long-term impact on preserving our planet's precious wildlife, ensuring their protection for generations to come!\\n\\xa0\", 'view_count': 0}\n"
     ]
    }
   ],
   "source": [
    "for document in collection.find():\n",
    "    print(document)\n",
    "    break"
   ]
  },
  {
   "cell_type": "code",
   "execution_count": 100,
   "metadata": {},
   "outputs": [
    {
     "name": "stdout",
     "output_type": "stream",
     "text": [
      "Response JSON: {'_id': '66c5a13c86c57a87db6f59d9', 'document_id': 'ENG', 'plain_text': \"Join hands with us in protecting our planet's precious wildlife! The World Wildlife Fund (WWF) is a global organization dedicated to conserving nature and reducing the most pressing threats to the diversity of life on Earth. As a member, you'll be part of a community that shares your passion for preserving the natural world. Together, we can make a difference in the lives of countless species, from majestic elephants to tiny hummingbirds.\\nBy joining WWF, you'll become part of a global movement that has already made a significant difference in the lives of countless species. For example, just last year, our conservation efforts helped increase the population of endangered sea turtles by 25% on a single island, thanks to the support of dedicated members like you who care about protecting our planet's precious wildlife!\\nMembership benefits include: Exclusive updates on conservation projects and news from around the world, invitations to special events and webinars,\\xa0 opportunities to get involved in local community initiatives and access to WWF's online store featuring eco-friendly products.\\nJoin now and help make a lasting, long-term impact on preserving our planet's precious wildlife, ensuring their protection for generations to come!\\n\\xa0\", 'task_category': 'ENG', 'task_id': 'ENG', 'timestamp': None, 'view_count': 1}\n"
     ]
    }
   ],
   "source": [
    "import requests\n",
    "\n",
    "url = \"http://localhost:8080/api/get_persuasive_text\"\n",
    "data = {\n",
    "    \"task_category\": \"ENG\",\n",
    "    \"prolific_id\": \"12345\"\n",
    "}\n",
    "\n",
    "response = requests.post(url, json=data)\n",
    "\n",
    "if response.status_code == 200:\n",
    "    print(\"Response JSON:\", response.json())\n",
    "else:\n",
    "    print(f\"Error: {response.status_code}, {response.text}\")\n"
   ]
  },
  {
   "cell_type": "code",
   "execution_count": 40,
   "metadata": {},
   "outputs": [
    {
     "name": "stdout",
     "output_type": "stream",
     "text": [
      "Updated 16 documents with task_id=EN to have view_count=5\n"
     ]
    }
   ],
   "source": [
    "def set_view_count_to_5(task_id=\"EN\"):\n",
    "    try:\n",
    "        # Update all documents with the given task_id to set view_count to 5\n",
    "        result = collection.update_many({\"task_id\": task_id}, {\"$set\": {\"view_count\": 5}})\n",
    "        print(f\"Updated {result.modified_count} documents with task_id={task_id} to have view_count=5\")\n",
    "    except Exception as e:\n",
    "        print(f\"Error updating documents: {str(e)}\")\n",
    "\n",
    "# Run the function\n",
    "set_view_count_to_5()\n"
   ]
  },
  {
   "cell_type": "code",
   "execution_count": 47,
   "metadata": {},
   "outputs": [
    {
     "name": "stdout",
     "output_type": "stream",
     "text": [
      "Successfully updated document with _id=66c5a13c86c57a87db6f59d9 to have view_count=0\n"
     ]
    }
   ],
   "source": [
    "def set_view_count_to_0(document_id):\n",
    "    try:\n",
    "        # Update the document with the given _id to set view_count to 0\n",
    "        result = collection.update_one({\"_id\": document_id}, {\"$set\": {\"view_count\": 0}})\n",
    "        \n",
    "        if result.matched_count > 0:\n",
    "            print(f\"Successfully updated document with _id={document_id} to have view_count=0\")\n",
    "        else:\n",
    "            print(f\"No document found with _id={document_id}\")\n",
    "    except Exception as e:\n",
    "        print(f\"Error updating document: {str(e)}\")\n",
    "\n",
    "# Example usage\n",
    "document_id = \"66c5a13c86c57a87db6f59d9\"  # Replace with the actual _id of the document you want to update\n",
    "set_view_count_to_0(document_id)\n"
   ]
  }
 ],
 "metadata": {
  "kernelspec": {
   "display_name": "base",
   "language": "python",
   "name": "python3"
  },
  "language_info": {
   "codemirror_mode": {
    "name": "ipython",
    "version": 3
   },
   "file_extension": ".py",
   "mimetype": "text/x-python",
   "name": "python",
   "nbconvert_exporter": "python",
   "pygments_lexer": "ipython3",
   "version": "3.11.5"
  }
 },
 "nbformat": 4,
 "nbformat_minor": 2
}
