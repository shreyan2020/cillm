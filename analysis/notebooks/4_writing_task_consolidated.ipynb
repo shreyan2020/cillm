{
 "cells": [
  {
   "cell_type": "code",
   "execution_count": 4,
   "metadata": {},
   "outputs": [],
   "source": [
    "import pandas as pd\n",
    "import numpy as np\n",
    "import os\n",
    "import json\n",
    "import ast\n",
    "from collections import Counter\n",
    "import seaborn as sns\n",
    "import matplotlib.pyplot as plt\n",
    "import plotly.express as px\n"
   ]
  },
  {
   "cell_type": "code",
   "execution_count": 5,
   "metadata": {},
   "outputs": [],
   "source": [
    "master_activity_df = pd.read_csv(\"../data/buckets_combined/master_activity.csv\")\n",
    "master_survey_df = pd.read_csv(\"../data/buckets_combined/master_survey.csv\")\n",
    "master_documents_df = pd.read_csv('../data/buckets_combined/master_docs_with_basic_formatting_0109.csv')"
   ]
  },
  {
   "cell_type": "code",
   "execution_count": 6,
   "metadata": {},
   "outputs": [
    {
     "data": {
      "text/plain": [
       "task_id\n",
       "ENG            16\n",
       "ENG_1          16\n",
       "ESP_2          16\n",
       "ESP_1          16\n",
       "ENG_2          16\n",
       "ENG_No_LLM     16\n",
       "ENG_LLM        16\n",
       "ESP_LLM        16\n",
       "CONTROL_ENG     1\n",
       "Name: count, dtype: int64"
      ]
     },
     "execution_count": 6,
     "metadata": {},
     "output_type": "execute_result"
    }
   ],
   "source": [
    "master_documents_df['task_id'].value_counts()"
   ]
  },
  {
   "cell_type": "code",
   "execution_count": 7,
   "metadata": {},
   "outputs": [],
   "source": [
    "master_documents_df['word_count'] = master_documents_df['content'].str.replace('\\n', '').apply(lambda x: len(x.split(' ')))"
   ]
  },
  {
   "cell_type": "markdown",
   "metadata": {},
   "source": [
    "# Survey"
   ]
  },
  {
   "cell_type": "code",
   "execution_count": 8,
   "metadata": {},
   "outputs": [],
   "source": [
    "scale_mapping = {\n",
    "    \"Strongly Disagree\": 1,\n",
    "    \"Disagree\": 2,\n",
    "    \"Neutral\": 3,\n",
    "    \"Agree\": 4,\n",
    "    \"Strongly Agree\": 5\n",
    "}\n",
    "\n",
    "feature_mapping = {\n",
    "    \"FEAT_1\": \"Variation - Positive Narrative Framing\",\n",
    "    \"FEAT_2\": \"Variation - Cautionary Narrative Framing\",\n",
    "    \"FEAT_3\": \"Variation - Positive Narrative Framing with Statistics\",\n",
    "    \"FEAT_4\": \"Variation - Cautionary Narrative with Statistics\",\n",
    "    \"FEAT_5\": \"Variation - Emphasis on Immediate Outcome\",\n",
    "    \"FEAT_6\": \"Variation - Emphasis on Long-Term Outcome\",\n",
    "    \"FEAT_7\": \"@ai to Generate New Texts\",\n",
    "    \"FEAT_8\": \"Create Continuation\"\n",
    "}\n",
    "\n",
    "categories = {\n",
    "    \"Ownership\": [\"OWN_1\", \"OWN_2\", \"OWN_3\"],\n",
    "    \"Benefits of Co-writing\": [\"COLAB_1\", \"COLAB_2\", \"COLAB_3\"],\n",
    "    \"LLM Prowess\": [\"LM_1\", \"LM_2\", \"LM_3\", \"LM_4\"],\n",
    "}"
   ]
  },
  {
   "cell_type": "code",
   "execution_count": 9,
   "metadata": {},
   "outputs": [],
   "source": [
    "master_survey_df['responses'] = master_survey_df['responses'].apply(ast.literal_eval)\n",
    "survey_data = master_survey_df['responses'].tolist()\n"
   ]
  },
  {
   "cell_type": "code",
   "execution_count": 10,
   "metadata": {},
   "outputs": [],
   "source": [
    "rows = []\n",
    "\n",
    "# Process each survey\n",
    "for _, row in master_survey_df.iterrows():\n",
    "    survey = row['responses']\n",
    "    row_data = {}\n",
    "\n",
    "    # Extract basic information from the original DataFrame\n",
    "    row_data['PROLIFIC_PID'] = row['prolific_id']\n",
    "    row_data['STUDY_ID'] = row['study_id']\n",
    "    row_data['TASK_ID'] = row['TASK_ID']\n",
    "\n",
    "    # Extract and map ownership responses\n",
    "    ownership = survey.get('ownership', {})\n",
    "    for i, key in enumerate(categories['Ownership']):\n",
    "        row_data[key] = scale_mapping.get(ownership.get(list(ownership.keys())[i], 'NA'), 'NA')\n",
    "\n",
    "    if row['TASK_ID'] != \"ENG_No_LLM\":\n",
    "        # Map collaboration responses\n",
    "        collaboration = survey.get('collaboration', {})\n",
    "        for i, key in enumerate(categories['Benefits of Co-writing']):\n",
    "            row_data[key] = scale_mapping.get(collaboration.get(list(collaboration.keys())[i], 'NA'), 'NA')\n",
    "\n",
    "        # Map LLM Prowess responses\n",
    "        aiCapabilities = survey.get('aiCapabilities', {})\n",
    "        for i, key in enumerate(categories['LLM Prowess']):\n",
    "            row_data[key] = scale_mapping.get(aiCapabilities.get(list(aiCapabilities.keys())[i], 'NA'), 'NA')\n",
    "\n",
    "        # Extract and map feature responses (keeping these as they are without scaling)\n",
    "        usefulness = survey.get('usefulness', {})\n",
    "        for feat_key, feat_name in feature_mapping.items():\n",
    "            row_data[feat_key] = usefulness.get(feat_name, 'NA')\n",
    "    else:\n",
    "        # If TASK_ID is ENG_No_LLM, set collaboration, LLM Prowess, and feature responses to 'NA'\n",
    "        for key in categories['Benefits of Co-writing']:\n",
    "            row_data[key] = 'NA'\n",
    "\n",
    "        for key in categories['LLM Prowess']:\n",
    "            row_data[key] = 'NA'\n",
    "\n",
    "        for feat_key in feature_mapping.keys():\n",
    "            row_data[feat_key] = 'NA'\n",
    "\n",
    "    # Append the row_data to the rows list\n",
    "    rows.append(row_data)\n",
    "\n",
    "# Create DataFrame with the required columns\n",
    "final_survey_df = pd.DataFrame(rows, columns=[\n",
    "    \"PROLIFIC_PID\", \"STUDY_ID\", \"TASK_ID\", \n",
    "    \"OWN_1\", \"OWN_2\", \"OWN_3\", \n",
    "    \"COLAB_1\", \"COLAB_2\", \"COLAB_3\", \n",
    "    \"LM_1\", \"LM_2\", \"LM_3\", \"LM_4\", \n",
    "    \"FEAT_1\", \"FEAT_2\", \"FEAT_3\", \"FEAT_4\", \n",
    "    \"FEAT_5\", \"FEAT_6\", \"FEAT_7\", \"FEAT_8\"\n",
    "])"
   ]
  },
  {
   "cell_type": "code",
   "execution_count": 11,
   "metadata": {},
   "outputs": [
    {
     "data": {
      "text/html": [
       "<div>\n",
       "<style scoped>\n",
       "    .dataframe tbody tr th:only-of-type {\n",
       "        vertical-align: middle;\n",
       "    }\n",
       "\n",
       "    .dataframe tbody tr th {\n",
       "        vertical-align: top;\n",
       "    }\n",
       "\n",
       "    .dataframe thead th {\n",
       "        text-align: right;\n",
       "    }\n",
       "</style>\n",
       "<table border=\"1\" class=\"dataframe\">\n",
       "  <thead>\n",
       "    <tr style=\"text-align: right;\">\n",
       "      <th></th>\n",
       "      <th>PROLIFIC_PID</th>\n",
       "      <th>STUDY_ID</th>\n",
       "      <th>TASK_ID</th>\n",
       "      <th>OWN_1</th>\n",
       "      <th>OWN_2</th>\n",
       "      <th>OWN_3</th>\n",
       "      <th>COLAB_1</th>\n",
       "      <th>COLAB_2</th>\n",
       "      <th>COLAB_3</th>\n",
       "      <th>LM_1</th>\n",
       "      <th>...</th>\n",
       "      <th>LM_3</th>\n",
       "      <th>LM_4</th>\n",
       "      <th>FEAT_1</th>\n",
       "      <th>FEAT_2</th>\n",
       "      <th>FEAT_3</th>\n",
       "      <th>FEAT_4</th>\n",
       "      <th>FEAT_5</th>\n",
       "      <th>FEAT_6</th>\n",
       "      <th>FEAT_7</th>\n",
       "      <th>FEAT_8</th>\n",
       "    </tr>\n",
       "  </thead>\n",
       "  <tbody>\n",
       "    <tr>\n",
       "      <th>0</th>\n",
       "      <td>5a4ff22bacc75b000179b0e9</td>\n",
       "      <td>66c516b1d61c7b572205f713</td>\n",
       "      <td>ENG</td>\n",
       "      <td>1</td>\n",
       "      <td>2</td>\n",
       "      <td>1</td>\n",
       "      <td>4</td>\n",
       "      <td>5</td>\n",
       "      <td>2</td>\n",
       "      <td>5</td>\n",
       "      <td>...</td>\n",
       "      <td>5</td>\n",
       "      <td>5</td>\n",
       "      <td>NA</td>\n",
       "      <td>NA</td>\n",
       "      <td>NA</td>\n",
       "      <td>NA</td>\n",
       "      <td>NA</td>\n",
       "      <td>NA</td>\n",
       "      <td>77</td>\n",
       "      <td>4</td>\n",
       "    </tr>\n",
       "    <tr>\n",
       "      <th>1</th>\n",
       "      <td>5c068f1f9d0df40001e5688c</td>\n",
       "      <td>66c516b1d61c7b572205f713</td>\n",
       "      <td>ENG</td>\n",
       "      <td>5</td>\n",
       "      <td>2</td>\n",
       "      <td>4</td>\n",
       "      <td>4</td>\n",
       "      <td>4</td>\n",
       "      <td>4</td>\n",
       "      <td>4</td>\n",
       "      <td>...</td>\n",
       "      <td>4</td>\n",
       "      <td>4</td>\n",
       "      <td>39</td>\n",
       "      <td>NA</td>\n",
       "      <td>75</td>\n",
       "      <td>12</td>\n",
       "      <td>29</td>\n",
       "      <td>16</td>\n",
       "      <td>NA</td>\n",
       "      <td>NA</td>\n",
       "    </tr>\n",
       "    <tr>\n",
       "      <th>2</th>\n",
       "      <td>5c62de3f48fe4e000180e09d</td>\n",
       "      <td>66c516b1d61c7b572205f713</td>\n",
       "      <td>ENG</td>\n",
       "      <td>4</td>\n",
       "      <td>2</td>\n",
       "      <td>2</td>\n",
       "      <td>4</td>\n",
       "      <td>5</td>\n",
       "      <td>3</td>\n",
       "      <td>3</td>\n",
       "      <td>...</td>\n",
       "      <td>4</td>\n",
       "      <td>4</td>\n",
       "      <td>NA</td>\n",
       "      <td>NA</td>\n",
       "      <td>NA</td>\n",
       "      <td>NA</td>\n",
       "      <td>NA</td>\n",
       "      <td>NA</td>\n",
       "      <td>82</td>\n",
       "      <td>36</td>\n",
       "    </tr>\n",
       "    <tr>\n",
       "      <th>3</th>\n",
       "      <td>5d1f9776676cd1001580ae9c</td>\n",
       "      <td>66c516b1d61c7b572205f713</td>\n",
       "      <td>ENG</td>\n",
       "      <td>3</td>\n",
       "      <td>5</td>\n",
       "      <td>1</td>\n",
       "      <td>4</td>\n",
       "      <td>3</td>\n",
       "      <td>4</td>\n",
       "      <td>4</td>\n",
       "      <td>...</td>\n",
       "      <td>5</td>\n",
       "      <td>4</td>\n",
       "      <td>87</td>\n",
       "      <td>NA</td>\n",
       "      <td>20</td>\n",
       "      <td>NA</td>\n",
       "      <td>49</td>\n",
       "      <td>87</td>\n",
       "      <td>88</td>\n",
       "      <td>NA</td>\n",
       "    </tr>\n",
       "    <tr>\n",
       "      <th>4</th>\n",
       "      <td>5ea9a41b87b4150bf9634637</td>\n",
       "      <td>66c516b1d61c7b572205f713</td>\n",
       "      <td>ENG</td>\n",
       "      <td>4</td>\n",
       "      <td>4</td>\n",
       "      <td>4</td>\n",
       "      <td>5</td>\n",
       "      <td>5</td>\n",
       "      <td>2</td>\n",
       "      <td>4</td>\n",
       "      <td>...</td>\n",
       "      <td>4</td>\n",
       "      <td>4</td>\n",
       "      <td>NA</td>\n",
       "      <td>NA</td>\n",
       "      <td>NA</td>\n",
       "      <td>NA</td>\n",
       "      <td>NA</td>\n",
       "      <td>NA</td>\n",
       "      <td>100</td>\n",
       "      <td>15</td>\n",
       "    </tr>\n",
       "  </tbody>\n",
       "</table>\n",
       "<p>5 rows × 21 columns</p>\n",
       "</div>"
      ],
      "text/plain": [
       "               PROLIFIC_PID                  STUDY_ID TASK_ID  OWN_1  OWN_2  \\\n",
       "0  5a4ff22bacc75b000179b0e9  66c516b1d61c7b572205f713     ENG      1      2   \n",
       "1  5c068f1f9d0df40001e5688c  66c516b1d61c7b572205f713     ENG      5      2   \n",
       "2  5c62de3f48fe4e000180e09d  66c516b1d61c7b572205f713     ENG      4      2   \n",
       "3  5d1f9776676cd1001580ae9c  66c516b1d61c7b572205f713     ENG      3      5   \n",
       "4  5ea9a41b87b4150bf9634637  66c516b1d61c7b572205f713     ENG      4      4   \n",
       "\n",
       "   OWN_3 COLAB_1 COLAB_2 COLAB_3 LM_1  ... LM_3 LM_4 FEAT_1 FEAT_2 FEAT_3  \\\n",
       "0      1       4       5       2    5  ...    5    5     NA     NA     NA   \n",
       "1      4       4       4       4    4  ...    4    4     39     NA     75   \n",
       "2      2       4       5       3    3  ...    4    4     NA     NA     NA   \n",
       "3      1       4       3       4    4  ...    5    4     87     NA     20   \n",
       "4      4       5       5       2    4  ...    4    4     NA     NA     NA   \n",
       "\n",
       "  FEAT_4 FEAT_5 FEAT_6 FEAT_7 FEAT_8  \n",
       "0     NA     NA     NA     77      4  \n",
       "1     12     29     16     NA     NA  \n",
       "2     NA     NA     NA     82     36  \n",
       "3     NA     49     87     88     NA  \n",
       "4     NA     NA     NA    100     15  \n",
       "\n",
       "[5 rows x 21 columns]"
      ]
     },
     "execution_count": 11,
     "metadata": {},
     "output_type": "execute_result"
    }
   ],
   "source": [
    "final_survey_df.head()"
   ]
  },
  {
   "cell_type": "code",
   "execution_count": 12,
   "metadata": {},
   "outputs": [
    {
     "data": {
      "text/plain": [
       "TASK_ID\n",
       "ENG           16\n",
       "ENG_1         16\n",
       "ESP_2         16\n",
       "ESP_1         16\n",
       "ENG_2         16\n",
       "ENG_No_LLM    16\n",
       "Name: count, dtype: int64"
      ]
     },
     "execution_count": 12,
     "metadata": {},
     "output_type": "execute_result"
    }
   ],
   "source": [
    "final_survey_df['TASK_ID'].value_counts()"
   ]
  },
  {
   "cell_type": "markdown",
   "metadata": {},
   "source": [
    "## usefulness of features separate"
   ]
  },
  {
   "cell_type": "code",
   "execution_count": 13,
   "metadata": {},
   "outputs": [],
   "source": [
    "final_survey_df = final_survey_df.replace('NA', 0)\n",
    "final_survey_df = final_survey_df.replace('NA', np.nan)\n",
    "features = [\"FEAT_1\", \"FEAT_2\", \"FEAT_3\", \"FEAT_4\", \"FEAT_5\", \"FEAT_6\", \"FEAT_7\", \"FEAT_8\"]\n",
    "features_task = features + [\"TASK_ID\"]\n",
    "for feature in features:\n",
    "    final_survey_df[feature] = pd.to_numeric(final_survey_df[feature], errors='coerce')\n"
   ]
  },
  {
   "cell_type": "code",
   "execution_count": 14,
   "metadata": {},
   "outputs": [
    {
     "data": {
      "image/png": "[encoded data removed]",
      "text/plain": [
       "<Figure size 1000x600 with 1 Axes>"
      ]
     },
     "metadata": {},
     "output_type": "display_data"
    },
    {
     "data": {
      "image/png": "[encoded data removed]",
      "text/plain": [
       "<Figure size 1000x600 with 1 Axes>"
      ]
     },
     "metadata": {},
     "output_type": "display_data"
    },
    {
     "data": {
      "image/png": "[encoded data removed]",
      "text/plain": [
       "<Figure size 1000x600 with 1 Axes>"
      ]
     },
     "metadata": {},
     "output_type": "display_data"
    },
    {
     "data": {
      "image/png": "[encoded data removed]",
      "text/plain": [
       "<Figure size 1000x600 with 1 Axes>"
      ]
     },
     "metadata": {},
     "output_type": "display_data"
    },
    {
     "data": {
      "image/png": "[encoded data removed]",
      "text/plain": [
       "<Figure size 1000x600 with 1 Axes>"
      ]
     },
     "metadata": {},
     "output_type": "display_data"
    },
    {
     "data": {
      "image/png": "[encoded data removed]",
      "text/plain": [
       "<Figure size 1000x600 with 1 Axes>"
      ]
     },
     "metadata": {},
     "output_type": "display_data"
    },
    {
     "data": {
      "image/png": "[encoded data removed]",
      "text/plain": [
       "<Figure size 1000x600 with 1 Axes>"
      ]
     },
     "metadata": {},
     "output_type": "display_data"
    },
    {
     "data": {
      "image/png": "[encoded data removed]",
      "text/plain": [
       "<Figure size 1000x600 with 1 Axes>"
      ]
     },
     "metadata": {},
     "output_type": "display_data"
    }
   ],
   "source": [
    "# List of feature columns\n",
    "grouped_df = final_survey_df[features_task].groupby('TASK_ID').mean().reset_index()\n",
    "grouped_df = grouped_df[grouped_df['TASK_ID']!='ENG_No_LLM']\n",
    "# List of feature columns\n",
    "\n",
    "# Create a graph for each feature\n",
    "for feature in features:\n",
    "    plt.figure(figsize=(10, 6))\n",
    "    sns.barplot(x='TASK_ID', y=feature, data=grouped_df, errorbar=None)\n",
    "    plt.title(f'{feature_mapping.get(feature)} Feature\\'s Usefulness in Different Experiment Conditions')\n",
    "    plt.ylabel('Average Usefullness Score')\n",
    "    plt.xlabel('Setups')\n",
    "    plt.xticks(rotation=45)\n",
    "    pdf_filename = f\"{feature_mapping.get(feature)}_usefulness_plot.pdf\"\n",
    "    plt.savefig('../figures/results/'+pdf_filename, format='pdf', bbox_inches='tight')\n",
    "    plt.show()"
   ]
  },
  {
   "cell_type": "markdown",
   "metadata": {},
   "source": [
    "# usefulness of features consolidated (all ai related features)"
   ]
  },
  {
   "cell_type": "code",
   "execution_count": null,
   "metadata": {},
   "outputs": [],
   "source": []
  },
  {
   "cell_type": "markdown",
   "metadata": {},
   "source": [
    "# usefulness of features normalized by count"
   ]
  },
  {
   "cell_type": "code",
   "execution_count": 15,
   "metadata": {},
   "outputs": [],
   "source": [
    "master_activity_df['activity_log'] = master_activity_df['activity_log'].apply(ast.literal_eval)\n"
   ]
  },
  {
   "cell_type": "code",
   "execution_count": 16,
   "metadata": {},
   "outputs": [],
   "source": [
    "master_activity_df = master_activity_df[master_activity_df['TASK_ID']!='ENG_No_LLM']"
   ]
  },
  {
   "cell_type": "code",
   "execution_count": 17,
   "metadata": {},
   "outputs": [],
   "source": [
    "button_clicks_data = []\n",
    "\n",
    "# Loop through each row in master_activity_df\n",
    "for _, row in master_activity_df.iterrows():\n",
    "    task_id = row['TASK_ID']\n",
    "    activity_log = row['activity_log']\n",
    "    study_id = row['study_id']\n",
    "    # Extract buttonClicks from activity_log\n",
    "    button_clicks = activity_log.get('buttonClicks', [])\n",
    "    \n",
    "    # Count the button click actions\n",
    "    button_clicks_count = Counter([click['action'] for click in button_clicks])\n",
    "    \n",
    "    # Store the task_id and button_clicks_count in the list\n",
    "    for action, count in button_clicks_count.items():\n",
    "        button_clicks_data.append({\n",
    "            'task_id': task_id,\n",
    "            'study_id': study_id,\n",
    "            'action': action,\n",
    "            'count': count\n",
    "        })\n",
    "\n",
    "# Convert the list to a DataFrame\n",
    "button_clicks_df = pd.DataFrame(button_clicks_data)"
   ]
  },
  {
   "cell_type": "code",
   "execution_count": 18,
   "metadata": {},
   "outputs": [],
   "source": [
    "filter_out_actions = button_clicks_df[   \n",
    "    ~button_clicks_df['action'].str.contains('CREATE VARIATION|DELETE CHUNK|DELETE VERSION')\n",
    "]"
   ]
  },
  {
   "cell_type": "code",
   "execution_count": 19,
   "metadata": {},
   "outputs": [
    {
     "data": {
      "text/html": [
       "<div>\n",
       "<style scoped>\n",
       "    .dataframe tbody tr th:only-of-type {\n",
       "        vertical-align: middle;\n",
       "    }\n",
       "\n",
       "    .dataframe tbody tr th {\n",
       "        vertical-align: top;\n",
       "    }\n",
       "\n",
       "    .dataframe thead th {\n",
       "        text-align: right;\n",
       "    }\n",
       "</style>\n",
       "<table border=\"1\" class=\"dataframe\">\n",
       "  <thead>\n",
       "    <tr style=\"text-align: right;\">\n",
       "      <th></th>\n",
       "      <th>task_id</th>\n",
       "      <th>study_id</th>\n",
       "      <th>action</th>\n",
       "      <th>count</th>\n",
       "    </tr>\n",
       "  </thead>\n",
       "  <tbody>\n",
       "    <tr>\n",
       "      <th>1</th>\n",
       "      <td>ENG</td>\n",
       "      <td>66c516b1d61c7b572205f713</td>\n",
       "      <td>recipe_Gain_Anecdotal</td>\n",
       "      <td>3</td>\n",
       "    </tr>\n",
       "    <tr>\n",
       "      <th>2</th>\n",
       "      <td>ENG</td>\n",
       "      <td>66c516b1d61c7b572205f713</td>\n",
       "      <td>recipe_LongTerm</td>\n",
       "      <td>1</td>\n",
       "    </tr>\n",
       "    <tr>\n",
       "      <th>4</th>\n",
       "      <td>ENG</td>\n",
       "      <td>66c516b1d61c7b572205f713</td>\n",
       "      <td>recipe_Loss_Statistics</td>\n",
       "      <td>1</td>\n",
       "    </tr>\n",
       "    <tr>\n",
       "      <th>5</th>\n",
       "      <td>ENG</td>\n",
       "      <td>66c516b1d61c7b572205f713</td>\n",
       "      <td>recipe_Gain_Statistics</td>\n",
       "      <td>2</td>\n",
       "    </tr>\n",
       "    <tr>\n",
       "      <th>6</th>\n",
       "      <td>ENG</td>\n",
       "      <td>66c516b1d61c7b572205f713</td>\n",
       "      <td>recipe_ShortTerm</td>\n",
       "      <td>1</td>\n",
       "    </tr>\n",
       "    <tr>\n",
       "      <th>...</th>\n",
       "      <td>...</td>\n",
       "      <td>...</td>\n",
       "      <td>...</td>\n",
       "      <td>...</td>\n",
       "    </tr>\n",
       "    <tr>\n",
       "      <th>355</th>\n",
       "      <td>ENG_2</td>\n",
       "      <td>66c63f502b78911af098063d</td>\n",
       "      <td>recipe_Loss_Anecdotal</td>\n",
       "      <td>1</td>\n",
       "    </tr>\n",
       "    <tr>\n",
       "      <th>356</th>\n",
       "      <td>ENG_2</td>\n",
       "      <td>66c63f502b78911af098063d</td>\n",
       "      <td>recipe_Gain_Statistics</td>\n",
       "      <td>1</td>\n",
       "    </tr>\n",
       "    <tr>\n",
       "      <th>357</th>\n",
       "      <td>ENG_2</td>\n",
       "      <td>66c63f502b78911af098063d</td>\n",
       "      <td>recipe_Loss_Statistics</td>\n",
       "      <td>1</td>\n",
       "    </tr>\n",
       "    <tr>\n",
       "      <th>358</th>\n",
       "      <td>ENG_2</td>\n",
       "      <td>66c63f502b78911af098063d</td>\n",
       "      <td>recipe_ShortTerm</td>\n",
       "      <td>1</td>\n",
       "    </tr>\n",
       "    <tr>\n",
       "      <th>359</th>\n",
       "      <td>ENG_2</td>\n",
       "      <td>66c63f502b78911af098063d</td>\n",
       "      <td>recipe_LongTerm</td>\n",
       "      <td>1</td>\n",
       "    </tr>\n",
       "  </tbody>\n",
       "</table>\n",
       "<p>280 rows × 4 columns</p>\n",
       "</div>"
      ],
      "text/plain": [
       "    task_id                  study_id                  action  count\n",
       "1       ENG  66c516b1d61c7b572205f713   recipe_Gain_Anecdotal      3\n",
       "2       ENG  66c516b1d61c7b572205f713         recipe_LongTerm      1\n",
       "4       ENG  66c516b1d61c7b572205f713  recipe_Loss_Statistics      1\n",
       "5       ENG  66c516b1d61c7b572205f713  recipe_Gain_Statistics      2\n",
       "6       ENG  66c516b1d61c7b572205f713        recipe_ShortTerm      1\n",
       "..      ...                       ...                     ...    ...\n",
       "355   ENG_2  66c63f502b78911af098063d   recipe_Loss_Anecdotal      1\n",
       "356   ENG_2  66c63f502b78911af098063d  recipe_Gain_Statistics      1\n",
       "357   ENG_2  66c63f502b78911af098063d  recipe_Loss_Statistics      1\n",
       "358   ENG_2  66c63f502b78911af098063d        recipe_ShortTerm      1\n",
       "359   ENG_2  66c63f502b78911af098063d         recipe_LongTerm      1\n",
       "\n",
       "[280 rows x 4 columns]"
      ]
     },
     "execution_count": 19,
     "metadata": {},
     "output_type": "execute_result"
    }
   ],
   "source": [
    "filter_out_actions"
   ]
  },
  {
   "cell_type": "code",
   "execution_count": 20,
   "metadata": {},
   "outputs": [
    {
     "name": "stderr",
     "output_type": "stream",
     "text": [
      "C:\\Users\\shrey\\AppData\\Local\\Temp\\ipykernel_9836\\700126712.py:5: SettingWithCopyWarning: \n",
      "A value is trying to be set on a copy of a slice from a DataFrame.\n",
      "Try using .loc[row_indexer,col_indexer] = value instead\n",
      "\n",
      "See the caveats in the documentation: https://pandas.pydata.org/pandas-docs/stable/user_guide/indexing.html#returning-a-view-versus-a-copy\n",
      "  filter_out_actions.loc[:, 'filtered_action'] = filter_out_actions['action'].apply(\n"
     ]
    }
   ],
   "source": [
    "allowed_actions = ['CREATE CONTINUATION', 'recipe_Gain_Anecdotal', 'recipe_Gain_Statistics',\n",
    "                   'recipe_LongTerm', 'recipe_Loss_Anecdotal', 'recipe_Loss_Statistics',\n",
    "                   'recipe_ShortTerm']\n",
    "\n",
    "filter_out_actions.loc[:, 'filtered_action'] = filter_out_actions['action'].apply(\n",
    "    lambda x: x if x in allowed_actions else 'custom'\n",
    ")"
   ]
  },
  {
   "cell_type": "markdown",
   "metadata": {},
   "source": [
    "# count of actions from content usage"
   ]
  },
  {
   "cell_type": "code",
   "execution_count": 22,
   "metadata": {},
   "outputs": [],
   "source": [
    "content_usage = master_activity_df.merge(master_documents_df[[\"_id\",'content','word_count']], left_on='document_id', right_on='_id', how='inner').copy(deep=True)\n",
    "# content_usage['activity_log'] = content_usage['activity_log'].apply(ast.literal_eval)\n"
   ]
  },
  {
   "cell_type": "code",
   "execution_count": null,
   "metadata": {},
   "outputs": [],
   "source": []
  },
  {
   "cell_type": "code",
   "execution_count": null,
   "metadata": {},
   "outputs": [
    {
     "data": {
      "text/html": [
       "<div>\n",
       "<style scoped>\n",
       "    .dataframe tbody tr th:only-of-type {\n",
       "        vertical-align: middle;\n",
       "    }\n",
       "\n",
       "    .dataframe tbody tr th {\n",
       "        vertical-align: top;\n",
       "    }\n",
       "\n",
       "    .dataframe thead th {\n",
       "        text-align: right;\n",
       "    }\n",
       "</style>\n",
       "<table border=\"1\" class=\"dataframe\">\n",
       "  <thead>\n",
       "    <tr style=\"text-align: right;\">\n",
       "      <th></th>\n",
       "      <th>_id_x</th>\n",
       "      <th>document_id</th>\n",
       "      <th>task_id</th>\n",
       "      <th>prolific_id</th>\n",
       "      <th>activity_log</th>\n",
       "      <th>time_spent_outside</th>\n",
       "      <th>timestamp</th>\n",
       "      <th>study_id</th>\n",
       "      <th>TASK_ID</th>\n",
       "      <th>_id_y</th>\n",
       "      <th>content</th>\n",
       "      <th>word_count</th>\n",
       "    </tr>\n",
       "  </thead>\n",
       "  <tbody>\n",
       "    <tr>\n",
       "      <th>0</th>\n",
       "      <td>66c5a24c86c57a87db6f59e3</td>\n",
       "      <td>66c5a13c86c57a87db6f59d9</td>\n",
       "      <td>main_task_1</td>\n",
       "      <td>5a4ff22bacc75b000179b0e9</td>\n",
       "      <td>{'buttonClicks': [{'action': 'CREATE VARIATION...</td>\n",
       "      <td>0</td>\n",
       "      <td>2024-08-21 08:16:12.414000+00:00</td>\n",
       "      <td>66c516b1d61c7b572205f713</td>\n",
       "      <td>ENG</td>\n",
       "      <td>66c5a13c86c57a87db6f59d9</td>\n",
       "      <td>Join hands with us in protecting our planet's ...</td>\n",
       "      <td>176</td>\n",
       "    </tr>\n",
       "  </tbody>\n",
       "</table>\n",
       "</div>"
      ],
      "text/plain": [
       "                      _id_x               document_id      task_id  \\\n",
       "0  66c5a24c86c57a87db6f59e3  66c5a13c86c57a87db6f59d9  main_task_1   \n",
       "\n",
       "                prolific_id  \\\n",
       "0  5a4ff22bacc75b000179b0e9   \n",
       "\n",
       "                                        activity_log  time_spent_outside  \\\n",
       "0  {'buttonClicks': [{'action': 'CREATE VARIATION...                   0   \n",
       "\n",
       "                          timestamp                  study_id TASK_ID  \\\n",
       "0  2024-08-21 08:16:12.414000+00:00  66c516b1d61c7b572205f713     ENG   \n",
       "\n",
       "                      _id_y  \\\n",
       "0  66c5a13c86c57a87db6f59d9   \n",
       "\n",
       "                                             content  word_count  \n",
       "0  Join hands with us in protecting our planet's ...         176  "
      ]
     },
     "execution_count": 7,
     "metadata": {},
     "output_type": "execute_result"
    }
   ],
   "source": [
    "content_usage.head(1)"
   ]
  },
  {
   "cell_type": "code",
   "execution_count": 23,
   "metadata": {},
   "outputs": [],
   "source": [
    "content_usage['generated'] = content_usage['activity_log'].apply(lambda x: x['generatedContent'])"
   ]
  },
  {
   "cell_type": "code",
   "execution_count": 24,
   "metadata": {},
   "outputs": [],
   "source": [
    "usage_count_data = []\n",
    "for _, row in content_usage.iterrows():\n",
    "    # plain_text = row['plain_text']\n",
    "    generated_content = row['generated']\n",
    "    task_id = row['TASK_ID']\n",
    "    # for content in generated_content:\n",
    "    counter = Counter(content.get('feature', 'custom recipe') for content in generated_content)\n",
    "    for feat, cnt in counter.items():\n",
    "        usage_count_data.append(\n",
    "            {\n",
    "                'task_id': task_id,\n",
    "                'feature': feat,\n",
    "                'count': cnt,\n",
    "            }\n",
    "        )\n",
    "        \n",
    "    # weighted_similarity = calculate_weighted_similarity(plain_text, generated_content, model)\n",
    "    # weighted_similarity_results.append(weighted_similarity)"
   ]
  },
  {
   "cell_type": "code",
   "execution_count": 25,
   "metadata": {},
   "outputs": [
    {
     "data": {
      "text/plain": [
       "array(['@ai generation', 'Positive Narrative Framing',\n",
       "       'Emphasis on Long-Term Outcome',\n",
       "       'Cautionary Narrative with Statistics',\n",
       "       'Positive Narrative Framing with Statistics',\n",
       "       'Emphasis on Immediate Outcome', 'Cautionary Narrative Framing',\n",
       "       'continuation', 'newly created recipe', 'Emotional Manipulation',\n",
       "       'custom recipe', 'Summary: ADD STATISTICS', 'Be More Emotional'],\n",
       "      dtype=object)"
      ]
     },
     "execution_count": 25,
     "metadata": {},
     "output_type": "execute_result"
    }
   ],
   "source": [
    "usage_count_df = pd.DataFrame(usage_count_data)\n",
    "usage_count_df['feature'].unique()"
   ]
  },
  {
   "cell_type": "code",
   "execution_count": 26,
   "metadata": {},
   "outputs": [],
   "source": [
    "usage_names_list = [\n",
    "    \"continuation\",\n",
    "    \"@ai generation\",\n",
    "    \"Positive Narrative Framing\",\n",
    "    \"Cautionary Narrative Framing\",\n",
    "    \"Positive Narrative Framing with Statistics\",\n",
    "    \"Cautionary Narrative with Statistics\",\n",
    "    \"Emphasis on Immediate Outcome\",\n",
    "    \"Emphasis on Long-Term Outcome\"\n",
    "]"
   ]
  },
  {
   "cell_type": "code",
   "execution_count": 27,
   "metadata": {},
   "outputs": [],
   "source": [
    "usage_count_df['feature_filtered'] = usage_count_df['feature'].apply(\n",
    "    lambda x: x if x in usage_names_list else 'custom'\n",
    ")"
   ]
  },
  {
   "cell_type": "code",
   "execution_count": null,
   "metadata": {},
   "outputs": [
    {
     "data": {
      "text/html": [
       "<div>\n",
       "<style scoped>\n",
       "    .dataframe tbody tr th:only-of-type {\n",
       "        vertical-align: middle;\n",
       "    }\n",
       "\n",
       "    .dataframe tbody tr th {\n",
       "        vertical-align: top;\n",
       "    }\n",
       "\n",
       "    .dataframe thead th {\n",
       "        text-align: right;\n",
       "    }\n",
       "</style>\n",
       "<table border=\"1\" class=\"dataframe\">\n",
       "  <thead>\n",
       "    <tr style=\"text-align: right;\">\n",
       "      <th></th>\n",
       "      <th>task_id</th>\n",
       "      <th>feature</th>\n",
       "      <th>count</th>\n",
       "      <th>feature_filtered</th>\n",
       "    </tr>\n",
       "  </thead>\n",
       "  <tbody>\n",
       "    <tr>\n",
       "      <th>0</th>\n",
       "      <td>ENG</td>\n",
       "      <td>@ai generation</td>\n",
       "      <td>1</td>\n",
       "      <td>@ai generation</td>\n",
       "    </tr>\n",
       "    <tr>\n",
       "      <th>1</th>\n",
       "      <td>ENG</td>\n",
       "      <td>Positive Narrative Framing</td>\n",
       "      <td>3</td>\n",
       "      <td>Positive Narrative Framing</td>\n",
       "    </tr>\n",
       "    <tr>\n",
       "      <th>2</th>\n",
       "      <td>ENG</td>\n",
       "      <td>Emphasis on Long-Term Outcome</td>\n",
       "      <td>1</td>\n",
       "      <td>Emphasis on Long-Term Outcome</td>\n",
       "    </tr>\n",
       "    <tr>\n",
       "      <th>3</th>\n",
       "      <td>ENG</td>\n",
       "      <td>Cautionary Narrative with Statistics</td>\n",
       "      <td>1</td>\n",
       "      <td>Cautionary Narrative with Statistics</td>\n",
       "    </tr>\n",
       "    <tr>\n",
       "      <th>4</th>\n",
       "      <td>ENG</td>\n",
       "      <td>Positive Narrative Framing with Statistics</td>\n",
       "      <td>2</td>\n",
       "      <td>Positive Narrative Framing with Statistics</td>\n",
       "    </tr>\n",
       "  </tbody>\n",
       "</table>\n",
       "</div>"
      ],
      "text/plain": [
       "  task_id                                     feature  count  \\\n",
       "0     ENG                              @ai generation      1   \n",
       "1     ENG                  Positive Narrative Framing      3   \n",
       "2     ENG               Emphasis on Long-Term Outcome      1   \n",
       "3     ENG        Cautionary Narrative with Statistics      1   \n",
       "4     ENG  Positive Narrative Framing with Statistics      2   \n",
       "\n",
       "                             feature_filtered  \n",
       "0                              @ai generation  \n",
       "1                  Positive Narrative Framing  \n",
       "2               Emphasis on Long-Term Outcome  \n",
       "3        Cautionary Narrative with Statistics  \n",
       "4  Positive Narrative Framing with Statistics  "
      ]
     },
     "execution_count": 13,
     "metadata": {},
     "output_type": "execute_result"
    }
   ],
   "source": [
    "usage_count_df.head()"
   ]
  },
  {
   "cell_type": "code",
   "execution_count": 28,
   "metadata": {},
   "outputs": [],
   "source": [
    "# aggregate_data = usage_count_df.groupby(['task_id', 'feature_filtered'])['count'].sum().reset_index()\n",
    "usage_count_grouped = usage_count_df.groupby(['task_id', 'feature_filtered'])['count'].sum().reset_index()"
   ]
  },
  {
   "cell_type": "code",
   "execution_count": 29,
   "metadata": {},
   "outputs": [
    {
     "data": {
      "text/html": [
       "<div>\n",
       "<style scoped>\n",
       "    .dataframe tbody tr th:only-of-type {\n",
       "        vertical-align: middle;\n",
       "    }\n",
       "\n",
       "    .dataframe tbody tr th {\n",
       "        vertical-align: top;\n",
       "    }\n",
       "\n",
       "    .dataframe thead th {\n",
       "        text-align: right;\n",
       "    }\n",
       "</style>\n",
       "<table border=\"1\" class=\"dataframe\">\n",
       "  <thead>\n",
       "    <tr style=\"text-align: right;\">\n",
       "      <th></th>\n",
       "      <th>task_id</th>\n",
       "      <th>feature_filtered</th>\n",
       "      <th>count</th>\n",
       "    </tr>\n",
       "  </thead>\n",
       "  <tbody>\n",
       "    <tr>\n",
       "      <th>0</th>\n",
       "      <td>ENG</td>\n",
       "      <td>@ai generation</td>\n",
       "      <td>30</td>\n",
       "    </tr>\n",
       "    <tr>\n",
       "      <th>1</th>\n",
       "      <td>ENG</td>\n",
       "      <td>Cautionary Narrative Framing</td>\n",
       "      <td>12</td>\n",
       "    </tr>\n",
       "    <tr>\n",
       "      <th>2</th>\n",
       "      <td>ENG</td>\n",
       "      <td>Cautionary Narrative with Statistics</td>\n",
       "      <td>11</td>\n",
       "    </tr>\n",
       "    <tr>\n",
       "      <th>3</th>\n",
       "      <td>ENG</td>\n",
       "      <td>Emphasis on Immediate Outcome</td>\n",
       "      <td>13</td>\n",
       "    </tr>\n",
       "    <tr>\n",
       "      <th>4</th>\n",
       "      <td>ENG</td>\n",
       "      <td>Emphasis on Long-Term Outcome</td>\n",
       "      <td>18</td>\n",
       "    </tr>\n",
       "    <tr>\n",
       "      <th>5</th>\n",
       "      <td>ENG</td>\n",
       "      <td>Positive Narrative Framing</td>\n",
       "      <td>31</td>\n",
       "    </tr>\n",
       "    <tr>\n",
       "      <th>6</th>\n",
       "      <td>ENG</td>\n",
       "      <td>Positive Narrative Framing with Statistics</td>\n",
       "      <td>15</td>\n",
       "    </tr>\n",
       "    <tr>\n",
       "      <th>7</th>\n",
       "      <td>ENG</td>\n",
       "      <td>continuation</td>\n",
       "      <td>10</td>\n",
       "    </tr>\n",
       "    <tr>\n",
       "      <th>8</th>\n",
       "      <td>ENG</td>\n",
       "      <td>custom</td>\n",
       "      <td>4</td>\n",
       "    </tr>\n",
       "    <tr>\n",
       "      <th>9</th>\n",
       "      <td>ENG_1</td>\n",
       "      <td>@ai generation</td>\n",
       "      <td>28</td>\n",
       "    </tr>\n",
       "    <tr>\n",
       "      <th>10</th>\n",
       "      <td>ENG_1</td>\n",
       "      <td>Cautionary Narrative Framing</td>\n",
       "      <td>9</td>\n",
       "    </tr>\n",
       "    <tr>\n",
       "      <th>11</th>\n",
       "      <td>ENG_1</td>\n",
       "      <td>Cautionary Narrative with Statistics</td>\n",
       "      <td>8</td>\n",
       "    </tr>\n",
       "    <tr>\n",
       "      <th>12</th>\n",
       "      <td>ENG_1</td>\n",
       "      <td>Emphasis on Immediate Outcome</td>\n",
       "      <td>12</td>\n",
       "    </tr>\n",
       "    <tr>\n",
       "      <th>13</th>\n",
       "      <td>ENG_1</td>\n",
       "      <td>Emphasis on Long-Term Outcome</td>\n",
       "      <td>10</td>\n",
       "    </tr>\n",
       "    <tr>\n",
       "      <th>14</th>\n",
       "      <td>ENG_1</td>\n",
       "      <td>Positive Narrative Framing</td>\n",
       "      <td>21</td>\n",
       "    </tr>\n",
       "    <tr>\n",
       "      <th>15</th>\n",
       "      <td>ENG_1</td>\n",
       "      <td>Positive Narrative Framing with Statistics</td>\n",
       "      <td>11</td>\n",
       "    </tr>\n",
       "    <tr>\n",
       "      <th>16</th>\n",
       "      <td>ENG_1</td>\n",
       "      <td>continuation</td>\n",
       "      <td>7</td>\n",
       "    </tr>\n",
       "    <tr>\n",
       "      <th>17</th>\n",
       "      <td>ENG_1</td>\n",
       "      <td>custom</td>\n",
       "      <td>10</td>\n",
       "    </tr>\n",
       "    <tr>\n",
       "      <th>18</th>\n",
       "      <td>ENG_2</td>\n",
       "      <td>@ai generation</td>\n",
       "      <td>10</td>\n",
       "    </tr>\n",
       "    <tr>\n",
       "      <th>19</th>\n",
       "      <td>ENG_2</td>\n",
       "      <td>Cautionary Narrative Framing</td>\n",
       "      <td>7</td>\n",
       "    </tr>\n",
       "    <tr>\n",
       "      <th>20</th>\n",
       "      <td>ENG_2</td>\n",
       "      <td>Cautionary Narrative with Statistics</td>\n",
       "      <td>13</td>\n",
       "    </tr>\n",
       "    <tr>\n",
       "      <th>21</th>\n",
       "      <td>ENG_2</td>\n",
       "      <td>Emphasis on Immediate Outcome</td>\n",
       "      <td>10</td>\n",
       "    </tr>\n",
       "    <tr>\n",
       "      <th>22</th>\n",
       "      <td>ENG_2</td>\n",
       "      <td>Emphasis on Long-Term Outcome</td>\n",
       "      <td>6</td>\n",
       "    </tr>\n",
       "    <tr>\n",
       "      <th>23</th>\n",
       "      <td>ENG_2</td>\n",
       "      <td>Positive Narrative Framing</td>\n",
       "      <td>10</td>\n",
       "    </tr>\n",
       "    <tr>\n",
       "      <th>24</th>\n",
       "      <td>ENG_2</td>\n",
       "      <td>Positive Narrative Framing with Statistics</td>\n",
       "      <td>8</td>\n",
       "    </tr>\n",
       "    <tr>\n",
       "      <th>25</th>\n",
       "      <td>ENG_2</td>\n",
       "      <td>continuation</td>\n",
       "      <td>8</td>\n",
       "    </tr>\n",
       "    <tr>\n",
       "      <th>26</th>\n",
       "      <td>ENG_2</td>\n",
       "      <td>custom</td>\n",
       "      <td>9</td>\n",
       "    </tr>\n",
       "    <tr>\n",
       "      <th>27</th>\n",
       "      <td>ESP_1</td>\n",
       "      <td>@ai generation</td>\n",
       "      <td>9</td>\n",
       "    </tr>\n",
       "    <tr>\n",
       "      <th>28</th>\n",
       "      <td>ESP_1</td>\n",
       "      <td>Cautionary Narrative Framing</td>\n",
       "      <td>5</td>\n",
       "    </tr>\n",
       "    <tr>\n",
       "      <th>29</th>\n",
       "      <td>ESP_1</td>\n",
       "      <td>Cautionary Narrative with Statistics</td>\n",
       "      <td>7</td>\n",
       "    </tr>\n",
       "    <tr>\n",
       "      <th>30</th>\n",
       "      <td>ESP_1</td>\n",
       "      <td>Emphasis on Immediate Outcome</td>\n",
       "      <td>7</td>\n",
       "    </tr>\n",
       "    <tr>\n",
       "      <th>31</th>\n",
       "      <td>ESP_1</td>\n",
       "      <td>Emphasis on Long-Term Outcome</td>\n",
       "      <td>17</td>\n",
       "    </tr>\n",
       "    <tr>\n",
       "      <th>32</th>\n",
       "      <td>ESP_1</td>\n",
       "      <td>Positive Narrative Framing</td>\n",
       "      <td>14</td>\n",
       "    </tr>\n",
       "    <tr>\n",
       "      <th>33</th>\n",
       "      <td>ESP_1</td>\n",
       "      <td>Positive Narrative Framing with Statistics</td>\n",
       "      <td>7</td>\n",
       "    </tr>\n",
       "    <tr>\n",
       "      <th>34</th>\n",
       "      <td>ESP_1</td>\n",
       "      <td>continuation</td>\n",
       "      <td>8</td>\n",
       "    </tr>\n",
       "    <tr>\n",
       "      <th>35</th>\n",
       "      <td>ESP_1</td>\n",
       "      <td>custom</td>\n",
       "      <td>13</td>\n",
       "    </tr>\n",
       "    <tr>\n",
       "      <th>36</th>\n",
       "      <td>ESP_2</td>\n",
       "      <td>@ai generation</td>\n",
       "      <td>27</td>\n",
       "    </tr>\n",
       "    <tr>\n",
       "      <th>37</th>\n",
       "      <td>ESP_2</td>\n",
       "      <td>Cautionary Narrative Framing</td>\n",
       "      <td>6</td>\n",
       "    </tr>\n",
       "    <tr>\n",
       "      <th>38</th>\n",
       "      <td>ESP_2</td>\n",
       "      <td>Cautionary Narrative with Statistics</td>\n",
       "      <td>10</td>\n",
       "    </tr>\n",
       "    <tr>\n",
       "      <th>39</th>\n",
       "      <td>ESP_2</td>\n",
       "      <td>Emphasis on Immediate Outcome</td>\n",
       "      <td>4</td>\n",
       "    </tr>\n",
       "    <tr>\n",
       "      <th>40</th>\n",
       "      <td>ESP_2</td>\n",
       "      <td>Emphasis on Long-Term Outcome</td>\n",
       "      <td>7</td>\n",
       "    </tr>\n",
       "    <tr>\n",
       "      <th>41</th>\n",
       "      <td>ESP_2</td>\n",
       "      <td>Positive Narrative Framing</td>\n",
       "      <td>14</td>\n",
       "    </tr>\n",
       "    <tr>\n",
       "      <th>42</th>\n",
       "      <td>ESP_2</td>\n",
       "      <td>Positive Narrative Framing with Statistics</td>\n",
       "      <td>12</td>\n",
       "    </tr>\n",
       "    <tr>\n",
       "      <th>43</th>\n",
       "      <td>ESP_2</td>\n",
       "      <td>continuation</td>\n",
       "      <td>15</td>\n",
       "    </tr>\n",
       "    <tr>\n",
       "      <th>44</th>\n",
       "      <td>ESP_2</td>\n",
       "      <td>custom</td>\n",
       "      <td>4</td>\n",
       "    </tr>\n",
       "  </tbody>\n",
       "</table>\n",
       "</div>"
      ],
      "text/plain": [
       "   task_id                            feature_filtered  count\n",
       "0      ENG                              @ai generation     30\n",
       "1      ENG                Cautionary Narrative Framing     12\n",
       "2      ENG        Cautionary Narrative with Statistics     11\n",
       "3      ENG               Emphasis on Immediate Outcome     13\n",
       "4      ENG               Emphasis on Long-Term Outcome     18\n",
       "5      ENG                  Positive Narrative Framing     31\n",
       "6      ENG  Positive Narrative Framing with Statistics     15\n",
       "7      ENG                                continuation     10\n",
       "8      ENG                                      custom      4\n",
       "9    ENG_1                              @ai generation     28\n",
       "10   ENG_1                Cautionary Narrative Framing      9\n",
       "11   ENG_1        Cautionary Narrative with Statistics      8\n",
       "12   ENG_1               Emphasis on Immediate Outcome     12\n",
       "13   ENG_1               Emphasis on Long-Term Outcome     10\n",
       "14   ENG_1                  Positive Narrative Framing     21\n",
       "15   ENG_1  Positive Narrative Framing with Statistics     11\n",
       "16   ENG_1                                continuation      7\n",
       "17   ENG_1                                      custom     10\n",
       "18   ENG_2                              @ai generation     10\n",
       "19   ENG_2                Cautionary Narrative Framing      7\n",
       "20   ENG_2        Cautionary Narrative with Statistics     13\n",
       "21   ENG_2               Emphasis on Immediate Outcome     10\n",
       "22   ENG_2               Emphasis on Long-Term Outcome      6\n",
       "23   ENG_2                  Positive Narrative Framing     10\n",
       "24   ENG_2  Positive Narrative Framing with Statistics      8\n",
       "25   ENG_2                                continuation      8\n",
       "26   ENG_2                                      custom      9\n",
       "27   ESP_1                              @ai generation      9\n",
       "28   ESP_1                Cautionary Narrative Framing      5\n",
       "29   ESP_1        Cautionary Narrative with Statistics      7\n",
       "30   ESP_1               Emphasis on Immediate Outcome      7\n",
       "31   ESP_1               Emphasis on Long-Term Outcome     17\n",
       "32   ESP_1                  Positive Narrative Framing     14\n",
       "33   ESP_1  Positive Narrative Framing with Statistics      7\n",
       "34   ESP_1                                continuation      8\n",
       "35   ESP_1                                      custom     13\n",
       "36   ESP_2                              @ai generation     27\n",
       "37   ESP_2                Cautionary Narrative Framing      6\n",
       "38   ESP_2        Cautionary Narrative with Statistics     10\n",
       "39   ESP_2               Emphasis on Immediate Outcome      4\n",
       "40   ESP_2               Emphasis on Long-Term Outcome      7\n",
       "41   ESP_2                  Positive Narrative Framing     14\n",
       "42   ESP_2  Positive Narrative Framing with Statistics     12\n",
       "43   ESP_2                                continuation     15\n",
       "44   ESP_2                                      custom      4"
      ]
     },
     "execution_count": 29,
     "metadata": {},
     "output_type": "execute_result"
    }
   ],
   "source": [
    "usage_count_grouped"
   ]
  },
  {
   "cell_type": "code",
   "execution_count": 35,
   "metadata": {},
   "outputs": [
    {
     "data": {
      "application/vnd.plotly.v1+json": {
       "config": {
        "plotlyServerURL": "https://plot.ly"
       },
       "data": [
        {
         "alignmentgroup": "True",
         "hovertemplate": "feature_filtered=@ai generation<br>task_id=%{x}<br>count=%{y}<extra></extra>",
         "legendgroup": "@ai generation",
         "marker": {
          "color": "#636efa",
          "pattern": {
           "shape": ""
          }
         },
         "name": "@ai generation",
         "offsetgroup": "@ai generation",
         "orientation": "v",
         "showlegend": true,
         "textposition": "auto",
         "type": "bar",
         "x": [
          "ENG",
          "ENG_1",
          "ENG_2",
          "ESP_1",
          "ESP_2"
         ],
         "xaxis": "x",
         "y": [
          30,
          28,
          10,
          9,
          27
         ],
         "yaxis": "y"
        },
        {
         "alignmentgroup": "True",
         "hovertemplate": "feature_filtered=Cautionary Narrative Framing<br>task_id=%{x}<br>count=%{y}<extra></extra>",
         "legendgroup": "Cautionary Narrative Framing",
         "marker": {
          "color": "#EF553B",
          "pattern": {
           "shape": ""
          }
         },
         "name": "Cautionary Narrative Framing",
         "offsetgroup": "Cautionary Narrative Framing",
         "orientation": "v",
         "showlegend": true,
         "textposition": "auto",
         "type": "bar",
         "x": [
          "ENG",
          "ENG_1",
          "ENG_2",
          "ESP_1",
          "ESP_2"
         ],
         "xaxis": "x",
         "y": [
          12,
          9,
          7,
          5,
          6
         ],
         "yaxis": "y"
        },
        {
         "alignmentgroup": "True",
         "hovertemplate": "feature_filtered=Cautionary Narrative with Statistics<br>task_id=%{x}<br>count=%{y}<extra></extra>",
         "legendgroup": "Cautionary Narrative with Statistics",
         "marker": {
          "color": "#00cc96",
          "pattern": {
           "shape": ""
          }
         },
         "name": "Cautionary Narrative with Statistics",
         "offsetgroup": "Cautionary Narrative with Statistics",
         "orientation": "v",
         "showlegend": true,
         "textposition": "auto",
         "type": "bar",
         "x": [
          "ENG",
          "ENG_1",
          "ENG_2",
          "ESP_1",
          "ESP_2"
         ],
         "xaxis": "x",
         "y": [
          11,
          8,
          13,
          7,
          10
         ],
         "yaxis": "y"
        },
        {
         "alignmentgroup": "True",
         "hovertemplate": "feature_filtered=Emphasis on Immediate Outcome<br>task_id=%{x}<br>count=%{y}<extra></extra>",
         "legendgroup": "Emphasis on Immediate Outcome",
         "marker": {
          "color": "#ab63fa",
          "pattern": {
           "shape": ""
          }
         },
         "name": "Emphasis on Immediate Outcome",
         "offsetgroup": "Emphasis on Immediate Outcome",
         "orientation": "v",
         "showlegend": true,
         "textposition": "auto",
         "type": "bar",
         "x": [
          "ENG",
          "ENG_1",
          "ENG_2",
          "ESP_1",
          "ESP_2"
         ],
         "xaxis": "x",
         "y": [
          13,
          12,
          10,
          7,
          4
         ],
         "yaxis": "y"
        },
        {
         "alignmentgroup": "True",
         "hovertemplate": "feature_filtered=Emphasis on Long-Term Outcome<br>task_id=%{x}<br>count=%{y}<extra></extra>",
         "legendgroup": "Emphasis on Long-Term Outcome",
         "marker": {
          "color": "#FFA15A",
          "pattern": {
           "shape": ""
          }
         },
         "name": "Emphasis on Long-Term Outcome",
         "offsetgroup": "Emphasis on Long-Term Outcome",
         "orientation": "v",
         "showlegend": true,
         "textposition": "auto",
         "type": "bar",
         "x": [
          "ENG",
          "ENG_1",
          "ENG_2",
          "ESP_1",
          "ESP_2"
         ],
         "xaxis": "x",
         "y": [
          18,
          10,
          6,
          17,
          7
         ],
         "yaxis": "y"
        },
        {
         "alignmentgroup": "True",
         "hovertemplate": "feature_filtered=Positive Narrative Framing<br>task_id=%{x}<br>count=%{y}<extra></extra>",
         "legendgroup": "Positive Narrative Framing",
         "marker": {
          "color": "#19d3f3",
          "pattern": {
           "shape": ""
          }
         },
         "name": "Positive Narrative Framing",
         "offsetgroup": "Positive Narrative Framing",
         "orientation": "v",
         "showlegend": true,
         "textposition": "auto",
         "type": "bar",
         "x": [
          "ENG",
          "ENG_1",
          "ENG_2",
          "ESP_1",
          "ESP_2"
         ],
         "xaxis": "x",
         "y": [
          31,
          21,
          10,
          14,
          14
         ],
         "yaxis": "y"
        },
        {
         "alignmentgroup": "True",
         "hovertemplate": "feature_filtered=Positive Narrative Framing with Statistics<br>task_id=%{x}<br>count=%{y}<extra></extra>",
         "legendgroup": "Positive Narrative Framing with Statistics",
         "marker": {
          "color": "#FF6692",
          "pattern": {
           "shape": ""
          }
         },
         "name": "Positive Narrative Framing with Statistics",
         "offsetgroup": "Positive Narrative Framing with Statistics",
         "orientation": "v",
         "showlegend": true,
         "textposition": "auto",
         "type": "bar",
         "x": [
          "ENG",
          "ENG_1",
          "ENG_2",
          "ESP_1",
          "ESP_2"
         ],
         "xaxis": "x",
         "y": [
          15,
          11,
          8,
          7,
          12
         ],
         "yaxis": "y"
        },
        {
         "alignmentgroup": "True",
         "hovertemplate": "feature_filtered=continuation<br>task_id=%{x}<br>count=%{y}<extra></extra>",
         "legendgroup": "continuation",
         "marker": {
          "color": "#B6E880",
          "pattern": {
           "shape": ""
          }
         },
         "name": "continuation",
         "offsetgroup": "continuation",
         "orientation": "v",
         "showlegend": true,
         "textposition": "auto",
         "type": "bar",
         "x": [
          "ENG",
          "ENG_1",
          "ENG_2",
          "ESP_1",
          "ESP_2"
         ],
         "xaxis": "x",
         "y": [
          10,
          7,
          8,
          8,
          15
         ],
         "yaxis": "y"
        },
        {
         "alignmentgroup": "True",
         "hovertemplate": "feature_filtered=custom<br>task_id=%{x}<br>count=%{y}<extra></extra>",
         "legendgroup": "custom",
         "marker": {
          "color": "#FF97FF",
          "pattern": {
           "shape": ""
          }
         },
         "name": "custom",
         "offsetgroup": "custom",
         "orientation": "v",
         "showlegend": true,
         "textposition": "auto",
         "type": "bar",
         "x": [
          "ENG",
          "ENG_1",
          "ENG_2",
          "ESP_1",
          "ESP_2"
         ],
         "xaxis": "x",
         "y": [
          4,
          10,
          9,
          13,
          4
         ],
         "yaxis": "y"
        }
       ],
       "layout": {
        "bargap": 0.15,
        "bargroupgap": 0.1,
        "barmode": "group",
        "height": 800,
        "legend": {
         "title": {
          "text": "Action"
         },
         "tracegroupgap": 0
        },
        "template": {
         "data": {
          "bar": [
           {
            "error_x": {
             "color": "#2a3f5f"
            },
            "error_y": {
             "color": "#2a3f5f"
            },
            "marker": {
             "line": {
              "color": "#E5ECF6",
              "width": 0.5
             },
             "pattern": {
              "fillmode": "overlay",
              "size": 10,
              "solidity": 0.2
             }
            },
            "type": "bar"
           }
          ],
          "barpolar": [
           {
            "marker": {
             "line": {
              "color": "#E5ECF6",
              "width": 0.5
             },
             "pattern": {
              "fillmode": "overlay",
              "size": 10,
              "solidity": 0.2
             }
            },
            "type": "barpolar"
           }
          ],
          "carpet": [
           {
            "aaxis": {
             "endlinecolor": "#2a3f5f",
             "gridcolor": "white",
             "linecolor": "white",
             "minorgridcolor": "white",
             "startlinecolor": "#2a3f5f"
            },
            "baxis": {
             "endlinecolor": "#2a3f5f",
             "gridcolor": "white",
             "linecolor": "white",
             "minorgridcolor": "white",
             "startlinecolor": "#2a3f5f"
            },
            "type": "carpet"
           }
          ],
          "choropleth": [
           {
            "colorbar": {
             "outlinewidth": 0,
             "ticks": ""
            },
            "type": "choropleth"
           }
          ],
          "contour": [
           {
            "colorbar": {
             "outlinewidth": 0,
             "ticks": ""
            },
            "colorscale": [
             [
              0,
              "#0d0887"
             ],
             [
              0.1111111111111111,
              "#46039f"
             ],
             [
              0.2222222222222222,
              "#7201a8"
             ],
             [
              0.3333333333333333,
              "#9c179e"
             ],
             [
              0.4444444444444444,
              "#bd3786"
             ],
             [
              0.5555555555555556,
              "#d8576b"
             ],
             [
              0.6666666666666666,
              "#ed7953"
             ],
             [
              0.7777777777777778,
              "#fb9f3a"
             ],
             [
              0.8888888888888888,
              "#fdca26"
             ],
             [
              1,
              "#f0f921"
             ]
            ],
            "type": "contour"
           }
          ],
          "contourcarpet": [
           {
            "colorbar": {
             "outlinewidth": 0,
             "ticks": ""
            },
            "type": "contourcarpet"
           }
          ],
          "heatmap": [
           {
            "colorbar": {
             "outlinewidth": 0,
             "ticks": ""
            },
            "colorscale": [
             [
              0,
              "#0d0887"
             ],
             [
              0.1111111111111111,
              "#46039f"
             ],
             [
              0.2222222222222222,
              "#7201a8"
             ],
             [
              0.3333333333333333,
              "#9c179e"
             ],
             [
              0.4444444444444444,
              "#bd3786"
             ],
             [
              0.5555555555555556,
              "#d8576b"
             ],
             [
              0.6666666666666666,
              "#ed7953"
             ],
             [
              0.7777777777777778,
              "#fb9f3a"
             ],
             [
              0.8888888888888888,
              "#fdca26"
             ],
             [
              1,
              "#f0f921"
             ]
            ],
            "type": "heatmap"
           }
          ],
          "heatmapgl": [
           {
            "colorbar": {
             "outlinewidth": 0,
             "ticks": ""
            },
            "colorscale": [
             [
              0,
              "#0d0887"
             ],
             [
              0.1111111111111111,
              "#46039f"
             ],
             [
              0.2222222222222222,
              "#7201a8"
             ],
             [
              0.3333333333333333,
              "#9c179e"
             ],
             [
              0.4444444444444444,
              "#bd3786"
             ],
             [
              0.5555555555555556,
              "#d8576b"
             ],
             [
              0.6666666666666666,
              "#ed7953"
             ],
             [
              0.7777777777777778,
              "#fb9f3a"
             ],
             [
              0.8888888888888888,
              "#fdca26"
             ],
             [
              1,
              "#f0f921"
             ]
            ],
            "type": "heatmapgl"
           }
          ],
          "histogram": [
           {
            "marker": {
             "pattern": {
              "fillmode": "overlay",
              "size": 10,
              "solidity": 0.2
             }
            },
            "type": "histogram"
           }
          ],
          "histogram2d": [
           {
            "colorbar": {
             "outlinewidth": 0,
             "ticks": ""
            },
            "colorscale": [
             [
              0,
              "#0d0887"
             ],
             [
              0.1111111111111111,
              "#46039f"
             ],
             [
              0.2222222222222222,
              "#7201a8"
             ],
             [
              0.3333333333333333,
              "#9c179e"
             ],
             [
              0.4444444444444444,
              "#bd3786"
             ],
             [
              0.5555555555555556,
              "#d8576b"
             ],
             [
              0.6666666666666666,
              "#ed7953"
             ],
             [
              0.7777777777777778,
              "#fb9f3a"
             ],
             [
              0.8888888888888888,
              "#fdca26"
             ],
             [
              1,
              "#f0f921"
             ]
            ],
            "type": "histogram2d"
           }
          ],
          "histogram2dcontour": [
           {
            "colorbar": {
             "outlinewidth": 0,
             "ticks": ""
            },
            "colorscale": [
             [
              0,
              "#0d0887"
             ],
             [
              0.1111111111111111,
              "#46039f"
             ],
             [
              0.2222222222222222,
              "#7201a8"
             ],
             [
              0.3333333333333333,
              "#9c179e"
             ],
             [
              0.4444444444444444,
              "#bd3786"
             ],
             [
              0.5555555555555556,
              "#d8576b"
             ],
             [
              0.6666666666666666,
              "#ed7953"
             ],
             [
              0.7777777777777778,
              "#fb9f3a"
             ],
             [
              0.8888888888888888,
              "#fdca26"
             ],
             [
              1,
              "#f0f921"
             ]
            ],
            "type": "histogram2dcontour"
           }
          ],
          "mesh3d": [
           {
            "colorbar": {
             "outlinewidth": 0,
             "ticks": ""
            },
            "type": "mesh3d"
           }
          ],
          "parcoords": [
           {
            "line": {
             "colorbar": {
              "outlinewidth": 0,
              "ticks": ""
             }
            },
            "type": "parcoords"
           }
          ],
          "pie": [
           {
            "automargin": true,
            "type": "pie"
           }
          ],
          "scatter": [
           {
            "fillpattern": {
             "fillmode": "overlay",
             "size": 10,
             "solidity": 0.2
            },
            "type": "scatter"
           }
          ],
          "scatter3d": [
           {
            "line": {
             "colorbar": {
              "outlinewidth": 0,
              "ticks": ""
             }
            },
            "marker": {
             "colorbar": {
              "outlinewidth": 0,
              "ticks": ""
             }
            },
            "type": "scatter3d"
           }
          ],
          "scattercarpet": [
           {
            "marker": {
             "colorbar": {
              "outlinewidth": 0,
              "ticks": ""
             }
            },
            "type": "scattercarpet"
           }
          ],
          "scattergeo": [
           {
            "marker": {
             "colorbar": {
              "outlinewidth": 0,
              "ticks": ""
             }
            },
            "type": "scattergeo"
           }
          ],
          "scattergl": [
           {
            "marker": {
             "colorbar": {
              "outlinewidth": 0,
              "ticks": ""
             }
            },
            "type": "scattergl"
           }
          ],
          "scattermapbox": [
           {
            "marker": {
             "colorbar": {
              "outlinewidth": 0,
              "ticks": ""
             }
            },
            "type": "scattermapbox"
           }
          ],
          "scatterpolar": [
           {
            "marker": {
             "colorbar": {
              "outlinewidth": 0,
              "ticks": ""
             }
            },
            "type": "scatterpolar"
           }
          ],
          "scatterpolargl": [
           {
            "marker": {
             "colorbar": {
              "outlinewidth": 0,
              "ticks": ""
             }
            },
            "type": "scatterpolargl"
           }
          ],
          "scatterternary": [
           {
            "marker": {
             "colorbar": {
              "outlinewidth": 0,
              "ticks": ""
             }
            },
            "type": "scatterternary"
           }
          ],
          "surface": [
           {
            "colorbar": {
             "outlinewidth": 0,
             "ticks": ""
            },
            "colorscale": [
             [
              0,
              "#0d0887"
             ],
             [
              0.1111111111111111,
              "#46039f"
             ],
             [
              0.2222222222222222,
              "#7201a8"
             ],
             [
              0.3333333333333333,
              "#9c179e"
             ],
             [
              0.4444444444444444,
              "#bd3786"
             ],
             [
              0.5555555555555556,
              "#d8576b"
             ],
             [
              0.6666666666666666,
              "#ed7953"
             ],
             [
              0.7777777777777778,
              "#fb9f3a"
             ],
             [
              0.8888888888888888,
              "#fdca26"
             ],
             [
              1,
              "#f0f921"
             ]
            ],
            "type": "surface"
           }
          ],
          "table": [
           {
            "cells": {
             "fill": {
              "color": "#EBF0F8"
             },
             "line": {
              "color": "white"
             }
            },
            "header": {
             "fill": {
              "color": "#C8D4E3"
             },
             "line": {
              "color": "white"
             }
            },
            "type": "table"
           }
          ]
         },
         "layout": {
          "annotationdefaults": {
           "arrowcolor": "#2a3f5f",
           "arrowhead": 0,
           "arrowwidth": 1
          },
          "autotypenumbers": "strict",
          "coloraxis": {
           "colorbar": {
            "outlinewidth": 0,
            "ticks": ""
           }
          },
          "colorscale": {
           "diverging": [
            [
             0,
             "#8e0152"
            ],
            [
             0.1,
             "#c51b7d"
            ],
            [
             0.2,
             "#de77ae"
            ],
            [
             0.3,
             "#f1b6da"
            ],
            [
             0.4,
             "#fde0ef"
            ],
            [
             0.5,
             "#f7f7f7"
            ],
            [
             0.6,
             "#e6f5d0"
            ],
            [
             0.7,
             "#b8e186"
            ],
            [
             0.8,
             "#7fbc41"
            ],
            [
             0.9,
             "#4d9221"
            ],
            [
             1,
             "#276419"
            ]
           ],
           "sequential": [
            [
             0,
             "#0d0887"
            ],
            [
             0.1111111111111111,
             "#46039f"
            ],
            [
             0.2222222222222222,
             "#7201a8"
            ],
            [
             0.3333333333333333,
             "#9c179e"
            ],
            [
             0.4444444444444444,
             "#bd3786"
            ],
            [
             0.5555555555555556,
             "#d8576b"
            ],
            [
             0.6666666666666666,
             "#ed7953"
            ],
            [
             0.7777777777777778,
             "#fb9f3a"
            ],
            [
             0.8888888888888888,
             "#fdca26"
            ],
            [
             1,
             "#f0f921"
            ]
           ],
           "sequentialminus": [
            [
             0,
             "#0d0887"
            ],
            [
             0.1111111111111111,
             "#46039f"
            ],
            [
             0.2222222222222222,
             "#7201a8"
            ],
            [
             0.3333333333333333,
             "#9c179e"
            ],
            [
             0.4444444444444444,
             "#bd3786"
            ],
            [
             0.5555555555555556,
             "#d8576b"
            ],
            [
             0.6666666666666666,
             "#ed7953"
            ],
            [
             0.7777777777777778,
             "#fb9f3a"
            ],
            [
             0.8888888888888888,
             "#fdca26"
            ],
            [
             1,
             "#f0f921"
            ]
           ]
          },
          "colorway": [
           "#636efa",
           "#EF553B",
           "#00cc96",
           "#ab63fa",
           "#FFA15A",
           "#19d3f3",
           "#FF6692",
           "#B6E880",
           "#FF97FF",
           "#FECB52"
          ],
          "font": {
           "color": "#2a3f5f"
          },
          "geo": {
           "bgcolor": "white",
           "lakecolor": "white",
           "landcolor": "#E5ECF6",
           "showlakes": true,
           "showland": true,
           "subunitcolor": "white"
          },
          "hoverlabel": {
           "align": "left"
          },
          "hovermode": "closest",
          "mapbox": {
           "style": "light"
          },
          "paper_bgcolor": "white",
          "plot_bgcolor": "#E5ECF6",
          "polar": {
           "angularaxis": {
            "gridcolor": "white",
            "linecolor": "white",
            "ticks": ""
           },
           "bgcolor": "#E5ECF6",
           "radialaxis": {
            "gridcolor": "white",
            "linecolor": "white",
            "ticks": ""
           }
          },
          "scene": {
           "xaxis": {
            "backgroundcolor": "#E5ECF6",
            "gridcolor": "white",
            "gridwidth": 2,
            "linecolor": "white",
            "showbackground": true,
            "ticks": "",
            "zerolinecolor": "white"
           },
           "yaxis": {
            "backgroundcolor": "#E5ECF6",
            "gridcolor": "white",
            "gridwidth": 2,
            "linecolor": "white",
            "showbackground": true,
            "ticks": "",
            "zerolinecolor": "white"
           },
           "zaxis": {
            "backgroundcolor": "#E5ECF6",
            "gridcolor": "white",
            "gridwidth": 2,
            "linecolor": "white",
            "showbackground": true,
            "ticks": "",
            "zerolinecolor": "white"
           }
          },
          "shapedefaults": {
           "line": {
            "color": "#2a3f5f"
           }
          },
          "ternary": {
           "aaxis": {
            "gridcolor": "white",
            "linecolor": "white",
            "ticks": ""
           },
           "baxis": {
            "gridcolor": "white",
            "linecolor": "white",
            "ticks": ""
           },
           "bgcolor": "#E5ECF6",
           "caxis": {
            "gridcolor": "white",
            "linecolor": "white",
            "ticks": ""
           }
          },
          "title": {
           "x": 0.05
          },
          "xaxis": {
           "automargin": true,
           "gridcolor": "white",
           "linecolor": "white",
           "ticks": "",
           "title": {
            "standoff": 15
           },
           "zerolinecolor": "white",
           "zerolinewidth": 2
          },
          "yaxis": {
           "automargin": true,
           "gridcolor": "white",
           "linecolor": "white",
           "ticks": "",
           "title": {
            "standoff": 15
           },
           "zerolinecolor": "white",
           "zerolinewidth": 2
          }
         }
        },
        "title": {
         "text": "Button Clicks Count by Task ID"
        },
        "width": 1600,
        "xaxis": {
         "anchor": "y",
         "domain": [
          0,
          1
         ],
         "tickangle": 45,
         "title": {
          "text": "Task ID"
         }
        },
        "yaxis": {
         "anchor": "x",
         "domain": [
          0,
          1
         ],
         "title": {
          "text": "Count"
         }
        }
       }
      }
     },
     "metadata": {},
     "output_type": "display_data"
    }
   ],
   "source": [
    "\n",
    "fig = px.bar(\n",
    "    usage_count_grouped, \n",
    "    x='task_id', \n",
    "    y='count', \n",
    "    color='feature_filtered',\n",
    "    # hover_data={'filtered_action': True, 'count': True, 'filtered_action': True},\n",
    "    # labels={'task_id': 'Task ID', 'count': 'Count', 'filtered_action': 'Action'},\n",
    "    title='Button Clicks Count by Task ID',\n",
    "    \n",
    ")\n",
    "\n",
    "# Customize the layout\n",
    "fig.update_layout(\n",
    "    xaxis_title='Task ID',\n",
    "    yaxis_title='Count',\n",
    "    legend_title='Action',\n",
    "    barmode='group',\n",
    "    bargap=0.15,\n",
    "    bargroupgap=0.1,\n",
    "    width=1600,\n",
    "    height=800\n",
    ")\n",
    "\n",
    "# Rotate x-axis labels\n",
    "fig.update_xaxes(tickangle=45)\n",
    "\n",
    "# Show the plot\n",
    "fig.show()"
   ]
  },
  {
   "cell_type": "markdown",
   "metadata": {},
   "source": [
    "## heatmap of count usage"
   ]
  },
  {
   "cell_type": "code",
   "execution_count": 36,
   "metadata": {},
   "outputs": [],
   "source": [
    "usage_count_grouped_without_eng = usage_count_grouped[usage_count_grouped['task_id']!='ENG']\n",
    "usage_count_grouped_without_eng = usage_count_grouped_without_eng[usage_count_grouped_without_eng['feature_filtered']!='custom']\n",
    "heatmap_data_feature_usage = usage_count_grouped_without_eng.pivot(index=\"feature_filtered\", columns=\"task_id\", values=\"count\")\n",
    "\n"
   ]
  },
  {
   "cell_type": "code",
   "execution_count": 38,
   "metadata": {},
   "outputs": [
    {
     "data": {
      "application/vnd.plotly.v1+json": {
       "config": {
        "plotlyServerURL": "https://plot.ly"
       },
       "data": [
        {
         "coloraxis": "coloraxis",
         "hovertemplate": "Task ID: %{x}<br>Features: %{y}<br>Count: %{z}<extra></extra>",
         "name": "0",
         "texttemplate": "%{z}",
         "type": "heatmap",
         "x": [
          "ENG_1",
          "ENG_2",
          "ESP_1",
          "ESP_2"
         ],
         "xaxis": "x",
         "y": [
          "@ai generation",
          "Cautionary Narrative Framing",
          "Cautionary Narrative with Statistics",
          "Emphasis on Immediate Outcome",
          "Emphasis on Long-Term Outcome",
          "Positive Narrative Framing",
          "Positive Narrative Framing with Statistics",
          "continuation"
         ],
         "yaxis": "y",
         "z": [
          [
           28,
           10,
           9,
           27
          ],
          [
           9,
           7,
           5,
           6
          ],
          [
           8,
           13,
           7,
           10
          ],
          [
           12,
           10,
           7,
           4
          ],
          [
           10,
           6,
           17,
           7
          ],
          [
           21,
           10,
           14,
           14
          ],
          [
           11,
           8,
           7,
           12
          ],
          [
           7,
           8,
           8,
           15
          ]
         ]
        }
       ],
       "layout": {
        "coloraxis": {
         "colorbar": {
          "title": {
           "text": "Count"
          }
         },
         "colorscale": [
          [
           0,
           "rgb(255,255,217)"
          ],
          [
           0.125,
           "rgb(237,248,177)"
          ],
          [
           0.25,
           "rgb(199,233,180)"
          ],
          [
           0.375,
           "rgb(127,205,187)"
          ],
          [
           0.5,
           "rgb(65,182,196)"
          ],
          [
           0.625,
           "rgb(29,145,192)"
          ],
          [
           0.75,
           "rgb(34,94,168)"
          ],
          [
           0.875,
           "rgb(37,52,148)"
          ],
          [
           1,
           "rgb(8,29,88)"
          ]
         ]
        },
        "height": 800,
        "margin": {
         "b": 80,
         "l": 80,
         "r": 80,
         "t": 100
        },
        "template": {
         "data": {
          "bar": [
           {
            "error_x": {
             "color": "#2a3f5f"
            },
            "error_y": {
             "color": "#2a3f5f"
            },
            "marker": {
             "line": {
              "color": "#E5ECF6",
              "width": 0.5
             },
             "pattern": {
              "fillmode": "overlay",
              "size": 10,
              "solidity": 0.2
             }
            },
            "type": "bar"
           }
          ],
          "barpolar": [
           {
            "marker": {
             "line": {
              "color": "#E5ECF6",
              "width": 0.5
             },
             "pattern": {
              "fillmode": "overlay",
              "size": 10,
              "solidity": 0.2
             }
            },
            "type": "barpolar"
           }
          ],
          "carpet": [
           {
            "aaxis": {
             "endlinecolor": "#2a3f5f",
             "gridcolor": "white",
             "linecolor": "white",
             "minorgridcolor": "white",
             "startlinecolor": "#2a3f5f"
            },
            "baxis": {
             "endlinecolor": "#2a3f5f",
             "gridcolor": "white",
             "linecolor": "white",
             "minorgridcolor": "white",
             "startlinecolor": "#2a3f5f"
            },
            "type": "carpet"
           }
          ],
          "choropleth": [
           {
            "colorbar": {
             "outlinewidth": 0,
             "ticks": ""
            },
            "type": "choropleth"
           }
          ],
          "contour": [
           {
            "colorbar": {
             "outlinewidth": 0,
             "ticks": ""
            },
            "colorscale": [
             [
              0,
              "#0d0887"
             ],
             [
              0.1111111111111111,
              "#46039f"
             ],
             [
              0.2222222222222222,
              "#7201a8"
             ],
             [
              0.3333333333333333,
              "#9c179e"
             ],
             [
              0.4444444444444444,
              "#bd3786"
             ],
             [
              0.5555555555555556,
              "#d8576b"
             ],
             [
              0.6666666666666666,
              "#ed7953"
             ],
             [
              0.7777777777777778,
              "#fb9f3a"
             ],
             [
              0.8888888888888888,
              "#fdca26"
             ],
             [
              1,
              "#f0f921"
             ]
            ],
            "type": "contour"
           }
          ],
          "contourcarpet": [
           {
            "colorbar": {
             "outlinewidth": 0,
             "ticks": ""
            },
            "type": "contourcarpet"
           }
          ],
          "heatmap": [
           {
            "colorbar": {
             "outlinewidth": 0,
             "ticks": ""
            },
            "colorscale": [
             [
              0,
              "#0d0887"
             ],
             [
              0.1111111111111111,
              "#46039f"
             ],
             [
              0.2222222222222222,
              "#7201a8"
             ],
             [
              0.3333333333333333,
              "#9c179e"
             ],
             [
              0.4444444444444444,
              "#bd3786"
             ],
             [
              0.5555555555555556,
              "#d8576b"
             ],
             [
              0.6666666666666666,
              "#ed7953"
             ],
             [
              0.7777777777777778,
              "#fb9f3a"
             ],
             [
              0.8888888888888888,
              "#fdca26"
             ],
             [
              1,
              "#f0f921"
             ]
            ],
            "type": "heatmap"
           }
          ],
          "heatmapgl": [
           {
            "colorbar": {
             "outlinewidth": 0,
             "ticks": ""
            },
            "colorscale": [
             [
              0,
              "#0d0887"
             ],
             [
              0.1111111111111111,
              "#46039f"
             ],
             [
              0.2222222222222222,
              "#7201a8"
             ],
             [
              0.3333333333333333,
              "#9c179e"
             ],
             [
              0.4444444444444444,
              "#bd3786"
             ],
             [
              0.5555555555555556,
              "#d8576b"
             ],
             [
              0.6666666666666666,
              "#ed7953"
             ],
             [
              0.7777777777777778,
              "#fb9f3a"
             ],
             [
              0.8888888888888888,
              "#fdca26"
             ],
             [
              1,
              "#f0f921"
             ]
            ],
            "type": "heatmapgl"
           }
          ],
          "histogram": [
           {
            "marker": {
             "pattern": {
              "fillmode": "overlay",
              "size": 10,
              "solidity": 0.2
             }
            },
            "type": "histogram"
           }
          ],
          "histogram2d": [
           {
            "colorbar": {
             "outlinewidth": 0,
             "ticks": ""
            },
            "colorscale": [
             [
              0,
              "#0d0887"
             ],
             [
              0.1111111111111111,
              "#46039f"
             ],
             [
              0.2222222222222222,
              "#7201a8"
             ],
             [
              0.3333333333333333,
              "#9c179e"
             ],
             [
              0.4444444444444444,
              "#bd3786"
             ],
             [
              0.5555555555555556,
              "#d8576b"
             ],
             [
              0.6666666666666666,
              "#ed7953"
             ],
             [
              0.7777777777777778,
              "#fb9f3a"
             ],
             [
              0.8888888888888888,
              "#fdca26"
             ],
             [
              1,
              "#f0f921"
             ]
            ],
            "type": "histogram2d"
           }
          ],
          "histogram2dcontour": [
           {
            "colorbar": {
             "outlinewidth": 0,
             "ticks": ""
            },
            "colorscale": [
             [
              0,
              "#0d0887"
             ],
             [
              0.1111111111111111,
              "#46039f"
             ],
             [
              0.2222222222222222,
              "#7201a8"
             ],
             [
              0.3333333333333333,
              "#9c179e"
             ],
             [
              0.4444444444444444,
              "#bd3786"
             ],
             [
              0.5555555555555556,
              "#d8576b"
             ],
             [
              0.6666666666666666,
              "#ed7953"
             ],
             [
              0.7777777777777778,
              "#fb9f3a"
             ],
             [
              0.8888888888888888,
              "#fdca26"
             ],
             [
              1,
              "#f0f921"
             ]
            ],
            "type": "histogram2dcontour"
           }
          ],
          "mesh3d": [
           {
            "colorbar": {
             "outlinewidth": 0,
             "ticks": ""
            },
            "type": "mesh3d"
           }
          ],
          "parcoords": [
           {
            "line": {
             "colorbar": {
              "outlinewidth": 0,
              "ticks": ""
             }
            },
            "type": "parcoords"
           }
          ],
          "pie": [
           {
            "automargin": true,
            "type": "pie"
           }
          ],
          "scatter": [
           {
            "fillpattern": {
             "fillmode": "overlay",
             "size": 10,
             "solidity": 0.2
            },
            "type": "scatter"
           }
          ],
          "scatter3d": [
           {
            "line": {
             "colorbar": {
              "outlinewidth": 0,
              "ticks": ""
             }
            },
            "marker": {
             "colorbar": {
              "outlinewidth": 0,
              "ticks": ""
             }
            },
            "type": "scatter3d"
           }
          ],
          "scattercarpet": [
           {
            "marker": {
             "colorbar": {
              "outlinewidth": 0,
              "ticks": ""
             }
            },
            "type": "scattercarpet"
           }
          ],
          "scattergeo": [
           {
            "marker": {
             "colorbar": {
              "outlinewidth": 0,
              "ticks": ""
             }
            },
            "type": "scattergeo"
           }
          ],
          "scattergl": [
           {
            "marker": {
             "colorbar": {
              "outlinewidth": 0,
              "ticks": ""
             }
            },
            "type": "scattergl"
           }
          ],
          "scattermapbox": [
           {
            "marker": {
             "colorbar": {
              "outlinewidth": 0,
              "ticks": ""
             }
            },
            "type": "scattermapbox"
           }
          ],
          "scatterpolar": [
           {
            "marker": {
             "colorbar": {
              "outlinewidth": 0,
              "ticks": ""
             }
            },
            "type": "scatterpolar"
           }
          ],
          "scatterpolargl": [
           {
            "marker": {
             "colorbar": {
              "outlinewidth": 0,
              "ticks": ""
             }
            },
            "type": "scatterpolargl"
           }
          ],
          "scatterternary": [
           {
            "marker": {
             "colorbar": {
              "outlinewidth": 0,
              "ticks": ""
             }
            },
            "type": "scatterternary"
           }
          ],
          "surface": [
           {
            "colorbar": {
             "outlinewidth": 0,
             "ticks": ""
            },
            "colorscale": [
             [
              0,
              "#0d0887"
             ],
             [
              0.1111111111111111,
              "#46039f"
             ],
             [
              0.2222222222222222,
              "#7201a8"
             ],
             [
              0.3333333333333333,
              "#9c179e"
             ],
             [
              0.4444444444444444,
              "#bd3786"
             ],
             [
              0.5555555555555556,
              "#d8576b"
             ],
             [
              0.6666666666666666,
              "#ed7953"
             ],
             [
              0.7777777777777778,
              "#fb9f3a"
             ],
             [
              0.8888888888888888,
              "#fdca26"
             ],
             [
              1,
              "#f0f921"
             ]
            ],
            "type": "surface"
           }
          ],
          "table": [
           {
            "cells": {
             "fill": {
              "color": "#EBF0F8"
             },
             "line": {
              "color": "white"
             }
            },
            "header": {
             "fill": {
              "color": "#C8D4E3"
             },
             "line": {
              "color": "white"
             }
            },
            "type": "table"
           }
          ]
         },
         "layout": {
          "annotationdefaults": {
           "arrowcolor": "#2a3f5f",
           "arrowhead": 0,
           "arrowwidth": 1
          },
          "autotypenumbers": "strict",
          "coloraxis": {
           "colorbar": {
            "outlinewidth": 0,
            "ticks": ""
           }
          },
          "colorscale": {
           "diverging": [
            [
             0,
             "#8e0152"
            ],
            [
             0.1,
             "#c51b7d"
            ],
            [
             0.2,
             "#de77ae"
            ],
            [
             0.3,
             "#f1b6da"
            ],
            [
             0.4,
             "#fde0ef"
            ],
            [
             0.5,
             "#f7f7f7"
            ],
            [
             0.6,
             "#e6f5d0"
            ],
            [
             0.7,
             "#b8e186"
            ],
            [
             0.8,
             "#7fbc41"
            ],
            [
             0.9,
             "#4d9221"
            ],
            [
             1,
             "#276419"
            ]
           ],
           "sequential": [
            [
             0,
             "#0d0887"
            ],
            [
             0.1111111111111111,
             "#46039f"
            ],
            [
             0.2222222222222222,
             "#7201a8"
            ],
            [
             0.3333333333333333,
             "#9c179e"
            ],
            [
             0.4444444444444444,
             "#bd3786"
            ],
            [
             0.5555555555555556,
             "#d8576b"
            ],
            [
             0.6666666666666666,
             "#ed7953"
            ],
            [
             0.7777777777777778,
             "#fb9f3a"
            ],
            [
             0.8888888888888888,
             "#fdca26"
            ],
            [
             1,
             "#f0f921"
            ]
           ],
           "sequentialminus": [
            [
             0,
             "#0d0887"
            ],
            [
             0.1111111111111111,
             "#46039f"
            ],
            [
             0.2222222222222222,
             "#7201a8"
            ],
            [
             0.3333333333333333,
             "#9c179e"
            ],
            [
             0.4444444444444444,
             "#bd3786"
            ],
            [
             0.5555555555555556,
             "#d8576b"
            ],
            [
             0.6666666666666666,
             "#ed7953"
            ],
            [
             0.7777777777777778,
             "#fb9f3a"
            ],
            [
             0.8888888888888888,
             "#fdca26"
            ],
            [
             1,
             "#f0f921"
            ]
           ]
          },
          "colorway": [
           "#636efa",
           "#EF553B",
           "#00cc96",
           "#ab63fa",
           "#FFA15A",
           "#19d3f3",
           "#FF6692",
           "#B6E880",
           "#FF97FF",
           "#FECB52"
          ],
          "font": {
           "color": "#2a3f5f"
          },
          "geo": {
           "bgcolor": "white",
           "lakecolor": "white",
           "landcolor": "#E5ECF6",
           "showlakes": true,
           "showland": true,
           "subunitcolor": "white"
          },
          "hoverlabel": {
           "align": "left"
          },
          "hovermode": "closest",
          "mapbox": {
           "style": "light"
          },
          "paper_bgcolor": "white",
          "plot_bgcolor": "#E5ECF6",
          "polar": {
           "angularaxis": {
            "gridcolor": "white",
            "linecolor": "white",
            "ticks": ""
           },
           "bgcolor": "#E5ECF6",
           "radialaxis": {
            "gridcolor": "white",
            "linecolor": "white",
            "ticks": ""
           }
          },
          "scene": {
           "xaxis": {
            "backgroundcolor": "#E5ECF6",
            "gridcolor": "white",
            "gridwidth": 2,
            "linecolor": "white",
            "showbackground": true,
            "ticks": "",
            "zerolinecolor": "white"
           },
           "yaxis": {
            "backgroundcolor": "#E5ECF6",
            "gridcolor": "white",
            "gridwidth": 2,
            "linecolor": "white",
            "showbackground": true,
            "ticks": "",
            "zerolinecolor": "white"
           },
           "zaxis": {
            "backgroundcolor": "#E5ECF6",
            "gridcolor": "white",
            "gridwidth": 2,
            "linecolor": "white",
            "showbackground": true,
            "ticks": "",
            "zerolinecolor": "white"
           }
          },
          "shapedefaults": {
           "line": {
            "color": "#2a3f5f"
           }
          },
          "ternary": {
           "aaxis": {
            "gridcolor": "white",
            "linecolor": "white",
            "ticks": ""
           },
           "baxis": {
            "gridcolor": "white",
            "linecolor": "white",
            "ticks": ""
           },
           "bgcolor": "#E5ECF6",
           "caxis": {
            "gridcolor": "white",
            "linecolor": "white",
            "ticks": ""
           }
          },
          "title": {
           "x": 0.05
          },
          "xaxis": {
           "automargin": true,
           "gridcolor": "white",
           "linecolor": "white",
           "ticks": "",
           "title": {
            "standoff": 15
           },
           "zerolinecolor": "white",
           "zerolinewidth": 2
          },
          "yaxis": {
           "automargin": true,
           "gridcolor": "white",
           "linecolor": "white",
           "ticks": "",
           "title": {
            "standoff": 15
           },
           "zerolinecolor": "white",
           "zerolinewidth": 2
          }
         }
        },
        "title": {
         "text": "Heatmap of Feature Counts by Task ID"
        },
        "width": 1200,
        "xaxis": {
         "anchor": "y",
         "domain": [
          0,
          1
         ],
         "title": {
          "text": "Task ID"
         }
        },
        "yaxis": {
         "anchor": "x",
         "autorange": "reversed",
         "domain": [
          0,
          1
         ],
         "title": {
          "text": "Features"
         }
        }
       }
      }
     },
     "metadata": {},
     "output_type": "display_data"
    }
   ],
   "source": [
    "fig = px.imshow(heatmap_data_feature_usage, \n",
    "                labels=dict(x=\"Task ID\", y=\"Features\", color=\"Count\"),\n",
    "                x=heatmap_data_feature_usage.columns,\n",
    "                y=heatmap_data_feature_usage.index,\n",
    "                color_continuous_scale=\"YlGnBu\",\n",
    "                text_auto=True,\n",
    "                aspect='auto')\n",
    "\n",
    "# # Adjust the figure size to match the Seaborn plot\n",
    "fig.update_layout(title=\"Heatmap of Feature Counts by Task ID\",\n",
    "                  xaxis_title=\"Task ID\",\n",
    "                  yaxis_title=\"Features\",\n",
    "                  width=1200,  # Set width to match Seaborn\n",
    "                  height=800,  # Set height to match Seaborn\n",
    "                  margin=dict(l=80, r=80, t=100, b=80))  # Adjust margi\n",
    "# Additionally, adjust the aspect ratio of the heatmap to avoid squishing\n",
    "# fig.update_xaxes(scaleanchor=\"y\", scaleratio=1)\n",
    "# fig.update_yaxes(scaleanchor=\"x\", scaleratio=1)\n",
    "# fig.write_image(\"../figures/results/revealed_utility.png\")\n",
    "\n",
    "fig.show()"
   ]
  },
  {
   "cell_type": "code",
   "execution_count": null,
   "metadata": {},
   "outputs": [],
   "source": [
    "fig.write_image(\"../figures/results/revealed_utility.pdf\")"
   ]
  },
  {
   "cell_type": "markdown",
   "metadata": {},
   "source": [
    "# heatmaps with count - stated usefulness"
   ]
  },
  {
   "cell_type": "code",
   "execution_count": null,
   "metadata": {},
   "outputs": [
    {
     "data": {
      "text/html": [
       "<div>\n",
       "<style scoped>\n",
       "    .dataframe tbody tr th:only-of-type {\n",
       "        vertical-align: middle;\n",
       "    }\n",
       "\n",
       "    .dataframe tbody tr th {\n",
       "        vertical-align: top;\n",
       "    }\n",
       "\n",
       "    .dataframe thead th {\n",
       "        text-align: right;\n",
       "    }\n",
       "</style>\n",
       "<table border=\"1\" class=\"dataframe\">\n",
       "  <thead>\n",
       "    <tr style=\"text-align: right;\">\n",
       "      <th></th>\n",
       "      <th>task_id</th>\n",
       "      <th>feature_filtered</th>\n",
       "      <th>count</th>\n",
       "    </tr>\n",
       "  </thead>\n",
       "  <tbody>\n",
       "    <tr>\n",
       "      <th>9</th>\n",
       "      <td>ENG_1</td>\n",
       "      <td>@ai generation</td>\n",
       "      <td>28</td>\n",
       "    </tr>\n",
       "    <tr>\n",
       "      <th>10</th>\n",
       "      <td>ENG_1</td>\n",
       "      <td>Cautionary Narrative Framing</td>\n",
       "      <td>9</td>\n",
       "    </tr>\n",
       "    <tr>\n",
       "      <th>11</th>\n",
       "      <td>ENG_1</td>\n",
       "      <td>Cautionary Narrative with Statistics</td>\n",
       "      <td>8</td>\n",
       "    </tr>\n",
       "    <tr>\n",
       "      <th>12</th>\n",
       "      <td>ENG_1</td>\n",
       "      <td>Emphasis on Immediate Outcome</td>\n",
       "      <td>12</td>\n",
       "    </tr>\n",
       "    <tr>\n",
       "      <th>13</th>\n",
       "      <td>ENG_1</td>\n",
       "      <td>Emphasis on Long-Term Outcome</td>\n",
       "      <td>10</td>\n",
       "    </tr>\n",
       "    <tr>\n",
       "      <th>14</th>\n",
       "      <td>ENG_1</td>\n",
       "      <td>Positive Narrative Framing</td>\n",
       "      <td>21</td>\n",
       "    </tr>\n",
       "    <tr>\n",
       "      <th>15</th>\n",
       "      <td>ENG_1</td>\n",
       "      <td>Positive Narrative Framing with Statistics</td>\n",
       "      <td>11</td>\n",
       "    </tr>\n",
       "    <tr>\n",
       "      <th>16</th>\n",
       "      <td>ENG_1</td>\n",
       "      <td>continuation</td>\n",
       "      <td>7</td>\n",
       "    </tr>\n",
       "    <tr>\n",
       "      <th>17</th>\n",
       "      <td>ENG_1</td>\n",
       "      <td>custom</td>\n",
       "      <td>10</td>\n",
       "    </tr>\n",
       "    <tr>\n",
       "      <th>18</th>\n",
       "      <td>ENG_2</td>\n",
       "      <td>@ai generation</td>\n",
       "      <td>10</td>\n",
       "    </tr>\n",
       "    <tr>\n",
       "      <th>19</th>\n",
       "      <td>ENG_2</td>\n",
       "      <td>Cautionary Narrative Framing</td>\n",
       "      <td>7</td>\n",
       "    </tr>\n",
       "    <tr>\n",
       "      <th>20</th>\n",
       "      <td>ENG_2</td>\n",
       "      <td>Cautionary Narrative with Statistics</td>\n",
       "      <td>13</td>\n",
       "    </tr>\n",
       "    <tr>\n",
       "      <th>21</th>\n",
       "      <td>ENG_2</td>\n",
       "      <td>Emphasis on Immediate Outcome</td>\n",
       "      <td>10</td>\n",
       "    </tr>\n",
       "    <tr>\n",
       "      <th>22</th>\n",
       "      <td>ENG_2</td>\n",
       "      <td>Emphasis on Long-Term Outcome</td>\n",
       "      <td>6</td>\n",
       "    </tr>\n",
       "    <tr>\n",
       "      <th>23</th>\n",
       "      <td>ENG_2</td>\n",
       "      <td>Positive Narrative Framing</td>\n",
       "      <td>10</td>\n",
       "    </tr>\n",
       "    <tr>\n",
       "      <th>24</th>\n",
       "      <td>ENG_2</td>\n",
       "      <td>Positive Narrative Framing with Statistics</td>\n",
       "      <td>8</td>\n",
       "    </tr>\n",
       "    <tr>\n",
       "      <th>25</th>\n",
       "      <td>ENG_2</td>\n",
       "      <td>continuation</td>\n",
       "      <td>8</td>\n",
       "    </tr>\n",
       "    <tr>\n",
       "      <th>26</th>\n",
       "      <td>ENG_2</td>\n",
       "      <td>custom</td>\n",
       "      <td>9</td>\n",
       "    </tr>\n",
       "    <tr>\n",
       "      <th>27</th>\n",
       "      <td>ESP_1</td>\n",
       "      <td>@ai generation</td>\n",
       "      <td>9</td>\n",
       "    </tr>\n",
       "    <tr>\n",
       "      <th>28</th>\n",
       "      <td>ESP_1</td>\n",
       "      <td>Cautionary Narrative Framing</td>\n",
       "      <td>5</td>\n",
       "    </tr>\n",
       "    <tr>\n",
       "      <th>29</th>\n",
       "      <td>ESP_1</td>\n",
       "      <td>Cautionary Narrative with Statistics</td>\n",
       "      <td>7</td>\n",
       "    </tr>\n",
       "    <tr>\n",
       "      <th>30</th>\n",
       "      <td>ESP_1</td>\n",
       "      <td>Emphasis on Immediate Outcome</td>\n",
       "      <td>7</td>\n",
       "    </tr>\n",
       "    <tr>\n",
       "      <th>31</th>\n",
       "      <td>ESP_1</td>\n",
       "      <td>Emphasis on Long-Term Outcome</td>\n",
       "      <td>17</td>\n",
       "    </tr>\n",
       "    <tr>\n",
       "      <th>32</th>\n",
       "      <td>ESP_1</td>\n",
       "      <td>Positive Narrative Framing</td>\n",
       "      <td>14</td>\n",
       "    </tr>\n",
       "    <tr>\n",
       "      <th>33</th>\n",
       "      <td>ESP_1</td>\n",
       "      <td>Positive Narrative Framing with Statistics</td>\n",
       "      <td>7</td>\n",
       "    </tr>\n",
       "    <tr>\n",
       "      <th>34</th>\n",
       "      <td>ESP_1</td>\n",
       "      <td>continuation</td>\n",
       "      <td>8</td>\n",
       "    </tr>\n",
       "    <tr>\n",
       "      <th>35</th>\n",
       "      <td>ESP_1</td>\n",
       "      <td>custom</td>\n",
       "      <td>13</td>\n",
       "    </tr>\n",
       "    <tr>\n",
       "      <th>36</th>\n",
       "      <td>ESP_2</td>\n",
       "      <td>@ai generation</td>\n",
       "      <td>27</td>\n",
       "    </tr>\n",
       "    <tr>\n",
       "      <th>37</th>\n",
       "      <td>ESP_2</td>\n",
       "      <td>Cautionary Narrative Framing</td>\n",
       "      <td>6</td>\n",
       "    </tr>\n",
       "    <tr>\n",
       "      <th>38</th>\n",
       "      <td>ESP_2</td>\n",
       "      <td>Cautionary Narrative with Statistics</td>\n",
       "      <td>10</td>\n",
       "    </tr>\n",
       "    <tr>\n",
       "      <th>39</th>\n",
       "      <td>ESP_2</td>\n",
       "      <td>Emphasis on Immediate Outcome</td>\n",
       "      <td>4</td>\n",
       "    </tr>\n",
       "    <tr>\n",
       "      <th>40</th>\n",
       "      <td>ESP_2</td>\n",
       "      <td>Emphasis on Long-Term Outcome</td>\n",
       "      <td>7</td>\n",
       "    </tr>\n",
       "    <tr>\n",
       "      <th>41</th>\n",
       "      <td>ESP_2</td>\n",
       "      <td>Positive Narrative Framing</td>\n",
       "      <td>14</td>\n",
       "    </tr>\n",
       "    <tr>\n",
       "      <th>42</th>\n",
       "      <td>ESP_2</td>\n",
       "      <td>Positive Narrative Framing with Statistics</td>\n",
       "      <td>12</td>\n",
       "    </tr>\n",
       "    <tr>\n",
       "      <th>43</th>\n",
       "      <td>ESP_2</td>\n",
       "      <td>continuation</td>\n",
       "      <td>15</td>\n",
       "    </tr>\n",
       "    <tr>\n",
       "      <th>44</th>\n",
       "      <td>ESP_2</td>\n",
       "      <td>custom</td>\n",
       "      <td>4</td>\n",
       "    </tr>\n",
       "  </tbody>\n",
       "</table>\n",
       "</div>"
      ],
      "text/plain": [
       "   task_id                            feature_filtered  count\n",
       "9    ENG_1                              @ai generation     28\n",
       "10   ENG_1                Cautionary Narrative Framing      9\n",
       "11   ENG_1        Cautionary Narrative with Statistics      8\n",
       "12   ENG_1               Emphasis on Immediate Outcome     12\n",
       "13   ENG_1               Emphasis on Long-Term Outcome     10\n",
       "14   ENG_1                  Positive Narrative Framing     21\n",
       "15   ENG_1  Positive Narrative Framing with Statistics     11\n",
       "16   ENG_1                                continuation      7\n",
       "17   ENG_1                                      custom     10\n",
       "18   ENG_2                              @ai generation     10\n",
       "19   ENG_2                Cautionary Narrative Framing      7\n",
       "20   ENG_2        Cautionary Narrative with Statistics     13\n",
       "21   ENG_2               Emphasis on Immediate Outcome     10\n",
       "22   ENG_2               Emphasis on Long-Term Outcome      6\n",
       "23   ENG_2                  Positive Narrative Framing     10\n",
       "24   ENG_2  Positive Narrative Framing with Statistics      8\n",
       "25   ENG_2                                continuation      8\n",
       "26   ENG_2                                      custom      9\n",
       "27   ESP_1                              @ai generation      9\n",
       "28   ESP_1                Cautionary Narrative Framing      5\n",
       "29   ESP_1        Cautionary Narrative with Statistics      7\n",
       "30   ESP_1               Emphasis on Immediate Outcome      7\n",
       "31   ESP_1               Emphasis on Long-Term Outcome     17\n",
       "32   ESP_1                  Positive Narrative Framing     14\n",
       "33   ESP_1  Positive Narrative Framing with Statistics      7\n",
       "34   ESP_1                                continuation      8\n",
       "35   ESP_1                                      custom     13\n",
       "36   ESP_2                              @ai generation     27\n",
       "37   ESP_2                Cautionary Narrative Framing      6\n",
       "38   ESP_2        Cautionary Narrative with Statistics     10\n",
       "39   ESP_2               Emphasis on Immediate Outcome      4\n",
       "40   ESP_2               Emphasis on Long-Term Outcome      7\n",
       "41   ESP_2                  Positive Narrative Framing     14\n",
       "42   ESP_2  Positive Narrative Framing with Statistics     12\n",
       "43   ESP_2                                continuation     15\n",
       "44   ESP_2                                      custom      4"
      ]
     },
     "execution_count": 17,
     "metadata": {},
     "output_type": "execute_result"
    }
   ],
   "source": [
    "usage_count_grouped_without_eng = usage_count_grouped[usage_count_grouped['task_id']!='ENG']\n",
    "usage_count_grouped_without_eng"
   ]
  },
  {
   "cell_type": "code",
   "execution_count": null,
   "metadata": {},
   "outputs": [],
   "source": [
    "usage_count_grouped_without_eng = usage_count_grouped_without_eng[usage_count_grouped_without_eng['feature_filtered']!='custom']"
   ]
  },
  {
   "cell_type": "code",
   "execution_count": null,
   "metadata": {},
   "outputs": [
    {
     "name": "stderr",
     "output_type": "stream",
     "text": [
      "C:\\Users\\shrey\\AppData\\Local\\Temp\\ipykernel_2060\\570960280.py:1: SettingWithCopyWarning:\n",
      "\n",
      "\n",
      "A value is trying to be set on a copy of a slice from a DataFrame\n",
      "\n",
      "See the caveats in the documentation: https://pandas.pydata.org/pandas-docs/stable/user_guide/indexing.html#returning-a-view-versus-a-copy\n",
      "\n",
      "C:\\Users\\shrey\\AppData\\Local\\Temp\\ipykernel_2060\\570960280.py:2: SettingWithCopyWarning:\n",
      "\n",
      "\n",
      "A value is trying to be set on a copy of a slice from a DataFrame\n",
      "\n",
      "See the caveats in the documentation: https://pandas.pydata.org/pandas-docs/stable/user_guide/indexing.html#returning-a-view-versus-a-copy\n",
      "\n"
     ]
    }
   ],
   "source": [
    "usage_count_grouped_without_eng['feature_filtered'].replace('continuation', 'Create Continuation', inplace=True)\n",
    "usage_count_grouped_without_eng['feature_filtered'].replace('@ai generation', '@ai to Generate New Texts', inplace=True)"
   ]
  },
  {
   "cell_type": "code",
   "execution_count": null,
   "metadata": {},
   "outputs": [
    {
     "data": {
      "text/html": [
       "<div>\n",
       "<style scoped>\n",
       "    .dataframe tbody tr th:only-of-type {\n",
       "        vertical-align: middle;\n",
       "    }\n",
       "\n",
       "    .dataframe tbody tr th {\n",
       "        vertical-align: top;\n",
       "    }\n",
       "\n",
       "    .dataframe thead th {\n",
       "        text-align: right;\n",
       "    }\n",
       "</style>\n",
       "<table border=\"1\" class=\"dataframe\">\n",
       "  <thead>\n",
       "    <tr style=\"text-align: right;\">\n",
       "      <th></th>\n",
       "      <th>task_id</th>\n",
       "      <th>feature_filtered</th>\n",
       "      <th>count</th>\n",
       "    </tr>\n",
       "  </thead>\n",
       "  <tbody>\n",
       "    <tr>\n",
       "      <th>9</th>\n",
       "      <td>ENG_1</td>\n",
       "      <td>@ai to Generate New Texts</td>\n",
       "      <td>28</td>\n",
       "    </tr>\n",
       "    <tr>\n",
       "      <th>10</th>\n",
       "      <td>ENG_1</td>\n",
       "      <td>Cautionary Narrative Framing</td>\n",
       "      <td>9</td>\n",
       "    </tr>\n",
       "    <tr>\n",
       "      <th>11</th>\n",
       "      <td>ENG_1</td>\n",
       "      <td>Cautionary Narrative with Statistics</td>\n",
       "      <td>8</td>\n",
       "    </tr>\n",
       "    <tr>\n",
       "      <th>12</th>\n",
       "      <td>ENG_1</td>\n",
       "      <td>Emphasis on Immediate Outcome</td>\n",
       "      <td>12</td>\n",
       "    </tr>\n",
       "    <tr>\n",
       "      <th>13</th>\n",
       "      <td>ENG_1</td>\n",
       "      <td>Emphasis on Long-Term Outcome</td>\n",
       "      <td>10</td>\n",
       "    </tr>\n",
       "    <tr>\n",
       "      <th>14</th>\n",
       "      <td>ENG_1</td>\n",
       "      <td>Positive Narrative Framing</td>\n",
       "      <td>21</td>\n",
       "    </tr>\n",
       "    <tr>\n",
       "      <th>15</th>\n",
       "      <td>ENG_1</td>\n",
       "      <td>Positive Narrative Framing with Statistics</td>\n",
       "      <td>11</td>\n",
       "    </tr>\n",
       "    <tr>\n",
       "      <th>16</th>\n",
       "      <td>ENG_1</td>\n",
       "      <td>Create Continuation</td>\n",
       "      <td>7</td>\n",
       "    </tr>\n",
       "    <tr>\n",
       "      <th>18</th>\n",
       "      <td>ENG_2</td>\n",
       "      <td>@ai to Generate New Texts</td>\n",
       "      <td>10</td>\n",
       "    </tr>\n",
       "    <tr>\n",
       "      <th>19</th>\n",
       "      <td>ENG_2</td>\n",
       "      <td>Cautionary Narrative Framing</td>\n",
       "      <td>7</td>\n",
       "    </tr>\n",
       "    <tr>\n",
       "      <th>20</th>\n",
       "      <td>ENG_2</td>\n",
       "      <td>Cautionary Narrative with Statistics</td>\n",
       "      <td>13</td>\n",
       "    </tr>\n",
       "    <tr>\n",
       "      <th>21</th>\n",
       "      <td>ENG_2</td>\n",
       "      <td>Emphasis on Immediate Outcome</td>\n",
       "      <td>10</td>\n",
       "    </tr>\n",
       "    <tr>\n",
       "      <th>22</th>\n",
       "      <td>ENG_2</td>\n",
       "      <td>Emphasis on Long-Term Outcome</td>\n",
       "      <td>6</td>\n",
       "    </tr>\n",
       "    <tr>\n",
       "      <th>23</th>\n",
       "      <td>ENG_2</td>\n",
       "      <td>Positive Narrative Framing</td>\n",
       "      <td>10</td>\n",
       "    </tr>\n",
       "    <tr>\n",
       "      <th>24</th>\n",
       "      <td>ENG_2</td>\n",
       "      <td>Positive Narrative Framing with Statistics</td>\n",
       "      <td>8</td>\n",
       "    </tr>\n",
       "    <tr>\n",
       "      <th>25</th>\n",
       "      <td>ENG_2</td>\n",
       "      <td>Create Continuation</td>\n",
       "      <td>8</td>\n",
       "    </tr>\n",
       "    <tr>\n",
       "      <th>27</th>\n",
       "      <td>ESP_1</td>\n",
       "      <td>@ai to Generate New Texts</td>\n",
       "      <td>9</td>\n",
       "    </tr>\n",
       "    <tr>\n",
       "      <th>28</th>\n",
       "      <td>ESP_1</td>\n",
       "      <td>Cautionary Narrative Framing</td>\n",
       "      <td>5</td>\n",
       "    </tr>\n",
       "    <tr>\n",
       "      <th>29</th>\n",
       "      <td>ESP_1</td>\n",
       "      <td>Cautionary Narrative with Statistics</td>\n",
       "      <td>7</td>\n",
       "    </tr>\n",
       "    <tr>\n",
       "      <th>30</th>\n",
       "      <td>ESP_1</td>\n",
       "      <td>Emphasis on Immediate Outcome</td>\n",
       "      <td>7</td>\n",
       "    </tr>\n",
       "    <tr>\n",
       "      <th>31</th>\n",
       "      <td>ESP_1</td>\n",
       "      <td>Emphasis on Long-Term Outcome</td>\n",
       "      <td>17</td>\n",
       "    </tr>\n",
       "    <tr>\n",
       "      <th>32</th>\n",
       "      <td>ESP_1</td>\n",
       "      <td>Positive Narrative Framing</td>\n",
       "      <td>14</td>\n",
       "    </tr>\n",
       "    <tr>\n",
       "      <th>33</th>\n",
       "      <td>ESP_1</td>\n",
       "      <td>Positive Narrative Framing with Statistics</td>\n",
       "      <td>7</td>\n",
       "    </tr>\n",
       "    <tr>\n",
       "      <th>34</th>\n",
       "      <td>ESP_1</td>\n",
       "      <td>Create Continuation</td>\n",
       "      <td>8</td>\n",
       "    </tr>\n",
       "    <tr>\n",
       "      <th>36</th>\n",
       "      <td>ESP_2</td>\n",
       "      <td>@ai to Generate New Texts</td>\n",
       "      <td>27</td>\n",
       "    </tr>\n",
       "    <tr>\n",
       "      <th>37</th>\n",
       "      <td>ESP_2</td>\n",
       "      <td>Cautionary Narrative Framing</td>\n",
       "      <td>6</td>\n",
       "    </tr>\n",
       "    <tr>\n",
       "      <th>38</th>\n",
       "      <td>ESP_2</td>\n",
       "      <td>Cautionary Narrative with Statistics</td>\n",
       "      <td>10</td>\n",
       "    </tr>\n",
       "    <tr>\n",
       "      <th>39</th>\n",
       "      <td>ESP_2</td>\n",
       "      <td>Emphasis on Immediate Outcome</td>\n",
       "      <td>4</td>\n",
       "    </tr>\n",
       "    <tr>\n",
       "      <th>40</th>\n",
       "      <td>ESP_2</td>\n",
       "      <td>Emphasis on Long-Term Outcome</td>\n",
       "      <td>7</td>\n",
       "    </tr>\n",
       "    <tr>\n",
       "      <th>41</th>\n",
       "      <td>ESP_2</td>\n",
       "      <td>Positive Narrative Framing</td>\n",
       "      <td>14</td>\n",
       "    </tr>\n",
       "    <tr>\n",
       "      <th>42</th>\n",
       "      <td>ESP_2</td>\n",
       "      <td>Positive Narrative Framing with Statistics</td>\n",
       "      <td>12</td>\n",
       "    </tr>\n",
       "    <tr>\n",
       "      <th>43</th>\n",
       "      <td>ESP_2</td>\n",
       "      <td>Create Continuation</td>\n",
       "      <td>15</td>\n",
       "    </tr>\n",
       "  </tbody>\n",
       "</table>\n",
       "</div>"
      ],
      "text/plain": [
       "   task_id                            feature_filtered  count\n",
       "9    ENG_1                   @ai to Generate New Texts     28\n",
       "10   ENG_1                Cautionary Narrative Framing      9\n",
       "11   ENG_1        Cautionary Narrative with Statistics      8\n",
       "12   ENG_1               Emphasis on Immediate Outcome     12\n",
       "13   ENG_1               Emphasis on Long-Term Outcome     10\n",
       "14   ENG_1                  Positive Narrative Framing     21\n",
       "15   ENG_1  Positive Narrative Framing with Statistics     11\n",
       "16   ENG_1                         Create Continuation      7\n",
       "18   ENG_2                   @ai to Generate New Texts     10\n",
       "19   ENG_2                Cautionary Narrative Framing      7\n",
       "20   ENG_2        Cautionary Narrative with Statistics     13\n",
       "21   ENG_2               Emphasis on Immediate Outcome     10\n",
       "22   ENG_2               Emphasis on Long-Term Outcome      6\n",
       "23   ENG_2                  Positive Narrative Framing     10\n",
       "24   ENG_2  Positive Narrative Framing with Statistics      8\n",
       "25   ENG_2                         Create Continuation      8\n",
       "27   ESP_1                   @ai to Generate New Texts      9\n",
       "28   ESP_1                Cautionary Narrative Framing      5\n",
       "29   ESP_1        Cautionary Narrative with Statistics      7\n",
       "30   ESP_1               Emphasis on Immediate Outcome      7\n",
       "31   ESP_1               Emphasis on Long-Term Outcome     17\n",
       "32   ESP_1                  Positive Narrative Framing     14\n",
       "33   ESP_1  Positive Narrative Framing with Statistics      7\n",
       "34   ESP_1                         Create Continuation      8\n",
       "36   ESP_2                   @ai to Generate New Texts     27\n",
       "37   ESP_2                Cautionary Narrative Framing      6\n",
       "38   ESP_2        Cautionary Narrative with Statistics     10\n",
       "39   ESP_2               Emphasis on Immediate Outcome      4\n",
       "40   ESP_2               Emphasis on Long-Term Outcome      7\n",
       "41   ESP_2                  Positive Narrative Framing     14\n",
       "42   ESP_2  Positive Narrative Framing with Statistics     12\n",
       "43   ESP_2                         Create Continuation     15"
      ]
     },
     "execution_count": 80,
     "metadata": {},
     "output_type": "execute_result"
    }
   ],
   "source": [
    "usage_count_grouped_without_eng"
   ]
  },
  {
   "cell_type": "code",
   "execution_count": null,
   "metadata": {},
   "outputs": [
    {
     "data": {
      "text/html": [
       "<div>\n",
       "<style scoped>\n",
       "    .dataframe tbody tr th:only-of-type {\n",
       "        vertical-align: middle;\n",
       "    }\n",
       "\n",
       "    .dataframe tbody tr th {\n",
       "        vertical-align: top;\n",
       "    }\n",
       "\n",
       "    .dataframe thead th {\n",
       "        text-align: right;\n",
       "    }\n",
       "</style>\n",
       "<table border=\"1\" class=\"dataframe\">\n",
       "  <thead>\n",
       "    <tr style=\"text-align: right;\">\n",
       "      <th></th>\n",
       "      <th>TASK_ID</th>\n",
       "      <th>FEAT_1</th>\n",
       "      <th>FEAT_2</th>\n",
       "      <th>FEAT_3</th>\n",
       "      <th>FEAT_4</th>\n",
       "      <th>FEAT_5</th>\n",
       "      <th>FEAT_6</th>\n",
       "      <th>FEAT_7</th>\n",
       "      <th>FEAT_8</th>\n",
       "    </tr>\n",
       "  </thead>\n",
       "  <tbody>\n",
       "    <tr>\n",
       "      <th>1</th>\n",
       "      <td>ENG_1</td>\n",
       "      <td>43.6875</td>\n",
       "      <td>30.1875</td>\n",
       "      <td>37.0000</td>\n",
       "      <td>30.3750</td>\n",
       "      <td>43.1250</td>\n",
       "      <td>42.6875</td>\n",
       "      <td>80.8125</td>\n",
       "      <td>45.1875</td>\n",
       "    </tr>\n",
       "    <tr>\n",
       "      <th>2</th>\n",
       "      <td>ENG_2</td>\n",
       "      <td>43.4375</td>\n",
       "      <td>35.6250</td>\n",
       "      <td>44.6875</td>\n",
       "      <td>33.0625</td>\n",
       "      <td>26.8125</td>\n",
       "      <td>38.9375</td>\n",
       "      <td>55.1250</td>\n",
       "      <td>41.5000</td>\n",
       "    </tr>\n",
       "    <tr>\n",
       "      <th>4</th>\n",
       "      <td>ESP_1</td>\n",
       "      <td>45.3750</td>\n",
       "      <td>38.0000</td>\n",
       "      <td>43.7500</td>\n",
       "      <td>35.8125</td>\n",
       "      <td>22.6875</td>\n",
       "      <td>55.0000</td>\n",
       "      <td>55.6250</td>\n",
       "      <td>32.0625</td>\n",
       "    </tr>\n",
       "    <tr>\n",
       "      <th>5</th>\n",
       "      <td>ESP_2</td>\n",
       "      <td>50.2500</td>\n",
       "      <td>34.0625</td>\n",
       "      <td>41.5000</td>\n",
       "      <td>34.6875</td>\n",
       "      <td>36.9375</td>\n",
       "      <td>48.1250</td>\n",
       "      <td>75.3750</td>\n",
       "      <td>46.5625</td>\n",
       "    </tr>\n",
       "  </tbody>\n",
       "</table>\n",
       "</div>"
      ],
      "text/plain": [
       "  TASK_ID   FEAT_1   FEAT_2   FEAT_3   FEAT_4   FEAT_5   FEAT_6   FEAT_7  \\\n",
       "1   ENG_1  43.6875  30.1875  37.0000  30.3750  43.1250  42.6875  80.8125   \n",
       "2   ENG_2  43.4375  35.6250  44.6875  33.0625  26.8125  38.9375  55.1250   \n",
       "4   ESP_1  45.3750  38.0000  43.7500  35.8125  22.6875  55.0000  55.6250   \n",
       "5   ESP_2  50.2500  34.0625  41.5000  34.6875  36.9375  48.1250  75.3750   \n",
       "\n",
       "    FEAT_8  \n",
       "1  45.1875  \n",
       "2  41.5000  \n",
       "4  32.0625  \n",
       "5  46.5625  "
      ]
     },
     "execution_count": 87,
     "metadata": {},
     "output_type": "execute_result"
    }
   ],
   "source": [
    "without_eng_usefulness"
   ]
  },
  {
   "cell_type": "code",
   "execution_count": null,
   "metadata": {},
   "outputs": [
    {
     "data": {
      "text/html": [
       "<div>\n",
       "<style scoped>\n",
       "    .dataframe tbody tr th:only-of-type {\n",
       "        vertical-align: middle;\n",
       "    }\n",
       "\n",
       "    .dataframe tbody tr th {\n",
       "        vertical-align: top;\n",
       "    }\n",
       "\n",
       "    .dataframe thead th {\n",
       "        text-align: right;\n",
       "    }\n",
       "</style>\n",
       "<table border=\"1\" class=\"dataframe\">\n",
       "  <thead>\n",
       "    <tr style=\"text-align: right;\">\n",
       "      <th></th>\n",
       "      <th>task_id</th>\n",
       "      <th>feature_filtered</th>\n",
       "      <th>count</th>\n",
       "    </tr>\n",
       "  </thead>\n",
       "  <tbody>\n",
       "    <tr>\n",
       "      <th>9</th>\n",
       "      <td>ENG_1</td>\n",
       "      <td>@ai to Generate New Texts</td>\n",
       "      <td>28</td>\n",
       "    </tr>\n",
       "    <tr>\n",
       "      <th>10</th>\n",
       "      <td>ENG_1</td>\n",
       "      <td>Cautionary Narrative Framing</td>\n",
       "      <td>9</td>\n",
       "    </tr>\n",
       "    <tr>\n",
       "      <th>11</th>\n",
       "      <td>ENG_1</td>\n",
       "      <td>Cautionary Narrative with Statistics</td>\n",
       "      <td>8</td>\n",
       "    </tr>\n",
       "    <tr>\n",
       "      <th>12</th>\n",
       "      <td>ENG_1</td>\n",
       "      <td>Emphasis on Immediate Outcome</td>\n",
       "      <td>12</td>\n",
       "    </tr>\n",
       "    <tr>\n",
       "      <th>13</th>\n",
       "      <td>ENG_1</td>\n",
       "      <td>Emphasis on Long-Term Outcome</td>\n",
       "      <td>10</td>\n",
       "    </tr>\n",
       "    <tr>\n",
       "      <th>14</th>\n",
       "      <td>ENG_1</td>\n",
       "      <td>Positive Narrative Framing</td>\n",
       "      <td>21</td>\n",
       "    </tr>\n",
       "    <tr>\n",
       "      <th>15</th>\n",
       "      <td>ENG_1</td>\n",
       "      <td>Positive Narrative Framing with Statistics</td>\n",
       "      <td>11</td>\n",
       "    </tr>\n",
       "    <tr>\n",
       "      <th>16</th>\n",
       "      <td>ENG_1</td>\n",
       "      <td>Create Continuation</td>\n",
       "      <td>7</td>\n",
       "    </tr>\n",
       "    <tr>\n",
       "      <th>18</th>\n",
       "      <td>ENG_2</td>\n",
       "      <td>@ai to Generate New Texts</td>\n",
       "      <td>10</td>\n",
       "    </tr>\n",
       "    <tr>\n",
       "      <th>19</th>\n",
       "      <td>ENG_2</td>\n",
       "      <td>Cautionary Narrative Framing</td>\n",
       "      <td>7</td>\n",
       "    </tr>\n",
       "    <tr>\n",
       "      <th>20</th>\n",
       "      <td>ENG_2</td>\n",
       "      <td>Cautionary Narrative with Statistics</td>\n",
       "      <td>13</td>\n",
       "    </tr>\n",
       "    <tr>\n",
       "      <th>21</th>\n",
       "      <td>ENG_2</td>\n",
       "      <td>Emphasis on Immediate Outcome</td>\n",
       "      <td>10</td>\n",
       "    </tr>\n",
       "    <tr>\n",
       "      <th>22</th>\n",
       "      <td>ENG_2</td>\n",
       "      <td>Emphasis on Long-Term Outcome</td>\n",
       "      <td>6</td>\n",
       "    </tr>\n",
       "    <tr>\n",
       "      <th>23</th>\n",
       "      <td>ENG_2</td>\n",
       "      <td>Positive Narrative Framing</td>\n",
       "      <td>10</td>\n",
       "    </tr>\n",
       "    <tr>\n",
       "      <th>24</th>\n",
       "      <td>ENG_2</td>\n",
       "      <td>Positive Narrative Framing with Statistics</td>\n",
       "      <td>8</td>\n",
       "    </tr>\n",
       "    <tr>\n",
       "      <th>25</th>\n",
       "      <td>ENG_2</td>\n",
       "      <td>Create Continuation</td>\n",
       "      <td>8</td>\n",
       "    </tr>\n",
       "    <tr>\n",
       "      <th>27</th>\n",
       "      <td>ESP_1</td>\n",
       "      <td>@ai to Generate New Texts</td>\n",
       "      <td>9</td>\n",
       "    </tr>\n",
       "    <tr>\n",
       "      <th>28</th>\n",
       "      <td>ESP_1</td>\n",
       "      <td>Cautionary Narrative Framing</td>\n",
       "      <td>5</td>\n",
       "    </tr>\n",
       "    <tr>\n",
       "      <th>29</th>\n",
       "      <td>ESP_1</td>\n",
       "      <td>Cautionary Narrative with Statistics</td>\n",
       "      <td>7</td>\n",
       "    </tr>\n",
       "    <tr>\n",
       "      <th>30</th>\n",
       "      <td>ESP_1</td>\n",
       "      <td>Emphasis on Immediate Outcome</td>\n",
       "      <td>7</td>\n",
       "    </tr>\n",
       "    <tr>\n",
       "      <th>31</th>\n",
       "      <td>ESP_1</td>\n",
       "      <td>Emphasis on Long-Term Outcome</td>\n",
       "      <td>17</td>\n",
       "    </tr>\n",
       "    <tr>\n",
       "      <th>32</th>\n",
       "      <td>ESP_1</td>\n",
       "      <td>Positive Narrative Framing</td>\n",
       "      <td>14</td>\n",
       "    </tr>\n",
       "    <tr>\n",
       "      <th>33</th>\n",
       "      <td>ESP_1</td>\n",
       "      <td>Positive Narrative Framing with Statistics</td>\n",
       "      <td>7</td>\n",
       "    </tr>\n",
       "    <tr>\n",
       "      <th>34</th>\n",
       "      <td>ESP_1</td>\n",
       "      <td>Create Continuation</td>\n",
       "      <td>8</td>\n",
       "    </tr>\n",
       "    <tr>\n",
       "      <th>36</th>\n",
       "      <td>ESP_2</td>\n",
       "      <td>@ai to Generate New Texts</td>\n",
       "      <td>27</td>\n",
       "    </tr>\n",
       "    <tr>\n",
       "      <th>37</th>\n",
       "      <td>ESP_2</td>\n",
       "      <td>Cautionary Narrative Framing</td>\n",
       "      <td>6</td>\n",
       "    </tr>\n",
       "    <tr>\n",
       "      <th>38</th>\n",
       "      <td>ESP_2</td>\n",
       "      <td>Cautionary Narrative with Statistics</td>\n",
       "      <td>10</td>\n",
       "    </tr>\n",
       "    <tr>\n",
       "      <th>39</th>\n",
       "      <td>ESP_2</td>\n",
       "      <td>Emphasis on Immediate Outcome</td>\n",
       "      <td>4</td>\n",
       "    </tr>\n",
       "    <tr>\n",
       "      <th>40</th>\n",
       "      <td>ESP_2</td>\n",
       "      <td>Emphasis on Long-Term Outcome</td>\n",
       "      <td>7</td>\n",
       "    </tr>\n",
       "    <tr>\n",
       "      <th>41</th>\n",
       "      <td>ESP_2</td>\n",
       "      <td>Positive Narrative Framing</td>\n",
       "      <td>14</td>\n",
       "    </tr>\n",
       "    <tr>\n",
       "      <th>42</th>\n",
       "      <td>ESP_2</td>\n",
       "      <td>Positive Narrative Framing with Statistics</td>\n",
       "      <td>12</td>\n",
       "    </tr>\n",
       "    <tr>\n",
       "      <th>43</th>\n",
       "      <td>ESP_2</td>\n",
       "      <td>Create Continuation</td>\n",
       "      <td>15</td>\n",
       "    </tr>\n",
       "  </tbody>\n",
       "</table>\n",
       "</div>"
      ],
      "text/plain": [
       "   task_id                            feature_filtered  count\n",
       "9    ENG_1                   @ai to Generate New Texts     28\n",
       "10   ENG_1                Cautionary Narrative Framing      9\n",
       "11   ENG_1        Cautionary Narrative with Statistics      8\n",
       "12   ENG_1               Emphasis on Immediate Outcome     12\n",
       "13   ENG_1               Emphasis on Long-Term Outcome     10\n",
       "14   ENG_1                  Positive Narrative Framing     21\n",
       "15   ENG_1  Positive Narrative Framing with Statistics     11\n",
       "16   ENG_1                         Create Continuation      7\n",
       "18   ENG_2                   @ai to Generate New Texts     10\n",
       "19   ENG_2                Cautionary Narrative Framing      7\n",
       "20   ENG_2        Cautionary Narrative with Statistics     13\n",
       "21   ENG_2               Emphasis on Immediate Outcome     10\n",
       "22   ENG_2               Emphasis on Long-Term Outcome      6\n",
       "23   ENG_2                  Positive Narrative Framing     10\n",
       "24   ENG_2  Positive Narrative Framing with Statistics      8\n",
       "25   ENG_2                         Create Continuation      8\n",
       "27   ESP_1                   @ai to Generate New Texts      9\n",
       "28   ESP_1                Cautionary Narrative Framing      5\n",
       "29   ESP_1        Cautionary Narrative with Statistics      7\n",
       "30   ESP_1               Emphasis on Immediate Outcome      7\n",
       "31   ESP_1               Emphasis on Long-Term Outcome     17\n",
       "32   ESP_1                  Positive Narrative Framing     14\n",
       "33   ESP_1  Positive Narrative Framing with Statistics      7\n",
       "34   ESP_1                         Create Continuation      8\n",
       "36   ESP_2                   @ai to Generate New Texts     27\n",
       "37   ESP_2                Cautionary Narrative Framing      6\n",
       "38   ESP_2        Cautionary Narrative with Statistics     10\n",
       "39   ESP_2               Emphasis on Immediate Outcome      4\n",
       "40   ESP_2               Emphasis on Long-Term Outcome      7\n",
       "41   ESP_2                  Positive Narrative Framing     14\n",
       "42   ESP_2  Positive Narrative Framing with Statistics     12\n",
       "43   ESP_2                         Create Continuation     15"
      ]
     },
     "execution_count": 92,
     "metadata": {},
     "output_type": "execute_result"
    }
   ],
   "source": [
    "usage_count_grouped_without_eng"
   ]
  },
  {
   "cell_type": "code",
   "execution_count": null,
   "metadata": {},
   "outputs": [
    {
     "data": {
      "text/plain": [
       "feature_filtered\n",
       "@ai to Generate New Texts                     74\n",
       "Cautionary Narrative Framing                  27\n",
       "Cautionary Narrative with Statistics          38\n",
       "Create Continuation                           38\n",
       "Emphasis on Immediate Outcome                 33\n",
       "Emphasis on Long-Term Outcome                 40\n",
       "Positive Narrative Framing                    59\n",
       "Positive Narrative Framing with Statistics    38\n",
       "Name: count, dtype: int64"
      ]
     },
     "execution_count": 93,
     "metadata": {},
     "output_type": "execute_result"
    }
   ],
   "source": [
    "usage_count_grouped_without_eng.groupby('feature_filtered')['count'].sum()"
   ]
  },
  {
   "cell_type": "code",
   "execution_count": 59,
   "metadata": {},
   "outputs": [],
   "source": [
    "import pandas as pd\n",
    "import seaborn as sns\n",
    "import matplotlib.pyplot as plt\n",
    "\n",
    "# Average usefulness scores\n",
    "grouped_df = pd.DataFrame({\n",
    "    'TASK_ID': ['ENG_1', 'ENG_2', 'ESP_1', 'ESP_2'],\n",
    "    'FEAT_1': [43.6875, 43.4375, 45.3750, 50.2500],\n",
    "    'FEAT_2': [30.1875, 35.6250, 38.0000, 34.0625],\n",
    "    'FEAT_3': [37.0000, 44.6875, 43.7500, 41.5000],\n",
    "    'FEAT_4': [30.3750, 33.0625, 35.8125, 34.6875],\n",
    "    'FEAT_5': [43.1250, 26.8125, 22.6875, 36.9375],\n",
    "    'FEAT_6': [42.6875, 38.9375, 55.0000, 48.1250],\n",
    "    'FEAT_7': [80.8125, 55.1250, 55.6250, 75.3750],\n",
    "    'FEAT_8': [45.1875, 41.5000, 32.0625, 46.5625]\n",
    "})\n",
    "\n",
    "# Ensure TASK_ID is the first column when reordering\n",
    "task_id_column = grouped_df.pop('TASK_ID')\n",
    "\n",
    "# Feature usage counts\n",
    "feature_usage_count = {\n",
    "    \"Pos. Narrative\": 59,\n",
    "    \"Caut. Narrative\": 27,\n",
    "    \"Pos. Narrative + Stats\": 38,\n",
    "    \"Caut. Narrative + Stats\": 38,\n",
    "    \"Immediate Outcome\": 33,\n",
    "    \"Long-Term Outcome\": 40,\n",
    "    \"@ai Text Gen\": 74,\n",
    "    \"Create Continuation\": 38\n",
    "}\n",
    "\n",
    "# Short labels for the features, including counts\n",
    "short_labels_with_counts = {\n",
    "    \"FEAT_1\": f\"Pos. Narrative ({feature_usage_count['Pos. Narrative']})\",\n",
    "    \"FEAT_2\": f\"Caut. Narrative ({feature_usage_count['Caut. Narrative']})\",\n",
    "    \"FEAT_3\": f\"Pos. Narrative + Stats ({feature_usage_count['Pos. Narrative + Stats']})\",\n",
    "    \"FEAT_4\": f\"Caut. Narrative + Stats ({feature_usage_count['Caut. Narrative + Stats']})\",\n",
    "    \"FEAT_5\": f\"Immediate Outcome ({feature_usage_count['Immediate Outcome']})\",\n",
    "    \"FEAT_6\": f\"Long-Term Outcome ({feature_usage_count['Long-Term Outcome']})\",\n",
    "    \"FEAT_7\": f\"@ai Text Gen ({feature_usage_count['@ai Text Gen']})\",\n",
    "    \"FEAT_8\": f\"Create Continuation ({feature_usage_count['Create Continuation']})\"\n",
    "}\n",
    "\n",
    "# Create a mapping from FEAT_X to the corresponding full feature name for sorting\n",
    "feat_to_full_name = {\n",
    "    \"FEAT_1\": \"Pos. Narrative\",\n",
    "    \"FEAT_2\": \"Caut. Narrative\",\n",
    "    \"FEAT_3\": \"Pos. Narrative + Stats\",\n",
    "    \"FEAT_4\": \"Caut. Narrative + Stats\",\n",
    "    \"FEAT_5\": \"Immediate Outcome\",\n",
    "    \"FEAT_6\": \"Long-Term Outcome\",\n",
    "    \"FEAT_7\": \"@ai Text Gen\",\n",
    "    \"FEAT_8\": \"Create Continuation\"\n",
    "}\n",
    "\n",
    "# Sort the features by their counts in descending order\n",
    "sorted_features = sorted(short_labels_with_counts.keys(), \n",
    "                         key=lambda x: feature_usage_count[feat_to_full_name[x]], \n",
    "                         reverse=True)\n",
    "\n",
    "# Reorder the columns in the dataframe based on sorted features\n",
    "grouped_df_sorted = pd.concat([task_id_column, grouped_df[sorted_features]], axis=1)\n",
    "\n",
    "# Rename the columns with the short labels and counts\n",
    "grouped_df_sorted = grouped_df_sorted.rename(columns=short_labels_with_counts)\n",
    "\n",
    "# Create a heatmap\n",
    "heatmap_data = grouped_df_sorted.set_index('TASK_ID').T\n"
   ]
  },
  {
   "cell_type": "markdown",
   "metadata": {},
   "source": [
    "### SNS"
   ]
  },
  {
   "cell_type": "code",
   "execution_count": 32,
   "metadata": {},
   "outputs": [
    {
     "data": {
      "text/html": [
       "<div>\n",
       "<style scoped>\n",
       "    .dataframe tbody tr th:only-of-type {\n",
       "        vertical-align: middle;\n",
       "    }\n",
       "\n",
       "    .dataframe tbody tr th {\n",
       "        vertical-align: top;\n",
       "    }\n",
       "\n",
       "    .dataframe thead th {\n",
       "        text-align: right;\n",
       "    }\n",
       "</style>\n",
       "<table border=\"1\" class=\"dataframe\">\n",
       "  <thead>\n",
       "    <tr style=\"text-align: right;\">\n",
       "      <th>TASK_ID</th>\n",
       "      <th>ENG_1</th>\n",
       "      <th>ENG_2</th>\n",
       "      <th>ESP_1</th>\n",
       "      <th>ESP_2</th>\n",
       "    </tr>\n",
       "  </thead>\n",
       "  <tbody>\n",
       "    <tr>\n",
       "      <th>@ai Text Gen (74)</th>\n",
       "      <td>80.8125</td>\n",
       "      <td>55.1250</td>\n",
       "      <td>55.6250</td>\n",
       "      <td>75.3750</td>\n",
       "    </tr>\n",
       "    <tr>\n",
       "      <th>Pos. Narrative (59)</th>\n",
       "      <td>43.6875</td>\n",
       "      <td>43.4375</td>\n",
       "      <td>45.3750</td>\n",
       "      <td>50.2500</td>\n",
       "    </tr>\n",
       "    <tr>\n",
       "      <th>Long-Term Outcome (40)</th>\n",
       "      <td>42.6875</td>\n",
       "      <td>38.9375</td>\n",
       "      <td>55.0000</td>\n",
       "      <td>48.1250</td>\n",
       "    </tr>\n",
       "    <tr>\n",
       "      <th>Pos. Narrative + Stats (38)</th>\n",
       "      <td>37.0000</td>\n",
       "      <td>44.6875</td>\n",
       "      <td>43.7500</td>\n",
       "      <td>41.5000</td>\n",
       "    </tr>\n",
       "    <tr>\n",
       "      <th>Caut. Narrative + Stats (38)</th>\n",
       "      <td>30.3750</td>\n",
       "      <td>33.0625</td>\n",
       "      <td>35.8125</td>\n",
       "      <td>34.6875</td>\n",
       "    </tr>\n",
       "    <tr>\n",
       "      <th>Create Continuation (38)</th>\n",
       "      <td>45.1875</td>\n",
       "      <td>41.5000</td>\n",
       "      <td>32.0625</td>\n",
       "      <td>46.5625</td>\n",
       "    </tr>\n",
       "    <tr>\n",
       "      <th>Immediate Outcome (33)</th>\n",
       "      <td>43.1250</td>\n",
       "      <td>26.8125</td>\n",
       "      <td>22.6875</td>\n",
       "      <td>36.9375</td>\n",
       "    </tr>\n",
       "    <tr>\n",
       "      <th>Caut. Narrative (27)</th>\n",
       "      <td>30.1875</td>\n",
       "      <td>35.6250</td>\n",
       "      <td>38.0000</td>\n",
       "      <td>34.0625</td>\n",
       "    </tr>\n",
       "  </tbody>\n",
       "</table>\n",
       "</div>"
      ],
      "text/plain": [
       "TASK_ID                         ENG_1    ENG_2    ESP_1    ESP_2\n",
       "@ai Text Gen (74)             80.8125  55.1250  55.6250  75.3750\n",
       "Pos. Narrative (59)           43.6875  43.4375  45.3750  50.2500\n",
       "Long-Term Outcome (40)        42.6875  38.9375  55.0000  48.1250\n",
       "Pos. Narrative + Stats (38)   37.0000  44.6875  43.7500  41.5000\n",
       "Caut. Narrative + Stats (38)  30.3750  33.0625  35.8125  34.6875\n",
       "Create Continuation (38)      45.1875  41.5000  32.0625  46.5625\n",
       "Immediate Outcome (33)        43.1250  26.8125  22.6875  36.9375\n",
       "Caut. Narrative (27)          30.1875  35.6250  38.0000  34.0625"
      ]
     },
     "execution_count": 32,
     "metadata": {},
     "output_type": "execute_result"
    }
   ],
   "source": [
    "plt.figure(figsize=(12, 8))\n",
    "sns.heatmap(heatmap_data, annot=False, cmap='coolwarm', linewidths=.5)\n",
    "plt.title(\"Summary of Feature Usefulness Across Different Experimental Conditions\")\n",
    "plt.xlabel(\"Experiment Conditions\")\n",
    "plt.ylabel(\"Features\")\n",
    "plt.xticks(rotation=45)\n",
    "plt.yticks(rotation=0)  # Keep y-labels horizontal for readability\n",
    "\n",
    "# Save the plot as a PDF (optional)\n",
    "pdf_filename = \"perceived_usefulness_with_count.pdf\"\n",
    "plt.savefig(pdf_filename, format='pdf', bbox_inches='tight')\n",
    "\n",
    "plt.show()"
   ]
  },
  {
   "cell_type": "markdown",
   "metadata": {},
   "source": [
    "### Plotly"
   ]
  },
  {
   "cell_type": "code",
   "execution_count": 60,
   "metadata": {},
   "outputs": [
    {
     "data": {
      "application/vnd.plotly.v1+json": {
       "config": {
        "plotlyServerURL": "https://plot.ly"
       },
       "data": [
        {
         "coloraxis": "coloraxis",
         "hovertemplate": "Task ID: %{x}<br>Features: %{y}<br>Count: %{z}<extra></extra>",
         "name": "0",
         "texttemplate": "%{z}",
         "type": "heatmap",
         "x": [
          "ENG_1",
          "ENG_2",
          "ESP_1",
          "ESP_2"
         ],
         "xaxis": "x",
         "y": [
          "@ai Text Gen (74)",
          "Pos. Narrative (59)",
          "Long-Term Outcome (40)",
          "Pos. Narrative + Stats (38)",
          "Caut. Narrative + Stats (38)",
          "Create Continuation (38)",
          "Immediate Outcome (33)",
          "Caut. Narrative (27)"
         ],
         "yaxis": "y",
         "z": [
          [
           80.8125,
           55.125,
           55.625,
           75.375
          ],
          [
           43.6875,
           43.4375,
           45.375,
           50.25
          ],
          [
           42.6875,
           38.9375,
           55,
           48.125
          ],
          [
           37,
           44.6875,
           43.75,
           41.5
          ],
          [
           30.375,
           33.0625,
           35.8125,
           34.6875
          ],
          [
           45.1875,
           41.5,
           32.0625,
           46.5625
          ],
          [
           43.125,
           26.8125,
           22.6875,
           36.9375
          ],
          [
           30.1875,
           35.625,
           38,
           34.0625
          ]
         ]
        }
       ],
       "layout": {
        "coloraxis": {
         "colorbar": {
          "title": {
           "text": "Count"
          }
         },
         "colorscale": [
          [
           0,
           "rgb(255,255,217)"
          ],
          [
           0.125,
           "rgb(237,248,177)"
          ],
          [
           0.25,
           "rgb(199,233,180)"
          ],
          [
           0.375,
           "rgb(127,205,187)"
          ],
          [
           0.5,
           "rgb(65,182,196)"
          ],
          [
           0.625,
           "rgb(29,145,192)"
          ],
          [
           0.75,
           "rgb(34,94,168)"
          ],
          [
           0.875,
           "rgb(37,52,148)"
          ],
          [
           1,
           "rgb(8,29,88)"
          ]
         ]
        },
        "height": 800,
        "margin": {
         "b": 80,
         "l": 80,
         "r": 80,
         "t": 100
        },
        "template": {
         "data": {
          "bar": [
           {
            "error_x": {
             "color": "#2a3f5f"
            },
            "error_y": {
             "color": "#2a3f5f"
            },
            "marker": {
             "line": {
              "color": "#E5ECF6",
              "width": 0.5
             },
             "pattern": {
              "fillmode": "overlay",
              "size": 10,
              "solidity": 0.2
             }
            },
            "type": "bar"
           }
          ],
          "barpolar": [
           {
            "marker": {
             "line": {
              "color": "#E5ECF6",
              "width": 0.5
             },
             "pattern": {
              "fillmode": "overlay",
              "size": 10,
              "solidity": 0.2
             }
            },
            "type": "barpolar"
           }
          ],
          "carpet": [
           {
            "aaxis": {
             "endlinecolor": "#2a3f5f",
             "gridcolor": "white",
             "linecolor": "white",
             "minorgridcolor": "white",
             "startlinecolor": "#2a3f5f"
            },
            "baxis": {
             "endlinecolor": "#2a3f5f",
             "gridcolor": "white",
             "linecolor": "white",
             "minorgridcolor": "white",
             "startlinecolor": "#2a3f5f"
            },
            "type": "carpet"
           }
          ],
          "choropleth": [
           {
            "colorbar": {
             "outlinewidth": 0,
             "ticks": ""
            },
            "type": "choropleth"
           }
          ],
          "contour": [
           {
            "colorbar": {
             "outlinewidth": 0,
             "ticks": ""
            },
            "colorscale": [
             [
              0,
              "#0d0887"
             ],
             [
              0.1111111111111111,
              "#46039f"
             ],
             [
              0.2222222222222222,
              "#7201a8"
             ],
             [
              0.3333333333333333,
              "#9c179e"
             ],
             [
              0.4444444444444444,
              "#bd3786"
             ],
             [
              0.5555555555555556,
              "#d8576b"
             ],
             [
              0.6666666666666666,
              "#ed7953"
             ],
             [
              0.7777777777777778,
              "#fb9f3a"
             ],
             [
              0.8888888888888888,
              "#fdca26"
             ],
             [
              1,
              "#f0f921"
             ]
            ],
            "type": "contour"
           }
          ],
          "contourcarpet": [
           {
            "colorbar": {
             "outlinewidth": 0,
             "ticks": ""
            },
            "type": "contourcarpet"
           }
          ],
          "heatmap": [
           {
            "colorbar": {
             "outlinewidth": 0,
             "ticks": ""
            },
            "colorscale": [
             [
              0,
              "#0d0887"
             ],
             [
              0.1111111111111111,
              "#46039f"
             ],
             [
              0.2222222222222222,
              "#7201a8"
             ],
             [
              0.3333333333333333,
              "#9c179e"
             ],
             [
              0.4444444444444444,
              "#bd3786"
             ],
             [
              0.5555555555555556,
              "#d8576b"
             ],
             [
              0.6666666666666666,
              "#ed7953"
             ],
             [
              0.7777777777777778,
              "#fb9f3a"
             ],
             [
              0.8888888888888888,
              "#fdca26"
             ],
             [
              1,
              "#f0f921"
             ]
            ],
            "type": "heatmap"
           }
          ],
          "heatmapgl": [
           {
            "colorbar": {
             "outlinewidth": 0,
             "ticks": ""
            },
            "colorscale": [
             [
              0,
              "#0d0887"
             ],
             [
              0.1111111111111111,
              "#46039f"
             ],
             [
              0.2222222222222222,
              "#7201a8"
             ],
             [
              0.3333333333333333,
              "#9c179e"
             ],
             [
              0.4444444444444444,
              "#bd3786"
             ],
             [
              0.5555555555555556,
              "#d8576b"
             ],
             [
              0.6666666666666666,
              "#ed7953"
             ],
             [
              0.7777777777777778,
              "#fb9f3a"
             ],
             [
              0.8888888888888888,
              "#fdca26"
             ],
             [
              1,
              "#f0f921"
             ]
            ],
            "type": "heatmapgl"
           }
          ],
          "histogram": [
           {
            "marker": {
             "pattern": {
              "fillmode": "overlay",
              "size": 10,
              "solidity": 0.2
             }
            },
            "type": "histogram"
           }
          ],
          "histogram2d": [
           {
            "colorbar": {
             "outlinewidth": 0,
             "ticks": ""
            },
            "colorscale": [
             [
              0,
              "#0d0887"
             ],
             [
              0.1111111111111111,
              "#46039f"
             ],
             [
              0.2222222222222222,
              "#7201a8"
             ],
             [
              0.3333333333333333,
              "#9c179e"
             ],
             [
              0.4444444444444444,
              "#bd3786"
             ],
             [
              0.5555555555555556,
              "#d8576b"
             ],
             [
              0.6666666666666666,
              "#ed7953"
             ],
             [
              0.7777777777777778,
              "#fb9f3a"
             ],
             [
              0.8888888888888888,
              "#fdca26"
             ],
             [
              1,
              "#f0f921"
             ]
            ],
            "type": "histogram2d"
           }
          ],
          "histogram2dcontour": [
           {
            "colorbar": {
             "outlinewidth": 0,
             "ticks": ""
            },
            "colorscale": [
             [
              0,
              "#0d0887"
             ],
             [
              0.1111111111111111,
              "#46039f"
             ],
             [
              0.2222222222222222,
              "#7201a8"
             ],
             [
              0.3333333333333333,
              "#9c179e"
             ],
             [
              0.4444444444444444,
              "#bd3786"
             ],
             [
              0.5555555555555556,
              "#d8576b"
             ],
             [
              0.6666666666666666,
              "#ed7953"
             ],
             [
              0.7777777777777778,
              "#fb9f3a"
             ],
             [
              0.8888888888888888,
              "#fdca26"
             ],
             [
              1,
              "#f0f921"
             ]
            ],
            "type": "histogram2dcontour"
           }
          ],
          "mesh3d": [
           {
            "colorbar": {
             "outlinewidth": 0,
             "ticks": ""
            },
            "type": "mesh3d"
           }
          ],
          "parcoords": [
           {
            "line": {
             "colorbar": {
              "outlinewidth": 0,
              "ticks": ""
             }
            },
            "type": "parcoords"
           }
          ],
          "pie": [
           {
            "automargin": true,
            "type": "pie"
           }
          ],
          "scatter": [
           {
            "fillpattern": {
             "fillmode": "overlay",
             "size": 10,
             "solidity": 0.2
            },
            "type": "scatter"
           }
          ],
          "scatter3d": [
           {
            "line": {
             "colorbar": {
              "outlinewidth": 0,
              "ticks": ""
             }
            },
            "marker": {
             "colorbar": {
              "outlinewidth": 0,
              "ticks": ""
             }
            },
            "type": "scatter3d"
           }
          ],
          "scattercarpet": [
           {
            "marker": {
             "colorbar": {
              "outlinewidth": 0,
              "ticks": ""
             }
            },
            "type": "scattercarpet"
           }
          ],
          "scattergeo": [
           {
            "marker": {
             "colorbar": {
              "outlinewidth": 0,
              "ticks": ""
             }
            },
            "type": "scattergeo"
           }
          ],
          "scattergl": [
           {
            "marker": {
             "colorbar": {
              "outlinewidth": 0,
              "ticks": ""
             }
            },
            "type": "scattergl"
           }
          ],
          "scattermapbox": [
           {
            "marker": {
             "colorbar": {
              "outlinewidth": 0,
              "ticks": ""
             }
            },
            "type": "scattermapbox"
           }
          ],
          "scatterpolar": [
           {
            "marker": {
             "colorbar": {
              "outlinewidth": 0,
              "ticks": ""
             }
            },
            "type": "scatterpolar"
           }
          ],
          "scatterpolargl": [
           {
            "marker": {
             "colorbar": {
              "outlinewidth": 0,
              "ticks": ""
             }
            },
            "type": "scatterpolargl"
           }
          ],
          "scatterternary": [
           {
            "marker": {
             "colorbar": {
              "outlinewidth": 0,
              "ticks": ""
             }
            },
            "type": "scatterternary"
           }
          ],
          "surface": [
           {
            "colorbar": {
             "outlinewidth": 0,
             "ticks": ""
            },
            "colorscale": [
             [
              0,
              "#0d0887"
             ],
             [
              0.1111111111111111,
              "#46039f"
             ],
             [
              0.2222222222222222,
              "#7201a8"
             ],
             [
              0.3333333333333333,
              "#9c179e"
             ],
             [
              0.4444444444444444,
              "#bd3786"
             ],
             [
              0.5555555555555556,
              "#d8576b"
             ],
             [
              0.6666666666666666,
              "#ed7953"
             ],
             [
              0.7777777777777778,
              "#fb9f3a"
             ],
             [
              0.8888888888888888,
              "#fdca26"
             ],
             [
              1,
              "#f0f921"
             ]
            ],
            "type": "surface"
           }
          ],
          "table": [
           {
            "cells": {
             "fill": {
              "color": "#EBF0F8"
             },
             "line": {
              "color": "white"
             }
            },
            "header": {
             "fill": {
              "color": "#C8D4E3"
             },
             "line": {
              "color": "white"
             }
            },
            "type": "table"
           }
          ]
         },
         "layout": {
          "annotationdefaults": {
           "arrowcolor": "#2a3f5f",
           "arrowhead": 0,
           "arrowwidth": 1
          },
          "autotypenumbers": "strict",
          "coloraxis": {
           "colorbar": {
            "outlinewidth": 0,
            "ticks": ""
           }
          },
          "colorscale": {
           "diverging": [
            [
             0,
             "#8e0152"
            ],
            [
             0.1,
             "#c51b7d"
            ],
            [
             0.2,
             "#de77ae"
            ],
            [
             0.3,
             "#f1b6da"
            ],
            [
             0.4,
             "#fde0ef"
            ],
            [
             0.5,
             "#f7f7f7"
            ],
            [
             0.6,
             "#e6f5d0"
            ],
            [
             0.7,
             "#b8e186"
            ],
            [
             0.8,
             "#7fbc41"
            ],
            [
             0.9,
             "#4d9221"
            ],
            [
             1,
             "#276419"
            ]
           ],
           "sequential": [
            [
             0,
             "#0d0887"
            ],
            [
             0.1111111111111111,
             "#46039f"
            ],
            [
             0.2222222222222222,
             "#7201a8"
            ],
            [
             0.3333333333333333,
             "#9c179e"
            ],
            [
             0.4444444444444444,
             "#bd3786"
            ],
            [
             0.5555555555555556,
             "#d8576b"
            ],
            [
             0.6666666666666666,
             "#ed7953"
            ],
            [
             0.7777777777777778,
             "#fb9f3a"
            ],
            [
             0.8888888888888888,
             "#fdca26"
            ],
            [
             1,
             "#f0f921"
            ]
           ],
           "sequentialminus": [
            [
             0,
             "#0d0887"
            ],
            [
             0.1111111111111111,
             "#46039f"
            ],
            [
             0.2222222222222222,
             "#7201a8"
            ],
            [
             0.3333333333333333,
             "#9c179e"
            ],
            [
             0.4444444444444444,
             "#bd3786"
            ],
            [
             0.5555555555555556,
             "#d8576b"
            ],
            [
             0.6666666666666666,
             "#ed7953"
            ],
            [
             0.7777777777777778,
             "#fb9f3a"
            ],
            [
             0.8888888888888888,
             "#fdca26"
            ],
            [
             1,
             "#f0f921"
            ]
           ]
          },
          "colorway": [
           "#636efa",
           "#EF553B",
           "#00cc96",
           "#ab63fa",
           "#FFA15A",
           "#19d3f3",
           "#FF6692",
           "#B6E880",
           "#FF97FF",
           "#FECB52"
          ],
          "font": {
           "color": "#2a3f5f"
          },
          "geo": {
           "bgcolor": "white",
           "lakecolor": "white",
           "landcolor": "#E5ECF6",
           "showlakes": true,
           "showland": true,
           "subunitcolor": "white"
          },
          "hoverlabel": {
           "align": "left"
          },
          "hovermode": "closest",
          "mapbox": {
           "style": "light"
          },
          "paper_bgcolor": "white",
          "plot_bgcolor": "#E5ECF6",
          "polar": {
           "angularaxis": {
            "gridcolor": "white",
            "linecolor": "white",
            "ticks": ""
           },
           "bgcolor": "#E5ECF6",
           "radialaxis": {
            "gridcolor": "white",
            "linecolor": "white",
            "ticks": ""
           }
          },
          "scene": {
           "xaxis": {
            "backgroundcolor": "#E5ECF6",
            "gridcolor": "white",
            "gridwidth": 2,
            "linecolor": "white",
            "showbackground": true,
            "ticks": "",
            "zerolinecolor": "white"
           },
           "yaxis": {
            "backgroundcolor": "#E5ECF6",
            "gridcolor": "white",
            "gridwidth": 2,
            "linecolor": "white",
            "showbackground": true,
            "ticks": "",
            "zerolinecolor": "white"
           },
           "zaxis": {
            "backgroundcolor": "#E5ECF6",
            "gridcolor": "white",
            "gridwidth": 2,
            "linecolor": "white",
            "showbackground": true,
            "ticks": "",
            "zerolinecolor": "white"
           }
          },
          "shapedefaults": {
           "line": {
            "color": "#2a3f5f"
           }
          },
          "ternary": {
           "aaxis": {
            "gridcolor": "white",
            "linecolor": "white",
            "ticks": ""
           },
           "baxis": {
            "gridcolor": "white",
            "linecolor": "white",
            "ticks": ""
           },
           "bgcolor": "#E5ECF6",
           "caxis": {
            "gridcolor": "white",
            "linecolor": "white",
            "ticks": ""
           }
          },
          "title": {
           "x": 0.05
          },
          "xaxis": {
           "automargin": true,
           "gridcolor": "white",
           "linecolor": "white",
           "ticks": "",
           "title": {
            "standoff": 15
           },
           "zerolinecolor": "white",
           "zerolinewidth": 2
          },
          "yaxis": {
           "automargin": true,
           "gridcolor": "white",
           "linecolor": "white",
           "ticks": "",
           "title": {
            "standoff": 15
           },
           "zerolinecolor": "white",
           "zerolinewidth": 2
          }
         }
        },
        "title": {
         "text": "Heatmap of Feature Counts by Task ID"
        },
        "width": 1200,
        "xaxis": {
         "anchor": "y",
         "domain": [
          0,
          1
         ],
         "title": {
          "text": "Task ID"
         }
        },
        "yaxis": {
         "anchor": "x",
         "autorange": "reversed",
         "domain": [
          0,
          1
         ],
         "title": {
          "text": "Features"
         }
        }
       }
      }
     },
     "metadata": {},
     "output_type": "display_data"
    }
   ],
   "source": [
    "fig = px.imshow(heatmap_data, \n",
    "                labels=dict(x=\"Task ID\", y=\"Features\", color=\"Count\"),\n",
    "                x=heatmap_data.columns,\n",
    "                y=heatmap_data.index,\n",
    "                color_continuous_scale=\"YlGnBu\",\n",
    "                text_auto=True,\n",
    "                aspect='auto')\n",
    "\n",
    "# # Adjust the figure size to match the Seaborn plot\n",
    "fig.update_layout(title=\"Heatmap of Feature Counts by Task ID\",\n",
    "                  xaxis_title=\"Task ID\",\n",
    "                  yaxis_title=\"Features\",\n",
    "                  width=1200,  # Set width to match Seaborn\n",
    "                  height=800,  # Set height to match Seaborn\n",
    "                  margin=dict(l=80, r=80, t=100, b=80))  # Adjust margi\n",
    "# Additionally, adjust the aspect ratio of the heatmap to avoid squishing\n",
    "# fig.update_xaxes(scaleanchor=\"y\", scaleratio=1)\n",
    "# fig.update_yaxes(scaleanchor=\"x\", scaleratio=1)\n",
    "# fig.write_image(\"../figures/results/revealed_utility.png\")\n",
    "\n",
    "fig.show()"
   ]
  },
  {
   "cell_type": "code",
   "execution_count": 34,
   "metadata": {},
   "outputs": [],
   "source": [
    "fig.write_image('../figures/results/perceived_usefulness_with_count_test.pdf')"
   ]
  },
  {
   "cell_type": "markdown",
   "metadata": {},
   "source": [
    "# Actions performed in between ai feature called"
   ]
  },
  {
   "cell_type": "code",
   "execution_count": null,
   "metadata": {},
   "outputs": [],
   "source": [
    "from datetime import datetime, timedelta\n",
    "from collections import defaultdict\n"
   ]
  },
  {
   "cell_type": "code",
   "execution_count": null,
   "metadata": {},
   "outputs": [
    {
     "data": {
      "text/html": [
       "<div>\n",
       "<style scoped>\n",
       "    .dataframe tbody tr th:only-of-type {\n",
       "        vertical-align: middle;\n",
       "    }\n",
       "\n",
       "    .dataframe tbody tr th {\n",
       "        vertical-align: top;\n",
       "    }\n",
       "\n",
       "    .dataframe thead th {\n",
       "        text-align: right;\n",
       "    }\n",
       "</style>\n",
       "<table border=\"1\" class=\"dataframe\">\n",
       "  <thead>\n",
       "    <tr style=\"text-align: right;\">\n",
       "      <th></th>\n",
       "      <th>_id</th>\n",
       "      <th>document_id</th>\n",
       "      <th>task_id</th>\n",
       "      <th>prolific_id</th>\n",
       "      <th>activity_log</th>\n",
       "      <th>time_spent_outside</th>\n",
       "      <th>timestamp</th>\n",
       "      <th>study_id</th>\n",
       "      <th>TASK_ID</th>\n",
       "      <th>key_logs</th>\n",
       "    </tr>\n",
       "  </thead>\n",
       "  <tbody>\n",
       "    <tr>\n",
       "      <th>0</th>\n",
       "      <td>66c5a24c86c57a87db6f59e3</td>\n",
       "      <td>66c5a13c86c57a87db6f59d9</td>\n",
       "      <td>main_task_1</td>\n",
       "      <td>5a4ff22bacc75b000179b0e9</td>\n",
       "      <td>{'buttonClicks': [{'action': 'CREATE VARIATION...</td>\n",
       "      <td>0</td>\n",
       "      <td>2024-08-21 08:16:12.414000+00:00</td>\n",
       "      <td>66c516b1d61c7b572205f713</td>\n",
       "      <td>ENG</td>\n",
       "      <td>[{'key': 'Shift', 'timestamp': '2024-08-21T08:...</td>\n",
       "    </tr>\n",
       "    <tr>\n",
       "      <th>1</th>\n",
       "      <td>66c5e8072f44d7b54f76e537</td>\n",
       "      <td>66c5e4be2f44d7b54f76e52d</td>\n",
       "      <td>main_task_1</td>\n",
       "      <td>5c068f1f9d0df40001e5688c</td>\n",
       "      <td>{'buttonClicks': [{'action': 'CREATE VARIATION...</td>\n",
       "      <td>0</td>\n",
       "      <td>2024-08-21 13:13:43.830000+00:00</td>\n",
       "      <td>66c516b1d61c7b572205f713</td>\n",
       "      <td>ENG</td>\n",
       "      <td>[{'key': 'Backspace', 'timestamp': '2024-08-21...</td>\n",
       "    </tr>\n",
       "  </tbody>\n",
       "</table>\n",
       "</div>"
      ],
      "text/plain": [
       "                        _id               document_id      task_id  \\\n",
       "0  66c5a24c86c57a87db6f59e3  66c5a13c86c57a87db6f59d9  main_task_1   \n",
       "1  66c5e8072f44d7b54f76e537  66c5e4be2f44d7b54f76e52d  main_task_1   \n",
       "\n",
       "                prolific_id  \\\n",
       "0  5a4ff22bacc75b000179b0e9   \n",
       "1  5c068f1f9d0df40001e5688c   \n",
       "\n",
       "                                        activity_log  time_spent_outside  \\\n",
       "0  {'buttonClicks': [{'action': 'CREATE VARIATION...                   0   \n",
       "1  {'buttonClicks': [{'action': 'CREATE VARIATION...                   0   \n",
       "\n",
       "                          timestamp                  study_id TASK_ID  \\\n",
       "0  2024-08-21 08:16:12.414000+00:00  66c516b1d61c7b572205f713     ENG   \n",
       "1  2024-08-21 13:13:43.830000+00:00  66c516b1d61c7b572205f713     ENG   \n",
       "\n",
       "                                            key_logs  \n",
       "0  [{'key': 'Shift', 'timestamp': '2024-08-21T08:...  \n",
       "1  [{'key': 'Backspace', 'timestamp': '2024-08-21...  "
      ]
     },
     "execution_count": 29,
     "metadata": {},
     "output_type": "execute_result"
    }
   ],
   "source": [
    "key_logs = master_activity_df.copy(deep=True)\n",
    "key_logs['key_logs'] = master_activity_df['activity_log'].apply(lambda x:x['keyLogs'])\n",
    "key_logs.head(2)"
   ]
  },
  {
   "cell_type": "code",
   "execution_count": null,
   "metadata": {},
   "outputs": [],
   "source": [
    "key_logs['generated_content'] = master_activity_df['activity_log'].apply(lambda x:x['generatedContent'])"
   ]
  },
  {
   "cell_type": "code",
   "execution_count": null,
   "metadata": {},
   "outputs": [
    {
     "data": {
      "text/html": [
       "<div>\n",
       "<style scoped>\n",
       "    .dataframe tbody tr th:only-of-type {\n",
       "        vertical-align: middle;\n",
       "    }\n",
       "\n",
       "    .dataframe tbody tr th {\n",
       "        vertical-align: top;\n",
       "    }\n",
       "\n",
       "    .dataframe thead th {\n",
       "        text-align: right;\n",
       "    }\n",
       "</style>\n",
       "<table border=\"1\" class=\"dataframe\">\n",
       "  <thead>\n",
       "    <tr style=\"text-align: right;\">\n",
       "      <th></th>\n",
       "      <th>_id</th>\n",
       "      <th>document_id</th>\n",
       "      <th>task_id</th>\n",
       "      <th>prolific_id</th>\n",
       "      <th>activity_log</th>\n",
       "      <th>time_spent_outside</th>\n",
       "      <th>timestamp</th>\n",
       "      <th>study_id</th>\n",
       "      <th>TASK_ID</th>\n",
       "      <th>key_logs</th>\n",
       "      <th>generated_content</th>\n",
       "    </tr>\n",
       "  </thead>\n",
       "  <tbody>\n",
       "    <tr>\n",
       "      <th>0</th>\n",
       "      <td>66c5a24c86c57a87db6f59e3</td>\n",
       "      <td>66c5a13c86c57a87db6f59d9</td>\n",
       "      <td>main_task_1</td>\n",
       "      <td>5a4ff22bacc75b000179b0e9</td>\n",
       "      <td>{'buttonClicks': [{'action': 'CREATE VARIATION...</td>\n",
       "      <td>0</td>\n",
       "      <td>2024-08-21 08:16:12.414000+00:00</td>\n",
       "      <td>66c516b1d61c7b572205f713</td>\n",
       "      <td>ENG</td>\n",
       "      <td>[{'key': 'Shift', 'timestamp': '2024-08-21T08:...</td>\n",
       "      <td>[{'feature': '@ai generation', 'prompt': 'writ...</td>\n",
       "    </tr>\n",
       "    <tr>\n",
       "      <th>1</th>\n",
       "      <td>66c5e8072f44d7b54f76e537</td>\n",
       "      <td>66c5e4be2f44d7b54f76e52d</td>\n",
       "      <td>main_task_1</td>\n",
       "      <td>5c068f1f9d0df40001e5688c</td>\n",
       "      <td>{'buttonClicks': [{'action': 'CREATE VARIATION...</td>\n",
       "      <td>0</td>\n",
       "      <td>2024-08-21 13:13:43.830000+00:00</td>\n",
       "      <td>66c516b1d61c7b572205f713</td>\n",
       "      <td>ENG</td>\n",
       "      <td>[{'key': 'Backspace', 'timestamp': '2024-08-21...</td>\n",
       "      <td>[{'feature': 'Cautionary Narrative with Statis...</td>\n",
       "    </tr>\n",
       "    <tr>\n",
       "      <th>2</th>\n",
       "      <td>66c5a2ec86c57a87db6f59ed</td>\n",
       "      <td>66c5a21086c57a87db6f59e1</td>\n",
       "      <td>main_task_1</td>\n",
       "      <td>5c62de3f48fe4e000180e09d</td>\n",
       "      <td>{'buttonClicks': [{'action': 'CREATE VARIATION...</td>\n",
       "      <td>0</td>\n",
       "      <td>2024-08-21 08:18:52.061000+00:00</td>\n",
       "      <td>66c516b1d61c7b572205f713</td>\n",
       "      <td>ENG</td>\n",
       "      <td>[{'key': 'Shift', 'timestamp': '2024-08-21T08:...</td>\n",
       "      <td>[{'feature': '@ai generation', 'prompt': 'plea...</td>\n",
       "    </tr>\n",
       "    <tr>\n",
       "      <th>3</th>\n",
       "      <td>66c88800e46942c099b32394</td>\n",
       "      <td>66c88773e46942c099b32393</td>\n",
       "      <td>main_task_1</td>\n",
       "      <td>5d1f9776676cd1001580ae9c</td>\n",
       "      <td>{'buttonClicks': [{'action': 'CREATE VARIATION...</td>\n",
       "      <td>0</td>\n",
       "      <td>2024-08-23 13:00:48.591000+00:00</td>\n",
       "      <td>66c516b1d61c7b572205f713</td>\n",
       "      <td>ENG</td>\n",
       "      <td>[{'key': 'Control', 'timestamp': '2024-08-23T1...</td>\n",
       "      <td>[{'feature': '@ai generation', 'prompt': 'use ...</td>\n",
       "    </tr>\n",
       "    <tr>\n",
       "      <th>4</th>\n",
       "      <td>66c5a5c486c57a87db6f5a00</td>\n",
       "      <td>66c5a3e386c57a87db6f59f9</td>\n",
       "      <td>main_task_1</td>\n",
       "      <td>5ea9a41b87b4150bf9634637</td>\n",
       "      <td>{'buttonClicks': [{'action': 'CREATE VARIATION...</td>\n",
       "      <td>0</td>\n",
       "      <td>2024-08-21 08:31:00.305000+00:00</td>\n",
       "      <td>66c516b1d61c7b572205f713</td>\n",
       "      <td>ENG</td>\n",
       "      <td>[{'key': 'Enter', 'timestamp': '2024-08-21T08:...</td>\n",
       "      <td>[{'feature': '@ai generation', 'prompt': ' ﻿Wr...</td>\n",
       "    </tr>\n",
       "    <tr>\n",
       "      <th>...</th>\n",
       "      <td>...</td>\n",
       "      <td>...</td>\n",
       "      <td>...</td>\n",
       "      <td>...</td>\n",
       "      <td>...</td>\n",
       "      <td>...</td>\n",
       "      <td>...</td>\n",
       "      <td>...</td>\n",
       "      <td>...</td>\n",
       "      <td>...</td>\n",
       "      <td>...</td>\n",
       "    </tr>\n",
       "    <tr>\n",
       "      <th>75</th>\n",
       "      <td>66c7208e6db9c208f260cb6b</td>\n",
       "      <td>66c71e1a6db9c208f260cb58</td>\n",
       "      <td>main_task_1</td>\n",
       "      <td>66ad3809e453f7b457f7d048</td>\n",
       "      <td>{'buttonClicks': [{'action': 'CREATE VARIATION...</td>\n",
       "      <td>0</td>\n",
       "      <td>2024-08-22 11:27:10.356000+00:00</td>\n",
       "      <td>66c63f502b78911af098063d</td>\n",
       "      <td>ENG_2</td>\n",
       "      <td>[{'key': 'Backspace', 'timestamp': '2024-08-22...</td>\n",
       "      <td>[{'feature': '@ai generation', 'prompt': 'writ...</td>\n",
       "    </tr>\n",
       "    <tr>\n",
       "      <th>76</th>\n",
       "      <td>66c74f856db9c208f260cc0f</td>\n",
       "      <td>66c74f216db9c208f260cc0c</td>\n",
       "      <td>main_task_2</td>\n",
       "      <td>60c101e4634ffb1aa797b924</td>\n",
       "      <td>{'buttonClicks': [{'action': 'CREATE VARIATION...</td>\n",
       "      <td>0</td>\n",
       "      <td>2024-08-22 14:47:33.899000+00:00</td>\n",
       "      <td>66c63f502b78911af098063d</td>\n",
       "      <td>ESP_1</td>\n",
       "      <td>[{'key': 'Shift', 'timestamp': '2024-08-22T14:...</td>\n",
       "      <td>[{'feature': '@ai generation', 'prompt': 'crea...</td>\n",
       "    </tr>\n",
       "    <tr>\n",
       "      <th>77</th>\n",
       "      <td>66c7519f6db9c208f260cc1c</td>\n",
       "      <td>66c750f16db9c208f260cc18</td>\n",
       "      <td>main_task_1</td>\n",
       "      <td>60c101e4634ffb1aa797b924</td>\n",
       "      <td>{'buttonClicks': [{'action': 'CREATE CONTINUAT...</td>\n",
       "      <td>0</td>\n",
       "      <td>2024-08-22 14:56:31.836000+00:00</td>\n",
       "      <td>66c63f502b78911af098063d</td>\n",
       "      <td>ENG_2</td>\n",
       "      <td>[{'key': 'Shift', 'timestamp': '2024-08-22T14:...</td>\n",
       "      <td>[{'feature': 'continuation', 'prompt': 'Suppor...</td>\n",
       "    </tr>\n",
       "    <tr>\n",
       "      <th>78</th>\n",
       "      <td>66c758d46db9c208f260cc33</td>\n",
       "      <td>66c757f06db9c208f260cc32</td>\n",
       "      <td>main_task_2</td>\n",
       "      <td>6549030c68f0146d7216bb1c</td>\n",
       "      <td>{'buttonClicks': [], 'generatedContent': [], '...</td>\n",
       "      <td>0</td>\n",
       "      <td>2024-08-22 15:27:16.063000+00:00</td>\n",
       "      <td>66c63f502b78911af098063d</td>\n",
       "      <td>ESP_1</td>\n",
       "      <td>[{'key': 'Meta', 'timestamp': '2024-08-22T15:2...</td>\n",
       "      <td>[]</td>\n",
       "    </tr>\n",
       "    <tr>\n",
       "      <th>79</th>\n",
       "      <td>66c75aa46db9c208f260cc39</td>\n",
       "      <td>66c75a3c6db9c208f260cc38</td>\n",
       "      <td>main_task_1</td>\n",
       "      <td>6549030c68f0146d7216bb1c</td>\n",
       "      <td>{'buttonClicks': [], 'generatedContent': [], '...</td>\n",
       "      <td>0</td>\n",
       "      <td>2024-08-22 15:35:00.918000+00:00</td>\n",
       "      <td>66c63f502b78911af098063d</td>\n",
       "      <td>ENG_2</td>\n",
       "      <td>[{'key': 'Backspace', 'timestamp': '2024-08-22...</td>\n",
       "      <td>[]</td>\n",
       "    </tr>\n",
       "  </tbody>\n",
       "</table>\n",
       "<p>80 rows × 11 columns</p>\n",
       "</div>"
      ],
      "text/plain": [
       "                         _id               document_id      task_id  \\\n",
       "0   66c5a24c86c57a87db6f59e3  66c5a13c86c57a87db6f59d9  main_task_1   \n",
       "1   66c5e8072f44d7b54f76e537  66c5e4be2f44d7b54f76e52d  main_task_1   \n",
       "2   66c5a2ec86c57a87db6f59ed  66c5a21086c57a87db6f59e1  main_task_1   \n",
       "3   66c88800e46942c099b32394  66c88773e46942c099b32393  main_task_1   \n",
       "4   66c5a5c486c57a87db6f5a00  66c5a3e386c57a87db6f59f9  main_task_1   \n",
       "..                       ...                       ...          ...   \n",
       "75  66c7208e6db9c208f260cb6b  66c71e1a6db9c208f260cb58  main_task_1   \n",
       "76  66c74f856db9c208f260cc0f  66c74f216db9c208f260cc0c  main_task_2   \n",
       "77  66c7519f6db9c208f260cc1c  66c750f16db9c208f260cc18  main_task_1   \n",
       "78  66c758d46db9c208f260cc33  66c757f06db9c208f260cc32  main_task_2   \n",
       "79  66c75aa46db9c208f260cc39  66c75a3c6db9c208f260cc38  main_task_1   \n",
       "\n",
       "                 prolific_id  \\\n",
       "0   5a4ff22bacc75b000179b0e9   \n",
       "1   5c068f1f9d0df40001e5688c   \n",
       "2   5c62de3f48fe4e000180e09d   \n",
       "3   5d1f9776676cd1001580ae9c   \n",
       "4   5ea9a41b87b4150bf9634637   \n",
       "..                       ...   \n",
       "75  66ad3809e453f7b457f7d048   \n",
       "76  60c101e4634ffb1aa797b924   \n",
       "77  60c101e4634ffb1aa797b924   \n",
       "78  6549030c68f0146d7216bb1c   \n",
       "79  6549030c68f0146d7216bb1c   \n",
       "\n",
       "                                         activity_log  time_spent_outside  \\\n",
       "0   {'buttonClicks': [{'action': 'CREATE VARIATION...                   0   \n",
       "1   {'buttonClicks': [{'action': 'CREATE VARIATION...                   0   \n",
       "2   {'buttonClicks': [{'action': 'CREATE VARIATION...                   0   \n",
       "3   {'buttonClicks': [{'action': 'CREATE VARIATION...                   0   \n",
       "4   {'buttonClicks': [{'action': 'CREATE VARIATION...                   0   \n",
       "..                                                ...                 ...   \n",
       "75  {'buttonClicks': [{'action': 'CREATE VARIATION...                   0   \n",
       "76  {'buttonClicks': [{'action': 'CREATE VARIATION...                   0   \n",
       "77  {'buttonClicks': [{'action': 'CREATE CONTINUAT...                   0   \n",
       "78  {'buttonClicks': [], 'generatedContent': [], '...                   0   \n",
       "79  {'buttonClicks': [], 'generatedContent': [], '...                   0   \n",
       "\n",
       "                           timestamp                  study_id TASK_ID  \\\n",
       "0   2024-08-21 08:16:12.414000+00:00  66c516b1d61c7b572205f713     ENG   \n",
       "1   2024-08-21 13:13:43.830000+00:00  66c516b1d61c7b572205f713     ENG   \n",
       "2   2024-08-21 08:18:52.061000+00:00  66c516b1d61c7b572205f713     ENG   \n",
       "3   2024-08-23 13:00:48.591000+00:00  66c516b1d61c7b572205f713     ENG   \n",
       "4   2024-08-21 08:31:00.305000+00:00  66c516b1d61c7b572205f713     ENG   \n",
       "..                               ...                       ...     ...   \n",
       "75  2024-08-22 11:27:10.356000+00:00  66c63f502b78911af098063d   ENG_2   \n",
       "76  2024-08-22 14:47:33.899000+00:00  66c63f502b78911af098063d   ESP_1   \n",
       "77  2024-08-22 14:56:31.836000+00:00  66c63f502b78911af098063d   ENG_2   \n",
       "78  2024-08-22 15:27:16.063000+00:00  66c63f502b78911af098063d   ESP_1   \n",
       "79  2024-08-22 15:35:00.918000+00:00  66c63f502b78911af098063d   ENG_2   \n",
       "\n",
       "                                             key_logs  \\\n",
       "0   [{'key': 'Shift', 'timestamp': '2024-08-21T08:...   \n",
       "1   [{'key': 'Backspace', 'timestamp': '2024-08-21...   \n",
       "2   [{'key': 'Shift', 'timestamp': '2024-08-21T08:...   \n",
       "3   [{'key': 'Control', 'timestamp': '2024-08-23T1...   \n",
       "4   [{'key': 'Enter', 'timestamp': '2024-08-21T08:...   \n",
       "..                                                ...   \n",
       "75  [{'key': 'Backspace', 'timestamp': '2024-08-22...   \n",
       "76  [{'key': 'Shift', 'timestamp': '2024-08-22T14:...   \n",
       "77  [{'key': 'Shift', 'timestamp': '2024-08-22T14:...   \n",
       "78  [{'key': 'Meta', 'timestamp': '2024-08-22T15:2...   \n",
       "79  [{'key': 'Backspace', 'timestamp': '2024-08-22...   \n",
       "\n",
       "                                    generated_content  \n",
       "0   [{'feature': '@ai generation', 'prompt': 'writ...  \n",
       "1   [{'feature': 'Cautionary Narrative with Statis...  \n",
       "2   [{'feature': '@ai generation', 'prompt': 'plea...  \n",
       "3   [{'feature': '@ai generation', 'prompt': 'use ...  \n",
       "4   [{'feature': '@ai generation', 'prompt': ' ﻿Wr...  \n",
       "..                                                ...  \n",
       "75  [{'feature': '@ai generation', 'prompt': 'writ...  \n",
       "76  [{'feature': '@ai generation', 'prompt': 'crea...  \n",
       "77  [{'feature': 'continuation', 'prompt': 'Suppor...  \n",
       "78                                                 []  \n",
       "79                                                 []  \n",
       "\n",
       "[80 rows x 11 columns]"
      ]
     },
     "execution_count": 31,
     "metadata": {},
     "output_type": "execute_result"
    }
   ],
   "source": [
    "key_logs"
   ]
  },
  {
   "cell_type": "code",
   "execution_count": null,
   "metadata": {},
   "outputs": [],
   "source": [
    "rows = []\n",
    "\n",
    "# Iterate over each document and its sorted events\n",
    "for _, row in key_logs.iterrows():\n",
    "    doc_id = row['document_id']\n",
    "    task_id = row['TASK_ID']\n",
    "    key_strokes = row['key_logs']\n",
    "    feature_usg = row['generated_content']\n",
    "    \n",
    "    # Collect all key press events for the document\n",
    "    for stroke in key_strokes:\n",
    "        rows.append({\n",
    "            'doc_id': doc_id,\n",
    "            'task_id': task_id,\n",
    "            'event_type': 'key',\n",
    "            'content': stroke['key'],\n",
    "            'timestamp': datetime.fromisoformat(stroke['timestamp'].replace('Z', '+00:00'))\n",
    "        })\n",
    "    \n",
    "    # Collect all feature usage events for the document\n",
    "    for content in feature_usg:\n",
    "        rows.append({\n",
    "            'doc_id': doc_id,\n",
    "            'task_id': task_id,\n",
    "            'event_type': content['feature'] if 'feature' in content else 'custom',\n",
    "            'content': content['response'],\n",
    "            'timestamp': datetime.fromisoformat(content['timestamp'].replace('Z', '+00:00'))\n",
    "        })\n",
    "\n",
    "# Convert the list of rows into a DataFrame\n",
    "keylog_df = pd.DataFrame(rows)\n",
    "\n",
    "# Sort the DataFrame by document ID and timestamp to ensure the order is correct\n",
    "keylog_df.sort_values(by=['doc_id', 'timestamp'], inplace=True)\n",
    "keylog_df.reset_index(drop=True, inplace=True)\n"
   ]
  },
  {
   "cell_type": "code",
   "execution_count": null,
   "metadata": {},
   "outputs": [
    {
     "data": {
      "text/plain": [
       "array(['key', '@ai generation', 'Emphasis on Long-Term Outcome',\n",
       "       'Emphasis on Immediate Outcome',\n",
       "       'Cautionary Narrative with Statistics',\n",
       "       'Positive Narrative Framing with Statistics',\n",
       "       'Cautionary Narrative Framing', 'Positive Narrative Framing',\n",
       "       'continuation', 'newly created recipe', 'custom',\n",
       "       'Be More Emotional', 'Summary: ADD STATISTICS',\n",
       "       'Emotional Manipulation'], dtype=object)"
      ]
     },
     "execution_count": 33,
     "metadata": {},
     "output_type": "execute_result"
    }
   ],
   "source": [
    "keylog_df['event_type'].unique()"
   ]
  },
  {
   "cell_type": "code",
   "execution_count": null,
   "metadata": {},
   "outputs": [],
   "source": [
    "outside_standard_recipe = ['Be More Emotional', 'newly created recipe', 'Be More Emotional', 'Summary: ADD STATISTICS', 'Emotional Manipulation']\n",
    "keylog_df['event_type'] = keylog_df['event_type'].apply(lambda x: x if x not in outside_standard_recipe else 'custom')"
   ]
  },
  {
   "cell_type": "code",
   "execution_count": null,
   "metadata": {},
   "outputs": [
    {
     "data": {
      "text/html": [
       "<div>\n",
       "<style scoped>\n",
       "    .dataframe tbody tr th:only-of-type {\n",
       "        vertical-align: middle;\n",
       "    }\n",
       "\n",
       "    .dataframe tbody tr th {\n",
       "        vertical-align: top;\n",
       "    }\n",
       "\n",
       "    .dataframe thead th {\n",
       "        text-align: right;\n",
       "    }\n",
       "</style>\n",
       "<table border=\"1\" class=\"dataframe\">\n",
       "  <thead>\n",
       "    <tr style=\"text-align: right;\">\n",
       "      <th></th>\n",
       "      <th>doc_id</th>\n",
       "      <th>task_id</th>\n",
       "      <th>event_type</th>\n",
       "      <th>content</th>\n",
       "      <th>timestamp</th>\n",
       "    </tr>\n",
       "  </thead>\n",
       "  <tbody>\n",
       "    <tr>\n",
       "      <th>0</th>\n",
       "      <td>66c522869236da2225cc8cf2</td>\n",
       "      <td>ENG</td>\n",
       "      <td>key</td>\n",
       "      <td>Shift</td>\n",
       "      <td>2024-08-20 23:11:10.701000+00:00</td>\n",
       "    </tr>\n",
       "    <tr>\n",
       "      <th>1</th>\n",
       "      <td>66c522869236da2225cc8cf2</td>\n",
       "      <td>ENG</td>\n",
       "      <td>key</td>\n",
       "      <td>@</td>\n",
       "      <td>2024-08-20 23:11:10.893000+00:00</td>\n",
       "    </tr>\n",
       "    <tr>\n",
       "      <th>2</th>\n",
       "      <td>66c522869236da2225cc8cf2</td>\n",
       "      <td>ENG</td>\n",
       "      <td>key</td>\n",
       "      <td>a</td>\n",
       "      <td>2024-08-20 23:11:11.345000+00:00</td>\n",
       "    </tr>\n",
       "    <tr>\n",
       "      <th>3</th>\n",
       "      <td>66c522869236da2225cc8cf2</td>\n",
       "      <td>ENG</td>\n",
       "      <td>key</td>\n",
       "      <td>i</td>\n",
       "      <td>2024-08-20 23:11:11.502000+00:00</td>\n",
       "    </tr>\n",
       "    <tr>\n",
       "      <th>4</th>\n",
       "      <td>66c522869236da2225cc8cf2</td>\n",
       "      <td>ENG</td>\n",
       "      <td>key</td>\n",
       "      <td></td>\n",
       "      <td>2024-08-20 23:11:11.793000+00:00</td>\n",
       "    </tr>\n",
       "    <tr>\n",
       "      <th>...</th>\n",
       "      <td>...</td>\n",
       "      <td>...</td>\n",
       "      <td>...</td>\n",
       "      <td>...</td>\n",
       "      <td>...</td>\n",
       "    </tr>\n",
       "    <tr>\n",
       "      <th>34251</th>\n",
       "      <td>66d3ca8a5a434c9ed85a685a</td>\n",
       "      <td>ENG_2</td>\n",
       "      <td>key</td>\n",
       "      <td>Backspace</td>\n",
       "      <td>2024-09-01 02:01:06.282000+00:00</td>\n",
       "    </tr>\n",
       "    <tr>\n",
       "      <th>34252</th>\n",
       "      <td>66d3ca8a5a434c9ed85a685a</td>\n",
       "      <td>ENG_2</td>\n",
       "      <td>key</td>\n",
       "      <td></td>\n",
       "      <td>2024-09-01 02:01:06.762000+00:00</td>\n",
       "    </tr>\n",
       "    <tr>\n",
       "      <th>34253</th>\n",
       "      <td>66d3ca8a5a434c9ed85a685a</td>\n",
       "      <td>ENG_2</td>\n",
       "      <td>key</td>\n",
       "      <td></td>\n",
       "      <td>2024-09-01 02:01:53.113000+00:00</td>\n",
       "    </tr>\n",
       "    <tr>\n",
       "      <th>34254</th>\n",
       "      <td>66d3ca8a5a434c9ed85a685a</td>\n",
       "      <td>ENG_2</td>\n",
       "      <td>key</td>\n",
       "      <td>Control</td>\n",
       "      <td>2024-09-01 02:01:53.369000+00:00</td>\n",
       "    </tr>\n",
       "    <tr>\n",
       "      <th>34255</th>\n",
       "      <td>66d3ca8a5a434c9ed85a685a</td>\n",
       "      <td>ENG_2</td>\n",
       "      <td>key</td>\n",
       "      <td>v</td>\n",
       "      <td>2024-09-01 02:01:53.565000+00:00</td>\n",
       "    </tr>\n",
       "  </tbody>\n",
       "</table>\n",
       "<p>34256 rows × 5 columns</p>\n",
       "</div>"
      ],
      "text/plain": [
       "                         doc_id task_id event_type    content  \\\n",
       "0      66c522869236da2225cc8cf2     ENG        key      Shift   \n",
       "1      66c522869236da2225cc8cf2     ENG        key          @   \n",
       "2      66c522869236da2225cc8cf2     ENG        key          a   \n",
       "3      66c522869236da2225cc8cf2     ENG        key          i   \n",
       "4      66c522869236da2225cc8cf2     ENG        key              \n",
       "...                         ...     ...        ...        ...   \n",
       "34251  66d3ca8a5a434c9ed85a685a   ENG_2        key  Backspace   \n",
       "34252  66d3ca8a5a434c9ed85a685a   ENG_2        key              \n",
       "34253  66d3ca8a5a434c9ed85a685a   ENG_2        key              \n",
       "34254  66d3ca8a5a434c9ed85a685a   ENG_2        key    Control   \n",
       "34255  66d3ca8a5a434c9ed85a685a   ENG_2        key          v   \n",
       "\n",
       "                             timestamp  \n",
       "0     2024-08-20 23:11:10.701000+00:00  \n",
       "1     2024-08-20 23:11:10.893000+00:00  \n",
       "2     2024-08-20 23:11:11.345000+00:00  \n",
       "3     2024-08-20 23:11:11.502000+00:00  \n",
       "4     2024-08-20 23:11:11.793000+00:00  \n",
       "...                                ...  \n",
       "34251 2024-09-01 02:01:06.282000+00:00  \n",
       "34252 2024-09-01 02:01:06.762000+00:00  \n",
       "34253 2024-09-01 02:01:53.113000+00:00  \n",
       "34254 2024-09-01 02:01:53.369000+00:00  \n",
       "34255 2024-09-01 02:01:53.565000+00:00  \n",
       "\n",
       "[34256 rows x 5 columns]"
      ]
     },
     "execution_count": 35,
     "metadata": {},
     "output_type": "execute_result"
    }
   ],
   "source": [
    "keylog_df"
   ]
  },
  {
   "cell_type": "code",
   "execution_count": null,
   "metadata": {},
   "outputs": [
    {
     "data": {
      "text/html": [
       "<div>\n",
       "<style scoped>\n",
       "    .dataframe tbody tr th:only-of-type {\n",
       "        vertical-align: middle;\n",
       "    }\n",
       "\n",
       "    .dataframe tbody tr th {\n",
       "        vertical-align: top;\n",
       "    }\n",
       "\n",
       "    .dataframe thead th {\n",
       "        text-align: right;\n",
       "    }\n",
       "</style>\n",
       "<table border=\"1\" class=\"dataframe\">\n",
       "  <thead>\n",
       "    <tr style=\"text-align: right;\">\n",
       "      <th></th>\n",
       "      <th>_id</th>\n",
       "      <th>document_id</th>\n",
       "      <th>task_id</th>\n",
       "      <th>prolific_id</th>\n",
       "      <th>activity_log</th>\n",
       "      <th>time_spent_outside</th>\n",
       "      <th>timestamp</th>\n",
       "      <th>study_id</th>\n",
       "      <th>TASK_ID</th>\n",
       "      <th>key_logs</th>\n",
       "      <th>generated_content</th>\n",
       "      <th>combined_logs</th>\n",
       "    </tr>\n",
       "  </thead>\n",
       "  <tbody>\n",
       "    <tr>\n",
       "      <th>0</th>\n",
       "      <td>66c5a24c86c57a87db6f59e3</td>\n",
       "      <td>66c5a13c86c57a87db6f59d9</td>\n",
       "      <td>main_task_1</td>\n",
       "      <td>5a4ff22bacc75b000179b0e9</td>\n",
       "      <td>{'buttonClicks': [{'action': 'CREATE VARIATION...</td>\n",
       "      <td>0</td>\n",
       "      <td>2024-08-21 08:16:12.414000+00:00</td>\n",
       "      <td>66c516b1d61c7b572205f713</td>\n",
       "      <td>ENG</td>\n",
       "      <td>[{'key': 'Shift', 'timestamp': '2024-08-21T08:...</td>\n",
       "      <td>[{'feature': '@ai generation', 'prompt': 'writ...</td>\n",
       "      <td>[{'key': 'Shift', 'timestamp': '2024-08-21T08:...</td>\n",
       "    </tr>\n",
       "    <tr>\n",
       "      <th>1</th>\n",
       "      <td>66c5e8072f44d7b54f76e537</td>\n",
       "      <td>66c5e4be2f44d7b54f76e52d</td>\n",
       "      <td>main_task_1</td>\n",
       "      <td>5c068f1f9d0df40001e5688c</td>\n",
       "      <td>{'buttonClicks': [{'action': 'CREATE VARIATION...</td>\n",
       "      <td>0</td>\n",
       "      <td>2024-08-21 13:13:43.830000+00:00</td>\n",
       "      <td>66c516b1d61c7b572205f713</td>\n",
       "      <td>ENG</td>\n",
       "      <td>[{'key': 'Backspace', 'timestamp': '2024-08-21...</td>\n",
       "      <td>[{'feature': 'Cautionary Narrative with Statis...</td>\n",
       "      <td>[{'key': 'Backspace', 'timestamp': '2024-08-21...</td>\n",
       "    </tr>\n",
       "    <tr>\n",
       "      <th>2</th>\n",
       "      <td>66c5a2ec86c57a87db6f59ed</td>\n",
       "      <td>66c5a21086c57a87db6f59e1</td>\n",
       "      <td>main_task_1</td>\n",
       "      <td>5c62de3f48fe4e000180e09d</td>\n",
       "      <td>{'buttonClicks': [{'action': 'CREATE VARIATION...</td>\n",
       "      <td>0</td>\n",
       "      <td>2024-08-21 08:18:52.061000+00:00</td>\n",
       "      <td>66c516b1d61c7b572205f713</td>\n",
       "      <td>ENG</td>\n",
       "      <td>[{'key': 'Shift', 'timestamp': '2024-08-21T08:...</td>\n",
       "      <td>[{'feature': '@ai generation', 'prompt': 'plea...</td>\n",
       "      <td>[{'key': 'Shift', 'timestamp': '2024-08-21T08:...</td>\n",
       "    </tr>\n",
       "    <tr>\n",
       "      <th>3</th>\n",
       "      <td>66c88800e46942c099b32394</td>\n",
       "      <td>66c88773e46942c099b32393</td>\n",
       "      <td>main_task_1</td>\n",
       "      <td>5d1f9776676cd1001580ae9c</td>\n",
       "      <td>{'buttonClicks': [{'action': 'CREATE VARIATION...</td>\n",
       "      <td>0</td>\n",
       "      <td>2024-08-23 13:00:48.591000+00:00</td>\n",
       "      <td>66c516b1d61c7b572205f713</td>\n",
       "      <td>ENG</td>\n",
       "      <td>[{'key': 'Control', 'timestamp': '2024-08-23T1...</td>\n",
       "      <td>[{'feature': '@ai generation', 'prompt': 'use ...</td>\n",
       "      <td>[{'key': 'Control', 'timestamp': '2024-08-23T1...</td>\n",
       "    </tr>\n",
       "    <tr>\n",
       "      <th>4</th>\n",
       "      <td>66c5a5c486c57a87db6f5a00</td>\n",
       "      <td>66c5a3e386c57a87db6f59f9</td>\n",
       "      <td>main_task_1</td>\n",
       "      <td>5ea9a41b87b4150bf9634637</td>\n",
       "      <td>{'buttonClicks': [{'action': 'CREATE VARIATION...</td>\n",
       "      <td>0</td>\n",
       "      <td>2024-08-21 08:31:00.305000+00:00</td>\n",
       "      <td>66c516b1d61c7b572205f713</td>\n",
       "      <td>ENG</td>\n",
       "      <td>[{'key': 'Enter', 'timestamp': '2024-08-21T08:...</td>\n",
       "      <td>[{'feature': '@ai generation', 'prompt': ' ﻿Wr...</td>\n",
       "      <td>[{'key': 'Enter', 'timestamp': '2024-08-21T08:...</td>\n",
       "    </tr>\n",
       "    <tr>\n",
       "      <th>...</th>\n",
       "      <td>...</td>\n",
       "      <td>...</td>\n",
       "      <td>...</td>\n",
       "      <td>...</td>\n",
       "      <td>...</td>\n",
       "      <td>...</td>\n",
       "      <td>...</td>\n",
       "      <td>...</td>\n",
       "      <td>...</td>\n",
       "      <td>...</td>\n",
       "      <td>...</td>\n",
       "      <td>...</td>\n",
       "    </tr>\n",
       "    <tr>\n",
       "      <th>75</th>\n",
       "      <td>66c7208e6db9c208f260cb6b</td>\n",
       "      <td>66c71e1a6db9c208f260cb58</td>\n",
       "      <td>main_task_1</td>\n",
       "      <td>66ad3809e453f7b457f7d048</td>\n",
       "      <td>{'buttonClicks': [{'action': 'CREATE VARIATION...</td>\n",
       "      <td>0</td>\n",
       "      <td>2024-08-22 11:27:10.356000+00:00</td>\n",
       "      <td>66c63f502b78911af098063d</td>\n",
       "      <td>ENG_2</td>\n",
       "      <td>[{'key': 'Backspace', 'timestamp': '2024-08-22...</td>\n",
       "      <td>[{'feature': '@ai generation', 'prompt': 'writ...</td>\n",
       "      <td>[{'key': 'Backspace', 'timestamp': '2024-08-22...</td>\n",
       "    </tr>\n",
       "    <tr>\n",
       "      <th>76</th>\n",
       "      <td>66c74f856db9c208f260cc0f</td>\n",
       "      <td>66c74f216db9c208f260cc0c</td>\n",
       "      <td>main_task_2</td>\n",
       "      <td>60c101e4634ffb1aa797b924</td>\n",
       "      <td>{'buttonClicks': [{'action': 'CREATE VARIATION...</td>\n",
       "      <td>0</td>\n",
       "      <td>2024-08-22 14:47:33.899000+00:00</td>\n",
       "      <td>66c63f502b78911af098063d</td>\n",
       "      <td>ESP_1</td>\n",
       "      <td>[{'key': 'Shift', 'timestamp': '2024-08-22T14:...</td>\n",
       "      <td>[{'feature': '@ai generation', 'prompt': 'crea...</td>\n",
       "      <td>[{'key': 'Shift', 'timestamp': '2024-08-22T14:...</td>\n",
       "    </tr>\n",
       "    <tr>\n",
       "      <th>77</th>\n",
       "      <td>66c7519f6db9c208f260cc1c</td>\n",
       "      <td>66c750f16db9c208f260cc18</td>\n",
       "      <td>main_task_1</td>\n",
       "      <td>60c101e4634ffb1aa797b924</td>\n",
       "      <td>{'buttonClicks': [{'action': 'CREATE CONTINUAT...</td>\n",
       "      <td>0</td>\n",
       "      <td>2024-08-22 14:56:31.836000+00:00</td>\n",
       "      <td>66c63f502b78911af098063d</td>\n",
       "      <td>ENG_2</td>\n",
       "      <td>[{'key': 'Shift', 'timestamp': '2024-08-22T14:...</td>\n",
       "      <td>[{'feature': 'continuation', 'prompt': 'Suppor...</td>\n",
       "      <td>[{'key': 'Shift', 'timestamp': '2024-08-22T14:...</td>\n",
       "    </tr>\n",
       "    <tr>\n",
       "      <th>78</th>\n",
       "      <td>66c758d46db9c208f260cc33</td>\n",
       "      <td>66c757f06db9c208f260cc32</td>\n",
       "      <td>main_task_2</td>\n",
       "      <td>6549030c68f0146d7216bb1c</td>\n",
       "      <td>{'buttonClicks': [], 'generatedContent': [], '...</td>\n",
       "      <td>0</td>\n",
       "      <td>2024-08-22 15:27:16.063000+00:00</td>\n",
       "      <td>66c63f502b78911af098063d</td>\n",
       "      <td>ESP_1</td>\n",
       "      <td>[{'key': 'Meta', 'timestamp': '2024-08-22T15:2...</td>\n",
       "      <td>[]</td>\n",
       "      <td>[{'key': 'Meta', 'timestamp': '2024-08-22T15:2...</td>\n",
       "    </tr>\n",
       "    <tr>\n",
       "      <th>79</th>\n",
       "      <td>66c75aa46db9c208f260cc39</td>\n",
       "      <td>66c75a3c6db9c208f260cc38</td>\n",
       "      <td>main_task_1</td>\n",
       "      <td>6549030c68f0146d7216bb1c</td>\n",
       "      <td>{'buttonClicks': [], 'generatedContent': [], '...</td>\n",
       "      <td>0</td>\n",
       "      <td>2024-08-22 15:35:00.918000+00:00</td>\n",
       "      <td>66c63f502b78911af098063d</td>\n",
       "      <td>ENG_2</td>\n",
       "      <td>[{'key': 'Backspace', 'timestamp': '2024-08-22...</td>\n",
       "      <td>[]</td>\n",
       "      <td>[{'key': 'Backspace', 'timestamp': '2024-08-22...</td>\n",
       "    </tr>\n",
       "  </tbody>\n",
       "</table>\n",
       "<p>80 rows × 12 columns</p>\n",
       "</div>"
      ],
      "text/plain": [
       "                         _id               document_id      task_id  \\\n",
       "0   66c5a24c86c57a87db6f59e3  66c5a13c86c57a87db6f59d9  main_task_1   \n",
       "1   66c5e8072f44d7b54f76e537  66c5e4be2f44d7b54f76e52d  main_task_1   \n",
       "2   66c5a2ec86c57a87db6f59ed  66c5a21086c57a87db6f59e1  main_task_1   \n",
       "3   66c88800e46942c099b32394  66c88773e46942c099b32393  main_task_1   \n",
       "4   66c5a5c486c57a87db6f5a00  66c5a3e386c57a87db6f59f9  main_task_1   \n",
       "..                       ...                       ...          ...   \n",
       "75  66c7208e6db9c208f260cb6b  66c71e1a6db9c208f260cb58  main_task_1   \n",
       "76  66c74f856db9c208f260cc0f  66c74f216db9c208f260cc0c  main_task_2   \n",
       "77  66c7519f6db9c208f260cc1c  66c750f16db9c208f260cc18  main_task_1   \n",
       "78  66c758d46db9c208f260cc33  66c757f06db9c208f260cc32  main_task_2   \n",
       "79  66c75aa46db9c208f260cc39  66c75a3c6db9c208f260cc38  main_task_1   \n",
       "\n",
       "                 prolific_id  \\\n",
       "0   5a4ff22bacc75b000179b0e9   \n",
       "1   5c068f1f9d0df40001e5688c   \n",
       "2   5c62de3f48fe4e000180e09d   \n",
       "3   5d1f9776676cd1001580ae9c   \n",
       "4   5ea9a41b87b4150bf9634637   \n",
       "..                       ...   \n",
       "75  66ad3809e453f7b457f7d048   \n",
       "76  60c101e4634ffb1aa797b924   \n",
       "77  60c101e4634ffb1aa797b924   \n",
       "78  6549030c68f0146d7216bb1c   \n",
       "79  6549030c68f0146d7216bb1c   \n",
       "\n",
       "                                         activity_log  time_spent_outside  \\\n",
       "0   {'buttonClicks': [{'action': 'CREATE VARIATION...                   0   \n",
       "1   {'buttonClicks': [{'action': 'CREATE VARIATION...                   0   \n",
       "2   {'buttonClicks': [{'action': 'CREATE VARIATION...                   0   \n",
       "3   {'buttonClicks': [{'action': 'CREATE VARIATION...                   0   \n",
       "4   {'buttonClicks': [{'action': 'CREATE VARIATION...                   0   \n",
       "..                                                ...                 ...   \n",
       "75  {'buttonClicks': [{'action': 'CREATE VARIATION...                   0   \n",
       "76  {'buttonClicks': [{'action': 'CREATE VARIATION...                   0   \n",
       "77  {'buttonClicks': [{'action': 'CREATE CONTINUAT...                   0   \n",
       "78  {'buttonClicks': [], 'generatedContent': [], '...                   0   \n",
       "79  {'buttonClicks': [], 'generatedContent': [], '...                   0   \n",
       "\n",
       "                           timestamp                  study_id TASK_ID  \\\n",
       "0   2024-08-21 08:16:12.414000+00:00  66c516b1d61c7b572205f713     ENG   \n",
       "1   2024-08-21 13:13:43.830000+00:00  66c516b1d61c7b572205f713     ENG   \n",
       "2   2024-08-21 08:18:52.061000+00:00  66c516b1d61c7b572205f713     ENG   \n",
       "3   2024-08-23 13:00:48.591000+00:00  66c516b1d61c7b572205f713     ENG   \n",
       "4   2024-08-21 08:31:00.305000+00:00  66c516b1d61c7b572205f713     ENG   \n",
       "..                               ...                       ...     ...   \n",
       "75  2024-08-22 11:27:10.356000+00:00  66c63f502b78911af098063d   ENG_2   \n",
       "76  2024-08-22 14:47:33.899000+00:00  66c63f502b78911af098063d   ESP_1   \n",
       "77  2024-08-22 14:56:31.836000+00:00  66c63f502b78911af098063d   ENG_2   \n",
       "78  2024-08-22 15:27:16.063000+00:00  66c63f502b78911af098063d   ESP_1   \n",
       "79  2024-08-22 15:35:00.918000+00:00  66c63f502b78911af098063d   ENG_2   \n",
       "\n",
       "                                             key_logs  \\\n",
       "0   [{'key': 'Shift', 'timestamp': '2024-08-21T08:...   \n",
       "1   [{'key': 'Backspace', 'timestamp': '2024-08-21...   \n",
       "2   [{'key': 'Shift', 'timestamp': '2024-08-21T08:...   \n",
       "3   [{'key': 'Control', 'timestamp': '2024-08-23T1...   \n",
       "4   [{'key': 'Enter', 'timestamp': '2024-08-21T08:...   \n",
       "..                                                ...   \n",
       "75  [{'key': 'Backspace', 'timestamp': '2024-08-22...   \n",
       "76  [{'key': 'Shift', 'timestamp': '2024-08-22T14:...   \n",
       "77  [{'key': 'Shift', 'timestamp': '2024-08-22T14:...   \n",
       "78  [{'key': 'Meta', 'timestamp': '2024-08-22T15:2...   \n",
       "79  [{'key': 'Backspace', 'timestamp': '2024-08-22...   \n",
       "\n",
       "                                    generated_content  \\\n",
       "0   [{'feature': '@ai generation', 'prompt': 'writ...   \n",
       "1   [{'feature': 'Cautionary Narrative with Statis...   \n",
       "2   [{'feature': '@ai generation', 'prompt': 'plea...   \n",
       "3   [{'feature': '@ai generation', 'prompt': 'use ...   \n",
       "4   [{'feature': '@ai generation', 'prompt': ' ﻿Wr...   \n",
       "..                                                ...   \n",
       "75  [{'feature': '@ai generation', 'prompt': 'writ...   \n",
       "76  [{'feature': '@ai generation', 'prompt': 'crea...   \n",
       "77  [{'feature': 'continuation', 'prompt': 'Suppor...   \n",
       "78                                                 []   \n",
       "79                                                 []   \n",
       "\n",
       "                                        combined_logs  \n",
       "0   [{'key': 'Shift', 'timestamp': '2024-08-21T08:...  \n",
       "1   [{'key': 'Backspace', 'timestamp': '2024-08-21...  \n",
       "2   [{'key': 'Shift', 'timestamp': '2024-08-21T08:...  \n",
       "3   [{'key': 'Control', 'timestamp': '2024-08-23T1...  \n",
       "4   [{'key': 'Enter', 'timestamp': '2024-08-21T08:...  \n",
       "..                                                ...  \n",
       "75  [{'key': 'Backspace', 'timestamp': '2024-08-22...  \n",
       "76  [{'key': 'Shift', 'timestamp': '2024-08-22T14:...  \n",
       "77  [{'key': 'Shift', 'timestamp': '2024-08-22T14:...  \n",
       "78  [{'key': 'Meta', 'timestamp': '2024-08-22T15:2...  \n",
       "79  [{'key': 'Backspace', 'timestamp': '2024-08-22...  \n",
       "\n",
       "[80 rows x 12 columns]"
      ]
     },
     "execution_count": 36,
     "metadata": {},
     "output_type": "execute_result"
    }
   ],
   "source": [
    "\n",
    "key_logs['combined_logs'] = key_logs.apply(lambda x: x['key_logs'] + x['generated_content'], axis=1)\n",
    "key_logs"
   ]
  },
  {
   "cell_type": "code",
   "execution_count": null,
   "metadata": {},
   "outputs": [],
   "source": [
    "key_logs = key_logs[key_logs['TASK_ID']!='ENG_No_LLM']"
   ]
  },
  {
   "cell_type": "code",
   "execution_count": null,
   "metadata": {},
   "outputs": [],
   "source": [
    "def ensure_feature_key(content_list):\n",
    "    for content in content_list:\n",
    "        if 'feature' not in content:\n",
    "            content['feature'] = 'custom_recipe'\n",
    "        if 'feature' in content and content['feature'] in outside_standard_recipe:\n",
    "            content['feature'] = 'custom_recipe'\n",
    "    return content_list\n",
    "\n",
    "# Apply the function to the 'generated_content' column\n",
    "key_logs['generated_content'] = key_logs['generated_content'].apply(ensure_feature_key)\n"
   ]
  },
  {
   "cell_type": "code",
   "execution_count": null,
   "metadata": {},
   "outputs": [],
   "source": [
    "key_logs['combined_logs_sorted'] = key_logs['combined_logs'].apply(\n",
    "    lambda logs: sorted(logs, key=lambda x: x['timestamp'])\n",
    ")"
   ]
  },
  {
   "cell_type": "code",
   "execution_count": null,
   "metadata": {},
   "outputs": [],
   "source": [
    "def process_logs(logs):\n",
    "    key_counter = Counter()\n",
    "    results = []\n",
    "    prev_action = \"START\"\n",
    "\n",
    "    for log in logs:\n",
    "        if 'key' in log:\n",
    "            # Count the key presses\n",
    "            key_counter[log['key']] += 1\n",
    "        else:\n",
    "            if 'feature' in log:\n",
    "            # When a feature is encountered, save the results from START to this feature\n",
    "                results.append({\n",
    "                    'from_action': prev_action,\n",
    "                    'to_action': log['feature'],\n",
    "                    'key_counts': dict(key_counter)\n",
    "                })\n",
    "                # Reset the counter and update the previous action\n",
    "                key_counter = Counter()\n",
    "                prev_action = log['feature']\n",
    "            else:\n",
    "                results.append({\n",
    "                    'from_action': prev_action,\n",
    "                    'to_action': 'custom_recipe',\n",
    "                    'key_counts': dict(key_counter)\n",
    "                })\n",
    "                # Reset the counter and update the previous action\n",
    "                key_counter = Counter()\n",
    "                prev_action = 'custom_recipe'\n",
    "                \n",
    "        \n",
    "    \n",
    "    # Capture the final set of key presses up to the last feature\n",
    "    results.append({\n",
    "        'from_action': prev_action,\n",
    "        'to_action': \"END\",\n",
    "        'key_counts': dict(key_counter)\n",
    "    })\n",
    "    \n",
    "    return results"
   ]
  },
  {
   "cell_type": "code",
   "execution_count": null,
   "metadata": {},
   "outputs": [],
   "source": [
    "\n",
    "\n",
    "# Apply the process_logs function to the combined_logs_sorted column\n",
    "key_logs['processed_logs'] = key_logs['combined_logs_sorted'].apply(process_logs)\n",
    "\n",
    "# Flatten the processed logs into a DataFrame for easier analysis\n",
    "flattened_results = []\n",
    "\n",
    "for _, row in key_logs.iterrows():\n",
    "    doc_id = row['document_id']\n",
    "    task_id = row['TASK_ID']\n",
    "    for entry in row['processed_logs']:\n",
    "        flattened_results.append({\n",
    "            'doc_id': doc_id,\n",
    "            'task_id': task_id,\n",
    "            'from_action': entry['from_action'],\n",
    "            'to_action': entry['to_action'],\n",
    "            'key_counts': entry['key_counts']\n",
    "        })\n",
    "\n",
    "# Convert the flattened results into a DataFrame\n",
    "final_key_logs = pd.DataFrame(flattened_results)"
   ]
  },
  {
   "cell_type": "code",
   "execution_count": null,
   "metadata": {},
   "outputs": [
    {
     "data": {
      "text/html": [
       "<div>\n",
       "<style scoped>\n",
       "    .dataframe tbody tr th:only-of-type {\n",
       "        vertical-align: middle;\n",
       "    }\n",
       "\n",
       "    .dataframe tbody tr th {\n",
       "        vertical-align: top;\n",
       "    }\n",
       "\n",
       "    .dataframe thead th {\n",
       "        text-align: right;\n",
       "    }\n",
       "</style>\n",
       "<table border=\"1\" class=\"dataframe\">\n",
       "  <thead>\n",
       "    <tr style=\"text-align: right;\">\n",
       "      <th></th>\n",
       "      <th>doc_id</th>\n",
       "      <th>task_id</th>\n",
       "      <th>from_action</th>\n",
       "      <th>to_action</th>\n",
       "      <th>key_counts</th>\n",
       "    </tr>\n",
       "  </thead>\n",
       "  <tbody>\n",
       "    <tr>\n",
       "      <th>0</th>\n",
       "      <td>66c5a13c86c57a87db6f59d9</td>\n",
       "      <td>ENG</td>\n",
       "      <td>START</td>\n",
       "      <td>@ai generation</td>\n",
       "      <td>{'Shift': 3, '@': 1, 'a': 3, 'i': 2, ' ': 5, '...</td>\n",
       "    </tr>\n",
       "    <tr>\n",
       "      <th>1</th>\n",
       "      <td>66c5a13c86c57a87db6f59d9</td>\n",
       "      <td>ENG</td>\n",
       "      <td>@ai generation</td>\n",
       "      <td>Positive Narrative Framing</td>\n",
       "      <td>{' ': 12, 'Backspace': 21, 'Enter': 3, ',': 3,...</td>\n",
       "    </tr>\n",
       "    <tr>\n",
       "      <th>2</th>\n",
       "      <td>66c5a13c86c57a87db6f59d9</td>\n",
       "      <td>ENG</td>\n",
       "      <td>Positive Narrative Framing</td>\n",
       "      <td>Positive Narrative Framing</td>\n",
       "      <td>{}</td>\n",
       "    </tr>\n",
       "    <tr>\n",
       "      <th>3</th>\n",
       "      <td>66c5a13c86c57a87db6f59d9</td>\n",
       "      <td>ENG</td>\n",
       "      <td>Positive Narrative Framing</td>\n",
       "      <td>Positive Narrative Framing</td>\n",
       "      <td>{'.': 1, 'Enter': 1}</td>\n",
       "    </tr>\n",
       "    <tr>\n",
       "      <th>4</th>\n",
       "      <td>66c5a13c86c57a87db6f59d9</td>\n",
       "      <td>ENG</td>\n",
       "      <td>Positive Narrative Framing</td>\n",
       "      <td>Emphasis on Long-Term Outcome</td>\n",
       "      <td>{'.': 1, 'Enter': 1}</td>\n",
       "    </tr>\n",
       "    <tr>\n",
       "      <th>...</th>\n",
       "      <td>...</td>\n",
       "      <td>...</td>\n",
       "      <td>...</td>\n",
       "      <td>...</td>\n",
       "      <td>...</td>\n",
       "    </tr>\n",
       "    <tr>\n",
       "      <th>602</th>\n",
       "      <td>66c750f16db9c208f260cc18</td>\n",
       "      <td>ENG_2</td>\n",
       "      <td>Emphasis on Long-Term Outcome</td>\n",
       "      <td>Positive Narrative Framing</td>\n",
       "      <td>{}</td>\n",
       "    </tr>\n",
       "    <tr>\n",
       "      <th>603</th>\n",
       "      <td>66c750f16db9c208f260cc18</td>\n",
       "      <td>ENG_2</td>\n",
       "      <td>Positive Narrative Framing</td>\n",
       "      <td>@ai generation</td>\n",
       "      <td>{'Enter': 5, 'Backspace': 3, 'Shift': 1, '@': ...</td>\n",
       "    </tr>\n",
       "    <tr>\n",
       "      <th>604</th>\n",
       "      <td>66c750f16db9c208f260cc18</td>\n",
       "      <td>ENG_2</td>\n",
       "      <td>@ai generation</td>\n",
       "      <td>END</td>\n",
       "      <td>{}</td>\n",
       "    </tr>\n",
       "    <tr>\n",
       "      <th>605</th>\n",
       "      <td>66c757f06db9c208f260cc32</td>\n",
       "      <td>ESP_1</td>\n",
       "      <td>START</td>\n",
       "      <td>END</td>\n",
       "      <td>{'Meta': 4, 'c': 1, 'Backspace': 5, 'v': 2, 'z...</td>\n",
       "    </tr>\n",
       "    <tr>\n",
       "      <th>606</th>\n",
       "      <td>66c75a3c6db9c208f260cc38</td>\n",
       "      <td>ENG_2</td>\n",
       "      <td>START</td>\n",
       "      <td>END</td>\n",
       "      <td>{'Backspace': 2, 'Meta': 3, 'z': 1, 'c': 1, 'v...</td>\n",
       "    </tr>\n",
       "  </tbody>\n",
       "</table>\n",
       "<p>607 rows × 5 columns</p>\n",
       "</div>"
      ],
      "text/plain": [
       "                       doc_id task_id                    from_action  \\\n",
       "0    66c5a13c86c57a87db6f59d9     ENG                          START   \n",
       "1    66c5a13c86c57a87db6f59d9     ENG                 @ai generation   \n",
       "2    66c5a13c86c57a87db6f59d9     ENG     Positive Narrative Framing   \n",
       "3    66c5a13c86c57a87db6f59d9     ENG     Positive Narrative Framing   \n",
       "4    66c5a13c86c57a87db6f59d9     ENG     Positive Narrative Framing   \n",
       "..                        ...     ...                            ...   \n",
       "602  66c750f16db9c208f260cc18   ENG_2  Emphasis on Long-Term Outcome   \n",
       "603  66c750f16db9c208f260cc18   ENG_2     Positive Narrative Framing   \n",
       "604  66c750f16db9c208f260cc18   ENG_2                 @ai generation   \n",
       "605  66c757f06db9c208f260cc32   ESP_1                          START   \n",
       "606  66c75a3c6db9c208f260cc38   ENG_2                          START   \n",
       "\n",
       "                         to_action  \\\n",
       "0                   @ai generation   \n",
       "1       Positive Narrative Framing   \n",
       "2       Positive Narrative Framing   \n",
       "3       Positive Narrative Framing   \n",
       "4    Emphasis on Long-Term Outcome   \n",
       "..                             ...   \n",
       "602     Positive Narrative Framing   \n",
       "603                 @ai generation   \n",
       "604                            END   \n",
       "605                            END   \n",
       "606                            END   \n",
       "\n",
       "                                            key_counts  \n",
       "0    {'Shift': 3, '@': 1, 'a': 3, 'i': 2, ' ': 5, '...  \n",
       "1    {' ': 12, 'Backspace': 21, 'Enter': 3, ',': 3,...  \n",
       "2                                                   {}  \n",
       "3                                 {'.': 1, 'Enter': 1}  \n",
       "4                                 {'.': 1, 'Enter': 1}  \n",
       "..                                                 ...  \n",
       "602                                                 {}  \n",
       "603  {'Enter': 5, 'Backspace': 3, 'Shift': 1, '@': ...  \n",
       "604                                                 {}  \n",
       "605  {'Meta': 4, 'c': 1, 'Backspace': 5, 'v': 2, 'z...  \n",
       "606  {'Backspace': 2, 'Meta': 3, 'z': 1, 'c': 1, 'v...  \n",
       "\n",
       "[607 rows x 5 columns]"
      ]
     },
     "execution_count": 42,
     "metadata": {},
     "output_type": "execute_result"
    }
   ],
   "source": [
    "final_key_logs"
   ]
  },
  {
   "cell_type": "code",
   "execution_count": null,
   "metadata": {},
   "outputs": [
    {
     "data": {
      "text/html": [
       "<div>\n",
       "<style scoped>\n",
       "    .dataframe tbody tr th:only-of-type {\n",
       "        vertical-align: middle;\n",
       "    }\n",
       "\n",
       "    .dataframe tbody tr th {\n",
       "        vertical-align: top;\n",
       "    }\n",
       "\n",
       "    .dataframe thead th {\n",
       "        text-align: right;\n",
       "    }\n",
       "</style>\n",
       "<table border=\"1\" class=\"dataframe\">\n",
       "  <thead>\n",
       "    <tr style=\"text-align: right;\">\n",
       "      <th></th>\n",
       "      <th>doc_id</th>\n",
       "      <th>task_id</th>\n",
       "      <th>from_action</th>\n",
       "      <th>to_action</th>\n",
       "      <th>key_counts</th>\n",
       "    </tr>\n",
       "  </thead>\n",
       "  <tbody>\n",
       "    <tr>\n",
       "      <th>110</th>\n",
       "      <td>66c88f79e46942c099b323a7</td>\n",
       "      <td>ENG</td>\n",
       "      <td>START</td>\n",
       "      <td>@ai generation</td>\n",
       "      <td>{'Backspace': 79, 'Shift': 2, '@': 1, 'a': 5, ...</td>\n",
       "    </tr>\n",
       "    <tr>\n",
       "      <th>111</th>\n",
       "      <td>66c88f79e46942c099b323a7</td>\n",
       "      <td>ENG</td>\n",
       "      <td>@ai generation</td>\n",
       "      <td>Positive Narrative Framing with Statistics</td>\n",
       "      <td>{'Backspace': 69, ' ': 1}</td>\n",
       "    </tr>\n",
       "    <tr>\n",
       "      <th>112</th>\n",
       "      <td>66c88f79e46942c099b323a7</td>\n",
       "      <td>ENG</td>\n",
       "      <td>Positive Narrative Framing with Statistics</td>\n",
       "      <td>Cautionary Narrative Framing</td>\n",
       "      <td>{}</td>\n",
       "    </tr>\n",
       "    <tr>\n",
       "      <th>113</th>\n",
       "      <td>66c88f79e46942c099b323a7</td>\n",
       "      <td>ENG</td>\n",
       "      <td>Cautionary Narrative Framing</td>\n",
       "      <td>custom_recipe</td>\n",
       "      <td>{}</td>\n",
       "    </tr>\n",
       "    <tr>\n",
       "      <th>114</th>\n",
       "      <td>66c88f79e46942c099b323a7</td>\n",
       "      <td>ENG</td>\n",
       "      <td>custom_recipe</td>\n",
       "      <td>continuation</td>\n",
       "      <td>{'CapsLock': 2, 'Y': 1, 'o': 2, 'u': 2, 'r': 2...</td>\n",
       "    </tr>\n",
       "    <tr>\n",
       "      <th>115</th>\n",
       "      <td>66c88f79e46942c099b323a7</td>\n",
       "      <td>ENG</td>\n",
       "      <td>continuation</td>\n",
       "      <td>Emphasis on Immediate Outcome</td>\n",
       "      <td>{}</td>\n",
       "    </tr>\n",
       "    <tr>\n",
       "      <th>116</th>\n",
       "      <td>66c88f79e46942c099b323a7</td>\n",
       "      <td>ENG</td>\n",
       "      <td>Emphasis on Immediate Outcome</td>\n",
       "      <td>custom_recipe</td>\n",
       "      <td>{}</td>\n",
       "    </tr>\n",
       "    <tr>\n",
       "      <th>117</th>\n",
       "      <td>66c88f79e46942c099b323a7</td>\n",
       "      <td>ENG</td>\n",
       "      <td>custom_recipe</td>\n",
       "      <td>END</td>\n",
       "      <td>{}</td>\n",
       "    </tr>\n",
       "  </tbody>\n",
       "</table>\n",
       "</div>"
      ],
      "text/plain": [
       "                       doc_id task_id  \\\n",
       "110  66c88f79e46942c099b323a7     ENG   \n",
       "111  66c88f79e46942c099b323a7     ENG   \n",
       "112  66c88f79e46942c099b323a7     ENG   \n",
       "113  66c88f79e46942c099b323a7     ENG   \n",
       "114  66c88f79e46942c099b323a7     ENG   \n",
       "115  66c88f79e46942c099b323a7     ENG   \n",
       "116  66c88f79e46942c099b323a7     ENG   \n",
       "117  66c88f79e46942c099b323a7     ENG   \n",
       "\n",
       "                                    from_action  \\\n",
       "110                                       START   \n",
       "111                              @ai generation   \n",
       "112  Positive Narrative Framing with Statistics   \n",
       "113                Cautionary Narrative Framing   \n",
       "114                               custom_recipe   \n",
       "115                                continuation   \n",
       "116               Emphasis on Immediate Outcome   \n",
       "117                               custom_recipe   \n",
       "\n",
       "                                      to_action  \\\n",
       "110                              @ai generation   \n",
       "111  Positive Narrative Framing with Statistics   \n",
       "112                Cautionary Narrative Framing   \n",
       "113                               custom_recipe   \n",
       "114                                continuation   \n",
       "115               Emphasis on Immediate Outcome   \n",
       "116                               custom_recipe   \n",
       "117                                         END   \n",
       "\n",
       "                                            key_counts  \n",
       "110  {'Backspace': 79, 'Shift': 2, '@': 1, 'a': 5, ...  \n",
       "111                          {'Backspace': 69, ' ': 1}  \n",
       "112                                                 {}  \n",
       "113                                                 {}  \n",
       "114  {'CapsLock': 2, 'Y': 1, 'o': 2, 'u': 2, 'r': 2...  \n",
       "115                                                 {}  \n",
       "116                                                 {}  \n",
       "117                                                 {}  "
      ]
     },
     "execution_count": 43,
     "metadata": {},
     "output_type": "execute_result"
    }
   ],
   "source": [
    "final_key_logs[final_key_logs['doc_id']=='66c88f79e46942c099b323a7']"
   ]
  },
  {
   "cell_type": "code",
   "execution_count": null,
   "metadata": {},
   "outputs": [
    {
     "data": {
      "text/html": [
       "<div>\n",
       "<style scoped>\n",
       "    .dataframe tbody tr th:only-of-type {\n",
       "        vertical-align: middle;\n",
       "    }\n",
       "\n",
       "    .dataframe tbody tr th {\n",
       "        vertical-align: top;\n",
       "    }\n",
       "\n",
       "    .dataframe thead th {\n",
       "        text-align: right;\n",
       "    }\n",
       "</style>\n",
       "<table border=\"1\" class=\"dataframe\">\n",
       "  <thead>\n",
       "    <tr style=\"text-align: right;\">\n",
       "      <th></th>\n",
       "      <th>doc_id</th>\n",
       "      <th>task_id</th>\n",
       "      <th>from_action</th>\n",
       "      <th>to_action</th>\n",
       "      <th>key_counts</th>\n",
       "    </tr>\n",
       "  </thead>\n",
       "  <tbody>\n",
       "    <tr>\n",
       "      <th>160</th>\n",
       "      <td>66c6181507bfd712ba618584</td>\n",
       "      <td>ENG_1</td>\n",
       "      <td>START</td>\n",
       "      <td>Positive Narrative Framing</td>\n",
       "      <td>{'Backspace': 1, 'Meta': 1, 'v': 1}</td>\n",
       "    </tr>\n",
       "    <tr>\n",
       "      <th>161</th>\n",
       "      <td>66c6181507bfd712ba618584</td>\n",
       "      <td>ENG_1</td>\n",
       "      <td>Positive Narrative Framing</td>\n",
       "      <td>custom_recipe</td>\n",
       "      <td>{}</td>\n",
       "    </tr>\n",
       "    <tr>\n",
       "      <th>162</th>\n",
       "      <td>66c6181507bfd712ba618584</td>\n",
       "      <td>ENG_1</td>\n",
       "      <td>custom_recipe</td>\n",
       "      <td>Positive Narrative Framing</td>\n",
       "      <td>{}</td>\n",
       "    </tr>\n",
       "    <tr>\n",
       "      <th>163</th>\n",
       "      <td>66c6181507bfd712ba618584</td>\n",
       "      <td>ENG_1</td>\n",
       "      <td>Positive Narrative Framing</td>\n",
       "      <td>Positive Narrative Framing</td>\n",
       "      <td>{}</td>\n",
       "    </tr>\n",
       "    <tr>\n",
       "      <th>164</th>\n",
       "      <td>66c6181507bfd712ba618584</td>\n",
       "      <td>ENG_1</td>\n",
       "      <td>Positive Narrative Framing</td>\n",
       "      <td>custom_recipe</td>\n",
       "      <td>{}</td>\n",
       "    </tr>\n",
       "    <tr>\n",
       "      <th>165</th>\n",
       "      <td>66c6181507bfd712ba618584</td>\n",
       "      <td>ENG_1</td>\n",
       "      <td>custom_recipe</td>\n",
       "      <td>custom_recipe</td>\n",
       "      <td>{'Escape': 1, 'Enter': 1, 'Meta': 1, 'v': 1}</td>\n",
       "    </tr>\n",
       "    <tr>\n",
       "      <th>166</th>\n",
       "      <td>66c6181507bfd712ba618584</td>\n",
       "      <td>ENG_1</td>\n",
       "      <td>custom_recipe</td>\n",
       "      <td>custom_recipe</td>\n",
       "      <td>{}</td>\n",
       "    </tr>\n",
       "    <tr>\n",
       "      <th>167</th>\n",
       "      <td>66c6181507bfd712ba618584</td>\n",
       "      <td>ENG_1</td>\n",
       "      <td>custom_recipe</td>\n",
       "      <td>custom_recipe</td>\n",
       "      <td>{}</td>\n",
       "    </tr>\n",
       "    <tr>\n",
       "      <th>168</th>\n",
       "      <td>66c6181507bfd712ba618584</td>\n",
       "      <td>ENG_1</td>\n",
       "      <td>custom_recipe</td>\n",
       "      <td>custom_recipe</td>\n",
       "      <td>{'Shift': 1, ']': 1, '[': 1}</td>\n",
       "    </tr>\n",
       "    <tr>\n",
       "      <th>169</th>\n",
       "      <td>66c6181507bfd712ba618584</td>\n",
       "      <td>ENG_1</td>\n",
       "      <td>custom_recipe</td>\n",
       "      <td>END</td>\n",
       "      <td>{}</td>\n",
       "    </tr>\n",
       "  </tbody>\n",
       "</table>\n",
       "</div>"
      ],
      "text/plain": [
       "                       doc_id task_id                 from_action  \\\n",
       "160  66c6181507bfd712ba618584   ENG_1                       START   \n",
       "161  66c6181507bfd712ba618584   ENG_1  Positive Narrative Framing   \n",
       "162  66c6181507bfd712ba618584   ENG_1               custom_recipe   \n",
       "163  66c6181507bfd712ba618584   ENG_1  Positive Narrative Framing   \n",
       "164  66c6181507bfd712ba618584   ENG_1  Positive Narrative Framing   \n",
       "165  66c6181507bfd712ba618584   ENG_1               custom_recipe   \n",
       "166  66c6181507bfd712ba618584   ENG_1               custom_recipe   \n",
       "167  66c6181507bfd712ba618584   ENG_1               custom_recipe   \n",
       "168  66c6181507bfd712ba618584   ENG_1               custom_recipe   \n",
       "169  66c6181507bfd712ba618584   ENG_1               custom_recipe   \n",
       "\n",
       "                      to_action                                    key_counts  \n",
       "160  Positive Narrative Framing           {'Backspace': 1, 'Meta': 1, 'v': 1}  \n",
       "161               custom_recipe                                            {}  \n",
       "162  Positive Narrative Framing                                            {}  \n",
       "163  Positive Narrative Framing                                            {}  \n",
       "164               custom_recipe                                            {}  \n",
       "165               custom_recipe  {'Escape': 1, 'Enter': 1, 'Meta': 1, 'v': 1}  \n",
       "166               custom_recipe                                            {}  \n",
       "167               custom_recipe                                            {}  \n",
       "168               custom_recipe                  {'Shift': 1, ']': 1, '[': 1}  \n",
       "169                         END                                            {}  "
      ]
     },
     "execution_count": 45,
     "metadata": {},
     "output_type": "execute_result"
    }
   ],
   "source": [
    "final_key_logs[final_key_logs['doc_id']=='66c6181507bfd712ba618584']"
   ]
  },
  {
   "cell_type": "code",
   "execution_count": null,
   "metadata": {},
   "outputs": [
    {
     "data": {
      "text/plain": [
       "17"
      ]
     },
     "execution_count": 56,
     "metadata": {},
     "output_type": "execute_result"
    }
   ],
   "source": [
    "len(final_key_logs.iloc[0]['key_counts'].keys())"
   ]
  },
  {
   "cell_type": "code",
   "execution_count": null,
   "metadata": {},
   "outputs": [],
   "source": [
    "# def count_actions(row):\n",
    "#     # print(row)\n",
    "#     count = 0\n",
    "#     for action, counts in row.items():\n",
    "#         # if action == 'Backspace':\n",
    "#         count += 1\n",
    "    \n",
    "#     return count\n",
    "\n",
    "final_key_logs['all_action_count'] = final_key_logs['key_counts'].apply(lambda x: len(x.keys()))"
   ]
  },
  {
   "cell_type": "code",
   "execution_count": null,
   "metadata": {},
   "outputs": [
    {
     "data": {
      "text/plain": [
       "0      17\n",
       "1      14\n",
       "2       0\n",
       "3       2\n",
       "4       2\n",
       "       ..\n",
       "602     0\n",
       "603    20\n",
       "604     0\n",
       "605     6\n",
       "606     5\n",
       "Name: all_action_count, Length: 607, dtype: int64"
      ]
     },
     "execution_count": 58,
     "metadata": {},
     "output_type": "execute_result"
    }
   ],
   "source": [
    "final_key_logs['all_action_count']"
   ]
  },
  {
   "cell_type": "code",
   "execution_count": null,
   "metadata": {},
   "outputs": [],
   "source": [
    "final_key_logs['all_action_count'].replace(np.nan, 0, inplace=True)"
   ]
  },
  {
   "cell_type": "code",
   "execution_count": null,
   "metadata": {},
   "outputs": [
    {
     "data": {
      "text/html": [
       "<div>\n",
       "<style scoped>\n",
       "    .dataframe tbody tr th:only-of-type {\n",
       "        vertical-align: middle;\n",
       "    }\n",
       "\n",
       "    .dataframe tbody tr th {\n",
       "        vertical-align: top;\n",
       "    }\n",
       "\n",
       "    .dataframe thead th {\n",
       "        text-align: right;\n",
       "    }\n",
       "</style>\n",
       "<table border=\"1\" class=\"dataframe\">\n",
       "  <thead>\n",
       "    <tr style=\"text-align: right;\">\n",
       "      <th></th>\n",
       "      <th>task_id</th>\n",
       "      <th>from_action</th>\n",
       "      <th>all_action_count</th>\n",
       "    </tr>\n",
       "  </thead>\n",
       "  <tbody>\n",
       "    <tr>\n",
       "      <th>0</th>\n",
       "      <td>ENG</td>\n",
       "      <td>@ai generation</td>\n",
       "      <td>268</td>\n",
       "    </tr>\n",
       "    <tr>\n",
       "      <th>1</th>\n",
       "      <td>ENG</td>\n",
       "      <td>Cautionary Narrative Framing</td>\n",
       "      <td>22</td>\n",
       "    </tr>\n",
       "  </tbody>\n",
       "</table>\n",
       "</div>"
      ],
      "text/plain": [
       "  task_id                   from_action  all_action_count\n",
       "0     ENG                @ai generation               268\n",
       "1     ENG  Cautionary Narrative Framing                22"
      ]
     },
     "execution_count": 63,
     "metadata": {},
     "output_type": "execute_result"
    }
   ],
   "source": [
    "aggregate_data_keylogs = final_key_logs.groupby(['task_id','from_action'])['all_action_count'].sum().reset_index()\n",
    "aggregate_data_keylogs = aggregate_data_keylogs[aggregate_data_keylogs['from_action']!='START']\n",
    "aggregate_data_keylogs.head(2)"
   ]
  },
  {
   "cell_type": "code",
   "execution_count": null,
   "metadata": {},
   "outputs": [
    {
     "data": {
      "application/vnd.plotly.v1+json": {
       "config": {
        "plotlyServerURL": "https://plot.ly"
       },
       "data": [
        {
         "alignmentgroup": "True",
         "hovertemplate": "from_action=@ai generation<br>task_id=%{x}<br>all_action_count=%{y}<extra></extra>",
         "legendgroup": "@ai generation",
         "marker": {
          "color": "#636efa",
          "pattern": {
           "shape": ""
          }
         },
         "name": "@ai generation",
         "offsetgroup": "@ai generation",
         "orientation": "v",
         "showlegend": true,
         "textposition": "auto",
         "type": "bar",
         "x": [
          "ENG",
          "ENG_1",
          "ENG_2",
          "ESP_1",
          "ESP_2"
         ],
         "xaxis": "x",
         "y": [
          268,
          431,
          113,
          47,
          377
         ],
         "yaxis": "y"
        },
        {
         "alignmentgroup": "True",
         "hovertemplate": "from_action=Cautionary Narrative Framing<br>task_id=%{x}<br>all_action_count=%{y}<extra></extra>",
         "legendgroup": "Cautionary Narrative Framing",
         "marker": {
          "color": "#EF553B",
          "pattern": {
           "shape": ""
          }
         },
         "name": "Cautionary Narrative Framing",
         "offsetgroup": "Cautionary Narrative Framing",
         "orientation": "v",
         "showlegend": true,
         "textposition": "auto",
         "type": "bar",
         "x": [
          "ENG",
          "ENG_1",
          "ENG_2",
          "ESP_1",
          "ESP_2"
         ],
         "xaxis": "x",
         "y": [
          22,
          5,
          42,
          0,
          12
         ],
         "yaxis": "y"
        },
        {
         "alignmentgroup": "True",
         "hovertemplate": "from_action=Cautionary Narrative with Statistics<br>task_id=%{x}<br>all_action_count=%{y}<extra></extra>",
         "legendgroup": "Cautionary Narrative with Statistics",
         "marker": {
          "color": "#00cc96",
          "pattern": {
           "shape": ""
          }
         },
         "name": "Cautionary Narrative with Statistics",
         "offsetgroup": "Cautionary Narrative with Statistics",
         "orientation": "v",
         "showlegend": true,
         "textposition": "auto",
         "type": "bar",
         "x": [
          "ENG",
          "ENG_1",
          "ENG_2",
          "ESP_1",
          "ESP_2"
         ],
         "xaxis": "x",
         "y": [
          31,
          22,
          61,
          12,
          128
         ],
         "yaxis": "y"
        },
        {
         "alignmentgroup": "True",
         "hovertemplate": "from_action=Emphasis on Immediate Outcome<br>task_id=%{x}<br>all_action_count=%{y}<extra></extra>",
         "legendgroup": "Emphasis on Immediate Outcome",
         "marker": {
          "color": "#ab63fa",
          "pattern": {
           "shape": ""
          }
         },
         "name": "Emphasis on Immediate Outcome",
         "offsetgroup": "Emphasis on Immediate Outcome",
         "orientation": "v",
         "showlegend": true,
         "textposition": "auto",
         "type": "bar",
         "x": [
          "ENG",
          "ENG_1",
          "ENG_2",
          "ESP_1",
          "ESP_2"
         ],
         "xaxis": "x",
         "y": [
          27,
          42,
          10,
          62,
          25
         ],
         "yaxis": "y"
        },
        {
         "alignmentgroup": "True",
         "hovertemplate": "from_action=Emphasis on Long-Term Outcome<br>task_id=%{x}<br>all_action_count=%{y}<extra></extra>",
         "legendgroup": "Emphasis on Long-Term Outcome",
         "marker": {
          "color": "#FFA15A",
          "pattern": {
           "shape": ""
          }
         },
         "name": "Emphasis on Long-Term Outcome",
         "offsetgroup": "Emphasis on Long-Term Outcome",
         "orientation": "v",
         "showlegend": true,
         "textposition": "auto",
         "type": "bar",
         "x": [
          "ENG",
          "ENG_1",
          "ENG_2",
          "ESP_1",
          "ESP_2"
         ],
         "xaxis": "x",
         "y": [
          78,
          44,
          28,
          61,
          13
         ],
         "yaxis": "y"
        },
        {
         "alignmentgroup": "True",
         "hovertemplate": "from_action=Positive Narrative Framing<br>task_id=%{x}<br>all_action_count=%{y}<extra></extra>",
         "legendgroup": "Positive Narrative Framing",
         "marker": {
          "color": "#19d3f3",
          "pattern": {
           "shape": ""
          }
         },
         "name": "Positive Narrative Framing",
         "offsetgroup": "Positive Narrative Framing",
         "orientation": "v",
         "showlegend": true,
         "textposition": "auto",
         "type": "bar",
         "x": [
          "ENG",
          "ENG_1",
          "ENG_2",
          "ESP_1",
          "ESP_2"
         ],
         "xaxis": "x",
         "y": [
          130,
          92,
          23,
          125,
          115
         ],
         "yaxis": "y"
        },
        {
         "alignmentgroup": "True",
         "hovertemplate": "from_action=Positive Narrative Framing with Statistics<br>task_id=%{x}<br>all_action_count=%{y}<extra></extra>",
         "legendgroup": "Positive Narrative Framing with Statistics",
         "marker": {
          "color": "#FF6692",
          "pattern": {
           "shape": ""
          }
         },
         "name": "Positive Narrative Framing with Statistics",
         "offsetgroup": "Positive Narrative Framing with Statistics",
         "orientation": "v",
         "showlegend": true,
         "textposition": "auto",
         "type": "bar",
         "x": [
          "ENG",
          "ENG_1",
          "ENG_2",
          "ESP_1",
          "ESP_2"
         ],
         "xaxis": "x",
         "y": [
          86,
          24,
          27,
          29,
          24
         ],
         "yaxis": "y"
        },
        {
         "alignmentgroup": "True",
         "hovertemplate": "from_action=continuation<br>task_id=%{x}<br>all_action_count=%{y}<extra></extra>",
         "legendgroup": "continuation",
         "marker": {
          "color": "#B6E880",
          "pattern": {
           "shape": ""
          }
         },
         "name": "continuation",
         "offsetgroup": "continuation",
         "orientation": "v",
         "showlegend": true,
         "textposition": "auto",
         "type": "bar",
         "x": [
          "ENG",
          "ENG_1",
          "ENG_2",
          "ESP_1",
          "ESP_2"
         ],
         "xaxis": "x",
         "y": [
          56,
          55,
          47,
          52,
          16
         ],
         "yaxis": "y"
        },
        {
         "alignmentgroup": "True",
         "hovertemplate": "from_action=custom_recipe<br>task_id=%{x}<br>all_action_count=%{y}<extra></extra>",
         "legendgroup": "custom_recipe",
         "marker": {
          "color": "#FF97FF",
          "pattern": {
           "shape": ""
          }
         },
         "name": "custom_recipe",
         "offsetgroup": "custom_recipe",
         "orientation": "v",
         "showlegend": true,
         "textposition": "auto",
         "type": "bar",
         "x": [
          "ENG",
          "ENG_1",
          "ENG_2",
          "ESP_1",
          "ESP_2"
         ],
         "xaxis": "x",
         "y": [
          24,
          14,
          31,
          40,
          50
         ],
         "yaxis": "y"
        }
       ],
       "layout": {
        "bargap": 0.15,
        "bargroupgap": 0.1,
        "barmode": "group",
        "height": 800,
        "legend": {
         "title": {
          "text": "Action"
         },
         "tracegroupgap": 0
        },
        "template": {
         "data": {
          "bar": [
           {
            "error_x": {
             "color": "#2a3f5f"
            },
            "error_y": {
             "color": "#2a3f5f"
            },
            "marker": {
             "line": {
              "color": "#E5ECF6",
              "width": 0.5
             },
             "pattern": {
              "fillmode": "overlay",
              "size": 10,
              "solidity": 0.2
             }
            },
            "type": "bar"
           }
          ],
          "barpolar": [
           {
            "marker": {
             "line": {
              "color": "#E5ECF6",
              "width": 0.5
             },
             "pattern": {
              "fillmode": "overlay",
              "size": 10,
              "solidity": 0.2
             }
            },
            "type": "barpolar"
           }
          ],
          "carpet": [
           {
            "aaxis": {
             "endlinecolor": "#2a3f5f",
             "gridcolor": "white",
             "linecolor": "white",
             "minorgridcolor": "white",
             "startlinecolor": "#2a3f5f"
            },
            "baxis": {
             "endlinecolor": "#2a3f5f",
             "gridcolor": "white",
             "linecolor": "white",
             "minorgridcolor": "white",
             "startlinecolor": "#2a3f5f"
            },
            "type": "carpet"
           }
          ],
          "choropleth": [
           {
            "colorbar": {
             "outlinewidth": 0,
             "ticks": ""
            },
            "type": "choropleth"
           }
          ],
          "contour": [
           {
            "colorbar": {
             "outlinewidth": 0,
             "ticks": ""
            },
            "colorscale": [
             [
              0,
              "#0d0887"
             ],
             [
              0.1111111111111111,
              "#46039f"
             ],
             [
              0.2222222222222222,
              "#7201a8"
             ],
             [
              0.3333333333333333,
              "#9c179e"
             ],
             [
              0.4444444444444444,
              "#bd3786"
             ],
             [
              0.5555555555555556,
              "#d8576b"
             ],
             [
              0.6666666666666666,
              "#ed7953"
             ],
             [
              0.7777777777777778,
              "#fb9f3a"
             ],
             [
              0.8888888888888888,
              "#fdca26"
             ],
             [
              1,
              "#f0f921"
             ]
            ],
            "type": "contour"
           }
          ],
          "contourcarpet": [
           {
            "colorbar": {
             "outlinewidth": 0,
             "ticks": ""
            },
            "type": "contourcarpet"
           }
          ],
          "heatmap": [
           {
            "colorbar": {
             "outlinewidth": 0,
             "ticks": ""
            },
            "colorscale": [
             [
              0,
              "#0d0887"
             ],
             [
              0.1111111111111111,
              "#46039f"
             ],
             [
              0.2222222222222222,
              "#7201a8"
             ],
             [
              0.3333333333333333,
              "#9c179e"
             ],
             [
              0.4444444444444444,
              "#bd3786"
             ],
             [
              0.5555555555555556,
              "#d8576b"
             ],
             [
              0.6666666666666666,
              "#ed7953"
             ],
             [
              0.7777777777777778,
              "#fb9f3a"
             ],
             [
              0.8888888888888888,
              "#fdca26"
             ],
             [
              1,
              "#f0f921"
             ]
            ],
            "type": "heatmap"
           }
          ],
          "heatmapgl": [
           {
            "colorbar": {
             "outlinewidth": 0,
             "ticks": ""
            },
            "colorscale": [
             [
              0,
              "#0d0887"
             ],
             [
              0.1111111111111111,
              "#46039f"
             ],
             [
              0.2222222222222222,
              "#7201a8"
             ],
             [
              0.3333333333333333,
              "#9c179e"
             ],
             [
              0.4444444444444444,
              "#bd3786"
             ],
             [
              0.5555555555555556,
              "#d8576b"
             ],
             [
              0.6666666666666666,
              "#ed7953"
             ],
             [
              0.7777777777777778,
              "#fb9f3a"
             ],
             [
              0.8888888888888888,
              "#fdca26"
             ],
             [
              1,
              "#f0f921"
             ]
            ],
            "type": "heatmapgl"
           }
          ],
          "histogram": [
           {
            "marker": {
             "pattern": {
              "fillmode": "overlay",
              "size": 10,
              "solidity": 0.2
             }
            },
            "type": "histogram"
           }
          ],
          "histogram2d": [
           {
            "colorbar": {
             "outlinewidth": 0,
             "ticks": ""
            },
            "colorscale": [
             [
              0,
              "#0d0887"
             ],
             [
              0.1111111111111111,
              "#46039f"
             ],
             [
              0.2222222222222222,
              "#7201a8"
             ],
             [
              0.3333333333333333,
              "#9c179e"
             ],
             [
              0.4444444444444444,
              "#bd3786"
             ],
             [
              0.5555555555555556,
              "#d8576b"
             ],
             [
              0.6666666666666666,
              "#ed7953"
             ],
             [
              0.7777777777777778,
              "#fb9f3a"
             ],
             [
              0.8888888888888888,
              "#fdca26"
             ],
             [
              1,
              "#f0f921"
             ]
            ],
            "type": "histogram2d"
           }
          ],
          "histogram2dcontour": [
           {
            "colorbar": {
             "outlinewidth": 0,
             "ticks": ""
            },
            "colorscale": [
             [
              0,
              "#0d0887"
             ],
             [
              0.1111111111111111,
              "#46039f"
             ],
             [
              0.2222222222222222,
              "#7201a8"
             ],
             [
              0.3333333333333333,
              "#9c179e"
             ],
             [
              0.4444444444444444,
              "#bd3786"
             ],
             [
              0.5555555555555556,
              "#d8576b"
             ],
             [
              0.6666666666666666,
              "#ed7953"
             ],
             [
              0.7777777777777778,
              "#fb9f3a"
             ],
             [
              0.8888888888888888,
              "#fdca26"
             ],
             [
              1,
              "#f0f921"
             ]
            ],
            "type": "histogram2dcontour"
           }
          ],
          "mesh3d": [
           {
            "colorbar": {
             "outlinewidth": 0,
             "ticks": ""
            },
            "type": "mesh3d"
           }
          ],
          "parcoords": [
           {
            "line": {
             "colorbar": {
              "outlinewidth": 0,
              "ticks": ""
             }
            },
            "type": "parcoords"
           }
          ],
          "pie": [
           {
            "automargin": true,
            "type": "pie"
           }
          ],
          "scatter": [
           {
            "fillpattern": {
             "fillmode": "overlay",
             "size": 10,
             "solidity": 0.2
            },
            "type": "scatter"
           }
          ],
          "scatter3d": [
           {
            "line": {
             "colorbar": {
              "outlinewidth": 0,
              "ticks": ""
             }
            },
            "marker": {
             "colorbar": {
              "outlinewidth": 0,
              "ticks": ""
             }
            },
            "type": "scatter3d"
           }
          ],
          "scattercarpet": [
           {
            "marker": {
             "colorbar": {
              "outlinewidth": 0,
              "ticks": ""
             }
            },
            "type": "scattercarpet"
           }
          ],
          "scattergeo": [
           {
            "marker": {
             "colorbar": {
              "outlinewidth": 0,
              "ticks": ""
             }
            },
            "type": "scattergeo"
           }
          ],
          "scattergl": [
           {
            "marker": {
             "colorbar": {
              "outlinewidth": 0,
              "ticks": ""
             }
            },
            "type": "scattergl"
           }
          ],
          "scattermapbox": [
           {
            "marker": {
             "colorbar": {
              "outlinewidth": 0,
              "ticks": ""
             }
            },
            "type": "scattermapbox"
           }
          ],
          "scatterpolar": [
           {
            "marker": {
             "colorbar": {
              "outlinewidth": 0,
              "ticks": ""
             }
            },
            "type": "scatterpolar"
           }
          ],
          "scatterpolargl": [
           {
            "marker": {
             "colorbar": {
              "outlinewidth": 0,
              "ticks": ""
             }
            },
            "type": "scatterpolargl"
           }
          ],
          "scatterternary": [
           {
            "marker": {
             "colorbar": {
              "outlinewidth": 0,
              "ticks": ""
             }
            },
            "type": "scatterternary"
           }
          ],
          "surface": [
           {
            "colorbar": {
             "outlinewidth": 0,
             "ticks": ""
            },
            "colorscale": [
             [
              0,
              "#0d0887"
             ],
             [
              0.1111111111111111,
              "#46039f"
             ],
             [
              0.2222222222222222,
              "#7201a8"
             ],
             [
              0.3333333333333333,
              "#9c179e"
             ],
             [
              0.4444444444444444,
              "#bd3786"
             ],
             [
              0.5555555555555556,
              "#d8576b"
             ],
             [
              0.6666666666666666,
              "#ed7953"
             ],
             [
              0.7777777777777778,
              "#fb9f3a"
             ],
             [
              0.8888888888888888,
              "#fdca26"
             ],
             [
              1,
              "#f0f921"
             ]
            ],
            "type": "surface"
           }
          ],
          "table": [
           {
            "cells": {
             "fill": {
              "color": "#EBF0F8"
             },
             "line": {
              "color": "white"
             }
            },
            "header": {
             "fill": {
              "color": "#C8D4E3"
             },
             "line": {
              "color": "white"
             }
            },
            "type": "table"
           }
          ]
         },
         "layout": {
          "annotationdefaults": {
           "arrowcolor": "#2a3f5f",
           "arrowhead": 0,
           "arrowwidth": 1
          },
          "autotypenumbers": "strict",
          "coloraxis": {
           "colorbar": {
            "outlinewidth": 0,
            "ticks": ""
           }
          },
          "colorscale": {
           "diverging": [
            [
             0,
             "#8e0152"
            ],
            [
             0.1,
             "#c51b7d"
            ],
            [
             0.2,
             "#de77ae"
            ],
            [
             0.3,
             "#f1b6da"
            ],
            [
             0.4,
             "#fde0ef"
            ],
            [
             0.5,
             "#f7f7f7"
            ],
            [
             0.6,
             "#e6f5d0"
            ],
            [
             0.7,
             "#b8e186"
            ],
            [
             0.8,
             "#7fbc41"
            ],
            [
             0.9,
             "#4d9221"
            ],
            [
             1,
             "#276419"
            ]
           ],
           "sequential": [
            [
             0,
             "#0d0887"
            ],
            [
             0.1111111111111111,
             "#46039f"
            ],
            [
             0.2222222222222222,
             "#7201a8"
            ],
            [
             0.3333333333333333,
             "#9c179e"
            ],
            [
             0.4444444444444444,
             "#bd3786"
            ],
            [
             0.5555555555555556,
             "#d8576b"
            ],
            [
             0.6666666666666666,
             "#ed7953"
            ],
            [
             0.7777777777777778,
             "#fb9f3a"
            ],
            [
             0.8888888888888888,
             "#fdca26"
            ],
            [
             1,
             "#f0f921"
            ]
           ],
           "sequentialminus": [
            [
             0,
             "#0d0887"
            ],
            [
             0.1111111111111111,
             "#46039f"
            ],
            [
             0.2222222222222222,
             "#7201a8"
            ],
            [
             0.3333333333333333,
             "#9c179e"
            ],
            [
             0.4444444444444444,
             "#bd3786"
            ],
            [
             0.5555555555555556,
             "#d8576b"
            ],
            [
             0.6666666666666666,
             "#ed7953"
            ],
            [
             0.7777777777777778,
             "#fb9f3a"
            ],
            [
             0.8888888888888888,
             "#fdca26"
            ],
            [
             1,
             "#f0f921"
            ]
           ]
          },
          "colorway": [
           "#636efa",
           "#EF553B",
           "#00cc96",
           "#ab63fa",
           "#FFA15A",
           "#19d3f3",
           "#FF6692",
           "#B6E880",
           "#FF97FF",
           "#FECB52"
          ],
          "font": {
           "color": "#2a3f5f"
          },
          "geo": {
           "bgcolor": "white",
           "lakecolor": "white",
           "landcolor": "#E5ECF6",
           "showlakes": true,
           "showland": true,
           "subunitcolor": "white"
          },
          "hoverlabel": {
           "align": "left"
          },
          "hovermode": "closest",
          "mapbox": {
           "style": "light"
          },
          "paper_bgcolor": "white",
          "plot_bgcolor": "#E5ECF6",
          "polar": {
           "angularaxis": {
            "gridcolor": "white",
            "linecolor": "white",
            "ticks": ""
           },
           "bgcolor": "#E5ECF6",
           "radialaxis": {
            "gridcolor": "white",
            "linecolor": "white",
            "ticks": ""
           }
          },
          "scene": {
           "xaxis": {
            "backgroundcolor": "#E5ECF6",
            "gridcolor": "white",
            "gridwidth": 2,
            "linecolor": "white",
            "showbackground": true,
            "ticks": "",
            "zerolinecolor": "white"
           },
           "yaxis": {
            "backgroundcolor": "#E5ECF6",
            "gridcolor": "white",
            "gridwidth": 2,
            "linecolor": "white",
            "showbackground": true,
            "ticks": "",
            "zerolinecolor": "white"
           },
           "zaxis": {
            "backgroundcolor": "#E5ECF6",
            "gridcolor": "white",
            "gridwidth": 2,
            "linecolor": "white",
            "showbackground": true,
            "ticks": "",
            "zerolinecolor": "white"
           }
          },
          "shapedefaults": {
           "line": {
            "color": "#2a3f5f"
           }
          },
          "ternary": {
           "aaxis": {
            "gridcolor": "white",
            "linecolor": "white",
            "ticks": ""
           },
           "baxis": {
            "gridcolor": "white",
            "linecolor": "white",
            "ticks": ""
           },
           "bgcolor": "#E5ECF6",
           "caxis": {
            "gridcolor": "white",
            "linecolor": "white",
            "ticks": ""
           }
          },
          "title": {
           "x": 0.05
          },
          "xaxis": {
           "automargin": true,
           "gridcolor": "white",
           "linecolor": "white",
           "ticks": "",
           "title": {
            "standoff": 15
           },
           "zerolinecolor": "white",
           "zerolinewidth": 2
          },
          "yaxis": {
           "automargin": true,
           "gridcolor": "white",
           "linecolor": "white",
           "ticks": "",
           "title": {
            "standoff": 15
           },
           "zerolinecolor": "white",
           "zerolinewidth": 2
          }
         }
        },
        "title": {
         "text": "Action in between feature usage by Task ID"
        },
        "width": 1600,
        "xaxis": {
         "anchor": "y",
         "domain": [
          0,
          1
         ],
         "tickangle": 45,
         "title": {
          "text": "Task ID"
         }
        },
        "yaxis": {
         "anchor": "x",
         "domain": [
          0,
          1
         ],
         "title": {
          "text": "Count"
         }
        }
       }
      }
     },
     "metadata": {},
     "output_type": "display_data"
    }
   ],
   "source": [
    "fig = px.bar(\n",
    "    aggregate_data_keylogs, \n",
    "    x='task_id', \n",
    "    y='all_action_count', \n",
    "    color='from_action',\n",
    "    # hover_data={'feature_filtered': True, 'count': True, 'feature_filtered': True},\n",
    "    # labels={'task_id': 'Task ID', 'count': 'Count', 'filtered_action': 'feature_filtered'},\n",
    "    title='Action in between feature usage by Task ID',\n",
    "    # histfunc='sum'\n",
    ")\n",
    "\n",
    "# Customize the layout\n",
    "fig.update_layout(\n",
    "    xaxis_title='Task ID',\n",
    "    yaxis_title='Count',\n",
    "    legend_title='Action',\n",
    "    barmode='group',\n",
    "    bargap=0.15,\n",
    "    bargroupgap=0.1,\n",
    "    width=1600,\n",
    "    height=800\n",
    ")\n",
    "\n",
    "# Rotate x-axis labels\n",
    "fig.update_xaxes(tickangle=45)\n",
    "\n",
    "# Show the plot\n",
    "fig.show()"
   ]
  },
  {
   "cell_type": "markdown",
   "metadata": {},
   "source": [
    "# AI generated content similarity"
   ]
  },
  {
   "cell_type": "code",
   "execution_count": 40,
   "metadata": {},
   "outputs": [
    {
     "name": "stderr",
     "output_type": "stream",
     "text": [
      "c:\\Users\\shrey\\anaconda3\\Lib\\site-packages\\sentence_transformers\\cross_encoder\\CrossEncoder.py:11: TqdmExperimentalWarning:\n",
      "\n",
      "Using `tqdm.autonotebook.tqdm` in notebook mode. Use `tqdm.tqdm` instead to force console mode (e.g. in jupyter console)\n",
      "\n"
     ]
    }
   ],
   "source": [
    "from sentence_transformers import SentenceTransformer\n",
    "import ollama\n",
    "from sklearn.metrics.pairwise import cosine_similarity"
   ]
  },
  {
   "cell_type": "code",
   "execution_count": 41,
   "metadata": {},
   "outputs": [],
   "source": [
    "sentence_transformer_model = SentenceTransformer('sentence-transformers/paraphrase-multilingual-MiniLM-L12-v2')\n"
   ]
  },
  {
   "cell_type": "code",
   "execution_count": 42,
   "metadata": {},
   "outputs": [],
   "source": [
    "def sentence_transformer_embed_text(prompt):\n",
    "    return sentence_transformer_model.encode([prompt])\n",
    "\n",
    "\n",
    "# Placeholder functions to simulate embedding generation for hypothetical models\n",
    "def nomic_embed_text(prompt):\n",
    "    text = ollama.embeddings(model='nomic-embed-text', prompt=prompt,)\n",
    "    return np.array(text['embedding']).reshape(1, -1)\n",
    "\n",
    "def mxbai_embed_large(prompt):\n",
    "    text = ollama.embeddings(model='mxbai-embed-large', prompt=prompt,)\n",
    "    return np.array(text['embedding']).reshape(1, -1)"
   ]
  },
  {
   "cell_type": "code",
   "execution_count": 43,
   "metadata": {},
   "outputs": [],
   "source": [
    "# Step 3: Define the models and their corresponding embedding functions\n",
    "models = {\n",
    "    'SentenceTransformer': sentence_transformer_embed_text,\n",
    "    'nomic-embed-text': nomic_embed_text,\n",
    "    'mxbai-embed-large': mxbai_embed_large,\n",
    "}"
   ]
  },
  {
   "cell_type": "code",
   "execution_count": null,
   "metadata": {},
   "outputs": [],
   "source": [
    "# Step 3: Define the models and their corresponding embedding functions\n",
    "models = {\n",
    "    'SentenceTransformer': sentence_transformer_embed_text,\n",
    "    'nomic-embed-text': nomic_embed_text,\n",
    "    'mxbai-embed-large': mxbai_embed_large,\n",
    "}\n",
    "\n",
    "results = []\n",
    "\n",
    "for model_name, embed_function in models.items():\n",
    "    average_similarity_results = []\n",
    "    weighted_similarity_results = []\n",
    "    \n",
    "    for _, row in content_usage.iterrows():\n",
    "        plain_text = row['plain_text']\n",
    "        generated_content = row['generated']\n",
    "        \n",
    "        # Average similarity\n",
    "        avg_similarity = calculate_average_similarity(plain_text, generated_content, embed_function)\n",
    "        average_similarity_results.append(avg_similarity)\n",
    "        \n",
    "        # Weighted average similarity\n",
    "        weighted_similarity = calculate_weighted_average_similarity(plain_text, generated_content, embed_function)\n",
    "        weighted_similarity_results.append(weighted_similarity)\n",
    "    \n",
    "    # Store results in the DataFrame\n",
    "    content_usage[f'average_similarity_{model_name}'] = average_similarity_results\n",
    "    content_usage[f'weighted_similarity_{model_name}'] = weighted_similarity_results\n",
    "\n",
    "# Step 4: Plot the results\n",
    "\n",
    "for model_name in models.keys():\n",
    "    # Group by TASK_ID for both average and weighted similarities\n",
    "    grouped_avg_similarity = content_usage.groupby('TASK_ID')[f'average_similarity_{model_name}'].mean().reset_index()\n",
    "    grouped_weighted_similarity = content_usage.groupby('TASK_ID')[f'weighted_similarity_{model_name}'].mean().reset_index()\n",
    "    \n",
    "    # Plot Average Similarity\n",
    "    plt.figure(figsize=(12, 8))\n",
    "    sns.barplot(x='TASK_ID', y=f'average_similarity_{model_name}', data=grouped_avg_similarity, errorbar=\"sd\")\n",
    "    plt.title(f'Average AI-Generated Response Similarity by Task ID ({model_name})')\n",
    "    plt.ylabel('Average Similarity Percentage (%)')\n",
    "    plt.xlabel('Task ID')\n",
    "    plt.xticks(rotation=45)\n",
    "    plt.show()\n",
    "    \n",
    "    # Plot Weighted Average Similarity\n",
    "    plt.figure(figsize=(12, 8))\n",
    "    sns.barplot(x='TASK_ID', y=f'weighted_similarity_{model_name}', data=grouped_weighted_similarity, errorbar=\"sd\")\n",
    "    plt.title(f'Weighted Average AI-Generated Response Similarity by Task ID ({model_name})')\n",
    "    plt.ylabel('Weighted Average Similarity Percentage (%)')\n",
    "    plt.xlabel('Task ID')\n",
    "    plt.xticks(rotation=45)\n",
    "    plt.show()\n"
   ]
  },
  {
   "cell_type": "code",
   "execution_count": null,
   "metadata": {},
   "outputs": [],
   "source": [
    "avg_similarity_df = pd.melt(\n",
    "    content_usage,\n",
    "    id_vars=['TASK_ID'],\n",
    "    value_vars=[\n",
    "        'average_similarity_SentenceTransformer',\n",
    "        'average_similarity_nomic-embed-text',\n",
    "        'average_similarity_mxbai-embed-large'\n",
    "    ],\n",
    "    var_name='Model',\n",
    "    value_name='Average Similarity (%)'\n",
    ")\n",
    "\n",
    "# Melt the DataFrame to long format for weighted average similarity\n",
    "weighted_similarity_df = pd.melt(\n",
    "    content_usage,\n",
    "    id_vars=['TASK_ID'],\n",
    "    value_vars=[\n",
    "        'weighted_similarity_SentenceTransformer',\n",
    "        'weighted_similarity_nomic-embed-text',\n",
    "        'weighted_similarity_mxbai-embed-large'\n",
    "    ],\n",
    "    var_name='Model',\n",
    "    value_name='Weighted Average Similarity (%)'\n",
    ")\n",
    "\n",
    "# Clean up the 'Model' column to only contain the model names\n",
    "\n",
    "avg_similarity_df['Model'] = avg_similarity_df['Model'].str.replace('average_similarity_', '')\n",
    "weighted_similarity_df['Model'] = weighted_similarity_df['Model'].str.replace('weighted_similarity_', '')\n",
    "\n",
    "\n",
    "avg_similarity_df =  avg_similarity_df[avg_similarity_df['TASK_ID']!='ENG_No_LLM']\n",
    "weighted_similarity_df =  weighted_similarity_df[weighted_similarity_df['TASK_ID']!='ENG_No_LLM']\n",
    "\n",
    "avg_similarity_df = avg_similarity_df.groupby(['TASK_ID','Model'])['Average Similarity (%)'].mean().reset_index()\n",
    "weighted_similarity_df = weighted_similarity_df.groupby(['TASK_ID','Model'])['Weighted Average Similarity (%)'].mean().reset_index()\n",
    "\n",
    "# Step 2: Plot using Plotly\n",
    "\n",
    "# Plot Average Similarity\n",
    "fig_avg = px.bar(\n",
    "    avg_similarity_df,\n",
    "    x='TASK_ID',\n",
    "    y='Average Similarity (%)',\n",
    "    color='Model',\n",
    "    title='Average AI-Generated Response Similarity by Task ID',\n",
    "    labels={'TASK_ID': 'Task ID'},\n",
    "    barmode='group'\n",
    ")\n",
    "fig_avg.update_layout(\n",
    "    xaxis_title='Task ID',\n",
    "    yaxis_title='Average Similarity Percentage (%)',\n",
    "    width=900,\n",
    "    height=600\n",
    ")\n",
    "fig_avg.show()\n",
    "\n",
    "# Plot Weighted Average Similarity\n",
    "fig_weighted = px.bar(\n",
    "    weighted_similarity_df,\n",
    "    x='TASK_ID',\n",
    "    y='Weighted Average Similarity (%)',\n",
    "    color='Model',\n",
    "    title='Weighted Average AI-Generated Response Similarity by Task ID',\n",
    "    labels={'TASK_ID': 'Task ID'},\n",
    "    barmode='group'\n",
    ")\n",
    "fig_weighted.update_layout(\n",
    "    xaxis_title='Task ID',\n",
    "    yaxis_title='Weighted Average Similarity Percentage (%)',\n",
    "    width=900,\n",
    "    height=600\n",
    ")\n",
    "fig_weighted.show()"
   ]
  },
  {
   "cell_type": "markdown",
   "metadata": {},
   "source": [
    "\n",
    "### Method 1: Simple Average Similarity\n",
    "\n",
    "This method calculates the average cosine similarity between the AI-generated content and the final text for each `task_id`.\n",
    "\n",
    "**Formula:**\n",
    "\n",
    "$$\n",
    "\\text{Average Similarity} = \\frac{1}{n} \\sum_{i=1}^{n} \\text{cosine\\_similarity}(F_i, F)\n",
    "$$\n",
    "\n",
    "Where:\n",
    "- \\( n \\) is the number of AI-generated segments.\n",
    "- $ F_i $ is the embedding for the AI-generated segment.\n",
    "- \\( F \\) is the embedding for the final document.\n"
   ]
  },
  {
   "cell_type": "code",
   "execution_count": 44,
   "metadata": {},
   "outputs": [],
   "source": [
    "def calculate_average_similarity(plain_text, generated_content, embed_function):\n",
    "    plain_text_embedding = embed_function(plain_text)\n",
    "    \n",
    "    similarities = []\n",
    "    for content in generated_content:\n",
    "        response = content.get('response')\n",
    "        if response:\n",
    "            response_embedding = embed_function(response)\n",
    "            similarity = cosine_similarity(plain_text_embedding, response_embedding)[0][0]\n",
    "            similarities.append(similarity)\n",
    "    \n",
    "    if similarities:\n",
    "        return np.mean(similarities) * 100  # Convert to percentage\n",
    "    else:\n",
    "        return 0\n"
   ]
  },
  {
   "cell_type": "code",
   "execution_count": null,
   "metadata": {},
   "outputs": [
    {
     "data": {
      "image/png": "[encoded data removed]",
      "text/plain": [
       "<Figure size 1200x800 with 1 Axes>"
      ]
     },
     "metadata": {},
     "output_type": "display_data"
    },
    {
     "data": {
      "image/png": "[encoded data removed]",
      "text/plain": [
       "<Figure size 1200x800 with 1 Axes>"
      ]
     },
     "metadata": {},
     "output_type": "display_data"
    },
    {
     "data": {
      "image/png": "[encoded data removed]",
      "text/plain": [
       "<Figure size 1200x800 with 1 Axes>"
      ]
     },
     "metadata": {},
     "output_type": "display_data"
    }
   ],
   "source": [
    "# results_avg = []\n",
    "\n",
    "for model_name, embed_function in models.items():\n",
    "    average_similarity_results = []\n",
    "    # weighted_similarity_results = []\n",
    "    \n",
    "    for _, row in content_usage.iterrows():\n",
    "        plain_text = row['content']\n",
    "        generated_content = row['generated']\n",
    "        \n",
    "        # Average similarity\n",
    "        avg_similarity = calculate_average_similarity(plain_text, generated_content, embed_function)\n",
    "        average_similarity_results.append(avg_similarity)\n",
    "        \n",
    "    \n",
    "    # Store results in the DataFrame\n",
    "    content_usage[f'average_similarity_{model_name}'] = average_similarity_results\n",
    "    # content_usage[f'weighted_similarity_{model_name}'] = weighted_similarity_results\n",
    "\n",
    "# Step 4: Plot the results\n",
    "\n",
    "for model_name in models.keys():\n",
    "    # Group by TASK_ID for both average and weighted similarities\n",
    "    grouped_avg_similarity = content_usage.groupby('TASK_ID')[f'average_similarity_{model_name}'].mean().reset_index()\n",
    "    # grouped_weighted_similarity = content_usage.groupby('TASK_ID')[f'weighted_similarity_{model_name}'].mean().reset_index()\n",
    "    \n",
    "    # Plot Average Similarity\n",
    "    plt.figure(figsize=(12, 8))\n",
    "    sns.barplot(x='TASK_ID', y=f'average_similarity_{model_name}', data=grouped_avg_similarity, errorbar=\"sd\")\n",
    "    plt.title(f'Average AI-Generated Response Similarity by Task ID ({model_name})')\n",
    "    plt.ylabel('Average Similarity Percentage (%)')\n",
    "    plt.xlabel('Task ID')\n",
    "    plt.xticks(rotation=45)\n",
    "    plt.show()"
   ]
  },
  {
   "cell_type": "code",
   "execution_count": null,
   "metadata": {},
   "outputs": [
    {
     "data": {
      "text/html": [
       "<div>\n",
       "<style scoped>\n",
       "    .dataframe tbody tr th:only-of-type {\n",
       "        vertical-align: middle;\n",
       "    }\n",
       "\n",
       "    .dataframe tbody tr th {\n",
       "        vertical-align: top;\n",
       "    }\n",
       "\n",
       "    .dataframe thead th {\n",
       "        text-align: right;\n",
       "    }\n",
       "</style>\n",
       "<table border=\"1\" class=\"dataframe\">\n",
       "  <thead>\n",
       "    <tr style=\"text-align: right;\">\n",
       "      <th></th>\n",
       "      <th>_id_x</th>\n",
       "      <th>document_id</th>\n",
       "      <th>task_id</th>\n",
       "      <th>prolific_id</th>\n",
       "      <th>activity_log</th>\n",
       "      <th>time_spent_outside</th>\n",
       "      <th>timestamp</th>\n",
       "      <th>study_id</th>\n",
       "      <th>TASK_ID</th>\n",
       "      <th>_id_y</th>\n",
       "      <th>content</th>\n",
       "      <th>word_count</th>\n",
       "      <th>generated</th>\n",
       "      <th>average_similarity_SentenceTransformer</th>\n",
       "      <th>average_similarity_nomic-embed-text</th>\n",
       "      <th>average_similarity_mxbai-embed-large</th>\n",
       "      <th>weighted_similarity_SentenceTransformer</th>\n",
       "      <th>weighted_similarity_nomic-embed-text</th>\n",
       "      <th>weighted_similarity_mxbai-embed-large</th>\n",
       "    </tr>\n",
       "  </thead>\n",
       "  <tbody>\n",
       "    <tr>\n",
       "      <th>0</th>\n",
       "      <td>66c5a24c86c57a87db6f59e3</td>\n",
       "      <td>66c5a13c86c57a87db6f59d9</td>\n",
       "      <td>main_task_1</td>\n",
       "      <td>5a4ff22bacc75b000179b0e9</td>\n",
       "      <td>{'buttonClicks': [{'action': 'CREATE VARIATION...</td>\n",
       "      <td>0</td>\n",
       "      <td>2024-08-21 08:16:12.414000+00:00</td>\n",
       "      <td>66c516b1d61c7b572205f713</td>\n",
       "      <td>ENG</td>\n",
       "      <td>66c5a13c86c57a87db6f59d9</td>\n",
       "      <td>Join hands with us in protecting our planet's ...</td>\n",
       "      <td>176</td>\n",
       "      <td>[{'feature': '@ai generation', 'prompt': 'writ...</td>\n",
       "      <td>70.029593</td>\n",
       "      <td>89.614906</td>\n",
       "      <td>84.837552</td>\n",
       "      <td>83.504927</td>\n",
       "      <td>94.214644</td>\n",
       "      <td>91.414037</td>\n",
       "    </tr>\n",
       "    <tr>\n",
       "      <th>1</th>\n",
       "      <td>66c5e8072f44d7b54f76e537</td>\n",
       "      <td>66c5e4be2f44d7b54f76e52d</td>\n",
       "      <td>main_task_1</td>\n",
       "      <td>5c068f1f9d0df40001e5688c</td>\n",
       "      <td>{'buttonClicks': [{'action': 'CREATE VARIATION...</td>\n",
       "      <td>0</td>\n",
       "      <td>2024-08-21 13:13:43.830000+00:00</td>\n",
       "      <td>66c516b1d61c7b572205f713</td>\n",
       "      <td>ENG</td>\n",
       "      <td>66c5e4be2f44d7b54f76e52d</td>\n",
       "      <td>In a time of uncertainty for the future of our...</td>\n",
       "      <td>153</td>\n",
       "      <td>[{'feature': 'Cautionary Narrative with Statis...</td>\n",
       "      <td>80.235922</td>\n",
       "      <td>91.993370</td>\n",
       "      <td>88.175350</td>\n",
       "      <td>80.267797</td>\n",
       "      <td>92.153723</td>\n",
       "      <td>88.233595</td>\n",
       "    </tr>\n",
       "    <tr>\n",
       "      <th>2</th>\n",
       "      <td>66c5a2ec86c57a87db6f59ed</td>\n",
       "      <td>66c5a21086c57a87db6f59e1</td>\n",
       "      <td>main_task_1</td>\n",
       "      <td>5c62de3f48fe4e000180e09d</td>\n",
       "      <td>{'buttonClicks': [{'action': 'CREATE VARIATION...</td>\n",
       "      <td>0</td>\n",
       "      <td>2024-08-21 08:18:52.061000+00:00</td>\n",
       "      <td>66c516b1d61c7b572205f713</td>\n",
       "      <td>ENG</td>\n",
       "      <td>66c5a21086c57a87db6f59e1</td>\n",
       "      <td>We are at a critical juncture where our inacti...</td>\n",
       "      <td>268</td>\n",
       "      <td>[{'feature': '@ai generation', 'prompt': 'plea...</td>\n",
       "      <td>58.656162</td>\n",
       "      <td>84.161659</td>\n",
       "      <td>81.103999</td>\n",
       "      <td>60.899333</td>\n",
       "      <td>86.708230</td>\n",
       "      <td>84.661196</td>\n",
       "    </tr>\n",
       "    <tr>\n",
       "      <th>3</th>\n",
       "      <td>66c88800e46942c099b32394</td>\n",
       "      <td>66c88773e46942c099b32393</td>\n",
       "      <td>main_task_1</td>\n",
       "      <td>5d1f9776676cd1001580ae9c</td>\n",
       "      <td>{'buttonClicks': [{'action': 'CREATE VARIATION...</td>\n",
       "      <td>0</td>\n",
       "      <td>2024-08-23 13:00:48.591000+00:00</td>\n",
       "      <td>66c516b1d61c7b572205f713</td>\n",
       "      <td>ENG</td>\n",
       "      <td>66c88773e46942c099b32393</td>\n",
       "      <td>As you consider donating to the World Wildlife...</td>\n",
       "      <td>137</td>\n",
       "      <td>[{'feature': '@ai generation', 'prompt': 'use ...</td>\n",
       "      <td>86.615533</td>\n",
       "      <td>91.480706</td>\n",
       "      <td>91.873540</td>\n",
       "      <td>87.157038</td>\n",
       "      <td>90.322942</td>\n",
       "      <td>91.402341</td>\n",
       "    </tr>\n",
       "    <tr>\n",
       "      <th>4</th>\n",
       "      <td>66c5a5c486c57a87db6f5a00</td>\n",
       "      <td>66c5a3e386c57a87db6f59f9</td>\n",
       "      <td>main_task_1</td>\n",
       "      <td>5ea9a41b87b4150bf9634637</td>\n",
       "      <td>{'buttonClicks': [{'action': 'CREATE VARIATION...</td>\n",
       "      <td>0</td>\n",
       "      <td>2024-08-21 08:31:00.305000+00:00</td>\n",
       "      <td>66c516b1d61c7b572205f713</td>\n",
       "      <td>ENG</td>\n",
       "      <td>66c5a3e386c57a87db6f59f9</td>\n",
       "      <td>\\n\\nThe World Wildlife Fund (WWF) is a beacon ...</td>\n",
       "      <td>146</td>\n",
       "      <td>[{'feature': '@ai generation', 'prompt': ' ﻿Wr...</td>\n",
       "      <td>87.824714</td>\n",
       "      <td>91.788364</td>\n",
       "      <td>90.142630</td>\n",
       "      <td>88.710659</td>\n",
       "      <td>94.461373</td>\n",
       "      <td>92.429228</td>\n",
       "    </tr>\n",
       "    <tr>\n",
       "      <th>...</th>\n",
       "      <td>...</td>\n",
       "      <td>...</td>\n",
       "      <td>...</td>\n",
       "      <td>...</td>\n",
       "      <td>...</td>\n",
       "      <td>...</td>\n",
       "      <td>...</td>\n",
       "      <td>...</td>\n",
       "      <td>...</td>\n",
       "      <td>...</td>\n",
       "      <td>...</td>\n",
       "      <td>...</td>\n",
       "      <td>...</td>\n",
       "      <td>...</td>\n",
       "      <td>...</td>\n",
       "      <td>...</td>\n",
       "      <td>...</td>\n",
       "      <td>...</td>\n",
       "      <td>...</td>\n",
       "    </tr>\n",
       "    <tr>\n",
       "      <th>75</th>\n",
       "      <td>66c7208e6db9c208f260cb6b</td>\n",
       "      <td>66c71e1a6db9c208f260cb58</td>\n",
       "      <td>main_task_1</td>\n",
       "      <td>66ad3809e453f7b457f7d048</td>\n",
       "      <td>{'buttonClicks': [{'action': 'CREATE VARIATION...</td>\n",
       "      <td>0</td>\n",
       "      <td>2024-08-22 11:27:10.356000+00:00</td>\n",
       "      <td>66c63f502b78911af098063d</td>\n",
       "      <td>ENG_2</td>\n",
       "      <td>66c71e1a6db9c208f260cb58</td>\n",
       "      <td>The World Wildlife Fund (WWF) is an internatio...</td>\n",
       "      <td>137</td>\n",
       "      <td>[{'feature': '@ai generation', 'prompt': 'writ...</td>\n",
       "      <td>75.379795</td>\n",
       "      <td>84.286235</td>\n",
       "      <td>82.705458</td>\n",
       "      <td>82.879859</td>\n",
       "      <td>89.363740</td>\n",
       "      <td>87.751780</td>\n",
       "    </tr>\n",
       "    <tr>\n",
       "      <th>76</th>\n",
       "      <td>66c74f856db9c208f260cc0f</td>\n",
       "      <td>66c74f216db9c208f260cc0c</td>\n",
       "      <td>main_task_2</td>\n",
       "      <td>60c101e4634ffb1aa797b924</td>\n",
       "      <td>{'buttonClicks': [{'action': 'CREATE VARIATION...</td>\n",
       "      <td>0</td>\n",
       "      <td>2024-08-22 14:47:33.899000+00:00</td>\n",
       "      <td>66c63f502b78911af098063d</td>\n",
       "      <td>ESP_1</td>\n",
       "      <td>66c74f216db9c208f260cc0c</td>\n",
       "      <td>Estimados amigos y ciudadanos, En estos moment...</td>\n",
       "      <td>103</td>\n",
       "      <td>[{'feature': '@ai generation', 'prompt': 'crea...</td>\n",
       "      <td>87.449163</td>\n",
       "      <td>91.084698</td>\n",
       "      <td>94.760283</td>\n",
       "      <td>84.138551</td>\n",
       "      <td>88.786639</td>\n",
       "      <td>93.135608</td>\n",
       "    </tr>\n",
       "    <tr>\n",
       "      <th>77</th>\n",
       "      <td>66c7519f6db9c208f260cc1c</td>\n",
       "      <td>66c750f16db9c208f260cc18</td>\n",
       "      <td>main_task_1</td>\n",
       "      <td>60c101e4634ffb1aa797b924</td>\n",
       "      <td>{'buttonClicks': [{'action': 'CREATE CONTINUAT...</td>\n",
       "      <td>0</td>\n",
       "      <td>2024-08-22 14:56:31.836000+00:00</td>\n",
       "      <td>66c63f502b78911af098063d</td>\n",
       "      <td>ENG_2</td>\n",
       "      <td>66c750f16db9c208f260cc18</td>\n",
       "      <td>By supporting our donation drive, you will not...</td>\n",
       "      <td>331</td>\n",
       "      <td>[{'feature': 'continuation', 'prompt': 'Suppor...</td>\n",
       "      <td>63.222337</td>\n",
       "      <td>80.675783</td>\n",
       "      <td>77.454072</td>\n",
       "      <td>60.410321</td>\n",
       "      <td>85.802482</td>\n",
       "      <td>83.196747</td>\n",
       "    </tr>\n",
       "    <tr>\n",
       "      <th>78</th>\n",
       "      <td>66c758d46db9c208f260cc33</td>\n",
       "      <td>66c757f06db9c208f260cc32</td>\n",
       "      <td>main_task_2</td>\n",
       "      <td>6549030c68f0146d7216bb1c</td>\n",
       "      <td>{'buttonClicks': [], 'generatedContent': [], '...</td>\n",
       "      <td>0</td>\n",
       "      <td>2024-08-22 15:27:16.063000+00:00</td>\n",
       "      <td>66c63f502b78911af098063d</td>\n",
       "      <td>ESP_1</td>\n",
       "      <td>66c757f06db9c208f260cc32</td>\n",
       "      <td>¡Únete a Nosotros para Proteger Nuestro Planet...</td>\n",
       "      <td>160</td>\n",
       "      <td>[]</td>\n",
       "      <td>0.000000</td>\n",
       "      <td>0.000000</td>\n",
       "      <td>0.000000</td>\n",
       "      <td>0.000000</td>\n",
       "      <td>0.000000</td>\n",
       "      <td>0.000000</td>\n",
       "    </tr>\n",
       "    <tr>\n",
       "      <th>79</th>\n",
       "      <td>66c75aa46db9c208f260cc39</td>\n",
       "      <td>66c75a3c6db9c208f260cc38</td>\n",
       "      <td>main_task_1</td>\n",
       "      <td>6549030c68f0146d7216bb1c</td>\n",
       "      <td>{'buttonClicks': [], 'generatedContent': [], '...</td>\n",
       "      <td>0</td>\n",
       "      <td>2024-08-22 15:35:00.918000+00:00</td>\n",
       "      <td>66c63f502b78911af098063d</td>\n",
       "      <td>ENG_2</td>\n",
       "      <td>66c75a3c6db9c208f260cc38</td>\n",
       "      <td>**Stand with WWF to Protect Our Planet!**\\n\\nA...</td>\n",
       "      <td>136</td>\n",
       "      <td>[]</td>\n",
       "      <td>0.000000</td>\n",
       "      <td>0.000000</td>\n",
       "      <td>0.000000</td>\n",
       "      <td>0.000000</td>\n",
       "      <td>0.000000</td>\n",
       "      <td>0.000000</td>\n",
       "    </tr>\n",
       "  </tbody>\n",
       "</table>\n",
       "<p>80 rows × 19 columns</p>\n",
       "</div>"
      ],
      "text/plain": [
       "                       _id_x               document_id      task_id  \\\n",
       "0   66c5a24c86c57a87db6f59e3  66c5a13c86c57a87db6f59d9  main_task_1   \n",
       "1   66c5e8072f44d7b54f76e537  66c5e4be2f44d7b54f76e52d  main_task_1   \n",
       "2   66c5a2ec86c57a87db6f59ed  66c5a21086c57a87db6f59e1  main_task_1   \n",
       "3   66c88800e46942c099b32394  66c88773e46942c099b32393  main_task_1   \n",
       "4   66c5a5c486c57a87db6f5a00  66c5a3e386c57a87db6f59f9  main_task_1   \n",
       "..                       ...                       ...          ...   \n",
       "75  66c7208e6db9c208f260cb6b  66c71e1a6db9c208f260cb58  main_task_1   \n",
       "76  66c74f856db9c208f260cc0f  66c74f216db9c208f260cc0c  main_task_2   \n",
       "77  66c7519f6db9c208f260cc1c  66c750f16db9c208f260cc18  main_task_1   \n",
       "78  66c758d46db9c208f260cc33  66c757f06db9c208f260cc32  main_task_2   \n",
       "79  66c75aa46db9c208f260cc39  66c75a3c6db9c208f260cc38  main_task_1   \n",
       "\n",
       "                 prolific_id  \\\n",
       "0   5a4ff22bacc75b000179b0e9   \n",
       "1   5c068f1f9d0df40001e5688c   \n",
       "2   5c62de3f48fe4e000180e09d   \n",
       "3   5d1f9776676cd1001580ae9c   \n",
       "4   5ea9a41b87b4150bf9634637   \n",
       "..                       ...   \n",
       "75  66ad3809e453f7b457f7d048   \n",
       "76  60c101e4634ffb1aa797b924   \n",
       "77  60c101e4634ffb1aa797b924   \n",
       "78  6549030c68f0146d7216bb1c   \n",
       "79  6549030c68f0146d7216bb1c   \n",
       "\n",
       "                                         activity_log  time_spent_outside  \\\n",
       "0   {'buttonClicks': [{'action': 'CREATE VARIATION...                   0   \n",
       "1   {'buttonClicks': [{'action': 'CREATE VARIATION...                   0   \n",
       "2   {'buttonClicks': [{'action': 'CREATE VARIATION...                   0   \n",
       "3   {'buttonClicks': [{'action': 'CREATE VARIATION...                   0   \n",
       "4   {'buttonClicks': [{'action': 'CREATE VARIATION...                   0   \n",
       "..                                                ...                 ...   \n",
       "75  {'buttonClicks': [{'action': 'CREATE VARIATION...                   0   \n",
       "76  {'buttonClicks': [{'action': 'CREATE VARIATION...                   0   \n",
       "77  {'buttonClicks': [{'action': 'CREATE CONTINUAT...                   0   \n",
       "78  {'buttonClicks': [], 'generatedContent': [], '...                   0   \n",
       "79  {'buttonClicks': [], 'generatedContent': [], '...                   0   \n",
       "\n",
       "                           timestamp                  study_id TASK_ID  \\\n",
       "0   2024-08-21 08:16:12.414000+00:00  66c516b1d61c7b572205f713     ENG   \n",
       "1   2024-08-21 13:13:43.830000+00:00  66c516b1d61c7b572205f713     ENG   \n",
       "2   2024-08-21 08:18:52.061000+00:00  66c516b1d61c7b572205f713     ENG   \n",
       "3   2024-08-23 13:00:48.591000+00:00  66c516b1d61c7b572205f713     ENG   \n",
       "4   2024-08-21 08:31:00.305000+00:00  66c516b1d61c7b572205f713     ENG   \n",
       "..                               ...                       ...     ...   \n",
       "75  2024-08-22 11:27:10.356000+00:00  66c63f502b78911af098063d   ENG_2   \n",
       "76  2024-08-22 14:47:33.899000+00:00  66c63f502b78911af098063d   ESP_1   \n",
       "77  2024-08-22 14:56:31.836000+00:00  66c63f502b78911af098063d   ENG_2   \n",
       "78  2024-08-22 15:27:16.063000+00:00  66c63f502b78911af098063d   ESP_1   \n",
       "79  2024-08-22 15:35:00.918000+00:00  66c63f502b78911af098063d   ENG_2   \n",
       "\n",
       "                       _id_y  \\\n",
       "0   66c5a13c86c57a87db6f59d9   \n",
       "1   66c5e4be2f44d7b54f76e52d   \n",
       "2   66c5a21086c57a87db6f59e1   \n",
       "3   66c88773e46942c099b32393   \n",
       "4   66c5a3e386c57a87db6f59f9   \n",
       "..                       ...   \n",
       "75  66c71e1a6db9c208f260cb58   \n",
       "76  66c74f216db9c208f260cc0c   \n",
       "77  66c750f16db9c208f260cc18   \n",
       "78  66c757f06db9c208f260cc32   \n",
       "79  66c75a3c6db9c208f260cc38   \n",
       "\n",
       "                                              content  word_count  \\\n",
       "0   Join hands with us in protecting our planet's ...         176   \n",
       "1   In a time of uncertainty for the future of our...         153   \n",
       "2   We are at a critical juncture where our inacti...         268   \n",
       "3   As you consider donating to the World Wildlife...         137   \n",
       "4   \\n\\nThe World Wildlife Fund (WWF) is a beacon ...         146   \n",
       "..                                                ...         ...   \n",
       "75  The World Wildlife Fund (WWF) is an internatio...         137   \n",
       "76  Estimados amigos y ciudadanos, En estos moment...         103   \n",
       "77  By supporting our donation drive, you will not...         331   \n",
       "78  ¡Únete a Nosotros para Proteger Nuestro Planet...         160   \n",
       "79  **Stand with WWF to Protect Our Planet!**\\n\\nA...         136   \n",
       "\n",
       "                                            generated  \\\n",
       "0   [{'feature': '@ai generation', 'prompt': 'writ...   \n",
       "1   [{'feature': 'Cautionary Narrative with Statis...   \n",
       "2   [{'feature': '@ai generation', 'prompt': 'plea...   \n",
       "3   [{'feature': '@ai generation', 'prompt': 'use ...   \n",
       "4   [{'feature': '@ai generation', 'prompt': ' ﻿Wr...   \n",
       "..                                                ...   \n",
       "75  [{'feature': '@ai generation', 'prompt': 'writ...   \n",
       "76  [{'feature': '@ai generation', 'prompt': 'crea...   \n",
       "77  [{'feature': 'continuation', 'prompt': 'Suppor...   \n",
       "78                                                 []   \n",
       "79                                                 []   \n",
       "\n",
       "    average_similarity_SentenceTransformer  \\\n",
       "0                                70.029593   \n",
       "1                                80.235922   \n",
       "2                                58.656162   \n",
       "3                                86.615533   \n",
       "4                                87.824714   \n",
       "..                                     ...   \n",
       "75                               75.379795   \n",
       "76                               87.449163   \n",
       "77                               63.222337   \n",
       "78                                0.000000   \n",
       "79                                0.000000   \n",
       "\n",
       "    average_similarity_nomic-embed-text  average_similarity_mxbai-embed-large  \\\n",
       "0                             89.614906                             84.837552   \n",
       "1                             91.993370                             88.175350   \n",
       "2                             84.161659                             81.103999   \n",
       "3                             91.480706                             91.873540   \n",
       "4                             91.788364                             90.142630   \n",
       "..                                  ...                                   ...   \n",
       "75                            84.286235                             82.705458   \n",
       "76                            91.084698                             94.760283   \n",
       "77                            80.675783                             77.454072   \n",
       "78                             0.000000                              0.000000   \n",
       "79                             0.000000                              0.000000   \n",
       "\n",
       "    weighted_similarity_SentenceTransformer  \\\n",
       "0                                 83.504927   \n",
       "1                                 80.267797   \n",
       "2                                 60.899333   \n",
       "3                                 87.157038   \n",
       "4                                 88.710659   \n",
       "..                                      ...   \n",
       "75                                82.879859   \n",
       "76                                84.138551   \n",
       "77                                60.410321   \n",
       "78                                 0.000000   \n",
       "79                                 0.000000   \n",
       "\n",
       "    weighted_similarity_nomic-embed-text  \\\n",
       "0                              94.214644   \n",
       "1                              92.153723   \n",
       "2                              86.708230   \n",
       "3                              90.322942   \n",
       "4                              94.461373   \n",
       "..                                   ...   \n",
       "75                             89.363740   \n",
       "76                             88.786639   \n",
       "77                             85.802482   \n",
       "78                              0.000000   \n",
       "79                              0.000000   \n",
       "\n",
       "    weighted_similarity_mxbai-embed-large  \n",
       "0                               91.414037  \n",
       "1                               88.233595  \n",
       "2                               84.661196  \n",
       "3                               91.402341  \n",
       "4                               92.429228  \n",
       "..                                    ...  \n",
       "75                              87.751780  \n",
       "76                              93.135608  \n",
       "77                              83.196747  \n",
       "78                               0.000000  \n",
       "79                               0.000000  \n",
       "\n",
       "[80 rows x 19 columns]"
      ]
     },
     "execution_count": 79,
     "metadata": {},
     "output_type": "execute_result"
    }
   ],
   "source": [
    "content_usage"
   ]
  },
  {
   "cell_type": "markdown",
   "metadata": {},
   "source": [
    "\n",
    "### Method 2: Weighted Average Similarity\n",
    "\n",
    "This approach gives more weight to AI-generated segments that are longer in the text.\n",
    "\n",
    "**Formula:**\n",
    "\n",
    "$$\n",
    "\\text{Weighted Average Similarity} = \\frac{\\sum_{i=1}^{n} w_i \\times \\text{cosine\\_similarity}(F_i, F)}{\\sum_{i=1}^{n} w_i}\n",
    "$$\n",
    "\n",
    "Where:\n",
    "- $ w_i $ is the weight for the \\( i \\)-th AI-generated segment (e.g., its length relative to the total length of final document).\n",
    "The weight \\( w_i \\) for each AI-generated segment should be calculated as:\n",
    "\n",
    "$$\n",
    "w_i = \\frac{\\text{length of AI response}_i}{\\text{length of final document}}\n",
    "$$\n",
    "- $ F_i $ and \\( F \\) are as defined above.\n",
    "\n",
    "\n",
    "\n"
   ]
  },
  {
   "cell_type": "code",
   "execution_count": 46,
   "metadata": {},
   "outputs": [],
   "source": [
    "def calculate_weighted_average_similarity(plain_text, generated_content, embed_function):\n",
    "    plain_text_embedding = embed_function(plain_text)\n",
    "    \n",
    "    similarities = []\n",
    "    weights = []\n",
    "    total_length = len(plain_text.split())\n",
    "    \n",
    "    for content in generated_content:\n",
    "        response = content.get('response')\n",
    "        if response:\n",
    "            response_embedding = embed_function(response)\n",
    "            similarity = cosine_similarity(plain_text_embedding, response_embedding)[0][0]\n",
    "            \n",
    "            response_length = len(response.split())\n",
    "            weight = response_length / total_length  # Relative weight\n",
    "            \n",
    "            similarities.append(similarity * weight)\n",
    "            weights.append(weight)\n",
    "    \n",
    "    if weights:\n",
    "        return np.sum(similarities) / np.sum(weights) * 100  # Convert to percentage\n",
    "    else:\n",
    "        return 0\n"
   ]
  },
  {
   "cell_type": "code",
   "execution_count": null,
   "metadata": {},
   "outputs": [
    {
     "data": {
      "image/png": "[encoded data removed]",
      "text/plain": [
       "<Figure size 1200x800 with 1 Axes>"
      ]
     },
     "metadata": {},
     "output_type": "display_data"
    },
    {
     "data": {
      "image/png": "[encoded data removed]",
      "text/plain": [
       "<Figure size 1200x800 with 1 Axes>"
      ]
     },
     "metadata": {},
     "output_type": "display_data"
    },
    {
     "data": {
      "image/png": "[encoded data removed]",
      "text/plain": [
       "<Figure size 1200x800 with 1 Axes>"
      ]
     },
     "metadata": {},
     "output_type": "display_data"
    }
   ],
   "source": [
    "\n",
    "results = []\n",
    "\n",
    "for model_name, embed_function in models.items():\n",
    "    # average_similarity_results = []\n",
    "    weighted_similarity_results = []\n",
    "    \n",
    "    for _, row in content_usage.iterrows():\n",
    "        plain_text = row['content']\n",
    "        generated_content = row['generated']\n",
    "        \n",
    "        # Average similarity\n",
    "        # avg_similarity = calculate_average_similarity(plain_text, generated_content, embed_function)\n",
    "        # average_similarity_results.append(avg_similarity)\n",
    "        \n",
    "        # Weighted average similarity\n",
    "        weighted_similarity = calculate_weighted_average_similarity(plain_text, generated_content, embed_function)\n",
    "        weighted_similarity_results.append(weighted_similarity)\n",
    "    \n",
    "    # Store results in the DataFrame\n",
    "    # content_usage[f'average_similarity_{model_name}'] = average_similarity_results\n",
    "    content_usage[f'weighted_similarity_{model_name}'] = weighted_similarity_results\n",
    "\n",
    "# Step 4: Plot the results\n",
    "\n",
    "for model_name in models.keys():\n",
    "    # Group by TASK_ID for both average and weighted similarities\n",
    "    # grouped_avg_similarity = content_usage.groupby('TASK_ID')[f'average_similarity_{model_name}'].mean().reset_index()\n",
    "    grouped_weighted_similarity = content_usage.groupby('TASK_ID')[f'weighted_similarity_{model_name}'].mean().reset_index()\n",
    "    \n",
    "    # # Plot Average Similarity\n",
    "    # plt.figure(figsize=(12, 8))\n",
    "    # sns.barplot(x='TASK_ID', y=f'average_similarity_{model_name}', data=grouped_avg_similarity, errorbar=\"sd\")\n",
    "    # plt.title(f'Average AI-Generated Response Similarity by Task ID ({model_name})')\n",
    "    # plt.ylabel('Average Similarity Percentage (%)')\n",
    "    # plt.xlabel('Task ID')\n",
    "    # plt.xticks(rotation=45)\n",
    "    # plt.show()\n",
    "    \n",
    "    # Plot Weighted Average Similarity\n",
    "    plt.figure(figsize=(12, 8))\n",
    "    sns.barplot(x='TASK_ID', y=f'weighted_similarity_{model_name}', data=grouped_weighted_similarity, errorbar=\"sd\")\n",
    "    plt.title(f'Weighted Average AI-Generated Response Similarity by Task ID ({model_name})')\n",
    "    plt.ylabel('Weighted Average Similarity Percentage (%)')\n",
    "    plt.xlabel('Task ID')\n",
    "    plt.xticks(rotation=45)\n",
    "    plt.show()\n"
   ]
  },
  {
   "cell_type": "code",
   "execution_count": null,
   "metadata": {},
   "outputs": [
    {
     "data": {
      "text/html": [
       "<div>\n",
       "<style scoped>\n",
       "    .dataframe tbody tr th:only-of-type {\n",
       "        vertical-align: middle;\n",
       "    }\n",
       "\n",
       "    .dataframe tbody tr th {\n",
       "        vertical-align: top;\n",
       "    }\n",
       "\n",
       "    .dataframe thead th {\n",
       "        text-align: right;\n",
       "    }\n",
       "</style>\n",
       "<table border=\"1\" class=\"dataframe\">\n",
       "  <thead>\n",
       "    <tr style=\"text-align: right;\">\n",
       "      <th></th>\n",
       "      <th>_id_x</th>\n",
       "      <th>document_id</th>\n",
       "      <th>task_id</th>\n",
       "      <th>prolific_id</th>\n",
       "      <th>activity_log</th>\n",
       "      <th>time_spent_outside</th>\n",
       "      <th>timestamp</th>\n",
       "      <th>study_id</th>\n",
       "      <th>TASK_ID</th>\n",
       "      <th>_id_y</th>\n",
       "      <th>content</th>\n",
       "      <th>word_count</th>\n",
       "      <th>generated</th>\n",
       "      <th>average_similarity_SentenceTransformer</th>\n",
       "      <th>average_similarity_nomic-embed-text</th>\n",
       "      <th>average_similarity_mxbai-embed-large</th>\n",
       "      <th>weighted_similarity_SentenceTransformer</th>\n",
       "      <th>weighted_similarity_nomic-embed-text</th>\n",
       "      <th>weighted_similarity_mxbai-embed-large</th>\n",
       "    </tr>\n",
       "  </thead>\n",
       "  <tbody>\n",
       "    <tr>\n",
       "      <th>0</th>\n",
       "      <td>66c5a24c86c57a87db6f59e3</td>\n",
       "      <td>66c5a13c86c57a87db6f59d9</td>\n",
       "      <td>main_task_1</td>\n",
       "      <td>5a4ff22bacc75b000179b0e9</td>\n",
       "      <td>{'buttonClicks': [{'action': 'CREATE VARIATION...</td>\n",
       "      <td>0</td>\n",
       "      <td>2024-08-21 08:16:12.414000+00:00</td>\n",
       "      <td>66c516b1d61c7b572205f713</td>\n",
       "      <td>ENG</td>\n",
       "      <td>66c5a13c86c57a87db6f59d9</td>\n",
       "      <td>Join hands with us in protecting our planet's ...</td>\n",
       "      <td>176</td>\n",
       "      <td>[{'feature': '@ai generation', 'prompt': 'writ...</td>\n",
       "      <td>70.029593</td>\n",
       "      <td>89.614906</td>\n",
       "      <td>84.837552</td>\n",
       "      <td>83.504927</td>\n",
       "      <td>94.214644</td>\n",
       "      <td>91.414037</td>\n",
       "    </tr>\n",
       "    <tr>\n",
       "      <th>1</th>\n",
       "      <td>66c5e8072f44d7b54f76e537</td>\n",
       "      <td>66c5e4be2f44d7b54f76e52d</td>\n",
       "      <td>main_task_1</td>\n",
       "      <td>5c068f1f9d0df40001e5688c</td>\n",
       "      <td>{'buttonClicks': [{'action': 'CREATE VARIATION...</td>\n",
       "      <td>0</td>\n",
       "      <td>2024-08-21 13:13:43.830000+00:00</td>\n",
       "      <td>66c516b1d61c7b572205f713</td>\n",
       "      <td>ENG</td>\n",
       "      <td>66c5e4be2f44d7b54f76e52d</td>\n",
       "      <td>In a time of uncertainty for the future of our...</td>\n",
       "      <td>153</td>\n",
       "      <td>[{'feature': 'Cautionary Narrative with Statis...</td>\n",
       "      <td>80.235922</td>\n",
       "      <td>91.993370</td>\n",
       "      <td>88.175350</td>\n",
       "      <td>80.267797</td>\n",
       "      <td>92.153723</td>\n",
       "      <td>88.233595</td>\n",
       "    </tr>\n",
       "    <tr>\n",
       "      <th>2</th>\n",
       "      <td>66c5a2ec86c57a87db6f59ed</td>\n",
       "      <td>66c5a21086c57a87db6f59e1</td>\n",
       "      <td>main_task_1</td>\n",
       "      <td>5c62de3f48fe4e000180e09d</td>\n",
       "      <td>{'buttonClicks': [{'action': 'CREATE VARIATION...</td>\n",
       "      <td>0</td>\n",
       "      <td>2024-08-21 08:18:52.061000+00:00</td>\n",
       "      <td>66c516b1d61c7b572205f713</td>\n",
       "      <td>ENG</td>\n",
       "      <td>66c5a21086c57a87db6f59e1</td>\n",
       "      <td>We are at a critical juncture where our inacti...</td>\n",
       "      <td>268</td>\n",
       "      <td>[{'feature': '@ai generation', 'prompt': 'plea...</td>\n",
       "      <td>58.656162</td>\n",
       "      <td>84.161659</td>\n",
       "      <td>81.103999</td>\n",
       "      <td>60.899333</td>\n",
       "      <td>86.708230</td>\n",
       "      <td>84.661196</td>\n",
       "    </tr>\n",
       "    <tr>\n",
       "      <th>3</th>\n",
       "      <td>66c88800e46942c099b32394</td>\n",
       "      <td>66c88773e46942c099b32393</td>\n",
       "      <td>main_task_1</td>\n",
       "      <td>5d1f9776676cd1001580ae9c</td>\n",
       "      <td>{'buttonClicks': [{'action': 'CREATE VARIATION...</td>\n",
       "      <td>0</td>\n",
       "      <td>2024-08-23 13:00:48.591000+00:00</td>\n",
       "      <td>66c516b1d61c7b572205f713</td>\n",
       "      <td>ENG</td>\n",
       "      <td>66c88773e46942c099b32393</td>\n",
       "      <td>As you consider donating to the World Wildlife...</td>\n",
       "      <td>137</td>\n",
       "      <td>[{'feature': '@ai generation', 'prompt': 'use ...</td>\n",
       "      <td>86.615533</td>\n",
       "      <td>91.480706</td>\n",
       "      <td>91.873540</td>\n",
       "      <td>87.157038</td>\n",
       "      <td>90.322942</td>\n",
       "      <td>91.402341</td>\n",
       "    </tr>\n",
       "    <tr>\n",
       "      <th>4</th>\n",
       "      <td>66c5a5c486c57a87db6f5a00</td>\n",
       "      <td>66c5a3e386c57a87db6f59f9</td>\n",
       "      <td>main_task_1</td>\n",
       "      <td>5ea9a41b87b4150bf9634637</td>\n",
       "      <td>{'buttonClicks': [{'action': 'CREATE VARIATION...</td>\n",
       "      <td>0</td>\n",
       "      <td>2024-08-21 08:31:00.305000+00:00</td>\n",
       "      <td>66c516b1d61c7b572205f713</td>\n",
       "      <td>ENG</td>\n",
       "      <td>66c5a3e386c57a87db6f59f9</td>\n",
       "      <td>\\n\\nThe World Wildlife Fund (WWF) is a beacon ...</td>\n",
       "      <td>146</td>\n",
       "      <td>[{'feature': '@ai generation', 'prompt': ' ﻿Wr...</td>\n",
       "      <td>87.824714</td>\n",
       "      <td>91.788364</td>\n",
       "      <td>90.142630</td>\n",
       "      <td>88.710659</td>\n",
       "      <td>94.461373</td>\n",
       "      <td>92.429228</td>\n",
       "    </tr>\n",
       "    <tr>\n",
       "      <th>...</th>\n",
       "      <td>...</td>\n",
       "      <td>...</td>\n",
       "      <td>...</td>\n",
       "      <td>...</td>\n",
       "      <td>...</td>\n",
       "      <td>...</td>\n",
       "      <td>...</td>\n",
       "      <td>...</td>\n",
       "      <td>...</td>\n",
       "      <td>...</td>\n",
       "      <td>...</td>\n",
       "      <td>...</td>\n",
       "      <td>...</td>\n",
       "      <td>...</td>\n",
       "      <td>...</td>\n",
       "      <td>...</td>\n",
       "      <td>...</td>\n",
       "      <td>...</td>\n",
       "      <td>...</td>\n",
       "    </tr>\n",
       "    <tr>\n",
       "      <th>75</th>\n",
       "      <td>66c7208e6db9c208f260cb6b</td>\n",
       "      <td>66c71e1a6db9c208f260cb58</td>\n",
       "      <td>main_task_1</td>\n",
       "      <td>66ad3809e453f7b457f7d048</td>\n",
       "      <td>{'buttonClicks': [{'action': 'CREATE VARIATION...</td>\n",
       "      <td>0</td>\n",
       "      <td>2024-08-22 11:27:10.356000+00:00</td>\n",
       "      <td>66c63f502b78911af098063d</td>\n",
       "      <td>ENG_2</td>\n",
       "      <td>66c71e1a6db9c208f260cb58</td>\n",
       "      <td>The World Wildlife Fund (WWF) is an internatio...</td>\n",
       "      <td>137</td>\n",
       "      <td>[{'feature': '@ai generation', 'prompt': 'writ...</td>\n",
       "      <td>75.379795</td>\n",
       "      <td>84.286235</td>\n",
       "      <td>82.705458</td>\n",
       "      <td>82.879859</td>\n",
       "      <td>89.363740</td>\n",
       "      <td>87.751780</td>\n",
       "    </tr>\n",
       "    <tr>\n",
       "      <th>76</th>\n",
       "      <td>66c74f856db9c208f260cc0f</td>\n",
       "      <td>66c74f216db9c208f260cc0c</td>\n",
       "      <td>main_task_2</td>\n",
       "      <td>60c101e4634ffb1aa797b924</td>\n",
       "      <td>{'buttonClicks': [{'action': 'CREATE VARIATION...</td>\n",
       "      <td>0</td>\n",
       "      <td>2024-08-22 14:47:33.899000+00:00</td>\n",
       "      <td>66c63f502b78911af098063d</td>\n",
       "      <td>ESP_1</td>\n",
       "      <td>66c74f216db9c208f260cc0c</td>\n",
       "      <td>Estimados amigos y ciudadanos, En estos moment...</td>\n",
       "      <td>103</td>\n",
       "      <td>[{'feature': '@ai generation', 'prompt': 'crea...</td>\n",
       "      <td>87.449163</td>\n",
       "      <td>91.084698</td>\n",
       "      <td>94.760283</td>\n",
       "      <td>84.138551</td>\n",
       "      <td>88.786639</td>\n",
       "      <td>93.135608</td>\n",
       "    </tr>\n",
       "    <tr>\n",
       "      <th>77</th>\n",
       "      <td>66c7519f6db9c208f260cc1c</td>\n",
       "      <td>66c750f16db9c208f260cc18</td>\n",
       "      <td>main_task_1</td>\n",
       "      <td>60c101e4634ffb1aa797b924</td>\n",
       "      <td>{'buttonClicks': [{'action': 'CREATE CONTINUAT...</td>\n",
       "      <td>0</td>\n",
       "      <td>2024-08-22 14:56:31.836000+00:00</td>\n",
       "      <td>66c63f502b78911af098063d</td>\n",
       "      <td>ENG_2</td>\n",
       "      <td>66c750f16db9c208f260cc18</td>\n",
       "      <td>By supporting our donation drive, you will not...</td>\n",
       "      <td>331</td>\n",
       "      <td>[{'feature': 'continuation', 'prompt': 'Suppor...</td>\n",
       "      <td>63.222337</td>\n",
       "      <td>80.675783</td>\n",
       "      <td>77.454072</td>\n",
       "      <td>60.410321</td>\n",
       "      <td>85.802482</td>\n",
       "      <td>83.196747</td>\n",
       "    </tr>\n",
       "    <tr>\n",
       "      <th>78</th>\n",
       "      <td>66c758d46db9c208f260cc33</td>\n",
       "      <td>66c757f06db9c208f260cc32</td>\n",
       "      <td>main_task_2</td>\n",
       "      <td>6549030c68f0146d7216bb1c</td>\n",
       "      <td>{'buttonClicks': [], 'generatedContent': [], '...</td>\n",
       "      <td>0</td>\n",
       "      <td>2024-08-22 15:27:16.063000+00:00</td>\n",
       "      <td>66c63f502b78911af098063d</td>\n",
       "      <td>ESP_1</td>\n",
       "      <td>66c757f06db9c208f260cc32</td>\n",
       "      <td>¡Únete a Nosotros para Proteger Nuestro Planet...</td>\n",
       "      <td>160</td>\n",
       "      <td>[]</td>\n",
       "      <td>0.000000</td>\n",
       "      <td>0.000000</td>\n",
       "      <td>0.000000</td>\n",
       "      <td>0.000000</td>\n",
       "      <td>0.000000</td>\n",
       "      <td>0.000000</td>\n",
       "    </tr>\n",
       "    <tr>\n",
       "      <th>79</th>\n",
       "      <td>66c75aa46db9c208f260cc39</td>\n",
       "      <td>66c75a3c6db9c208f260cc38</td>\n",
       "      <td>main_task_1</td>\n",
       "      <td>6549030c68f0146d7216bb1c</td>\n",
       "      <td>{'buttonClicks': [], 'generatedContent': [], '...</td>\n",
       "      <td>0</td>\n",
       "      <td>2024-08-22 15:35:00.918000+00:00</td>\n",
       "      <td>66c63f502b78911af098063d</td>\n",
       "      <td>ENG_2</td>\n",
       "      <td>66c75a3c6db9c208f260cc38</td>\n",
       "      <td>**Stand with WWF to Protect Our Planet!**\\n\\nA...</td>\n",
       "      <td>136</td>\n",
       "      <td>[]</td>\n",
       "      <td>0.000000</td>\n",
       "      <td>0.000000</td>\n",
       "      <td>0.000000</td>\n",
       "      <td>0.000000</td>\n",
       "      <td>0.000000</td>\n",
       "      <td>0.000000</td>\n",
       "    </tr>\n",
       "  </tbody>\n",
       "</table>\n",
       "<p>80 rows × 19 columns</p>\n",
       "</div>"
      ],
      "text/plain": [
       "                       _id_x               document_id      task_id  \\\n",
       "0   66c5a24c86c57a87db6f59e3  66c5a13c86c57a87db6f59d9  main_task_1   \n",
       "1   66c5e8072f44d7b54f76e537  66c5e4be2f44d7b54f76e52d  main_task_1   \n",
       "2   66c5a2ec86c57a87db6f59ed  66c5a21086c57a87db6f59e1  main_task_1   \n",
       "3   66c88800e46942c099b32394  66c88773e46942c099b32393  main_task_1   \n",
       "4   66c5a5c486c57a87db6f5a00  66c5a3e386c57a87db6f59f9  main_task_1   \n",
       "..                       ...                       ...          ...   \n",
       "75  66c7208e6db9c208f260cb6b  66c71e1a6db9c208f260cb58  main_task_1   \n",
       "76  66c74f856db9c208f260cc0f  66c74f216db9c208f260cc0c  main_task_2   \n",
       "77  66c7519f6db9c208f260cc1c  66c750f16db9c208f260cc18  main_task_1   \n",
       "78  66c758d46db9c208f260cc33  66c757f06db9c208f260cc32  main_task_2   \n",
       "79  66c75aa46db9c208f260cc39  66c75a3c6db9c208f260cc38  main_task_1   \n",
       "\n",
       "                 prolific_id  \\\n",
       "0   5a4ff22bacc75b000179b0e9   \n",
       "1   5c068f1f9d0df40001e5688c   \n",
       "2   5c62de3f48fe4e000180e09d   \n",
       "3   5d1f9776676cd1001580ae9c   \n",
       "4   5ea9a41b87b4150bf9634637   \n",
       "..                       ...   \n",
       "75  66ad3809e453f7b457f7d048   \n",
       "76  60c101e4634ffb1aa797b924   \n",
       "77  60c101e4634ffb1aa797b924   \n",
       "78  6549030c68f0146d7216bb1c   \n",
       "79  6549030c68f0146d7216bb1c   \n",
       "\n",
       "                                         activity_log  time_spent_outside  \\\n",
       "0   {'buttonClicks': [{'action': 'CREATE VARIATION...                   0   \n",
       "1   {'buttonClicks': [{'action': 'CREATE VARIATION...                   0   \n",
       "2   {'buttonClicks': [{'action': 'CREATE VARIATION...                   0   \n",
       "3   {'buttonClicks': [{'action': 'CREATE VARIATION...                   0   \n",
       "4   {'buttonClicks': [{'action': 'CREATE VARIATION...                   0   \n",
       "..                                                ...                 ...   \n",
       "75  {'buttonClicks': [{'action': 'CREATE VARIATION...                   0   \n",
       "76  {'buttonClicks': [{'action': 'CREATE VARIATION...                   0   \n",
       "77  {'buttonClicks': [{'action': 'CREATE CONTINUAT...                   0   \n",
       "78  {'buttonClicks': [], 'generatedContent': [], '...                   0   \n",
       "79  {'buttonClicks': [], 'generatedContent': [], '...                   0   \n",
       "\n",
       "                           timestamp                  study_id TASK_ID  \\\n",
       "0   2024-08-21 08:16:12.414000+00:00  66c516b1d61c7b572205f713     ENG   \n",
       "1   2024-08-21 13:13:43.830000+00:00  66c516b1d61c7b572205f713     ENG   \n",
       "2   2024-08-21 08:18:52.061000+00:00  66c516b1d61c7b572205f713     ENG   \n",
       "3   2024-08-23 13:00:48.591000+00:00  66c516b1d61c7b572205f713     ENG   \n",
       "4   2024-08-21 08:31:00.305000+00:00  66c516b1d61c7b572205f713     ENG   \n",
       "..                               ...                       ...     ...   \n",
       "75  2024-08-22 11:27:10.356000+00:00  66c63f502b78911af098063d   ENG_2   \n",
       "76  2024-08-22 14:47:33.899000+00:00  66c63f502b78911af098063d   ESP_1   \n",
       "77  2024-08-22 14:56:31.836000+00:00  66c63f502b78911af098063d   ENG_2   \n",
       "78  2024-08-22 15:27:16.063000+00:00  66c63f502b78911af098063d   ESP_1   \n",
       "79  2024-08-22 15:35:00.918000+00:00  66c63f502b78911af098063d   ENG_2   \n",
       "\n",
       "                       _id_y  \\\n",
       "0   66c5a13c86c57a87db6f59d9   \n",
       "1   66c5e4be2f44d7b54f76e52d   \n",
       "2   66c5a21086c57a87db6f59e1   \n",
       "3   66c88773e46942c099b32393   \n",
       "4   66c5a3e386c57a87db6f59f9   \n",
       "..                       ...   \n",
       "75  66c71e1a6db9c208f260cb58   \n",
       "76  66c74f216db9c208f260cc0c   \n",
       "77  66c750f16db9c208f260cc18   \n",
       "78  66c757f06db9c208f260cc32   \n",
       "79  66c75a3c6db9c208f260cc38   \n",
       "\n",
       "                                              content  word_count  \\\n",
       "0   Join hands with us in protecting our planet's ...         176   \n",
       "1   In a time of uncertainty for the future of our...         153   \n",
       "2   We are at a critical juncture where our inacti...         268   \n",
       "3   As you consider donating to the World Wildlife...         137   \n",
       "4   \\n\\nThe World Wildlife Fund (WWF) is a beacon ...         146   \n",
       "..                                                ...         ...   \n",
       "75  The World Wildlife Fund (WWF) is an internatio...         137   \n",
       "76  Estimados amigos y ciudadanos, En estos moment...         103   \n",
       "77  By supporting our donation drive, you will not...         331   \n",
       "78  ¡Únete a Nosotros para Proteger Nuestro Planet...         160   \n",
       "79  **Stand with WWF to Protect Our Planet!**\\n\\nA...         136   \n",
       "\n",
       "                                            generated  \\\n",
       "0   [{'feature': '@ai generation', 'prompt': 'writ...   \n",
       "1   [{'feature': 'Cautionary Narrative with Statis...   \n",
       "2   [{'feature': '@ai generation', 'prompt': 'plea...   \n",
       "3   [{'feature': '@ai generation', 'prompt': 'use ...   \n",
       "4   [{'feature': '@ai generation', 'prompt': ' ﻿Wr...   \n",
       "..                                                ...   \n",
       "75  [{'feature': '@ai generation', 'prompt': 'writ...   \n",
       "76  [{'feature': '@ai generation', 'prompt': 'crea...   \n",
       "77  [{'feature': 'continuation', 'prompt': 'Suppor...   \n",
       "78                                                 []   \n",
       "79                                                 []   \n",
       "\n",
       "    average_similarity_SentenceTransformer  \\\n",
       "0                                70.029593   \n",
       "1                                80.235922   \n",
       "2                                58.656162   \n",
       "3                                86.615533   \n",
       "4                                87.824714   \n",
       "..                                     ...   \n",
       "75                               75.379795   \n",
       "76                               87.449163   \n",
       "77                               63.222337   \n",
       "78                                0.000000   \n",
       "79                                0.000000   \n",
       "\n",
       "    average_similarity_nomic-embed-text  average_similarity_mxbai-embed-large  \\\n",
       "0                             89.614906                             84.837552   \n",
       "1                             91.993370                             88.175350   \n",
       "2                             84.161659                             81.103999   \n",
       "3                             91.480706                             91.873540   \n",
       "4                             91.788364                             90.142630   \n",
       "..                                  ...                                   ...   \n",
       "75                            84.286235                             82.705458   \n",
       "76                            91.084698                             94.760283   \n",
       "77                            80.675783                             77.454072   \n",
       "78                             0.000000                              0.000000   \n",
       "79                             0.000000                              0.000000   \n",
       "\n",
       "    weighted_similarity_SentenceTransformer  \\\n",
       "0                                 83.504927   \n",
       "1                                 80.267797   \n",
       "2                                 60.899333   \n",
       "3                                 87.157038   \n",
       "4                                 88.710659   \n",
       "..                                      ...   \n",
       "75                                82.879859   \n",
       "76                                84.138551   \n",
       "77                                60.410321   \n",
       "78                                 0.000000   \n",
       "79                                 0.000000   \n",
       "\n",
       "    weighted_similarity_nomic-embed-text  \\\n",
       "0                              94.214644   \n",
       "1                              92.153723   \n",
       "2                              86.708230   \n",
       "3                              90.322942   \n",
       "4                              94.461373   \n",
       "..                                   ...   \n",
       "75                             89.363740   \n",
       "76                             88.786639   \n",
       "77                             85.802482   \n",
       "78                              0.000000   \n",
       "79                              0.000000   \n",
       "\n",
       "    weighted_similarity_mxbai-embed-large  \n",
       "0                               91.414037  \n",
       "1                               88.233595  \n",
       "2                               84.661196  \n",
       "3                               91.402341  \n",
       "4                               92.429228  \n",
       "..                                    ...  \n",
       "75                              87.751780  \n",
       "76                              93.135608  \n",
       "77                              83.196747  \n",
       "78                               0.000000  \n",
       "79                               0.000000  \n",
       "\n",
       "[80 rows x 19 columns]"
      ]
     },
     "execution_count": 80,
     "metadata": {},
     "output_type": "execute_result"
    }
   ],
   "source": [
    "content_usage"
   ]
  },
  {
   "cell_type": "code",
   "execution_count": null,
   "metadata": {},
   "outputs": [],
   "source": [
    "content_usage.to_csv('./content_usage_master.csv',index=False)"
   ]
  },
  {
   "cell_type": "code",
   "execution_count": 50,
   "metadata": {},
   "outputs": [],
   "source": [
    "content_usage = pd.read_csv('./content_usage_master.csv')"
   ]
  },
  {
   "cell_type": "code",
   "execution_count": 49,
   "metadata": {},
   "outputs": [
    {
     "data": {
      "application/vnd.plotly.v1+json": {
       "config": {
        "plotlyServerURL": "https://plot.ly"
       },
       "data": [
        {
         "alignmentgroup": "True",
         "hovertemplate": "Model=SentenceTransformer<br>Task ID=%{x}<br>Average Similarity (%)=%{y}<extra></extra>",
         "legendgroup": "SentenceTransformer",
         "marker": {
          "color": "#636efa",
          "pattern": {
           "shape": ""
          }
         },
         "name": "SentenceTransformer",
         "offsetgroup": "SentenceTransformer",
         "orientation": "v",
         "showlegend": true,
         "textposition": "auto",
         "type": "bar",
         "x": [
          "ENG",
          "ENG_1",
          "ENG_2",
          "ESP_1",
          "ESP_2"
         ],
         "xaxis": "x",
         "y": [
          62.68107360228896,
          71.33172042667866,
          56.619326025247574,
          66.53590947389603,
          65.54153263568878
         ],
         "yaxis": "y"
        },
        {
         "alignmentgroup": "True",
         "hovertemplate": "Model=mxbai-embed-large<br>Task ID=%{x}<br>Average Similarity (%)=%{y}<extra></extra>",
         "legendgroup": "mxbai-embed-large",
         "marker": {
          "color": "#EF553B",
          "pattern": {
           "shape": ""
          }
         },
         "name": "mxbai-embed-large",
         "offsetgroup": "mxbai-embed-large",
         "orientation": "v",
         "showlegend": true,
         "textposition": "auto",
         "type": "bar",
         "x": [
          "ENG",
          "ENG_1",
          "ENG_2",
          "ESP_1",
          "ESP_2"
         ],
         "xaxis": "x",
         "y": [
          79.25514347040846,
          80.17456403884893,
          65.52087161552392,
          77.296364591437,
          79.18314273318165
         ],
         "yaxis": "y"
        },
        {
         "alignmentgroup": "True",
         "hovertemplate": "Model=nomic-embed-text<br>Task ID=%{x}<br>Average Similarity (%)=%{y}<extra></extra>",
         "legendgroup": "nomic-embed-text",
         "marker": {
          "color": "#00cc96",
          "pattern": {
           "shape": ""
          }
         },
         "name": "nomic-embed-text",
         "offsetgroup": "nomic-embed-text",
         "orientation": "v",
         "showlegend": true,
         "textposition": "auto",
         "type": "bar",
         "x": [
          "ENG",
          "ENG_1",
          "ENG_2",
          "ESP_1",
          "ESP_2"
         ],
         "xaxis": "x",
         "y": [
          81.63077027071408,
          81.85142683857035,
          67.15773533912413,
          74.49524748170828,
          74.25139423059179
         ],
         "yaxis": "y"
        }
       ],
       "layout": {
        "barmode": "group",
        "height": 600,
        "legend": {
         "title": {
          "text": "Model"
         },
         "tracegroupgap": 0
        },
        "template": {
         "data": {
          "bar": [
           {
            "error_x": {
             "color": "#2a3f5f"
            },
            "error_y": {
             "color": "#2a3f5f"
            },
            "marker": {
             "line": {
              "color": "#E5ECF6",
              "width": 0.5
             },
             "pattern": {
              "fillmode": "overlay",
              "size": 10,
              "solidity": 0.2
             }
            },
            "type": "bar"
           }
          ],
          "barpolar": [
           {
            "marker": {
             "line": {
              "color": "#E5ECF6",
              "width": 0.5
             },
             "pattern": {
              "fillmode": "overlay",
              "size": 10,
              "solidity": 0.2
             }
            },
            "type": "barpolar"
           }
          ],
          "carpet": [
           {
            "aaxis": {
             "endlinecolor": "#2a3f5f",
             "gridcolor": "white",
             "linecolor": "white",
             "minorgridcolor": "white",
             "startlinecolor": "#2a3f5f"
            },
            "baxis": {
             "endlinecolor": "#2a3f5f",
             "gridcolor": "white",
             "linecolor": "white",
             "minorgridcolor": "white",
             "startlinecolor": "#2a3f5f"
            },
            "type": "carpet"
           }
          ],
          "choropleth": [
           {
            "colorbar": {
             "outlinewidth": 0,
             "ticks": ""
            },
            "type": "choropleth"
           }
          ],
          "contour": [
           {
            "colorbar": {
             "outlinewidth": 0,
             "ticks": ""
            },
            "colorscale": [
             [
              0,
              "#0d0887"
             ],
             [
              0.1111111111111111,
              "#46039f"
             ],
             [
              0.2222222222222222,
              "#7201a8"
             ],
             [
              0.3333333333333333,
              "#9c179e"
             ],
             [
              0.4444444444444444,
              "#bd3786"
             ],
             [
              0.5555555555555556,
              "#d8576b"
             ],
             [
              0.6666666666666666,
              "#ed7953"
             ],
             [
              0.7777777777777778,
              "#fb9f3a"
             ],
             [
              0.8888888888888888,
              "#fdca26"
             ],
             [
              1,
              "#f0f921"
             ]
            ],
            "type": "contour"
           }
          ],
          "contourcarpet": [
           {
            "colorbar": {
             "outlinewidth": 0,
             "ticks": ""
            },
            "type": "contourcarpet"
           }
          ],
          "heatmap": [
           {
            "colorbar": {
             "outlinewidth": 0,
             "ticks": ""
            },
            "colorscale": [
             [
              0,
              "#0d0887"
             ],
             [
              0.1111111111111111,
              "#46039f"
             ],
             [
              0.2222222222222222,
              "#7201a8"
             ],
             [
              0.3333333333333333,
              "#9c179e"
             ],
             [
              0.4444444444444444,
              "#bd3786"
             ],
             [
              0.5555555555555556,
              "#d8576b"
             ],
             [
              0.6666666666666666,
              "#ed7953"
             ],
             [
              0.7777777777777778,
              "#fb9f3a"
             ],
             [
              0.8888888888888888,
              "#fdca26"
             ],
             [
              1,
              "#f0f921"
             ]
            ],
            "type": "heatmap"
           }
          ],
          "heatmapgl": [
           {
            "colorbar": {
             "outlinewidth": 0,
             "ticks": ""
            },
            "colorscale": [
             [
              0,
              "#0d0887"
             ],
             [
              0.1111111111111111,
              "#46039f"
             ],
             [
              0.2222222222222222,
              "#7201a8"
             ],
             [
              0.3333333333333333,
              "#9c179e"
             ],
             [
              0.4444444444444444,
              "#bd3786"
             ],
             [
              0.5555555555555556,
              "#d8576b"
             ],
             [
              0.6666666666666666,
              "#ed7953"
             ],
             [
              0.7777777777777778,
              "#fb9f3a"
             ],
             [
              0.8888888888888888,
              "#fdca26"
             ],
             [
              1,
              "#f0f921"
             ]
            ],
            "type": "heatmapgl"
           }
          ],
          "histogram": [
           {
            "marker": {
             "pattern": {
              "fillmode": "overlay",
              "size": 10,
              "solidity": 0.2
             }
            },
            "type": "histogram"
           }
          ],
          "histogram2d": [
           {
            "colorbar": {
             "outlinewidth": 0,
             "ticks": ""
            },
            "colorscale": [
             [
              0,
              "#0d0887"
             ],
             [
              0.1111111111111111,
              "#46039f"
             ],
             [
              0.2222222222222222,
              "#7201a8"
             ],
             [
              0.3333333333333333,
              "#9c179e"
             ],
             [
              0.4444444444444444,
              "#bd3786"
             ],
             [
              0.5555555555555556,
              "#d8576b"
             ],
             [
              0.6666666666666666,
              "#ed7953"
             ],
             [
              0.7777777777777778,
              "#fb9f3a"
             ],
             [
              0.8888888888888888,
              "#fdca26"
             ],
             [
              1,
              "#f0f921"
             ]
            ],
            "type": "histogram2d"
           }
          ],
          "histogram2dcontour": [
           {
            "colorbar": {
             "outlinewidth": 0,
             "ticks": ""
            },
            "colorscale": [
             [
              0,
              "#0d0887"
             ],
             [
              0.1111111111111111,
              "#46039f"
             ],
             [
              0.2222222222222222,
              "#7201a8"
             ],
             [
              0.3333333333333333,
              "#9c179e"
             ],
             [
              0.4444444444444444,
              "#bd3786"
             ],
             [
              0.5555555555555556,
              "#d8576b"
             ],
             [
              0.6666666666666666,
              "#ed7953"
             ],
             [
              0.7777777777777778,
              "#fb9f3a"
             ],
             [
              0.8888888888888888,
              "#fdca26"
             ],
             [
              1,
              "#f0f921"
             ]
            ],
            "type": "histogram2dcontour"
           }
          ],
          "mesh3d": [
           {
            "colorbar": {
             "outlinewidth": 0,
             "ticks": ""
            },
            "type": "mesh3d"
           }
          ],
          "parcoords": [
           {
            "line": {
             "colorbar": {
              "outlinewidth": 0,
              "ticks": ""
             }
            },
            "type": "parcoords"
           }
          ],
          "pie": [
           {
            "automargin": true,
            "type": "pie"
           }
          ],
          "scatter": [
           {
            "fillpattern": {
             "fillmode": "overlay",
             "size": 10,
             "solidity": 0.2
            },
            "type": "scatter"
           }
          ],
          "scatter3d": [
           {
            "line": {
             "colorbar": {
              "outlinewidth": 0,
              "ticks": ""
             }
            },
            "marker": {
             "colorbar": {
              "outlinewidth": 0,
              "ticks": ""
             }
            },
            "type": "scatter3d"
           }
          ],
          "scattercarpet": [
           {
            "marker": {
             "colorbar": {
              "outlinewidth": 0,
              "ticks": ""
             }
            },
            "type": "scattercarpet"
           }
          ],
          "scattergeo": [
           {
            "marker": {
             "colorbar": {
              "outlinewidth": 0,
              "ticks": ""
             }
            },
            "type": "scattergeo"
           }
          ],
          "scattergl": [
           {
            "marker": {
             "colorbar": {
              "outlinewidth": 0,
              "ticks": ""
             }
            },
            "type": "scattergl"
           }
          ],
          "scattermapbox": [
           {
            "marker": {
             "colorbar": {
              "outlinewidth": 0,
              "ticks": ""
             }
            },
            "type": "scattermapbox"
           }
          ],
          "scatterpolar": [
           {
            "marker": {
             "colorbar": {
              "outlinewidth": 0,
              "ticks": ""
             }
            },
            "type": "scatterpolar"
           }
          ],
          "scatterpolargl": [
           {
            "marker": {
             "colorbar": {
              "outlinewidth": 0,
              "ticks": ""
             }
            },
            "type": "scatterpolargl"
           }
          ],
          "scatterternary": [
           {
            "marker": {
             "colorbar": {
              "outlinewidth": 0,
              "ticks": ""
             }
            },
            "type": "scatterternary"
           }
          ],
          "surface": [
           {
            "colorbar": {
             "outlinewidth": 0,
             "ticks": ""
            },
            "colorscale": [
             [
              0,
              "#0d0887"
             ],
             [
              0.1111111111111111,
              "#46039f"
             ],
             [
              0.2222222222222222,
              "#7201a8"
             ],
             [
              0.3333333333333333,
              "#9c179e"
             ],
             [
              0.4444444444444444,
              "#bd3786"
             ],
             [
              0.5555555555555556,
              "#d8576b"
             ],
             [
              0.6666666666666666,
              "#ed7953"
             ],
             [
              0.7777777777777778,
              "#fb9f3a"
             ],
             [
              0.8888888888888888,
              "#fdca26"
             ],
             [
              1,
              "#f0f921"
             ]
            ],
            "type": "surface"
           }
          ],
          "table": [
           {
            "cells": {
             "fill": {
              "color": "#EBF0F8"
             },
             "line": {
              "color": "white"
             }
            },
            "header": {
             "fill": {
              "color": "#C8D4E3"
             },
             "line": {
              "color": "white"
             }
            },
            "type": "table"
           }
          ]
         },
         "layout": {
          "annotationdefaults": {
           "arrowcolor": "#2a3f5f",
           "arrowhead": 0,
           "arrowwidth": 1
          },
          "autotypenumbers": "strict",
          "coloraxis": {
           "colorbar": {
            "outlinewidth": 0,
            "ticks": ""
           }
          },
          "colorscale": {
           "diverging": [
            [
             0,
             "#8e0152"
            ],
            [
             0.1,
             "#c51b7d"
            ],
            [
             0.2,
             "#de77ae"
            ],
            [
             0.3,
             "#f1b6da"
            ],
            [
             0.4,
             "#fde0ef"
            ],
            [
             0.5,
             "#f7f7f7"
            ],
            [
             0.6,
             "#e6f5d0"
            ],
            [
             0.7,
             "#b8e186"
            ],
            [
             0.8,
             "#7fbc41"
            ],
            [
             0.9,
             "#4d9221"
            ],
            [
             1,
             "#276419"
            ]
           ],
           "sequential": [
            [
             0,
             "#0d0887"
            ],
            [
             0.1111111111111111,
             "#46039f"
            ],
            [
             0.2222222222222222,
             "#7201a8"
            ],
            [
             0.3333333333333333,
             "#9c179e"
            ],
            [
             0.4444444444444444,
             "#bd3786"
            ],
            [
             0.5555555555555556,
             "#d8576b"
            ],
            [
             0.6666666666666666,
             "#ed7953"
            ],
            [
             0.7777777777777778,
             "#fb9f3a"
            ],
            [
             0.8888888888888888,
             "#fdca26"
            ],
            [
             1,
             "#f0f921"
            ]
           ],
           "sequentialminus": [
            [
             0,
             "#0d0887"
            ],
            [
             0.1111111111111111,
             "#46039f"
            ],
            [
             0.2222222222222222,
             "#7201a8"
            ],
            [
             0.3333333333333333,
             "#9c179e"
            ],
            [
             0.4444444444444444,
             "#bd3786"
            ],
            [
             0.5555555555555556,
             "#d8576b"
            ],
            [
             0.6666666666666666,
             "#ed7953"
            ],
            [
             0.7777777777777778,
             "#fb9f3a"
            ],
            [
             0.8888888888888888,
             "#fdca26"
            ],
            [
             1,
             "#f0f921"
            ]
           ]
          },
          "colorway": [
           "#636efa",
           "#EF553B",
           "#00cc96",
           "#ab63fa",
           "#FFA15A",
           "#19d3f3",
           "#FF6692",
           "#B6E880",
           "#FF97FF",
           "#FECB52"
          ],
          "font": {
           "color": "#2a3f5f"
          },
          "geo": {
           "bgcolor": "white",
           "lakecolor": "white",
           "landcolor": "#E5ECF6",
           "showlakes": true,
           "showland": true,
           "subunitcolor": "white"
          },
          "hoverlabel": {
           "align": "left"
          },
          "hovermode": "closest",
          "mapbox": {
           "style": "light"
          },
          "paper_bgcolor": "white",
          "plot_bgcolor": "#E5ECF6",
          "polar": {
           "angularaxis": {
            "gridcolor": "white",
            "linecolor": "white",
            "ticks": ""
           },
           "bgcolor": "#E5ECF6",
           "radialaxis": {
            "gridcolor": "white",
            "linecolor": "white",
            "ticks": ""
           }
          },
          "scene": {
           "xaxis": {
            "backgroundcolor": "#E5ECF6",
            "gridcolor": "white",
            "gridwidth": 2,
            "linecolor": "white",
            "showbackground": true,
            "ticks": "",
            "zerolinecolor": "white"
           },
           "yaxis": {
            "backgroundcolor": "#E5ECF6",
            "gridcolor": "white",
            "gridwidth": 2,
            "linecolor": "white",
            "showbackground": true,
            "ticks": "",
            "zerolinecolor": "white"
           },
           "zaxis": {
            "backgroundcolor": "#E5ECF6",
            "gridcolor": "white",
            "gridwidth": 2,
            "linecolor": "white",
            "showbackground": true,
            "ticks": "",
            "zerolinecolor": "white"
           }
          },
          "shapedefaults": {
           "line": {
            "color": "#2a3f5f"
           }
          },
          "ternary": {
           "aaxis": {
            "gridcolor": "white",
            "linecolor": "white",
            "ticks": ""
           },
           "baxis": {
            "gridcolor": "white",
            "linecolor": "white",
            "ticks": ""
           },
           "bgcolor": "#E5ECF6",
           "caxis": {
            "gridcolor": "white",
            "linecolor": "white",
            "ticks": ""
           }
          },
          "title": {
           "x": 0.05
          },
          "xaxis": {
           "automargin": true,
           "gridcolor": "white",
           "linecolor": "white",
           "ticks": "",
           "title": {
            "standoff": 15
           },
           "zerolinecolor": "white",
           "zerolinewidth": 2
          },
          "yaxis": {
           "automargin": true,
           "gridcolor": "white",
           "linecolor": "white",
           "ticks": "",
           "title": {
            "standoff": 15
           },
           "zerolinecolor": "white",
           "zerolinewidth": 2
          }
         }
        },
        "title": {
         "text": "Average AI-Generated Response Similarity by Task ID"
        },
        "width": 900,
        "xaxis": {
         "anchor": "y",
         "domain": [
          0,
          1
         ],
         "title": {
          "text": "Task ID"
         }
        },
        "yaxis": {
         "anchor": "x",
         "domain": [
          0,
          1
         ],
         "title": {
          "text": "Average Similarity Percentage (%)"
         }
        }
       }
      }
     },
     "metadata": {},
     "output_type": "display_data"
    },
    {
     "data": {
      "application/vnd.plotly.v1+json": {
       "config": {
        "plotlyServerURL": "https://plot.ly"
       },
       "data": [
        {
         "alignmentgroup": "True",
         "hovertemplate": "Model=SentenceTransformer<br>Task ID=%{x}<br>Weighted Average Similarity (%)=%{y}<extra></extra>",
         "legendgroup": "SentenceTransformer",
         "marker": {
          "color": "#636efa",
          "pattern": {
           "shape": ""
          }
         },
         "name": "SentenceTransformer",
         "offsetgroup": "SentenceTransformer",
         "orientation": "v",
         "showlegend": true,
         "textposition": "auto",
         "type": "bar",
         "x": [
          "ENG",
          "ENG_1",
          "ENG_2",
          "ESP_1",
          "ESP_2"
         ],
         "xaxis": "x",
         "y": [
          68.24732331469595,
          73.42121720966601,
          60.0649735489054,
          69.25569957499586,
          72.64665550085498
         ],
         "yaxis": "y"
        },
        {
         "alignmentgroup": "True",
         "hovertemplate": "Model=mxbai-embed-large<br>Task ID=%{x}<br>Weighted Average Similarity (%)=%{y}<extra></extra>",
         "legendgroup": "mxbai-embed-large",
         "marker": {
          "color": "#EF553B",
          "pattern": {
           "shape": ""
          }
         },
         "name": "mxbai-embed-large",
         "offsetgroup": "mxbai-embed-large",
         "orientation": "v",
         "showlegend": true,
         "textposition": "auto",
         "type": "bar",
         "x": [
          "ENG",
          "ENG_1",
          "ENG_2",
          "ESP_1",
          "ESP_2"
         ],
         "xaxis": "x",
         "y": [
          82.88089016908364,
          82.83925227510433,
          68.28793765397178,
          78.30312151867398,
          82.95742776868302
         ],
         "yaxis": "y"
        },
        {
         "alignmentgroup": "True",
         "hovertemplate": "Model=nomic-embed-text<br>Task ID=%{x}<br>Weighted Average Similarity (%)=%{y}<extra></extra>",
         "legendgroup": "nomic-embed-text",
         "marker": {
          "color": "#00cc96",
          "pattern": {
           "shape": ""
          }
         },
         "name": "nomic-embed-text",
         "offsetgroup": "nomic-embed-text",
         "orientation": "v",
         "showlegend": true,
         "textposition": "auto",
         "type": "bar",
         "x": [
          "ENG",
          "ENG_1",
          "ENG_2",
          "ESP_1",
          "ESP_2"
         ],
         "xaxis": "x",
         "y": [
          84.46457513458272,
          83.96005006787057,
          69.93850045815694,
          75.24211462395532,
          77.72425340085665
         ],
         "yaxis": "y"
        }
       ],
       "layout": {
        "barmode": "group",
        "height": 600,
        "legend": {
         "title": {
          "text": "Model"
         },
         "tracegroupgap": 0
        },
        "template": {
         "data": {
          "bar": [
           {
            "error_x": {
             "color": "#2a3f5f"
            },
            "error_y": {
             "color": "#2a3f5f"
            },
            "marker": {
             "line": {
              "color": "#E5ECF6",
              "width": 0.5
             },
             "pattern": {
              "fillmode": "overlay",
              "size": 10,
              "solidity": 0.2
             }
            },
            "type": "bar"
           }
          ],
          "barpolar": [
           {
            "marker": {
             "line": {
              "color": "#E5ECF6",
              "width": 0.5
             },
             "pattern": {
              "fillmode": "overlay",
              "size": 10,
              "solidity": 0.2
             }
            },
            "type": "barpolar"
           }
          ],
          "carpet": [
           {
            "aaxis": {
             "endlinecolor": "#2a3f5f",
             "gridcolor": "white",
             "linecolor": "white",
             "minorgridcolor": "white",
             "startlinecolor": "#2a3f5f"
            },
            "baxis": {
             "endlinecolor": "#2a3f5f",
             "gridcolor": "white",
             "linecolor": "white",
             "minorgridcolor": "white",
             "startlinecolor": "#2a3f5f"
            },
            "type": "carpet"
           }
          ],
          "choropleth": [
           {
            "colorbar": {
             "outlinewidth": 0,
             "ticks": ""
            },
            "type": "choropleth"
           }
          ],
          "contour": [
           {
            "colorbar": {
             "outlinewidth": 0,
             "ticks": ""
            },
            "colorscale": [
             [
              0,
              "#0d0887"
             ],
             [
              0.1111111111111111,
              "#46039f"
             ],
             [
              0.2222222222222222,
              "#7201a8"
             ],
             [
              0.3333333333333333,
              "#9c179e"
             ],
             [
              0.4444444444444444,
              "#bd3786"
             ],
             [
              0.5555555555555556,
              "#d8576b"
             ],
             [
              0.6666666666666666,
              "#ed7953"
             ],
             [
              0.7777777777777778,
              "#fb9f3a"
             ],
             [
              0.8888888888888888,
              "#fdca26"
             ],
             [
              1,
              "#f0f921"
             ]
            ],
            "type": "contour"
           }
          ],
          "contourcarpet": [
           {
            "colorbar": {
             "outlinewidth": 0,
             "ticks": ""
            },
            "type": "contourcarpet"
           }
          ],
          "heatmap": [
           {
            "colorbar": {
             "outlinewidth": 0,
             "ticks": ""
            },
            "colorscale": [
             [
              0,
              "#0d0887"
             ],
             [
              0.1111111111111111,
              "#46039f"
             ],
             [
              0.2222222222222222,
              "#7201a8"
             ],
             [
              0.3333333333333333,
              "#9c179e"
             ],
             [
              0.4444444444444444,
              "#bd3786"
             ],
             [
              0.5555555555555556,
              "#d8576b"
             ],
             [
              0.6666666666666666,
              "#ed7953"
             ],
             [
              0.7777777777777778,
              "#fb9f3a"
             ],
             [
              0.8888888888888888,
              "#fdca26"
             ],
             [
              1,
              "#f0f921"
             ]
            ],
            "type": "heatmap"
           }
          ],
          "heatmapgl": [
           {
            "colorbar": {
             "outlinewidth": 0,
             "ticks": ""
            },
            "colorscale": [
             [
              0,
              "#0d0887"
             ],
             [
              0.1111111111111111,
              "#46039f"
             ],
             [
              0.2222222222222222,
              "#7201a8"
             ],
             [
              0.3333333333333333,
              "#9c179e"
             ],
             [
              0.4444444444444444,
              "#bd3786"
             ],
             [
              0.5555555555555556,
              "#d8576b"
             ],
             [
              0.6666666666666666,
              "#ed7953"
             ],
             [
              0.7777777777777778,
              "#fb9f3a"
             ],
             [
              0.8888888888888888,
              "#fdca26"
             ],
             [
              1,
              "#f0f921"
             ]
            ],
            "type": "heatmapgl"
           }
          ],
          "histogram": [
           {
            "marker": {
             "pattern": {
              "fillmode": "overlay",
              "size": 10,
              "solidity": 0.2
             }
            },
            "type": "histogram"
           }
          ],
          "histogram2d": [
           {
            "colorbar": {
             "outlinewidth": 0,
             "ticks": ""
            },
            "colorscale": [
             [
              0,
              "#0d0887"
             ],
             [
              0.1111111111111111,
              "#46039f"
             ],
             [
              0.2222222222222222,
              "#7201a8"
             ],
             [
              0.3333333333333333,
              "#9c179e"
             ],
             [
              0.4444444444444444,
              "#bd3786"
             ],
             [
              0.5555555555555556,
              "#d8576b"
             ],
             [
              0.6666666666666666,
              "#ed7953"
             ],
             [
              0.7777777777777778,
              "#fb9f3a"
             ],
             [
              0.8888888888888888,
              "#fdca26"
             ],
             [
              1,
              "#f0f921"
             ]
            ],
            "type": "histogram2d"
           }
          ],
          "histogram2dcontour": [
           {
            "colorbar": {
             "outlinewidth": 0,
             "ticks": ""
            },
            "colorscale": [
             [
              0,
              "#0d0887"
             ],
             [
              0.1111111111111111,
              "#46039f"
             ],
             [
              0.2222222222222222,
              "#7201a8"
             ],
             [
              0.3333333333333333,
              "#9c179e"
             ],
             [
              0.4444444444444444,
              "#bd3786"
             ],
             [
              0.5555555555555556,
              "#d8576b"
             ],
             [
              0.6666666666666666,
              "#ed7953"
             ],
             [
              0.7777777777777778,
              "#fb9f3a"
             ],
             [
              0.8888888888888888,
              "#fdca26"
             ],
             [
              1,
              "#f0f921"
             ]
            ],
            "type": "histogram2dcontour"
           }
          ],
          "mesh3d": [
           {
            "colorbar": {
             "outlinewidth": 0,
             "ticks": ""
            },
            "type": "mesh3d"
           }
          ],
          "parcoords": [
           {
            "line": {
             "colorbar": {
              "outlinewidth": 0,
              "ticks": ""
             }
            },
            "type": "parcoords"
           }
          ],
          "pie": [
           {
            "automargin": true,
            "type": "pie"
           }
          ],
          "scatter": [
           {
            "fillpattern": {
             "fillmode": "overlay",
             "size": 10,
             "solidity": 0.2
            },
            "type": "scatter"
           }
          ],
          "scatter3d": [
           {
            "line": {
             "colorbar": {
              "outlinewidth": 0,
              "ticks": ""
             }
            },
            "marker": {
             "colorbar": {
              "outlinewidth": 0,
              "ticks": ""
             }
            },
            "type": "scatter3d"
           }
          ],
          "scattercarpet": [
           {
            "marker": {
             "colorbar": {
              "outlinewidth": 0,
              "ticks": ""
             }
            },
            "type": "scattercarpet"
           }
          ],
          "scattergeo": [
           {
            "marker": {
             "colorbar": {
              "outlinewidth": 0,
              "ticks": ""
             }
            },
            "type": "scattergeo"
           }
          ],
          "scattergl": [
           {
            "marker": {
             "colorbar": {
              "outlinewidth": 0,
              "ticks": ""
             }
            },
            "type": "scattergl"
           }
          ],
          "scattermapbox": [
           {
            "marker": {
             "colorbar": {
              "outlinewidth": 0,
              "ticks": ""
             }
            },
            "type": "scattermapbox"
           }
          ],
          "scatterpolar": [
           {
            "marker": {
             "colorbar": {
              "outlinewidth": 0,
              "ticks": ""
             }
            },
            "type": "scatterpolar"
           }
          ],
          "scatterpolargl": [
           {
            "marker": {
             "colorbar": {
              "outlinewidth": 0,
              "ticks": ""
             }
            },
            "type": "scatterpolargl"
           }
          ],
          "scatterternary": [
           {
            "marker": {
             "colorbar": {
              "outlinewidth": 0,
              "ticks": ""
             }
            },
            "type": "scatterternary"
           }
          ],
          "surface": [
           {
            "colorbar": {
             "outlinewidth": 0,
             "ticks": ""
            },
            "colorscale": [
             [
              0,
              "#0d0887"
             ],
             [
              0.1111111111111111,
              "#46039f"
             ],
             [
              0.2222222222222222,
              "#7201a8"
             ],
             [
              0.3333333333333333,
              "#9c179e"
             ],
             [
              0.4444444444444444,
              "#bd3786"
             ],
             [
              0.5555555555555556,
              "#d8576b"
             ],
             [
              0.6666666666666666,
              "#ed7953"
             ],
             [
              0.7777777777777778,
              "#fb9f3a"
             ],
             [
              0.8888888888888888,
              "#fdca26"
             ],
             [
              1,
              "#f0f921"
             ]
            ],
            "type": "surface"
           }
          ],
          "table": [
           {
            "cells": {
             "fill": {
              "color": "#EBF0F8"
             },
             "line": {
              "color": "white"
             }
            },
            "header": {
             "fill": {
              "color": "#C8D4E3"
             },
             "line": {
              "color": "white"
             }
            },
            "type": "table"
           }
          ]
         },
         "layout": {
          "annotationdefaults": {
           "arrowcolor": "#2a3f5f",
           "arrowhead": 0,
           "arrowwidth": 1
          },
          "autotypenumbers": "strict",
          "coloraxis": {
           "colorbar": {
            "outlinewidth": 0,
            "ticks": ""
           }
          },
          "colorscale": {
           "diverging": [
            [
             0,
             "#8e0152"
            ],
            [
             0.1,
             "#c51b7d"
            ],
            [
             0.2,
             "#de77ae"
            ],
            [
             0.3,
             "#f1b6da"
            ],
            [
             0.4,
             "#fde0ef"
            ],
            [
             0.5,
             "#f7f7f7"
            ],
            [
             0.6,
             "#e6f5d0"
            ],
            [
             0.7,
             "#b8e186"
            ],
            [
             0.8,
             "#7fbc41"
            ],
            [
             0.9,
             "#4d9221"
            ],
            [
             1,
             "#276419"
            ]
           ],
           "sequential": [
            [
             0,
             "#0d0887"
            ],
            [
             0.1111111111111111,
             "#46039f"
            ],
            [
             0.2222222222222222,
             "#7201a8"
            ],
            [
             0.3333333333333333,
             "#9c179e"
            ],
            [
             0.4444444444444444,
             "#bd3786"
            ],
            [
             0.5555555555555556,
             "#d8576b"
            ],
            [
             0.6666666666666666,
             "#ed7953"
            ],
            [
             0.7777777777777778,
             "#fb9f3a"
            ],
            [
             0.8888888888888888,
             "#fdca26"
            ],
            [
             1,
             "#f0f921"
            ]
           ],
           "sequentialminus": [
            [
             0,
             "#0d0887"
            ],
            [
             0.1111111111111111,
             "#46039f"
            ],
            [
             0.2222222222222222,
             "#7201a8"
            ],
            [
             0.3333333333333333,
             "#9c179e"
            ],
            [
             0.4444444444444444,
             "#bd3786"
            ],
            [
             0.5555555555555556,
             "#d8576b"
            ],
            [
             0.6666666666666666,
             "#ed7953"
            ],
            [
             0.7777777777777778,
             "#fb9f3a"
            ],
            [
             0.8888888888888888,
             "#fdca26"
            ],
            [
             1,
             "#f0f921"
            ]
           ]
          },
          "colorway": [
           "#636efa",
           "#EF553B",
           "#00cc96",
           "#ab63fa",
           "#FFA15A",
           "#19d3f3",
           "#FF6692",
           "#B6E880",
           "#FF97FF",
           "#FECB52"
          ],
          "font": {
           "color": "#2a3f5f"
          },
          "geo": {
           "bgcolor": "white",
           "lakecolor": "white",
           "landcolor": "#E5ECF6",
           "showlakes": true,
           "showland": true,
           "subunitcolor": "white"
          },
          "hoverlabel": {
           "align": "left"
          },
          "hovermode": "closest",
          "mapbox": {
           "style": "light"
          },
          "paper_bgcolor": "white",
          "plot_bgcolor": "#E5ECF6",
          "polar": {
           "angularaxis": {
            "gridcolor": "white",
            "linecolor": "white",
            "ticks": ""
           },
           "bgcolor": "#E5ECF6",
           "radialaxis": {
            "gridcolor": "white",
            "linecolor": "white",
            "ticks": ""
           }
          },
          "scene": {
           "xaxis": {
            "backgroundcolor": "#E5ECF6",
            "gridcolor": "white",
            "gridwidth": 2,
            "linecolor": "white",
            "showbackground": true,
            "ticks": "",
            "zerolinecolor": "white"
           },
           "yaxis": {
            "backgroundcolor": "#E5ECF6",
            "gridcolor": "white",
            "gridwidth": 2,
            "linecolor": "white",
            "showbackground": true,
            "ticks": "",
            "zerolinecolor": "white"
           },
           "zaxis": {
            "backgroundcolor": "#E5ECF6",
            "gridcolor": "white",
            "gridwidth": 2,
            "linecolor": "white",
            "showbackground": true,
            "ticks": "",
            "zerolinecolor": "white"
           }
          },
          "shapedefaults": {
           "line": {
            "color": "#2a3f5f"
           }
          },
          "ternary": {
           "aaxis": {
            "gridcolor": "white",
            "linecolor": "white",
            "ticks": ""
           },
           "baxis": {
            "gridcolor": "white",
            "linecolor": "white",
            "ticks": ""
           },
           "bgcolor": "#E5ECF6",
           "caxis": {
            "gridcolor": "white",
            "linecolor": "white",
            "ticks": ""
           }
          },
          "title": {
           "x": 0.05
          },
          "xaxis": {
           "automargin": true,
           "gridcolor": "white",
           "linecolor": "white",
           "ticks": "",
           "title": {
            "standoff": 15
           },
           "zerolinecolor": "white",
           "zerolinewidth": 2
          },
          "yaxis": {
           "automargin": true,
           "gridcolor": "white",
           "linecolor": "white",
           "ticks": "",
           "title": {
            "standoff": 15
           },
           "zerolinecolor": "white",
           "zerolinewidth": 2
          }
         }
        },
        "title": {
         "text": "Weighted Average AI-Generated Response Similarity by Task ID"
        },
        "width": 900,
        "xaxis": {
         "anchor": "y",
         "domain": [
          0,
          1
         ],
         "title": {
          "text": "Task ID"
         }
        },
        "yaxis": {
         "anchor": "x",
         "domain": [
          0,
          1
         ],
         "title": {
          "text": "Weighted Average Similarity Percentage (%)"
         }
        }
       }
      }
     },
     "metadata": {},
     "output_type": "display_data"
    }
   ],
   "source": [
    "avg_similarity_df = pd.melt(\n",
    "    content_usage,\n",
    "    id_vars=['TASK_ID'],\n",
    "    value_vars=[\n",
    "        'average_similarity_SentenceTransformer',\n",
    "        'average_similarity_nomic-embed-text',\n",
    "        'average_similarity_mxbai-embed-large'\n",
    "    ],\n",
    "    var_name='Model',\n",
    "    value_name='Average Similarity (%)'\n",
    ")\n",
    "\n",
    "# Melt the DataFrame to long format for weighted average similarity\n",
    "weighted_similarity_df = pd.melt(\n",
    "    content_usage,\n",
    "    id_vars=['TASK_ID'],\n",
    "    value_vars=[\n",
    "        'weighted_similarity_SentenceTransformer',\n",
    "        'weighted_similarity_nomic-embed-text',\n",
    "        'weighted_similarity_mxbai-embed-large'\n",
    "    ],\n",
    "    var_name='Model',\n",
    "    value_name='Weighted Average Similarity (%)'\n",
    ")\n",
    "\n",
    "# Clean up the 'Model' column to only contain the model names\n",
    "\n",
    "avg_similarity_df['Model'] = avg_similarity_df['Model'].str.replace('average_similarity_', '')\n",
    "weighted_similarity_df['Model'] = weighted_similarity_df['Model'].str.replace('weighted_similarity_', '')\n",
    "\n",
    "\n",
    "avg_similarity_df =  avg_similarity_df[avg_similarity_df['TASK_ID']!='ENG_No_LLM']\n",
    "weighted_similarity_df =  weighted_similarity_df[weighted_similarity_df['TASK_ID']!='ENG_No_LLM']\n",
    "\n",
    "avg_similarity_df = avg_similarity_df.groupby(['TASK_ID','Model'])['Average Similarity (%)'].mean().reset_index()\n",
    "weighted_similarity_df = weighted_similarity_df.groupby(['TASK_ID','Model'])['Weighted Average Similarity (%)'].mean().reset_index()\n",
    "\n",
    "# Step 2: Plot using Plotly\n",
    "\n",
    "# Plot Average Similarity\n",
    "fig_avg = px.bar(\n",
    "    avg_similarity_df,\n",
    "    x='TASK_ID',\n",
    "    y='Average Similarity (%)',\n",
    "    color='Model',\n",
    "    title='Average AI-Generated Response Similarity by Task ID',\n",
    "    labels={'TASK_ID': 'Task ID'},\n",
    "    barmode='group'\n",
    ")\n",
    "fig_avg.update_layout(\n",
    "    xaxis_title='Task ID',\n",
    "    yaxis_title='Average Similarity Percentage (%)',\n",
    "    width=900,\n",
    "    height=600\n",
    ")\n",
    "fig_avg.show()\n",
    "fig_avg.write_image('../figures/results/content_similarity_avg.pdf')\n",
    "# Plot Weighted Average Similarity\n",
    "fig_weighted = px.bar(\n",
    "    weighted_similarity_df,\n",
    "    x='TASK_ID',\n",
    "    y='Weighted Average Similarity (%)',\n",
    "    color='Model',\n",
    "    title='Weighted Average AI-Generated Response Similarity by Task ID',\n",
    "    labels={'TASK_ID': 'Task ID'},\n",
    "    barmode='group'\n",
    ")\n",
    "fig_weighted.update_layout(\n",
    "    xaxis_title='Task ID',\n",
    "    yaxis_title='Weighted Average Similarity Percentage (%)',\n",
    "    width=900,\n",
    "    height=600\n",
    ")\n",
    "fig_weighted.show()\n",
    "fig_weighted.write_image('../figures/results/content_similarity_weighted.pdf')\n"
   ]
  },
  {
   "cell_type": "code",
   "execution_count": 51,
   "metadata": {},
   "outputs": [
    {
     "data": {
      "text/html": [
       "<div>\n",
       "<style scoped>\n",
       "    .dataframe tbody tr th:only-of-type {\n",
       "        vertical-align: middle;\n",
       "    }\n",
       "\n",
       "    .dataframe tbody tr th {\n",
       "        vertical-align: top;\n",
       "    }\n",
       "\n",
       "    .dataframe thead th {\n",
       "        text-align: right;\n",
       "    }\n",
       "</style>\n",
       "<table border=\"1\" class=\"dataframe\">\n",
       "  <thead>\n",
       "    <tr style=\"text-align: right;\">\n",
       "      <th></th>\n",
       "      <th>TASK_ID</th>\n",
       "      <th>Model</th>\n",
       "      <th>Average Similarity (%)</th>\n",
       "    </tr>\n",
       "  </thead>\n",
       "  <tbody>\n",
       "    <tr>\n",
       "      <th>0</th>\n",
       "      <td>ENG</td>\n",
       "      <td>SentenceTransformer</td>\n",
       "      <td>62.681074</td>\n",
       "    </tr>\n",
       "    <tr>\n",
       "      <th>1</th>\n",
       "      <td>ENG</td>\n",
       "      <td>mxbai-embed-large</td>\n",
       "      <td>79.255143</td>\n",
       "    </tr>\n",
       "    <tr>\n",
       "      <th>2</th>\n",
       "      <td>ENG</td>\n",
       "      <td>nomic-embed-text</td>\n",
       "      <td>81.630770</td>\n",
       "    </tr>\n",
       "    <tr>\n",
       "      <th>3</th>\n",
       "      <td>ENG_1</td>\n",
       "      <td>SentenceTransformer</td>\n",
       "      <td>71.331720</td>\n",
       "    </tr>\n",
       "    <tr>\n",
       "      <th>4</th>\n",
       "      <td>ENG_1</td>\n",
       "      <td>mxbai-embed-large</td>\n",
       "      <td>80.174564</td>\n",
       "    </tr>\n",
       "    <tr>\n",
       "      <th>5</th>\n",
       "      <td>ENG_1</td>\n",
       "      <td>nomic-embed-text</td>\n",
       "      <td>81.851427</td>\n",
       "    </tr>\n",
       "    <tr>\n",
       "      <th>6</th>\n",
       "      <td>ENG_2</td>\n",
       "      <td>SentenceTransformer</td>\n",
       "      <td>56.619326</td>\n",
       "    </tr>\n",
       "    <tr>\n",
       "      <th>7</th>\n",
       "      <td>ENG_2</td>\n",
       "      <td>mxbai-embed-large</td>\n",
       "      <td>65.520872</td>\n",
       "    </tr>\n",
       "    <tr>\n",
       "      <th>8</th>\n",
       "      <td>ENG_2</td>\n",
       "      <td>nomic-embed-text</td>\n",
       "      <td>67.157735</td>\n",
       "    </tr>\n",
       "    <tr>\n",
       "      <th>9</th>\n",
       "      <td>ESP_1</td>\n",
       "      <td>SentenceTransformer</td>\n",
       "      <td>66.535909</td>\n",
       "    </tr>\n",
       "    <tr>\n",
       "      <th>10</th>\n",
       "      <td>ESP_1</td>\n",
       "      <td>mxbai-embed-large</td>\n",
       "      <td>77.296365</td>\n",
       "    </tr>\n",
       "    <tr>\n",
       "      <th>11</th>\n",
       "      <td>ESP_1</td>\n",
       "      <td>nomic-embed-text</td>\n",
       "      <td>74.495247</td>\n",
       "    </tr>\n",
       "    <tr>\n",
       "      <th>12</th>\n",
       "      <td>ESP_2</td>\n",
       "      <td>SentenceTransformer</td>\n",
       "      <td>65.541533</td>\n",
       "    </tr>\n",
       "    <tr>\n",
       "      <th>13</th>\n",
       "      <td>ESP_2</td>\n",
       "      <td>mxbai-embed-large</td>\n",
       "      <td>79.183143</td>\n",
       "    </tr>\n",
       "    <tr>\n",
       "      <th>14</th>\n",
       "      <td>ESP_2</td>\n",
       "      <td>nomic-embed-text</td>\n",
       "      <td>74.251394</td>\n",
       "    </tr>\n",
       "  </tbody>\n",
       "</table>\n",
       "</div>"
      ],
      "text/plain": [
       "   TASK_ID                Model  Average Similarity (%)\n",
       "0      ENG  SentenceTransformer               62.681074\n",
       "1      ENG    mxbai-embed-large               79.255143\n",
       "2      ENG     nomic-embed-text               81.630770\n",
       "3    ENG_1  SentenceTransformer               71.331720\n",
       "4    ENG_1    mxbai-embed-large               80.174564\n",
       "5    ENG_1     nomic-embed-text               81.851427\n",
       "6    ENG_2  SentenceTransformer               56.619326\n",
       "7    ENG_2    mxbai-embed-large               65.520872\n",
       "8    ENG_2     nomic-embed-text               67.157735\n",
       "9    ESP_1  SentenceTransformer               66.535909\n",
       "10   ESP_1    mxbai-embed-large               77.296365\n",
       "11   ESP_1     nomic-embed-text               74.495247\n",
       "12   ESP_2  SentenceTransformer               65.541533\n",
       "13   ESP_2    mxbai-embed-large               79.183143\n",
       "14   ESP_2     nomic-embed-text               74.251394"
      ]
     },
     "execution_count": 51,
     "metadata": {},
     "output_type": "execute_result"
    }
   ],
   "source": [
    "avg_similarity_df"
   ]
  },
  {
   "cell_type": "code",
   "execution_count": 54,
   "metadata": {},
   "outputs": [
    {
     "data": {
      "text/html": [
       "<div>\n",
       "<style scoped>\n",
       "    .dataframe tbody tr th:only-of-type {\n",
       "        vertical-align: middle;\n",
       "    }\n",
       "\n",
       "    .dataframe tbody tr th {\n",
       "        vertical-align: top;\n",
       "    }\n",
       "\n",
       "    .dataframe thead th {\n",
       "        text-align: right;\n",
       "    }\n",
       "</style>\n",
       "<table border=\"1\" class=\"dataframe\">\n",
       "  <thead>\n",
       "    <tr style=\"text-align: right;\">\n",
       "      <th>Model</th>\n",
       "      <th>SentenceTransformer</th>\n",
       "      <th>mxbai-embed-large</th>\n",
       "      <th>nomic-embed-text</th>\n",
       "    </tr>\n",
       "    <tr>\n",
       "      <th>TASK_ID</th>\n",
       "      <th></th>\n",
       "      <th></th>\n",
       "      <th></th>\n",
       "    </tr>\n",
       "  </thead>\n",
       "  <tbody>\n",
       "    <tr>\n",
       "      <th>ENG</th>\n",
       "      <td>62.681074</td>\n",
       "      <td>79.255143</td>\n",
       "      <td>81.630770</td>\n",
       "    </tr>\n",
       "    <tr>\n",
       "      <th>ENG_1</th>\n",
       "      <td>71.331720</td>\n",
       "      <td>80.174564</td>\n",
       "      <td>81.851427</td>\n",
       "    </tr>\n",
       "    <tr>\n",
       "      <th>ENG_2</th>\n",
       "      <td>56.619326</td>\n",
       "      <td>65.520872</td>\n",
       "      <td>67.157735</td>\n",
       "    </tr>\n",
       "    <tr>\n",
       "      <th>ESP_1</th>\n",
       "      <td>66.535909</td>\n",
       "      <td>77.296365</td>\n",
       "      <td>74.495247</td>\n",
       "    </tr>\n",
       "    <tr>\n",
       "      <th>ESP_2</th>\n",
       "      <td>65.541533</td>\n",
       "      <td>79.183143</td>\n",
       "      <td>74.251394</td>\n",
       "    </tr>\n",
       "  </tbody>\n",
       "</table>\n",
       "</div>"
      ],
      "text/plain": [
       "Model    SentenceTransformer  mxbai-embed-large  nomic-embed-text\n",
       "TASK_ID                                                          \n",
       "ENG                62.681074          79.255143         81.630770\n",
       "ENG_1              71.331720          80.174564         81.851427\n",
       "ENG_2              56.619326          65.520872         67.157735\n",
       "ESP_1              66.535909          77.296365         74.495247\n",
       "ESP_2              65.541533          79.183143         74.251394"
      ]
     },
     "execution_count": 54,
     "metadata": {},
     "output_type": "execute_result"
    }
   ],
   "source": [
    "pivot_df"
   ]
  },
  {
   "cell_type": "code",
   "execution_count": 53,
   "metadata": {},
   "outputs": [
    {
     "data": {
      "text/html": [
       "<div>\n",
       "<style scoped>\n",
       "    .dataframe tbody tr th:only-of-type {\n",
       "        vertical-align: middle;\n",
       "    }\n",
       "\n",
       "    .dataframe tbody tr th {\n",
       "        vertical-align: top;\n",
       "    }\n",
       "\n",
       "    .dataframe thead th {\n",
       "        text-align: right;\n",
       "    }\n",
       "</style>\n",
       "<table border=\"1\" class=\"dataframe\">\n",
       "  <thead>\n",
       "    <tr style=\"text-align: right;\">\n",
       "      <th>Model</th>\n",
       "      <th>SentenceTransformer</th>\n",
       "      <th>mxbai-embed-large</th>\n",
       "      <th>nomic-embed-text</th>\n",
       "    </tr>\n",
       "    <tr>\n",
       "      <th>TASK_ID</th>\n",
       "      <th></th>\n",
       "      <th></th>\n",
       "      <th></th>\n",
       "    </tr>\n",
       "  </thead>\n",
       "  <tbody>\n",
       "    <tr>\n",
       "      <th>ENG_1</th>\n",
       "      <td>8.650647</td>\n",
       "      <td>0.919421</td>\n",
       "      <td>0.220657</td>\n",
       "    </tr>\n",
       "    <tr>\n",
       "      <th>ENG_2</th>\n",
       "      <td>-14.712394</td>\n",
       "      <td>-14.653692</td>\n",
       "      <td>-14.693691</td>\n",
       "    </tr>\n",
       "    <tr>\n",
       "      <th>ESP_1</th>\n",
       "      <td>9.916583</td>\n",
       "      <td>11.775493</td>\n",
       "      <td>7.337512</td>\n",
       "    </tr>\n",
       "    <tr>\n",
       "      <th>ESP_2</th>\n",
       "      <td>-0.994377</td>\n",
       "      <td>1.886778</td>\n",
       "      <td>-0.243853</td>\n",
       "    </tr>\n",
       "  </tbody>\n",
       "</table>\n",
       "</div>"
      ],
      "text/plain": [
       "Model    SentenceTransformer  mxbai-embed-large  nomic-embed-text\n",
       "TASK_ID                                                          \n",
       "ENG_1               8.650647           0.919421          0.220657\n",
       "ENG_2             -14.712394         -14.653692        -14.693691\n",
       "ESP_1               9.916583          11.775493          7.337512\n",
       "ESP_2              -0.994377           1.886778         -0.243853"
      ]
     },
     "execution_count": 53,
     "metadata": {},
     "output_type": "execute_result"
    }
   ],
   "source": [
    "pivot_df = avg_similarity_df.pivot(index='TASK_ID', columns='Model', values='Average Similarity (%)')\n",
    "\n",
    "# Calculate the differences across TASK_IDs for each model\n",
    "differences = pivot_df.diff().dropna()\n",
    "differences"
   ]
  },
  {
   "cell_type": "code",
   "execution_count": 56,
   "metadata": {},
   "outputs": [
    {
     "data": {
      "text/html": [
       "<div>\n",
       "<style scoped>\n",
       "    .dataframe tbody tr th:only-of-type {\n",
       "        vertical-align: middle;\n",
       "    }\n",
       "\n",
       "    .dataframe tbody tr th {\n",
       "        vertical-align: top;\n",
       "    }\n",
       "\n",
       "    .dataframe thead th {\n",
       "        text-align: right;\n",
       "    }\n",
       "</style>\n",
       "<table border=\"1\" class=\"dataframe\">\n",
       "  <thead>\n",
       "    <tr style=\"text-align: right;\">\n",
       "      <th>Model</th>\n",
       "      <th>SentenceTransformer</th>\n",
       "      <th>mxbai-embed-large</th>\n",
       "      <th>nomic-embed-text</th>\n",
       "    </tr>\n",
       "    <tr>\n",
       "      <th>TASK_ID</th>\n",
       "      <th></th>\n",
       "      <th></th>\n",
       "      <th></th>\n",
       "    </tr>\n",
       "  </thead>\n",
       "  <tbody>\n",
       "    <tr>\n",
       "      <th>ENG</th>\n",
       "      <td>62.681074</td>\n",
       "      <td>79.255143</td>\n",
       "      <td>81.630770</td>\n",
       "    </tr>\n",
       "    <tr>\n",
       "      <th>ENG_1</th>\n",
       "      <td>71.331720</td>\n",
       "      <td>80.174564</td>\n",
       "      <td>81.851427</td>\n",
       "    </tr>\n",
       "    <tr>\n",
       "      <th>ENG_2</th>\n",
       "      <td>56.619326</td>\n",
       "      <td>65.520872</td>\n",
       "      <td>67.157735</td>\n",
       "    </tr>\n",
       "    <tr>\n",
       "      <th>ESP_1</th>\n",
       "      <td>66.535909</td>\n",
       "      <td>77.296365</td>\n",
       "      <td>74.495247</td>\n",
       "    </tr>\n",
       "    <tr>\n",
       "      <th>ESP_2</th>\n",
       "      <td>65.541533</td>\n",
       "      <td>79.183143</td>\n",
       "      <td>74.251394</td>\n",
       "    </tr>\n",
       "  </tbody>\n",
       "</table>\n",
       "</div>"
      ],
      "text/plain": [
       "Model    SentenceTransformer  mxbai-embed-large  nomic-embed-text\n",
       "TASK_ID                                                          \n",
       "ENG                62.681074          79.255143         81.630770\n",
       "ENG_1              71.331720          80.174564         81.851427\n",
       "ENG_2              56.619326          65.520872         67.157735\n",
       "ESP_1              66.535909          77.296365         74.495247\n",
       "ESP_2              65.541533          79.183143         74.251394"
      ]
     },
     "execution_count": 56,
     "metadata": {},
     "output_type": "execute_result"
    }
   ],
   "source": [
    "pivot_df"
   ]
  },
  {
   "cell_type": "code",
   "execution_count": 57,
   "metadata": {},
   "outputs": [
    {
     "data": {
      "text/html": [
       "<div>\n",
       "<style scoped>\n",
       "    .dataframe tbody tr th:only-of-type {\n",
       "        vertical-align: middle;\n",
       "    }\n",
       "\n",
       "    .dataframe tbody tr th {\n",
       "        vertical-align: top;\n",
       "    }\n",
       "\n",
       "    .dataframe thead th {\n",
       "        text-align: right;\n",
       "    }\n",
       "</style>\n",
       "<table border=\"1\" class=\"dataframe\">\n",
       "  <thead>\n",
       "    <tr style=\"text-align: right;\">\n",
       "      <th></th>\n",
       "      <th>ENG_1 - ENG_2</th>\n",
       "      <th>ESP_1 - ESP_2</th>\n",
       "      <th>ENG</th>\n",
       "    </tr>\n",
       "    <tr>\n",
       "      <th>Model</th>\n",
       "      <th></th>\n",
       "      <th></th>\n",
       "      <th></th>\n",
       "    </tr>\n",
       "  </thead>\n",
       "  <tbody>\n",
       "    <tr>\n",
       "      <th>SentenceTransformer</th>\n",
       "      <td>14.712394</td>\n",
       "      <td>0.994377</td>\n",
       "      <td>62.681074</td>\n",
       "    </tr>\n",
       "    <tr>\n",
       "      <th>mxbai-embed-large</th>\n",
       "      <td>14.653692</td>\n",
       "      <td>-1.886778</td>\n",
       "      <td>79.255143</td>\n",
       "    </tr>\n",
       "    <tr>\n",
       "      <th>nomic-embed-text</th>\n",
       "      <td>14.693691</td>\n",
       "      <td>0.243853</td>\n",
       "      <td>81.630770</td>\n",
       "    </tr>\n",
       "  </tbody>\n",
       "</table>\n",
       "</div>"
      ],
      "text/plain": [
       "                     ENG_1 - ENG_2  ESP_1 - ESP_2        ENG\n",
       "Model                                                       \n",
       "SentenceTransformer      14.712394       0.994377  62.681074\n",
       "mxbai-embed-large        14.653692      -1.886778  79.255143\n",
       "nomic-embed-text         14.693691       0.243853  81.630770"
      ]
     },
     "execution_count": 57,
     "metadata": {},
     "output_type": "execute_result"
    }
   ],
   "source": [
    "pivot_df = avg_similarity_df.pivot(index='TASK_ID', columns='Model', values='Average Similarity (%)')\n",
    "\n",
    "# Calculate pairwise differences\n",
    "eng_diff = pivot_df.loc['ENG_1'] - pivot_df.loc['ENG_2']\n",
    "esp_diff = pivot_df.loc['ESP_1'] - pivot_df.loc['ESP_2']\n",
    "\n",
    "# Combine the differences into a DataFrame for display\n",
    "differences = pd.DataFrame({'ENG_1 - ENG_2': eng_diff, 'ESP_1 - ESP_2': esp_diff, 'ENG': pivot_df.loc[['ENG', '']]})\n",
    "\n",
    "# Display the differences\n",
    "differences"
   ]
  }
 ],
 "metadata": {
  "kernelspec": {
   "display_name": "base",
   "language": "python",
   "name": "python3"
  },
  "language_info": {
   "codemirror_mode": {
    "name": "ipython",
    "version": 3
   },
   "file_extension": ".py",
   "mimetype": "text/x-python",
   "name": "python",
   "nbconvert_exporter": "python",
   "pygments_lexer": "ipython3",
   "version": "3.11.5"
  }
 },
 "nbformat": 4,
 "nbformat_minor": 2
}
